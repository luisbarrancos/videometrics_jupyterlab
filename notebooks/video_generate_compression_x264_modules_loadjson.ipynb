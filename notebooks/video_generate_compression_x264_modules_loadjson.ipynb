{
 "cells": [
  {
   "cell_type": "markdown",
   "id": "511e1c63-0422-4318-84c7-226e4676c9d9",
   "metadata": {
    "tags": []
   },
   "source": [
    "# Compression of generative art videos: h264, h265, VP8/9, AV1\n",
    "\n",
    "We'll be analyzing a practical use case, video compression of Processing or P5js sketches with FFMPEG and h264 AVC, h265 HEVC, VP8 and VP9, and AV1 codecs.\n",
    "\n",
    "## Encoder choices\n",
    "\n",
    "For h264, we'll be using libx264, though we can also use NVenc and kvazaar. For h265 we'll be using libx265, but NVenc is also a possibility.\n",
    "VP8 and VP9 are provided via libvpx and libvpx-vp9 and finally AV1 support is provided via libaom-av1.\n",
    "For h266 we don't have yet FFMPEG support, but we can use the reference h266/VVC encoder and decoders, however FFMPEG has no player support yet, nor metrics analysis support. The state of VVC is too experimental and rough at this stage in order to do a confident analysis of results.\n",
    "MPEG5 EVC has experimental support in a separate FFMPEG fork, but this also requires considerable detours and brings the inability to do a direct analysis of results. \n",
    "This document however will be updated at a later date with MPEG5 EVC tests and VVC/h.266 tests as they evolve."
   ]
  },
  {
   "cell_type": "markdown",
   "id": "ef5f2b31-827d-4cdf-aabd-c4b17af05679",
   "metadata": {},
   "source": [
    "## Test Content\n",
    "\n",
    "The creation of relevant good quality meaningful reference material for video compression testing is on itself a challenge due to the incredible number of options, parameters, use cases that need to be covered. What is good quality? Good quality on a 1m diagonal OLED display? Or on your mobile phone?\n",
    "Is the content being streamed? Is latency critical? Or is the content stored offline, i.e, in a disc?\n",
    "Settings that will work great with normal scenes will fail with high motion scenes.\n",
    "\n",
    "Due to the countless encoding options and the combinatorial explosion of testing them all, we'll be focusing on a narrow subset of options targetting this specific use case - generative art videos which exhibit the following characteristics\n",
    "\n",
    " * Fast erratic or unpredictable movement\n",
    " * No motion blur\n",
    " * High frequency content, in some cases, with aliasing\n",
    " * High chromatic contrast and color purity\n",
    " * Cases with overlapping alpha blended unpredictable movement\n",
    " \n",
    "Together with these test results, notebooks and source code you'll also find the source code for the P5js sketches that were specifically created as reference source material in order to test our use cases on [on the github repository](https://github.com/luisbarrancos/generative-o-matic/tree/master/P5js) that also contains these notebooks.\n",
    "\n",
    "The sketches were recorded and encoded with NVidia's [hevc_nvenc](https://docs.nvidia.com/video-technologies/video-codec-sdk/nvenc-video-encoder-api-prog-guide/) using the GPU to keep the high throughput low latency required to record the processing intensive sketches without the introduction of lag."
   ]
  },
  {
   "cell_type": "markdown",
   "id": "bf3103f0-07f0-4123-bc5a-60118a9f749d",
   "metadata": {},
   "source": [
    "## Reference Material Encoding and Characteristics\n",
    "\n",
    "The source material was encoded with h265/HEVC lossless profile, intra frames only, with YUV 4\\:4\\:4 sampling, high tier mode to have good reference material attending the characteristics outlined above.\n",
    "If needed, you can change the profile to a 10 or even 12bit profile. For these tests we remain with 8bit output.\n",
    "Colorimetry was set to Rec.709 RGB primaries, D65 whitepoint, but with the sRGB IEC-61922-6.1 EOTF."
   ]
  },
  {
   "cell_type": "markdown",
   "id": "00d992bf-a752-4b32-a2f8-5004171c9771",
   "metadata": {},
   "source": [
    "## Types of Video Quality Metrics\n",
    "\n",
    "Like with the creation of meaningful content for tests, the metrics used are and have been an area of active and ongoing research for quite some time. Both content and video quality assessment are actives areas of research under several groups, including the [VQEG or Video Quality Experts Group](https://www.its.bldrdoc.gov/vqeg/vqeg-home.aspx). We cannot cover all of this in-depth but we'll provide a brief assessment of the main families of techniques and the ones we'll be using in the tests that we'll be running.\n",
    "\n",
    "Succintly, there are **objective** and **subjective** quality models. Objective models can be measured free from human interpretation, and can be divided according to what signal we have available to test.\n",
    "Subjective models requires the viewers opinion of the quality of the video being watched and a mean score given.\n",
    "\n",
    "\n",
    "### Full Reference Methods\n",
    "\n",
    "This method compares the encoded signal with a original reference signal and quantifies the difference according to specific metrics. Since they require both the original and the compressed signals, they cannot be used everywhere and since they measure pixel differences, there is heavy computational cost involved.\n",
    "\n",
    "### Reduced Reference Methods\n",
    "\n",
    "Similar to the [**Full Reference Method**](#Full-Reference-Method), except there's no access to the entire original signal, or due to constraints, it's impractical to acess it all.\n",
    "\n",
    "### No Reference Methods\n",
    "\n",
    "Are used to assign a quality indication of the compressed signal without access to the original material. They are usually lighter to compute. \n",
    "These are divided into\n",
    " * **Pixel Based Methods** - try to quantify the image quality or degradation due to blurring, motion blur, other artifacts\n",
    " * **Parametric or Bitstream Methods** - these have access to encoding data, parameters, motion vectors and other related data and try to access the signal quality according to these. They're not accurate, but provide a good fast approximated indication.\n",
    " * **Hybrid Methods** - combine both the pixel based methods and the parametric or bitstream methods.\n",
    " "
   ]
  },
  {
   "cell_type": "markdown",
   "id": "66415bf4-147d-4ad1-b4c1-816f8021025c",
   "metadata": {},
   "source": [
    "## Methodology\n",
    "\n",
    "### Video Quality Metrics Used\n",
    "\n",
    "Since we have access to the original source material and the compressed material we'll be generating, and performance is not critical, it makes sense to use full reference methods.\n",
    "Of these, the metrics we'll be using are:\n",
    "\n",
    " * [**PSNR**](https://en.wikipedia.org/wiki/Peak_signal-to-noise_ratio) - Peak Signal to Noise Ratio. Due to the characteristics of the HVS, PSNR is not a reliable indicator of perceived quality.\n",
    " * [**SSIM**](https://en.wikipedia.org/wiki/Structural_similarity) - Structural Similarity. SSIM measures perceived change in structural information, including luminance and contrast masking, it takes the HVS characteristics into consideration and is a more reliable indicator of perceived quality than PSNR.\n",
    " * [**VMAF**](https://github.com/Netflix/vmaf) - Video Multimethod Assessment Fusion, is a metric developed by NetFlix, composed of 4 distinct features which are fused via SVM or Suport Vector Machine, a type of supervised machine learning model used for data classification and regression analysis. These features are:\n",
    "   * [**VIF**](https://en.wikipedia.org/wiki/Visual_information_fidelity) or Visual Information Fidelity, which considers information loss in 4 different spatial scales\n",
    "   * DLM or Detail Loss Metric, measures loss of details\n",
    "   * MCPD or Mean Co-located Pixel Difference, measures the temporal difference on the luminance component\n",
    "   * ANSNR or Anti-Noise Signal-to-Noise Ratio, abandoned in new VMAF versions.\n",
    " \n",
    "#### Other AI/ML Methods for Video Quality Assessment\n",
    "\n",
    "We'll also be using at a later stage AI/ML for perceptual video quality assessment methods with [LPIPS](https://richzhang.github.io/PerceptualSimilarity/) metric - Learned Perceptual Image Patch Similarity, and with the [Berkeley-Adobe Perceptual Patch Similarity (BAPPS) dataset](https://github.com/richzhang/PerceptualSimilarity#2-berkeley-adobe-perceptual-patch-similarity-bapps-dataset), albeit in a randomized set of static frames, as well as PSNR-HVS-M, that is, Peak Signal To Noise Ratio taking into account Contrast Sensitivity Function (CSV) and in-between coefficient contrast masking of DCT basis functions - a PSNR metric that takes into account the HVS response."
   ]
  },
  {
   "cell_type": "markdown",
   "id": "1fd49ca8-1a67-4ace-90e7-4b107798d2cd",
   "metadata": {},
   "source": [
    "### Encoding Options Used\n",
    "\n",
    "As outlined earlier, we'll be restricting the options to the choice of:\n",
    " * presets\n",
    " * tuning\n",
    " * entropy encoding algorithms\n",
    " * rate control types\n",
    " * chroma subsampling\n",
    " \n",
    "There are countless options to fine-tune the motion vector search algorithms, macroblocks sizes, and so on, but this would lead to thousands of files. It can be done, but in a automated, machine-assisted way that is outside the scope of this report.\n",
    "\n",
    "---\n",
    "\n",
    "These will **not** be used on all codecs since some features are only available or exposed to the end user in some codecs, and it would be a daunting task to establish mappings between most parameters.\n",
    "This being said however, by default most codecs seem to a common setting for presets, determining the amount of resources to allocate to compression and most common options hidden behind a preset configuration.\n",
    "They also have in common the **CRF** or Constant Rate Factor, that adapts the data rate in order to target a quality level.\n",
    "These are in common with x264, x265, vpx (VP8) and vpx-vp9 (VP9), ranging from 0 to 51, where higher values mean higher compression.\n",
    "Some also have exposed a **QP** or *Quantization Parameter* control, that allows one to specify the amount of compression for every macroblock in a frame, with higher values resulting in higher quantization, and therefore more compression.\n",
    "\n",
    "Control over CRF and QP is also exposed in an experimental VVC/h.266 encoder, as well as on a test implementation of [MPEG5 EVC](https://en.wikipedia.org/wiki/Essential_Video_Coding) in FFMPEG via the [XEVE library](https://github.com/mpeg5/xeve) but these are left outside the scope of this document until a later date.\n",
    "\n",
    "\n",
    "---\n",
    "\n",
    "#### Encoding Entropy Algorithm *(coder)* can be one of\n",
    "\n",
    "* [CABAC](https://en.wikipedia.org/wiki/Context-adaptive_binary_arithmetic_coding) - Context Adaptive Binary Arithmetic Coding\n",
    " * [CAVLC](https://en.wikipedia.org/wiki/Context-adaptive_variable-length_coding) - Context Adaptive Variable Length Encoding\n",
    " * [AC](https://en.wikipedia.org/wiki/Arithmetic_coding) - Arithmetic Coding\n",
    " * [VLC](https://en.wikipedia.org/wiki/Variable-length_code) - Variable Lenght Encoding\n",
    "\n",
    "See [also this](https://learn.akamai.com/en-us/webhelp/media-services-on-demand/media-services-on-demand-encoder-best-practices/GUID-F3F0BD92-69C3-4B7F-BE84-A33BA138B55A.html)\n",
    "\n",
    "#### Rate control, can be one of\n",
    "\n",
    " * ConstQP - Constant Quantization P mode\n",
    " * [VBR](https://en.wikipedia.org/wiki/Variable_bitrate) - Variable Bit Rate\n",
    " * [CBR](https://en.wikipedia.org/wiki/Constant_bitrate) - Constant Bit Rate\n",
    " * CBR_LD_HQ - Constant Bit Rate with Low Delay, High Quality mode\n",
    " * CBR_HQ - Constant Bit Rate High Quality Mode\n",
    " * VBR_HQ - Variable Bit Rate High Quality Mode\n",
    "\n",
    "#### [Chroma subsampling](https://en.wikipedia.org/wiki/Chroma_subsampling)\n",
    "\n",
    "Can be YUV 4\\:2\\:0, 4\\:2\\:2, 4\\:4\\:4. The libx264 codec has more control over the macroblocks when compared with NVenc. Other codecs support other sampling modes, such as YUV 4\\:1\\:1, and quantization modes for 10bit, 12bit, 16bit signals, besides RGB.\n",
    "\n",
    "---\n",
    "\n",
    "##### Definitions Y versus Y\\': Relative Luminance Y\n",
    "\n",
    "Relative luminance Y as defined by the CIE refers to a weighted sum of coefficients provided by the color matching functions and the RGB primaries of the color space of the signal. It is a linear quantity or **scene-linear**, in that there is no color component transfer function assigned to it in order to compensate for the characteristics of the human visual system.\n",
    "\n",
    "##### Definitions Y versus Y\\': Luma Y' or Y prime\n",
    "\n",
    "In order to differentiate relative luminance from a signal with color component transfer function attached, such as a simple power function with a *gamma* exponent it was decided to differentiate the luminance Y used in colorimetry from the luminance used in video, by naming it instead **luma**, and assigning it the designation **Y/'** or Y prime, which is also documented under the [SMPTE Engineering Guideline Annotated Glossary of Essential Terms for Electronic Production](https://ieeexplore.ieee.org/document/7291332).\n",
    "In real life however, when referring to video, it's rarely seen the use the **Y\\'** instead of **Y**, but we're referring to the *gamma compressed* **luma Y\\'** here.\n",
    "\n",
    "See also [YUV and Luminance Considered Harmful](https://poynton.ca/PDFs/YUV_and_luminance_harmful.pdf)\n",
    "\n",
    "---\n"
   ]
  },
  {
   "cell_type": "code",
   "execution_count": 122,
   "id": "634816fc-bd02-434e-898c-12eea9cb2fee",
   "metadata": {},
   "outputs": [],
   "source": [
    "#!ffmpeg -h encoder=libx264"
   ]
  },
  {
   "cell_type": "markdown",
   "id": "d4f2e98a-d8a7-45dc-a275-f15f1f743d5b",
   "metadata": {
    "tags": []
   },
   "source": [
    "## Video resources, configuration\n",
    "\n",
    "Start by defining a **VIDEO_RESOURCES** environment variable pointing to the location of your original videos, and **VIDEO_COMPRESSED** environment variable pointing to the location to use for storing the resulting compressed videos."
   ]
  },
  {
   "cell_type": "code",
   "execution_count": 123,
   "id": "eafb91a0-4cc7-4928-8c37-ef3264fa2d93",
   "metadata": {},
   "outputs": [],
   "source": [
    "import media as md\n",
    "import options as op\n",
    "import os"
   ]
  },
  {
   "cell_type": "markdown",
   "id": "9a5a72d1-6765-4439-b021-36e90dae3d7a",
   "metadata": {},
   "source": [
    "### Create a new Media object\n",
    "\n",
    "A media class was created [accessible here, media.py](./media.py) to encapsulate the options used for each encoder in order to automate the creation of compressed output.\n",
    "You can import the object and check its built-in help and methods in Python in the following snippet:\n",
    "```python\n",
    "import media as md\n",
    "media = md.Media()\n",
    "# help on the class\n",
    "help(md)\n",
    "# methods available\n",
    "dir(md)\n",
    "```\n"
   ]
  },
  {
   "cell_type": "code",
   "execution_count": 124,
   "id": "50e88ac1-d3bb-4e53-9f0b-d9c4ea3ab53e",
   "metadata": {},
   "outputs": [],
   "source": [
    "media = md.Media()"
   ]
  },
  {
   "cell_type": "code",
   "execution_count": 125,
   "id": "73cb10ab-48fd-471b-8ae3-a7b84555abab",
   "metadata": {},
   "outputs": [
    {
     "name": "stdout",
     "output_type": "stream",
     "text": [
      "source material dir:\n",
      "/home/cgwork/Downloads/Masters/Tecnologias_Comunicacao_Multimedia_TCM/Work/videos/original,\n",
      "output dir:\n",
      "/home/cgwork/Downloads/Masters/Tecnologias_Comunicacao_Multimedia_TCM/Work/videos/compressed\n"
     ]
    }
   ],
   "source": [
    "print(f\"source material dir:\\n{media.input_dir},\\noutput dir:\\n{media.output_dir}\") "
   ]
  },
  {
   "cell_type": "markdown",
   "id": "6c7be2bc-40f3-4438-806a-1d23b6df86aa",
   "metadata": {},
   "source": [
    "We'll glob all the files under the input dir with the following extensions (the following containers)"
   ]
  },
  {
   "cell_type": "code",
   "execution_count": 126,
   "id": "9ccc032e-c735-4ced-8697-a1a21cf2d373",
   "metadata": {},
   "outputs": [
    {
     "name": "stdout",
     "output_type": "stream",
     "text": [
      "['mp4', 'mkv', 'webm']\n"
     ]
    }
   ],
   "source": [
    "print(media.containers())"
   ]
  },
  {
   "cell_type": "markdown",
   "id": "86f7a0d1-f015-4b29-a67c-1824c1f0fee7",
   "metadata": {},
   "source": [
    "The source material that we'll be using is"
   ]
  },
  {
   "cell_type": "code",
   "execution_count": 127,
   "id": "ccee5925-501a-41d3-adfb-3499e9c82ba2",
   "metadata": {},
   "outputs": [
    {
     "data": {
      "text/plain": [
       "['/home/cgwork/Downloads/Masters/Tecnologias_Comunicacao_Multimedia_TCM/Work/videos/original/light_orbitals.mkv',\n",
       " '/home/cgwork/Downloads/Masters/Tecnologias_Comunicacao_Multimedia_TCM/Work/videos/original/colored_orbitals.mkv',\n",
       " '/home/cgwork/Downloads/Masters/Tecnologias_Comunicacao_Multimedia_TCM/Work/videos/original/flowlock.mkv',\n",
       " '/home/cgwork/Downloads/Masters/Tecnologias_Comunicacao_Multimedia_TCM/Work/videos/original/flowfield.mkv',\n",
       " '/home/cgwork/Downloads/Masters/Tecnologias_Comunicacao_Multimedia_TCM/Work/videos/original/noiseywaves.mkv']"
      ]
     },
     "execution_count": 127,
     "metadata": {},
     "output_type": "execute_result"
    }
   ],
   "source": [
    "media.glob_media()\n",
    "media.input_files()"
   ]
  },
  {
   "cell_type": "markdown",
   "id": "52b78d1e-9b36-438b-95d3-f9954f857aa6",
   "metadata": {},
   "source": [
    "Add your own directory and set the environment variables, and copy the videos you want to analyze there. Ideally, YUV 4\\:4\\:4 chroma sampling, and with the highest quality possible since these are to be the reference sources against with compressed material is going to be compared."
   ]
  },
  {
   "cell_type": "code",
   "execution_count": 128,
   "id": "f9cb1d67-e78d-4e43-87b0-4e730ca4823d",
   "metadata": {},
   "outputs": [],
   "source": [
    "# same for the output files, but these are the output basenames only, we want the\n",
    "# qualified output filenames, with the encoded parameters as part of the filename\n",
    "# media.output_files()"
   ]
  },
  {
   "cell_type": "markdown",
   "id": "6d2d5596-2960-48db-88dc-c79ef7a3ef44",
   "metadata": {},
   "source": [
    "We can view a video thumbnail, for example, the first video in the list"
   ]
  },
  {
   "cell_type": "code",
   "execution_count": 129,
   "id": "9e30461f-df74-4eed-b662-adee937a5974",
   "metadata": {},
   "outputs": [],
   "source": [
    "import ffmpeg\n",
    "\n",
    "from ipywidgets import interact\n",
    "from matplotlib import pyplot as plt\n",
    "import ipywidgets as widgets\n",
    "import numpy as np"
   ]
  },
  {
   "cell_type": "markdown",
   "id": "5bd0991b-e93c-411e-8ea4-a83733901b50",
   "metadata": {},
   "source": [
    "### Media information\n",
    "\n",
    "We'll store the media information in a dictionary to be queried later. Information such as the video stream data, width, height, aspect ratio, pixel format & chroma sampling, color range, color component transfer functions, RGB primaries and whitepoint, frame rate, time base, and so on."
   ]
  },
  {
   "cell_type": "code",
   "execution_count": 130,
   "id": "7d49c291-9871-4225-a0dc-05d576c509e2",
   "metadata": {},
   "outputs": [],
   "source": [
    "info = media.info()"
   ]
  },
  {
   "cell_type": "code",
   "execution_count": 131,
   "id": "f28dc8b4-5b69-439c-81ab-efca03bb8e77",
   "metadata": {},
   "outputs": [
    {
     "name": "stdout",
     "output_type": "stream",
     "text": [
      "input file /home/cgwork/Downloads/Masters/Tecnologias_Comunicacao_Multimedia_TCM/Work/videos/original/light_orbitals.mkv height is 720, width is 1280\n"
     ]
    }
   ],
   "source": [
    "# get the width and height of the first media file in the input list\n",
    "width = media.width(media.input_files()[0])\n",
    "height = media.height(media.input_files()[0])\n",
    "print(f\"input file {media.input_files()[0]} height is {height}, width is {width}\")"
   ]
  },
  {
   "cell_type": "markdown",
   "id": "d6e1d66b-e69f-4d27-9bbd-55a484d6bee1",
   "metadata": {},
   "source": [
    "#### Viewing the Test Clip(s)\n",
    "\n",
    "Prepare the widget for the thumbnail view with the FFMPEG python bindings and NumPy"
   ]
  },
  {
   "cell_type": "code",
   "execution_count": 132,
   "id": "723e5b11-86ed-4abb-9076-af54e7a18776",
   "metadata": {},
   "outputs": [
    {
     "data": {
      "application/vnd.jupyter.widget-view+json": {
       "model_id": "",
       "version_major": 2,
       "version_minor": 0
      },
      "text/plain": [
       "interactive(children=(IntSlider(value=0, description='frame', max=256), Output()), _dom_classes=('widget-inter…"
      ]
     },
     "metadata": {},
     "output_type": "display_data"
    }
   ],
   "source": [
    "out, err = (\n",
    "    ffmpeg\n",
    "    .input(media.input_files()[0])\n",
    "    .output(\"pipe:\", format=\"rawvideo\", pix_fmt=\"rgb24\", loglevel=\"error\")\n",
    "    .run(capture_stdout = True)\n",
    ")\n",
    "\n",
    "video = (\n",
    "    np\n",
    "    .frombuffer(out, np.uint8)\n",
    "    .reshape([-1, height, width, 3])\n",
    ")\n",
    "\n",
    "@interact(frame=(0, media.number_of_frames(media.input_files()[0])))\n",
    "def show_frame(frame = 0):\n",
    "    plt.imshow(video[frame,:,:,:])"
   ]
  },
  {
   "cell_type": "markdown",
   "id": "4befcf89-53c0-4aba-8f03-8d0da74b7605",
   "metadata": {},
   "source": [
    "### Available Codecs\n",
    "\n",
    "We can check codecs with ```ffmpeg -codecs``` and specific options with ```ffmpeg -h encoder=<encoder here>```, example for the h264 case, ```ffmpeg -h encoder=libx264```.\n",
    "In our case, we're interested in h264, h264/HEVC, h266/VVC, VP8, VP9, AV1."
   ]
  },
  {
   "cell_type": "code",
   "execution_count": 133,
   "id": "cd95699c-8ac9-4bc2-bac4-a3007c1a3cee",
   "metadata": {},
   "outputs": [
    {
     "name": "stdout",
     "output_type": "stream",
     "text": [
      " DEV.L. av1                  Alliance for Open Media AV1 (decoders: libdav1d libaom-av1 av1 ) (encoders: libaom-av1 libsvtav1 )\n",
      " DEV.LS h264                 H.264 / AVC / MPEG-4 AVC / MPEG-4 part 10 (decoders: h264 h264_v4l2m2m h264_cuvid ) (encoders: libx264 libx264rgb h264_nvenc h264_v4l2m2m nvenc nvenc_h264 )\n",
      " DEV.L. hevc                 H.265 / HEVC (High Efficiency Video Coding) (decoders: hevc hevc_v4l2m2m hevc_cuvid ) (encoders: libx265 nvenc_hevc hevc_nvenc hevc_v4l2m2m libkvazaar )\n",
      " DEV.L. vp8                  On2 VP8 (decoders: vp8 vp8_v4l2m2m libvpx vp8_cuvid ) (encoders: libvpx vp8_v4l2m2m )\n",
      " DEV.L. vp9                  Google VP9 (decoders: vp9 vp9_v4l2m2m libvpx-vp9 vp9_cuvid ) (encoders: libvpx-vp9 )\n",
      " ..V.L. vvc                  H.266 / VVC (Versatile Video Coding)\n"
     ]
    }
   ],
   "source": [
    "!ffmpeg -hide_banner -loglevel error -codecs|grep -wE 'av1|vp8|vp9|h264|hevc|vvc'"
   ]
  },
  {
   "cell_type": "markdown",
   "id": "d8de8f73-e98e-41d5-a255-af2000c33a2e",
   "metadata": {},
   "source": [
    "## Codec options\n",
    "\n",
    "We'll then go one by one, starting with"
   ]
  },
  {
   "cell_type": "markdown",
   "id": "0b8257d2-a5d3-4ffe-b646-14d666871efb",
   "metadata": {},
   "source": [
    "### H.264 | MPEG-4 AVC\n",
    "\n",
    "We need to check the options for each family of codecs, though to keep it manageable, we'll be restricted ourselves to changing the CRF and presets.\n",
    "Further tests will be done later with varying macroblock sizes, different GOP structures, motion estimation and compensation methods."
   ]
  },
  {
   "cell_type": "code",
   "execution_count": 134,
   "id": "d8fea676-8d4d-499b-bfcf-57fdf05863b0",
   "metadata": {},
   "outputs": [
    {
     "name": "stdout",
     "output_type": "stream",
     "text": [
      "Encoder libx264 [libx264 H.264 / AVC / MPEG-4 AVC / MPEG-4 part 10]:\n",
      "    General capabilities: delay threads \n",
      "    Threading capabilities: other\n",
      "    Supported pixel formats: yuv420p yuvj420p yuv422p yuvj422p yuv444p yuvj444p nv12 nv16 nv21 yuv420p10le yuv422p10le yuv444p10le nv20le\n",
      "libx264 AVOptions:\n",
      "  -preset            <string>     E..V....... Set the encoding preset (cf. x264 --fullhelp) (default \"medium\")\n",
      "  -tune              <string>     E..V....... Tune the encoding params (cf. x264 --fullhelp)\n",
      "  -profile           <string>     E..V....... Set profile restrictions (cf. x264 --fullhelp) \n",
      "  -fastfirstpass     <boolean>    E..V....... Use fast settings when encoding first pass (default true)\n",
      "  -level             <string>     E..V....... Specify level (as defined by Annex A)\n",
      "  -passlogfile       <string>     E..V....... Filename for 2 pass stats\n",
      "  -wpredp            <string>     E..V....... Weighted prediction for P-frames\n",
      "  -a53cc             <boolean>    E..V....... Use A53 Closed Captions (if available) (default true)\n",
      "  -x264opts          <string>     E..V....... x264 options\n",
      "  -crf               <float>      E..V....... Select the quality for constant quality mode (from -1 to FLT_MAX) (default -1)\n",
      "  -crf_max           <float>      E..V....... In CRF mode, prevents VBV from lowering quality beyond this point. (from -1 to FLT_MAX) (default -1)\n",
      "  -qp                <int>        E..V....... Constant quantization parameter rate control method (from -1 to INT_MAX) (default -1)\n",
      "  -aq-mode           <int>        E..V....... AQ method (from -1 to INT_MAX) (default -1)\n",
      "     none            0            E..V.......\n",
      "     variance        1            E..V....... Variance AQ (complexity mask)\n",
      "     autovariance    2            E..V....... Auto-variance AQ\n",
      "     autovariance-biased 3            E..V....... Auto-variance AQ with bias to dark scenes\n",
      "  -aq-strength       <float>      E..V....... AQ strength. Reduces blocking and blurring in flat and textured areas. (from -1 to FLT_MAX) (default -1)\n",
      "  -psy               <boolean>    E..V....... Use psychovisual optimizations. (default auto)\n",
      "  -psy-rd            <string>     E..V....... Strength of psychovisual optimization, in <psy-rd>:<psy-trellis> format.\n",
      "  -rc-lookahead      <int>        E..V....... Number of frames to look ahead for frametype and ratecontrol (from -1 to INT_MAX) (default -1)\n",
      "  -weightb           <boolean>    E..V....... Weighted prediction for B-frames. (default auto)\n",
      "  -weightp           <int>        E..V....... Weighted prediction analysis method. (from -1 to INT_MAX) (default -1)\n",
      "     none            0            E..V.......\n",
      "     simple          1            E..V.......\n",
      "     smart           2            E..V.......\n",
      "  -ssim              <boolean>    E..V....... Calculate and print SSIM stats. (default auto)\n",
      "  -intra-refresh     <boolean>    E..V....... Use Periodic Intra Refresh instead of IDR frames. (default auto)\n",
      "  -bluray-compat     <boolean>    E..V....... Bluray compatibility workarounds. (default auto)\n",
      "  -b-bias            <int>        E..V....... Influences how often B-frames are used (from INT_MIN to INT_MAX) (default INT_MIN)\n",
      "  -b-pyramid         <int>        E..V....... Keep some B-frames as references. (from -1 to INT_MAX) (default -1)\n",
      "     none            0            E..V.......\n",
      "     strict          1            E..V....... Strictly hierarchical pyramid\n",
      "     normal          2            E..V....... Non-strict (not Blu-ray compatible)\n",
      "  -mixed-refs        <boolean>    E..V....... One reference per partition, as opposed to one reference per macroblock (default auto)\n",
      "  -8x8dct            <boolean>    E..V....... High profile 8x8 transform. (default auto)\n",
      "  -fast-pskip        <boolean>    E..V....... (default auto)\n",
      "  -aud               <boolean>    E..V....... Use access unit delimiters. (default auto)\n",
      "  -mbtree            <boolean>    E..V....... Use macroblock tree ratecontrol. (default auto)\n",
      "  -deblock           <string>     E..V....... Loop filter parameters, in <alpha:beta> form.\n",
      "  -cplxblur          <float>      E..V....... Reduce fluctuations in QP (before curve compression) (from -1 to FLT_MAX) (default -1)\n",
      "  -partitions        <string>     E..V....... A comma-separated list of partitions to consider. Possible values: p8x8, p4x4, b8x8, i8x8, i4x4, none, all\n",
      "  -direct-pred       <int>        E..V....... Direct MV prediction mode (from -1 to INT_MAX) (default -1)\n",
      "     none            0            E..V.......\n",
      "     spatial         1            E..V.......\n",
      "     temporal        2            E..V.......\n",
      "     auto            3            E..V.......\n",
      "  -slice-max-size    <int>        E..V....... Limit the size of each slice in bytes (from -1 to INT_MAX) (default -1)\n",
      "  -stats             <string>     E..V....... Filename for 2 pass stats\n",
      "  -nal-hrd           <int>        E..V....... Signal HRD information (requires vbv-bufsize; cbr not allowed in .mp4) (from -1 to INT_MAX) (default -1)\n",
      "     none            0            E..V.......\n",
      "     vbr             1            E..V.......\n",
      "     cbr             2            E..V.......\n",
      "  -avcintra-class    <int>        E..V....... AVC-Intra class 50/100/200 (from -1 to 200) (default -1)\n",
      "  -me_method         <int>        E..V....... Set motion estimation method (from -1 to 4) (default -1)\n",
      "     dia             0            E..V.......\n",
      "     hex             1            E..V.......\n",
      "     umh             2            E..V.......\n",
      "     esa             3            E..V.......\n",
      "     tesa            4            E..V.......\n",
      "  -motion-est        <int>        E..V....... Set motion estimation method (from -1 to 4) (default -1)\n",
      "     dia             0            E..V.......\n",
      "     hex             1            E..V.......\n",
      "     umh             2            E..V.......\n",
      "     esa             3            E..V.......\n",
      "     tesa            4            E..V.......\n",
      "  -forced-idr        <boolean>    E..V....... If forcing keyframes, force them as IDR frames. (default false)\n",
      "  -coder             <int>        E..V....... Coder type (from -1 to 1) (default default)\n",
      "     default         -1           E..V.......\n",
      "     cavlc           0            E..V.......\n",
      "     cabac           1            E..V.......\n",
      "     vlc             0            E..V.......\n",
      "     ac              1            E..V.......\n",
      "  -b_strategy        <int>        E..V....... Strategy to choose between I/P/B-frames (from -1 to 2) (default -1)\n",
      "  -chromaoffset      <int>        E..V....... QP difference between chroma and luma (from INT_MIN to INT_MAX) (default 0)\n",
      "  -sc_threshold      <int>        E..V....... Scene change threshold (from INT_MIN to INT_MAX) (default -1)\n",
      "  -noise_reduction   <int>        E..V....... Noise reduction (from INT_MIN to INT_MAX) (default -1)\n",
      "  -x264-params       <dictionary> E..V....... Override the x264 configuration using a :-separated list of key=value parameters\n",
      "\n"
     ]
    }
   ],
   "source": [
    "!ffmpeg -hide_banner -loglevel error -h encoder=libx264"
   ]
  },
  {
   "cell_type": "markdown",
   "id": "b03cb7a9-0fc3-4e9d-a3a5-b291a1d717fd",
   "metadata": {},
   "source": [
    "### h265 | HEVC options\n",
    "\n",
    "In this system, we have available libx265, kvazaar, and NVidia's hevc_nvenc.\n",
    "The settings provided by libx265 for h265 encoding are:"
   ]
  },
  {
   "cell_type": "code",
   "execution_count": 135,
   "id": "8140b1e7-a6fe-4215-96d7-6dbbf090396e",
   "metadata": {},
   "outputs": [
    {
     "name": "stdout",
     "output_type": "stream",
     "text": [
      "Encoder libx265 [libx265 H.265 / HEVC]:\n",
      "    General capabilities: delay threads \n",
      "    Threading capabilities: other\n",
      "    Supported pixel formats: yuv420p yuvj420p yuv422p yuvj422p yuv444p yuvj444p gbrp yuv420p10le yuv422p10le yuv444p10le gbrp10le yuv420p12le yuv422p12le yuv444p12le gbrp12le gray gray10le gray12le\n",
      "libx265 AVOptions:\n",
      "  -crf               <float>      E..V....... set the x265 crf (from -1 to FLT_MAX) (default -1)\n",
      "  -qp                <int>        E..V....... set the x265 qp (from -1 to INT_MAX) (default -1)\n",
      "  -forced-idr        <boolean>    E..V....... if forcing keyframes, force them as IDR frames (default false)\n",
      "  -preset            <string>     E..V....... set the x265 preset\n",
      "  -tune              <string>     E..V....... set the x265 tune parameter\n",
      "  -profile           <string>     E..V....... set the x265 profile\n",
      "  -x265-params       <dictionary> E..V....... set the x265 configuration using a :-separated list of key=value parameters\n",
      "\n"
     ]
    }
   ],
   "source": [
    "# hevc, libx265, kvazaar, hevc_nvenc\n",
    "!ffmpeg -hide_banner -loglevel error  -h encoder=libx265"
   ]
  },
  {
   "cell_type": "markdown",
   "id": "6781017c-23cb-4d60-8189-ee1e9f9fca8c",
   "metadata": {},
   "source": [
    "### H.266 | VVC\n",
    "\n",
    "The h.266/VVC codec is known to FFMPEG, but without a supported encoder or decoder yet."
   ]
  },
  {
   "cell_type": "code",
   "execution_count": 136,
   "id": "3b114538-c701-43b8-a52a-2e9f723fac45",
   "metadata": {},
   "outputs": [
    {
     "name": "stdout",
     "output_type": "stream",
     "text": [
      "Codec 'vvc' is known to FFmpeg, but no encoders for it are available. FFmpeg might need to be recompiled with additional external libraries.\n"
     ]
    }
   ],
   "source": [
    "!ffmpeg -hide_banner -loglevel error  -h encoder=vvc"
   ]
  },
  {
   "cell_type": "markdown",
   "id": "544d168d-2b13-4e02-b376-c7ab7a3161b3",
   "metadata": {},
   "source": [
    "Though patches exists in development branches, these break video quality assessment modes, so this won't be covered here, yet.\n",
    "However we'll be providing a small guide on how to actually compress a video with the official Fraunhoffer provided reference encoder, [VVenc](https://www.hhi.fraunhofer.de/en/departments/vca/technologies-and-solutions/h266-vvc/fraunhofer-versatile-video-encoder-vvenc.html). This implies in some systems, retrieving the source code from the Fraunhoffer [github repository and compiling it](https://github.com/fraunhoferhhi/vvenc), installing it into a system visible directory."
   ]
  },
  {
   "cell_type": "code",
   "execution_count": 137,
   "id": "2dadbec0-ec17-4b00-be47-499379699839",
   "metadata": {},
   "outputs": [
    {
     "name": "stdout",
     "output_type": "stream",
     "text": [
      "vvencapp: Fraunhofer VVC Encoder ver. 1.3.0 [Linux][GCC 10.3.0][64 bit][SIMD=AVX2]\n",
      "\n",
      "#======== General Options ================\n",
      "        --help [0]              show default help\n",
      "        --fullhelp [0]          show full help\n",
      "  -v,   --verbosity [verbose]   Specifies the level of the verboseness (0: silent, 1: error, 2: warning, 3: info, 4:\n",
      "                                notice, 5: verbose, 6: debug)\n",
      "        --version [0]           show version \n",
      "\n",
      "#======== Input Options ================\n",
      "  -i,   --input []              original YUV input file name or '-' for reading from stdin\n",
      "  -s,   --size [1920x1080]      specify input resolution (WidthxHeight)\n",
      "  -c,   --format [yuv420]       set input format (yuv420, yuv420_10, yuv420_10_packed)\n",
      "  -r,   --framerate [60]        temporal rate (framerate numerator) e.g. 25,30, 30000, 50,60, 60000 \n",
      "        --framescale [1]        temporal scale (framerate denominator) e.g. 1, 1001 \n",
      "        --fps [60/1]            Framerate as int or fraction (num/denom) \n",
      "        --tickspersec [90000]   Ticks Per Second for dts generation, (1..27000000)\n",
      "  -f,   --frames [0]            max. frames to encode [all]\n",
      "  -fs,  --frameskip [0]         Number of frames to skip at start of input YUV [off]\n",
      "        --segment [off]         when encoding multiple separate segments, specify segment position to enable segment concatenation (first, mid, last) [off]\n",
      "                                first: first segment           \n",
      "                                mid  : all segments between first and last segment\n",
      "                                last : last segment\n",
      "\n",
      "#======== Output Options ================\n",
      "  -o,   --output []             Bitstream output file name\n",
      "\n",
      "#======== Encoder Options ================\n",
      "        --preset [medium]       select preset for specific encoding setting (faster, fast, medium, slow, slower)\n",
      "  -b,   --bitrate [0]           bitrate for rate control (0: constant-QP encoding without rate control, otherwise\n",
      "                                bits/second)\n",
      "  -p,   --passes [-1]           number of rate control passes (1,2)\n",
      "        --pass [-1]             rate control pass for two-pass rate control (-1,1,2)\n",
      "        --rcstatsfile []        rate control statistics file\n",
      "  -q,   --qp [32]               quantization parameter, QP (0-63)\n",
      "        --qpa [on]              Enable perceptually motivated QP adaptation, XPSNR based (0:off, 1:on)\n",
      "  -t,   --threads [-1]          Number of threads default: [size < 720p: 4, >= 720p: 8]\n",
      "  -g,   --gopsize [32]          GOP size of temporal structure (16,32)\n",
      "  -rt,  --refreshtype [cra]     intra refresh type (idr,cra,idr2,cra_cre - CRA with constrained encoding for RASL\n",
      "                                pictures)\n",
      "  -rs,  --refreshsec [1]        Intra period/refresh in seconds\n",
      "  -ip,  --intraperiod [0]       Intra period in frames (0: use intra period in seconds (refreshsec), else: n*gopsize)\n",
      "        --tiles [1x1]           Set number of tile columns and rows\n",
      "\n",
      "#======== Profile, Level, Tier ================\n",
      "        --profile [auto]        select profile (main10, main10_stillpic)\n",
      "        --level [auto]          Level limit (1.0, 2.0,2.1, 3.0,3.1, 4.0,4.1, 5.0,5.1,5.2, 6.0,6.1,6.2,6.3, 15.5)\n",
      "        --tier [main]           Tier to use for interpretation of level (main or high)\n",
      "\n",
      "#======== HDR and Color Options ================\n",
      "        --hdr [off]             set HDR mode (+SEI messages) + BT.709 or BT.2020 color space. use: off, pq|hdr10,\n",
      "                                pq_2020|hdr10_2020, hlg, hlg_2020\n"
     ]
    }
   ],
   "source": [
    "#!ffmpeg -hide_banner -loglevel error  -h encoder=vvc\n",
    "!vvencapp --help"
   ]
  },
  {
   "cell_type": "markdown",
   "id": "33a15fb4-8e49-483a-b174-a61f7f110b85",
   "metadata": {},
   "source": [
    "### VP8, VP9, AV1\n",
    "\n",
    "The Open Media Alliance created VP8, VP9, VP1 to counteract the H.264|MPEG-4 AVC, H.265|HEVC potential licensing woes. H.266/VVC seems to be encumbered by licensing issues as well. VP8 was deprecated, superceded by VP9, which itself was superceded by AV1.\n",
    "FFMPEG provides an interface to VP8, VP9 and AV1.\n",
    "The options for VP9 and AV1 can also be specified by replacing ```encoder=vp8``` by ```encoder=vp9``` and ```encoder=av1``` respectively."
   ]
  },
  {
   "cell_type": "code",
   "execution_count": 138,
   "id": "0170a073-10bc-46e1-a654-8e90df425e4d",
   "metadata": {},
   "outputs": [
    {
     "name": "stdout",
     "output_type": "stream",
     "text": [
      "Encoder libvpx [libvpx VP8]:\n",
      "    General capabilities: delay threads \n",
      "    Threading capabilities: other\n",
      "    Supported pixel formats: yuv420p yuva420p\n",
      "libvpx-vp8 encoder AVOptions:\n",
      "  -lag-in-frames     <int>        E..V....... Number of frames to look ahead for alternate reference frame selection (from -1 to INT_MAX) (default -1)\n",
      "  -arnr-maxframes    <int>        E..V....... altref noise reduction max frame count (from -1 to INT_MAX) (default -1)\n",
      "  -arnr-strength     <int>        E..V....... altref noise reduction filter strength (from -1 to INT_MAX) (default -1)\n",
      "  -arnr-type         <int>        E..V....... altref noise reduction filter type (from -1 to INT_MAX) (default -1)\n",
      "     backward        1            E..V.......\n",
      "     forward         2            E..V.......\n",
      "     centered        3            E..V.......\n",
      "  -tune              <int>        E..V....... Tune the encoding to a specific scenario (from -1 to INT_MAX) (default -1)\n",
      "     psnr            0            E..V.......\n",
      "     ssim            1            E..V.......\n",
      "  -deadline          <int>        E..V....... Time to spend encoding, in microseconds. (from INT_MIN to INT_MAX) (default good)\n",
      "     best            0            E..V.......\n",
      "     good            1000000      E..V.......\n",
      "     realtime        1            E..V.......\n",
      "  -error-resilient   <flags>      E..V....... Error resilience configuration (default 0)\n",
      "     default                      E..V....... Improve resiliency against losses of whole frames\n",
      "     partitions                   E..V....... The frame partitions are independently decodable by the bool decoder, meaning that partitions can be decoded even though earlier partitions have been lost. Note that intra prediction is still done over the partition boundary.\n",
      "  -max-intra-rate    <int>        E..V....... Maximum I-frame bitrate (pct) 0=unlimited (from -1 to INT_MAX) (default -1)\n",
      "  -crf               <int>        E..V....... Select the quality for constant quality mode (from -1 to 63) (default -1)\n",
      "  -static-thresh     <int>        E..V....... A change threshold on blocks below which they will be skipped by the encoder (from 0 to INT_MAX) (default 0)\n",
      "  -drop-threshold    <int>        E..V....... Frame drop threshold (from INT_MIN to INT_MAX) (default 0)\n",
      "  -noise-sensitivity <int>        E..V....... Noise sensitivity (from 0 to 4) (default 0)\n",
      "  -undershoot-pct    <int>        E..V....... Datarate undershoot (min) target (%) (from -1 to 100) (default -1)\n",
      "  -overshoot-pct     <int>        E..V....... Datarate overshoot (max) target (%) (from -1 to 1000) (default -1)\n",
      "  -ts-parameters     <dictionary> E..V....... Temporal scaling configuration using a :-separated list of key=value parameters\n",
      "  -auto-alt-ref      <int>        E..V....... Enable use of alternate reference frames (2-pass only) (from -1 to 2) (default -1)\n",
      "  -cpu-used          <int>        E..V....... Quality/Speed ratio modifier (from -16 to 16) (default 1)\n",
      "  -speed             <int>        E..V.......  (from -16 to 16) (default 1)\n",
      "  -quality           <int>        E..V.......  (from INT_MIN to INT_MAX) (default good)\n",
      "     best            0            E..V.......\n",
      "     good            1000000      E..V.......\n",
      "     realtime        1            E..V.......\n",
      "  -vp8flags          <flags>      E..V.......  (default 0)\n",
      "     error_resilient              E..V....... enable error resilience\n",
      "     altref                       E..V....... enable use of alternate reference frames (VP8/2-pass only)\n",
      "  -arnr_max_frames   <int>        E..V....... altref noise reduction max frame count (from 0 to 15) (default 0)\n",
      "  -arnr_strength     <int>        E..V....... altref noise reduction filter strength (from 0 to 6) (default 3)\n",
      "  -arnr_type         <int>        E..V....... altref noise reduction filter type (from 1 to 3) (default 3)\n",
      "  -rc_lookahead      <int>        E..V....... Number of frames to look ahead for alternate reference frame selection (from 0 to 25) (default 25)\n",
      "  -sharpness         <int>        E..V....... Increase sharpness at the expense of lower PSNR (from -1 to 7) (default -1)\n",
      "\n",
      "Encoder vp8_v4l2m2m [V4L2 mem2mem VP8 encoder wrapper]:\n",
      "    General capabilities: delay hardware \n",
      "    Threading capabilities: none\n",
      "vp8_v4l2m2m_encoder AVOptions:\n",
      "  -num_output_buffers <int>        E..V....... Number of buffers in the output context (from 6 to INT_MAX) (default 16)\n",
      "  -num_capture_buffers <int>        E..V....... Number of buffers in the capture context (from 4 to INT_MAX) (default 4)\n",
      "\n"
     ]
    }
   ],
   "source": [
    "!ffmpeg -hide_banner -loglevel error  -h encoder=vp8"
   ]
  },
  {
   "cell_type": "markdown",
   "id": "61892908-dfc2-4b28-aa05-0aea0264a032",
   "metadata": {},
   "source": [
    "### MPEG-5 EVC\n",
    "\n",
    "[MPEG-5 EVC](https://en.wikipedia.org/wiki/Essential_Video_Coding) support in FFMPEG is not native. Testing support for FFMPEG will results in the same message as the previous VVC case. However, experimental support is provided in a fork of FFMPEG via [XEVE](https://github.com/mpeg5/xeve). Since development is detached from the main FFMPEG development, the video quality assessment methods we use are not yet available, but other methods might be employed at a later date.\n",
    "We won't be covering MPEG-5 EVC for now, but will do so later."
   ]
  },
  {
   "cell_type": "markdown",
   "id": "e24a8fa2-68c7-498f-9c60-2ad8f2f72dbe",
   "metadata": {
    "tags": []
   },
   "source": [
    "## H.264 Compression: x264 options:\n",
    "\n",
    "From the list of presets, *ultra\\|super\\|veryfast, faster, fast, medium, slow, slower, veryslow, placebo*, we will be using the tuning presets: film, animation, grain, stillimage, psnr, ssim, fastdecode, zerolatency.\n",
    "\n",
    "Since hardware constraints, network or streaming limitations aren't considerations, the tuning will be restricted to *film, animation, grain*.\n",
    "\n",
    "Chroma subsampling will be restricted to **YUV 4:2:0, YUV 4:2:2, YUV 4:4:4** with 8bit output.\n",
    "With higher bitdepth source content we can use 10bit support,i.e, ```yuv422p10le```, see ```x264 --fullhelp``` for an exhaustive list of options for the source material.\n",
    "\n",
    "Range is set to *pc*, so 8bit material is in ```[0,255]``` range, instead of ```[16,235]```\n",
    "All these options can be changed via the provided [Options.py Python class](./options.py) via their associated methods, which can be consulted via ```dir(Options)```.\n",
    "\n",
    "\n",
    "Motion estimation an take the values:\n",
    "\n",
    " * **dia** - Diamond search, checks motion vectors one pixel up, left, down and right choosing the best candidate and repeated until no better motion vector is found.\n",
    " \n",
    " * **hex** - Hexagon like the Diamond search, but searches instead in a radius of two pixels for six adjacent points. It's a good default since it's more efficient than the Diamond search and is very efficient.\n",
    " \n",
    " * **umh** - Uneven Multi-Hexagonal search, has a ```--me-range``` parameter, defaulting to 16, to control the search radius, and is heavier than the regular Hexagonal search.\n",
    " \n",
    " * **esa** - Exhaustive search, an optimized search of the complete motion vector space within the ```--me-range``` parameter, which defaults to 16.\n",
    " \n",
    " * **tesa** - Transformed Exhaustive search, attempts to approximate the effect of running a [Hadamard transform](https://en.wikipedia.org/wiki/Hadamard_transform) comparison at each motion vector.\n",
    "\n",
    "Subpixel motion estimation will be left unchanged to mode 7, that is, [Rate Distortion Optimization mode](https://en.wikipedia.org/wiki/Rate%E2%80%93distortion_optimization) decision for all frames (I, P, B).\n",
    "Mode 9 and 10 will be tested later, that is, [rate distortion](https://en.wikipedia.org/wiki/Quantization_(signal_processing)#Rate%E2%80%93distortion_optimization) refinement for all frames, and quarter pixel RD, which requires [Trellis](https://en.wikipedia.org/wiki/Trellis_quantization) RD quantization mode 2 via the ```--trellis``` option.\n",
    "\n",
    "Use ```--slow-firstpass``` with multipass approaches to keep good quality analysis settings before the actual encoding takes place on the 2nd pass.\n",
    "\n",
    "Use ```--b-adapt``` with value 1=*Fast*, 2=*Optimal*, default being one, for the adaptive B-frame decision method.\n",
    "\n",
    "Use ```--keyint``` with an integer for the maximum GOP size, 250 being the default.\n",
    "\n",
    "Use ```--qp``` from 0 to 81, 0 being lossless, and ```--crf``` for quality based VBR, from -12 to 51, the default being 23.0.\n",
    "\n",
    "Adaptive quantization method, ```--aq-mode``` 0 = Disabled, 1 = Variance AQ (complexity mask), 2 = Auto-Variance AQ, 3 = Auto-variance AQ with bias to dark values.\n",
    "\n",
    "P-frame weighted prediction is controlled with ```--weightp```, taking the values 0 = disabled, 1 = enable only weighted references, 2 = enable both weighted references and duplicates.\n",
    " \n",
    "Quantization matrices will be left unchanged to the default H.264/AVC quantization matrices, *flat*."
   ]
  },
  {
   "cell_type": "code",
   "execution_count": 139,
   "id": "4a691699-0c1c-448e-9ccb-97f9c1035c0f",
   "metadata": {},
   "outputs": [],
   "source": [
    "# Create an options container\n",
    "options = op.Options()"
   ]
  },
  {
   "cell_type": "markdown",
   "id": "ecf6f06a-2d57-4cd9-b328-93ddcbc7525d",
   "metadata": {},
   "source": [
    "Encode options are the codec specific encoding options passed to FFMPEG.\n",
    "\n",
    "Common options are the global/general FFMPEG encoding options.\n",
    "\n",
    "Encoding sets are the sets of codec specific or global encoding options that will be iterated in order to generate compressed tests with multiple parameters.\n",
    "Example, if you want to use *Constant Rate Factor* rate control mode to encode a H.264 video with libx264, and generate 4 outputs each with different CRF quality in order to evaluate the perceptual video quality metrics on each, you would store this in a ```key:value``` pair in the encoding sets, i.e: ```{\"crf\" : [12, 28, 40],...}```"
   ]
  },
  {
   "cell_type": "code",
   "execution_count": 140,
   "id": "44aadc03-1ffe-4870-a268-0c31c74d4c13",
   "metadata": {},
   "outputs": [
    {
     "name": "stdout",
     "output_type": "stream",
     "text": [
      "{'crf': [18, 23, 27, 36], 'preset': ['veryfast', 'medium', 'slower'], 'tune': ['film', 'animation', 'grain'], 'motion-est': ['esa', 'umh'], 'aq-mode': [0, 1, 2, 3], 'weightp': [0, 1, 2], 'pix_fmt': ['yuv420p', 'yuv422p', 'yuv444p']}\n"
     ]
    }
   ],
   "source": [
    "#print(options.encode_options())\n",
    "#print(options.common_options())\n",
    "print(options.encoding_sets())"
   ]
  },
  {
   "cell_type": "markdown",
   "id": "eb7da597-bab1-4351-83df-67775eee2f0b",
   "metadata": {},
   "source": [
    "Create an encoder object (from the [file encoder.py you can find here](./encoder.py)), and this will be our interface between the videos, the compressors and their options, and FFMPEG."
   ]
  },
  {
   "cell_type": "code",
   "execution_count": 141,
   "id": "59e1e635-04c9-4c03-8078-0df387d6caac",
   "metadata": {},
   "outputs": [],
   "source": [
    "import encoder as enc"
   ]
  },
  {
   "cell_type": "code",
   "execution_count": 142,
   "id": "59a3f3be-66e8-41ee-9c79-13e4fb0037cd",
   "metadata": {},
   "outputs": [],
   "source": [
    "encoder = enc.Encoder(media, options)"
   ]
  },
  {
   "cell_type": "code",
   "execution_count": 143,
   "id": "1a0d8697-ecfb-4972-8aa1-41ffa9077a2c",
   "metadata": {},
   "outputs": [],
   "source": [
    "# debug the output files\n",
    "#encoder.encoding(media.input_files()[0], media.output_files()[0])\n",
    "#encoder.encode_videos()\n",
    "#encoder.encode_video(\n",
    "#    media.input_files()[0], \n",
    "#    media.output_files()[0], \n",
    "#    {\n",
    "#        **options.common_options(), \n",
    "#        **options.encode_options()\n",
    "#    },\n",
    "#    debug=False)"
   ]
  },
  {
   "cell_type": "markdown",
   "id": "2ee2404d-6c56-4ecd-aed3-ecd35be1f0c5",
   "metadata": {},
   "source": [
    "## Compressed Output\n",
    "\n",
    "A full combinatorial analysis, besides a naif brute force approach, would be a daunting task.\n",
    "Smarter approaches exist to use neural networks to identify the type of content and start exploring settings optimized for that family.\n",
    "In our case we'll do tests for individual sets of parameters, run perceptual video quality metrics on them, and the other metrics outlined earlier, compare resulting metrics versus file size, and plot them.\n",
    "\n",
    "We'll start by constant rate factor, presets, tuning presets, chroma subsampling methods, and motion estimation methods.\n",
    "\n",
    "The CRF rate control can be capped, also known as [**cap-constrained CRF**](https://slhck.info/video/2017/03/01/rate-control.html) and this will be calculated according to the maximum target size we'll allow. \n",
    "Example, from a 50MiB file the desired target bitrate will be calculated, with the joining maximum rate and buffer size to keep the rate control constrained within a maximum 200% maximum rate."
   ]
  },
  {
   "cell_type": "markdown",
   "id": "4a7d6b2d-c246-4d26-b50a-04d3bf265f62",
   "metadata": {},
   "source": [
    "## Compressing, Calculating Metrics, Interpreting Results\n",
    "\n",
    "We'll calculate the PSNR, SSIM, VMAF per frame metrics, store them into a Pandas dataframe and compute the mean and moving averages, plotting them next. A brief overview of the metrics ensues then.\n",
    "\n",
    "### **SSIM** and **MS-SSIM**\n",
    "\n",
    "[Structured Similarity Index Matrix](https://www.imatest.com/docs/ssim/) and [Multi-Scale Structural SIMilarity](https://en.wikipedia.org/wiki/Structural_similarity#Multi-component_SSIM) (source code [here](https://ece.uwaterloo.ca/~z70wang/research/iwssim/)) is one of the most well-known image quality evaluation algorithms and computes relative quality scores between the reference and distorted images by comparing details across resolutions, providing high performance for learning-based image codecs. The MS-SSIM is more flexible than single-scale methods such as SSIM by including variations of image resolution and viewing conditions. Also, the MS-SSIM metric introduces an image synthesis-based approach to calibrate the parameters that weight the relative importance between different scales. A high score expresses better image quality.\n",
    "\n",
    "\n",
    "### **PSNR**\n",
    "\n",
    "[Peak Signal to Noise Ratio](https://en.wikipedia.org/wiki/Peak_signal-to-noise_ratio).\n",
    "Peak Signal-to-Noise Ratio is widely used as a video quality metric or performance indicator. Some studies have indicated that it [correlates poorly](https://www.streamingmedia.com/Articles/ReadArticle.aspx?ArticleID=143055) with subjective quality, whilst others have used it on the basis that it provides a good correlation with subjective data.\n",
    "\n",
    "\n",
    "### **VIF**\n",
    "\n",
    "The Visual Information Fidelity (source code [here](https://github.com/pavancm/Visual-Information-Fidelity---Python)) measures the loss of human perceived information in some degradation process, e.g. image compression. VIF exploits the natural scene statistics to evaluate information fidelity and is related to the Shannon mutual information between the degraded and original pristine image. The VIF metric operates in the wavelet domain and many experiments found that the metric values agree well with the human response, which also occurs for learning-based image codecs. A high score expresses better image quality.\n",
    "\n",
    "### **VMAF**\n",
    "\n",
    "The Video Multimethod Assessment Fusion metric and score, [developed by Netflix](https://github.com/Netflix/vmaf) is focused on artifacts created by compression and rescaling and estimates the quality score by computing scores from several quality assessment algorithms and fusing them with a support vector machine ([SVM](https://en.wikipedia.org/wiki/Support-vector_machine), *a supervized ML method for data classification and regression*). Even if this metric is specific for videos, it can also be used to evaluate the quality of single images and has been proved that performs reasonably well for learning-based image codecs. Since the metric takes as input raw images in the YUV color space format, the PNG (RGB color space) images are converted to the YUV 4:4:4 format using FFMPEG (BT.709 primaries). A higher score of this metric indicates better image quality. Built-in support in FFMPEG is provided via [libvmaf](https://github.com/Netflix/vmaf/blob/master/resource/doc/ffmpeg.md). \n",
    "\n",
    "#### **VMAF Score**\n",
    "\n",
    "The VMAF score will be using the model we've chosen to provides us a score, so what it's actually telling us will change a bit depending on the model. For our model, its predicting quality of the video on a 1080p display in a *living room environment*, and presuming that the persons viewing distance is 3x the height of the screen (25cm monitor/TV height = 75cm viewing distance).\n",
    "We consider a score of 20 to be very bad, and a score of 100 to be excellent (flawless). I would consider anything above 80 to be quite good, and above 90 to very close perfect/indistinguishable from the ref."
   ]
  },
  {
   "cell_type": "markdown",
   "id": "a30deb80-0cc7-4ad8-a966-d334bf925777",
   "metadata": {},
   "source": [
    "### Metrics interface\n",
    "\n",
    "The interface to the video quality metrics is provided by a Python library called [FFMPEG Quality Metrics](https://github.com/slhck/ffmpeg-quality-metrics). This is one of the dependencies of the project, the full list of which will be listed at the end.\n",
    "We'll be importing it, and use our [encoder object](./encoder.py), as well as Pandas dataframes for statistical containers and statistical analysis, and this module with the metrics outlined above for each of the videos encoded with the options we defined in our [options object](./options.py)."
   ]
  },
  {
   "cell_type": "code",
   "execution_count": 144,
   "id": "4cd8a098-950c-4409-aebe-39114017e1f7",
   "metadata": {},
   "outputs": [],
   "source": [
    "from ffmpeg_quality_metrics import FfmpegQualityMetrics as ffqm\n",
    "import pandas as pd"
   ]
  },
  {
   "cell_type": "markdown",
   "id": "2873e395-af04-48ef-8cd8-38f7ca4be4a3",
   "metadata": {},
   "source": [
    "Example, with a given test video and given options:"
   ]
  },
  {
   "cell_type": "code",
   "execution_count": 145,
   "id": "8e44f02b-4cbe-4133-ab04-e243141ea0d1",
   "metadata": {},
   "outputs": [
    {
     "data": {
      "text/plain": [
       "'/home/cgwork/Downloads/Masters/Tecnologias_Comunicacao_Multimedia_TCM/Work/videos/original/light_orbitals.mkv'"
      ]
     },
     "metadata": {},
     "output_type": "display_data"
    },
    {
     "data": {
      "text/plain": [
       "{'c:v': 'libx264',\n",
       " 'f': 'mp4',\n",
       " 'coder': 'cabac',\n",
       " 'color_range': 'pc',\n",
       " 'loglevel': 'error',\n",
       " 'export_side_data': 'venc_params'}"
      ]
     },
     "metadata": {},
     "output_type": "display_data"
    },
    {
     "data": {
      "text/plain": [
       "{'crf': 23,\n",
       " 'preset': 'veryfast',\n",
       " 'tune': 'film',\n",
       " 'motion-est': 'esa',\n",
       " 'aq-mode': -1,\n",
       " 'weightp': -1,\n",
       " 'pix_fmt': 'yuv420p'}"
      ]
     },
     "metadata": {},
     "output_type": "display_data"
    }
   ],
   "source": [
    "display(media.input_files()[0])\n",
    "display(options.common_options())\n",
    "display(options.encode_options())"
   ]
  },
  {
   "cell_type": "code",
   "execution_count": 115,
   "id": "2fbc55cf-893d-4d40-ae5b-b1dc1225397c",
   "metadata": {},
   "outputs": [],
   "source": [
    "encoder.encode_video(\n",
    "    media.input_files()[0], \n",
    "    media.output_files()[0], \n",
    "    {\n",
    "        **options.common_options(), \n",
    "        **options.encode_options()\n",
    "    },\n",
    "    debug=False)"
   ]
  },
  {
   "cell_type": "markdown",
   "id": "fecb0032-6ce7-4bee-bd6d-54f26f69aa18",
   "metadata": {},
   "source": [
    "We'll be calculating the structural similarity index for this given video, and as a result we should have a dictionary with the metrics computed, each containing an array of dictionaries, each with the respective metrics and auxiliary values for each frame *n*"
   ]
  },
  {
   "cell_type": "code",
   "execution_count": 116,
   "id": "e88d19ef-e165-4adf-a7df-488218e28952",
   "metadata": {},
   "outputs": [],
   "source": [
    "metrics = ffqm(\n",
    "    media.input_files()[0],\n",
    "    media.output_files()[0],\n",
    "    progress = True)"
   ]
  },
  {
   "cell_type": "code",
   "execution_count": 117,
   "id": "ebacf02e-f72e-4c8e-a8c7-4a3399c1617e",
   "metadata": {},
   "outputs": [
    {
     "name": "stderr",
     "output_type": "stream",
     "text": [
      "\n",
      "ssim:   0%|                                             | 0/100 [00:00<?, ?it/s]\u001b[A\n",
      "ssim:   0%|                                             | 0/100 [00:00<?, ?it/s]\u001b[A\n",
      "ssim:  40%|██████████████▍                     | 40/100 [00:00<00:00, 82.29it/s]\u001b[A\n",
      "ssim:  80%|████████████████████████████▊       | 80/100 [00:01<00:00, 80.73it/s]\u001b[A\n",
      "ssim: 100%|███████████████████████████████████| 100/100 [00:01<00:00, 78.30it/s]\u001b[A\n"
     ]
    }
   ],
   "source": [
    "metrics_data = metrics.calc([\"ssim\"])"
   ]
  },
  {
   "cell_type": "markdown",
   "id": "9c29d57e-0d85-4d39-a5ff-da1f947a4775",
   "metadata": {},
   "source": [
    "Now we convert to a [Pandas DataFrame](https://pandas.pydata.org/pandas-docs/stable/getting_started/overview.html) for quick monitoring.\n",
    "This will allow us to have easy data access besides performing common time series options, and plotting.\n",
    "\n",
    "**Note** that with a huge series of files to test and more metrics, these steps might take a bit of time and it would therefore make sense to save the metrics dictionaries output as JSON files, then at a later date to plot them. That is, just load the saved JSON files into a Pandas DataFrame, and do your Pandas operations there before plotting them.\n",
    "Converting to a Pandas DataFrame before saving would make it harder to flatten as a JSON file."
   ]
  },
  {
   "cell_type": "code",
   "execution_count": 118,
   "id": "d63db3e1-fcf5-40a2-b84e-a5e130efabcf",
   "metadata": {},
   "outputs": [],
   "source": [
    "encoder.encoding(media.input_files()[0], media.output_files()[0])"
   ]
  },
  {
   "cell_type": "markdown",
   "id": "32420e9d-0a36-459b-b28d-b302ca6de528",
   "metadata": {},
   "source": [
    "For the short given the SSIM score across the Y, u and v channels as well as the average are given below from the Pandas dataframe."
   ]
  },
  {
   "cell_type": "code",
   "execution_count": 146,
   "id": "240c15c8-a8b3-44d4-bffd-1d2bef1489bc",
   "metadata": {},
   "outputs": [
    {
     "data": {
      "text/html": [
       "<div>\n",
       "<style scoped>\n",
       "    .dataframe tbody tr th:only-of-type {\n",
       "        vertical-align: middle;\n",
       "    }\n",
       "\n",
       "    .dataframe tbody tr th {\n",
       "        vertical-align: top;\n",
       "    }\n",
       "\n",
       "    .dataframe thead th {\n",
       "        text-align: right;\n",
       "    }\n",
       "</style>\n",
       "<table border=\"1\" class=\"dataframe\">\n",
       "  <thead>\n",
       "    <tr style=\"text-align: right;\">\n",
       "      <th></th>\n",
       "      <th>n</th>\n",
       "      <th>ssim_y</th>\n",
       "      <th>ssim_u</th>\n",
       "      <th>ssim_v</th>\n",
       "      <th>ssim_avg</th>\n",
       "    </tr>\n",
       "  </thead>\n",
       "  <tbody>\n",
       "    <tr>\n",
       "      <th>252</th>\n",
       "      <td>253</td>\n",
       "      <td>0.950</td>\n",
       "      <td>0.955</td>\n",
       "      <td>0.929</td>\n",
       "      <td>0.944</td>\n",
       "    </tr>\n",
       "    <tr>\n",
       "      <th>253</th>\n",
       "      <td>254</td>\n",
       "      <td>0.950</td>\n",
       "      <td>0.955</td>\n",
       "      <td>0.927</td>\n",
       "      <td>0.944</td>\n",
       "    </tr>\n",
       "    <tr>\n",
       "      <th>254</th>\n",
       "      <td>255</td>\n",
       "      <td>0.951</td>\n",
       "      <td>0.956</td>\n",
       "      <td>0.931</td>\n",
       "      <td>0.946</td>\n",
       "    </tr>\n",
       "    <tr>\n",
       "      <th>255</th>\n",
       "      <td>256</td>\n",
       "      <td>0.950</td>\n",
       "      <td>0.956</td>\n",
       "      <td>0.932</td>\n",
       "      <td>0.946</td>\n",
       "    </tr>\n",
       "    <tr>\n",
       "      <th>256</th>\n",
       "      <td>257</td>\n",
       "      <td>0.949</td>\n",
       "      <td>0.956</td>\n",
       "      <td>0.931</td>\n",
       "      <td>0.945</td>\n",
       "    </tr>\n",
       "  </tbody>\n",
       "</table>\n",
       "</div>"
      ],
      "text/plain": [
       "       n  ssim_y  ssim_u  ssim_v  ssim_avg\n",
       "252  253   0.950   0.955   0.929     0.944\n",
       "253  254   0.950   0.955   0.927     0.944\n",
       "254  255   0.951   0.956   0.931     0.946\n",
       "255  256   0.950   0.956   0.932     0.946\n",
       "256  257   0.949   0.956   0.931     0.945"
      ]
     },
     "execution_count": 146,
     "metadata": {},
     "output_type": "execute_result"
    }
   ],
   "source": [
    "# print(ssim)\n",
    "df = pd.DataFrame.from_dict(metrics_data[\"ssim\"])\n",
    "df.tail()"
   ]
  },
  {
   "cell_type": "markdown",
   "id": "f00a197e-25b5-4ff3-9910-5e15292f3c38",
   "metadata": {},
   "source": [
    "### Processing the Results\n",
    "\n",
    "Now we use the Pandas functionality to clean, filter, organize our dataframe.\n",
    " \n",
    " * Rename the *n* column as *frame*\n",
    " * Set the new *frame* column as the index\n",
    " * Fill the NaN values at row 0 with 0.\n",
    " \n",
    "Computing the mean, harmonic mean, and simple or exponential moving averages (i.e, per second (25 frames) or 2 seconds (50 frames)) smoothes the data on a temporal basis, and gives some insights on metric variation, since the per-frame statistics might be too noise, reflecting sudden changes in frame, scene or shot content, motion, image data."
   ]
  },
  {
   "cell_type": "code",
   "execution_count": 147,
   "id": "1ba9d1a0-431d-42de-9025-a7c63a04049d",
   "metadata": {},
   "outputs": [],
   "source": [
    "if \"n\" in df.columns:\n",
    "    df.rename(columns={\"n\" : \"frame\"}, inplace = True)\n",
    "    df.set_index(\"frame\", inplace = True)\n",
    "\n",
    "#df.fillna(0, inplace = True)"
   ]
  },
  {
   "cell_type": "markdown",
   "id": "5325c8f7-9382-41fe-9565-e8bd6231faae",
   "metadata": {},
   "source": [
    "The structural similarity index is meaningful on the luma Y\\' channel, and we can use the dataframe ```describe()``` method to get its arithmetic mean, minimum, maximum, and standard deviation from the mean, as well as the percentiles.\n",
    "\n",
    "The arithmetic mean would therefore be a good final value for the **SSIM** metric for the analyzed video, but we can have a better grasp of what is going on by adding the simple and exponential moving averages as well and plotting everything (a popular approach in econometrics, time-series forecasting and stochastic analysis, just to name a few examples)."
   ]
  },
  {
   "cell_type": "code",
   "execution_count": 148,
   "id": "6207e414-873c-4288-aacc-1ad9df90f3c0",
   "metadata": {},
   "outputs": [
    {
     "data": {
      "text/html": [
       "<div>\n",
       "<style scoped>\n",
       "    .dataframe tbody tr th:only-of-type {\n",
       "        vertical-align: middle;\n",
       "    }\n",
       "\n",
       "    .dataframe tbody tr th {\n",
       "        vertical-align: top;\n",
       "    }\n",
       "\n",
       "    .dataframe thead th {\n",
       "        text-align: right;\n",
       "    }\n",
       "</style>\n",
       "<table border=\"1\" class=\"dataframe\">\n",
       "  <thead>\n",
       "    <tr style=\"text-align: right;\">\n",
       "      <th></th>\n",
       "      <th>ssim_y</th>\n",
       "      <th>ssim_u</th>\n",
       "      <th>ssim_v</th>\n",
       "      <th>ssim_avg</th>\n",
       "    </tr>\n",
       "  </thead>\n",
       "  <tbody>\n",
       "    <tr>\n",
       "      <th>count</th>\n",
       "      <td>257.000000</td>\n",
       "      <td>257.000000</td>\n",
       "      <td>257.000000</td>\n",
       "      <td>257.000000</td>\n",
       "    </tr>\n",
       "    <tr>\n",
       "      <th>mean</th>\n",
       "      <td>0.952257</td>\n",
       "      <td>0.955183</td>\n",
       "      <td>0.926304</td>\n",
       "      <td>0.944584</td>\n",
       "    </tr>\n",
       "    <tr>\n",
       "      <th>std</th>\n",
       "      <td>0.010840</td>\n",
       "      <td>0.005449</td>\n",
       "      <td>0.009118</td>\n",
       "      <td>0.008070</td>\n",
       "    </tr>\n",
       "    <tr>\n",
       "      <th>min</th>\n",
       "      <td>0.938000</td>\n",
       "      <td>0.944000</td>\n",
       "      <td>0.909000</td>\n",
       "      <td>0.932000</td>\n",
       "    </tr>\n",
       "    <tr>\n",
       "      <th>25%</th>\n",
       "      <td>0.942000</td>\n",
       "      <td>0.951000</td>\n",
       "      <td>0.918000</td>\n",
       "      <td>0.938000</td>\n",
       "    </tr>\n",
       "    <tr>\n",
       "      <th>50%</th>\n",
       "      <td>0.949000</td>\n",
       "      <td>0.956000</td>\n",
       "      <td>0.927000</td>\n",
       "      <td>0.944000</td>\n",
       "    </tr>\n",
       "    <tr>\n",
       "      <th>75%</th>\n",
       "      <td>0.961000</td>\n",
       "      <td>0.959000</td>\n",
       "      <td>0.934000</td>\n",
       "      <td>0.952000</td>\n",
       "    </tr>\n",
       "    <tr>\n",
       "      <th>max</th>\n",
       "      <td>0.979000</td>\n",
       "      <td>0.968000</td>\n",
       "      <td>0.948000</td>\n",
       "      <td>0.963000</td>\n",
       "    </tr>\n",
       "  </tbody>\n",
       "</table>\n",
       "</div>"
      ],
      "text/plain": [
       "           ssim_y      ssim_u      ssim_v    ssim_avg\n",
       "count  257.000000  257.000000  257.000000  257.000000\n",
       "mean     0.952257    0.955183    0.926304    0.944584\n",
       "std      0.010840    0.005449    0.009118    0.008070\n",
       "min      0.938000    0.944000    0.909000    0.932000\n",
       "25%      0.942000    0.951000    0.918000    0.938000\n",
       "50%      0.949000    0.956000    0.927000    0.944000\n",
       "75%      0.961000    0.959000    0.934000    0.952000\n",
       "max      0.979000    0.968000    0.948000    0.963000"
      ]
     },
     "execution_count": 148,
     "metadata": {},
     "output_type": "execute_result"
    }
   ],
   "source": [
    "df.describe()"
   ]
  },
  {
   "cell_type": "markdown",
   "id": "877bc894-2eb5-4da2-bff1-dcea0e4e3106",
   "metadata": {},
   "source": [
    "The window for a SMA would be for instance, two seconds at the media frame rate, i.e, 50 (for 25 progressive frames media). Structured Similarity Index Matrix is applied generally over the luma channel only, but the dataframe has the values for the U and V channels as well as their average.\n",
    "We'll be applied the SMA(2*framerate) and EMA(framerate) over the *ssim_y* channel only."
   ]
  },
  {
   "cell_type": "code",
   "execution_count": 149,
   "id": "0760dd09-75f4-43d3-a5b8-025cc64a9879",
   "metadata": {},
   "outputs": [
    {
     "data": {
      "text/plain": [
       "25"
      ]
     },
     "execution_count": 149,
     "metadata": {},
     "output_type": "execute_result"
    }
   ],
   "source": [
    "media.framerate(media.input_files()[0])"
   ]
  },
  {
   "cell_type": "code",
   "execution_count": 150,
   "id": "bf22a88e-2591-4584-8e80-16fe4f66c26a",
   "metadata": {},
   "outputs": [],
   "source": [
    "#df.rolling(window=media.framerate(media.input_files()[0])).mean()\n",
    "#df.ewm(span=media.framerate(media.input_files()[0])).mean()\n",
    "\n",
    "framerate = media.framerate(media.input_files()[0])\n",
    "\n",
    "df[f\"ssim_y_sma{2*framerate}\"] = df[\"ssim_y\"].rolling(window=2*framerate, min_periods=2*framerate).mean()\n",
    "df[f\"ssim_y_ema{framerate}\"] = df[\"ssim_y\"].ewm(span=framerate, adjust=False).mean()"
   ]
  },
  {
   "cell_type": "markdown",
   "id": "2b02eaae-e618-4391-b1ef-66112f9fca87",
   "metadata": {},
   "source": [
    "#### Plotting\n",
    "\n",
    "Now we import the Python cufflinks module in order to override the built-in Pandas ```plot()``` functions, which make use of MatplotLib, by Plotly, which has a more dynamic functionality well suited to data exploration and analysis."
   ]
  },
  {
   "cell_type": "code",
   "execution_count": 151,
   "id": "1214acf3-1236-4498-8700-b1803df0347f",
   "metadata": {},
   "outputs": [],
   "source": [
    "import cufflinks as cf"
   ]
  },
  {
   "cell_type": "code",
   "execution_count": 152,
   "id": "8a04cc71-3822-4cf5-b22b-7f859d93772e",
   "metadata": {},
   "outputs": [],
   "source": [
    "#  ['ggplot', 'pearl', 'solar', 'space', 'white', 'polar', 'henanigans']\n",
    "cf.set_config_file(theme=\"pearl\",sharing=\"private\",offline=True)"
   ]
  },
  {
   "cell_type": "code",
   "execution_count": 169,
   "id": "03285673-6a19-47a7-b5c0-0332df852883",
   "metadata": {
    "tags": []
   },
   "outputs": [
    {
     "data": {
      "application/vnd.plotly.v1+json": {
       "config": {
        "plotlyServerURL": "https://plot.ly"
       },
       "data": [
        {
         "line": {
          "color": "rgba(255, 153, 51, 1.0)",
          "dash": "solid",
          "shape": "linear",
          "width": 1.3
         },
         "mode": "lines",
         "name": "ssim_y",
         "text": "",
         "type": "scatter",
         "x": [
          1,
          2,
          3,
          4,
          5,
          6,
          7,
          8,
          9,
          10,
          11,
          12,
          13,
          14,
          15,
          16,
          17,
          18,
          19,
          20,
          21,
          22,
          23,
          24,
          25,
          26,
          27,
          28,
          29,
          30,
          31,
          32,
          33,
          34,
          35,
          36,
          37,
          38,
          39,
          40,
          41,
          42,
          43,
          44,
          45,
          46,
          47,
          48,
          49,
          50,
          51,
          52,
          53,
          54,
          55,
          56,
          57,
          58,
          59,
          60,
          61,
          62,
          63,
          64,
          65,
          66,
          67,
          68,
          69,
          70,
          71,
          72,
          73,
          74,
          75,
          76,
          77,
          78,
          79,
          80,
          81,
          82,
          83,
          84,
          85,
          86,
          87,
          88,
          89,
          90,
          91,
          92,
          93,
          94,
          95,
          96,
          97,
          98,
          99,
          100,
          101,
          102,
          103,
          104,
          105,
          106,
          107,
          108,
          109,
          110,
          111,
          112,
          113,
          114,
          115,
          116,
          117,
          118,
          119,
          120,
          121,
          122,
          123,
          124,
          125,
          126,
          127,
          128,
          129,
          130,
          131,
          132,
          133,
          134,
          135,
          136,
          137,
          138,
          139,
          140,
          141,
          142,
          143,
          144,
          145,
          146,
          147,
          148,
          149,
          150,
          151,
          152,
          153,
          154,
          155,
          156,
          157,
          158,
          159,
          160,
          161,
          162,
          163,
          164,
          165,
          166,
          167,
          168,
          169,
          170,
          171,
          172,
          173,
          174,
          175,
          176,
          177,
          178,
          179,
          180,
          181,
          182,
          183,
          184,
          185,
          186,
          187,
          188,
          189,
          190,
          191,
          192,
          193,
          194,
          195,
          196,
          197,
          198,
          199,
          200,
          201,
          202,
          203,
          204,
          205,
          206,
          207,
          208,
          209,
          210,
          211,
          212,
          213,
          214,
          215,
          216,
          217,
          218,
          219,
          220,
          221,
          222,
          223,
          224,
          225,
          226,
          227,
          228,
          229,
          230,
          231,
          232,
          233,
          234,
          235,
          236,
          237,
          238,
          239,
          240,
          241,
          242,
          243,
          244,
          245,
          246,
          247,
          248,
          249,
          250,
          251,
          252,
          253,
          254,
          255,
          256,
          257
         ],
         "y": [
          0.948,
          0.938,
          0.942,
          0.939,
          0.957,
          0.956,
          0.938,
          0.944,
          0.965,
          0.945,
          0.942,
          0.948,
          0.966,
          0.946,
          0.945,
          0.947,
          0.946,
          0.947,
          0.946,
          0.947,
          0.947,
          0.948,
          0.945,
          0.946,
          0.946,
          0.947,
          0.945,
          0.944,
          0.945,
          0.945,
          0.944,
          0.943,
          0.944,
          0.944,
          0.943,
          0.944,
          0.942,
          0.941,
          0.941,
          0.94,
          0.942,
          0.942,
          0.941,
          0.941,
          0.939,
          0.94,
          0.939,
          0.941,
          0.939,
          0.94,
          0.939,
          0.94,
          0.939,
          0.94,
          0.939,
          0.94,
          0.94,
          0.942,
          0.942,
          0.939,
          0.939,
          0.94,
          0.942,
          0.94,
          0.942,
          0.941,
          0.941,
          0.94,
          0.94,
          0.942,
          0.94,
          0.942,
          0.942,
          0.941,
          0.941,
          0.941,
          0.941,
          0.94,
          0.943,
          0.942,
          0.941,
          0.942,
          0.94,
          0.942,
          0.94,
          0.938,
          0.94,
          0.941,
          0.94,
          0.939,
          0.941,
          0.94,
          0.94,
          0.942,
          0.941,
          0.94,
          0.939,
          0.938,
          0.941,
          0.942,
          0.943,
          0.943,
          0.944,
          0.943,
          0.942,
          0.942,
          0.942,
          0.945,
          0.944,
          0.945,
          0.946,
          0.943,
          0.943,
          0.943,
          0.944,
          0.945,
          0.946,
          0.947,
          0.947,
          0.946,
          0.946,
          0.946,
          0.947,
          0.948,
          0.948,
          0.949,
          0.972,
          0.971,
          0.946,
          0.943,
          0.95,
          0.946,
          0.949,
          0.947,
          0.954,
          0.949,
          0.954,
          0.969,
          0.954,
          0.955,
          0.97,
          0.956,
          0.956,
          0.958,
          0.958,
          0.957,
          0.956,
          0.959,
          0.959,
          0.959,
          0.96,
          0.961,
          0.962,
          0.961,
          0.96,
          0.96,
          0.96,
          0.96,
          0.959,
          0.96,
          0.963,
          0.962,
          0.962,
          0.978,
          0.977,
          0.959,
          0.956,
          0.963,
          0.958,
          0.961,
          0.962,
          0.965,
          0.96,
          0.97,
          0.97,
          0.963,
          0.974,
          0.961,
          0.965,
          0.977,
          0.968,
          0.967,
          0.968,
          0.968,
          0.967,
          0.967,
          0.967,
          0.967,
          0.968,
          0.969,
          0.968,
          0.967,
          0.968,
          0.967,
          0.967,
          0.965,
          0.965,
          0.965,
          0.966,
          0.967,
          0.966,
          0.966,
          0.964,
          0.964,
          0.964,
          0.979,
          0.979,
          0.961,
          0.961,
          0.965,
          0.96,
          0.964,
          0.96,
          0.964,
          0.975,
          0.958,
          0.966,
          0.965,
          0.963,
          0.962,
          0.962,
          0.961,
          0.961,
          0.96,
          0.959,
          0.96,
          0.959,
          0.96,
          0.961,
          0.977,
          0.977,
          0.958,
          0.956,
          0.956,
          0.956,
          0.955,
          0.957,
          0.958,
          0.955,
          0.956,
          0.955,
          0.953,
          0.953,
          0.954,
          0.955,
          0.955,
          0.954,
          0.955,
          0.953,
          0.951,
          0.95,
          0.951,
          0.95,
          0.95,
          0.951,
          0.95,
          0.949
         ]
        },
        {
         "line": {
          "color": "rgba(55, 128, 191, 1.0)",
          "dash": "solid",
          "shape": "linear",
          "width": 1.3
         },
         "mode": "lines",
         "name": "ssim_u",
         "text": "",
         "type": "scatter",
         "x": [
          1,
          2,
          3,
          4,
          5,
          6,
          7,
          8,
          9,
          10,
          11,
          12,
          13,
          14,
          15,
          16,
          17,
          18,
          19,
          20,
          21,
          22,
          23,
          24,
          25,
          26,
          27,
          28,
          29,
          30,
          31,
          32,
          33,
          34,
          35,
          36,
          37,
          38,
          39,
          40,
          41,
          42,
          43,
          44,
          45,
          46,
          47,
          48,
          49,
          50,
          51,
          52,
          53,
          54,
          55,
          56,
          57,
          58,
          59,
          60,
          61,
          62,
          63,
          64,
          65,
          66,
          67,
          68,
          69,
          70,
          71,
          72,
          73,
          74,
          75,
          76,
          77,
          78,
          79,
          80,
          81,
          82,
          83,
          84,
          85,
          86,
          87,
          88,
          89,
          90,
          91,
          92,
          93,
          94,
          95,
          96,
          97,
          98,
          99,
          100,
          101,
          102,
          103,
          104,
          105,
          106,
          107,
          108,
          109,
          110,
          111,
          112,
          113,
          114,
          115,
          116,
          117,
          118,
          119,
          120,
          121,
          122,
          123,
          124,
          125,
          126,
          127,
          128,
          129,
          130,
          131,
          132,
          133,
          134,
          135,
          136,
          137,
          138,
          139,
          140,
          141,
          142,
          143,
          144,
          145,
          146,
          147,
          148,
          149,
          150,
          151,
          152,
          153,
          154,
          155,
          156,
          157,
          158,
          159,
          160,
          161,
          162,
          163,
          164,
          165,
          166,
          167,
          168,
          169,
          170,
          171,
          172,
          173,
          174,
          175,
          176,
          177,
          178,
          179,
          180,
          181,
          182,
          183,
          184,
          185,
          186,
          187,
          188,
          189,
          190,
          191,
          192,
          193,
          194,
          195,
          196,
          197,
          198,
          199,
          200,
          201,
          202,
          203,
          204,
          205,
          206,
          207,
          208,
          209,
          210,
          211,
          212,
          213,
          214,
          215,
          216,
          217,
          218,
          219,
          220,
          221,
          222,
          223,
          224,
          225,
          226,
          227,
          228,
          229,
          230,
          231,
          232,
          233,
          234,
          235,
          236,
          237,
          238,
          239,
          240,
          241,
          242,
          243,
          244,
          245,
          246,
          247,
          248,
          249,
          250,
          251,
          252,
          253,
          254,
          255,
          256,
          257
         ],
         "y": [
          0.957,
          0.957,
          0.96,
          0.958,
          0.96,
          0.96,
          0.958,
          0.957,
          0.961,
          0.959,
          0.958,
          0.958,
          0.957,
          0.954,
          0.956,
          0.954,
          0.955,
          0.956,
          0.953,
          0.956,
          0.955,
          0.957,
          0.955,
          0.956,
          0.956,
          0.954,
          0.953,
          0.953,
          0.957,
          0.952,
          0.952,
          0.953,
          0.951,
          0.953,
          0.95,
          0.951,
          0.952,
          0.951,
          0.951,
          0.952,
          0.948,
          0.947,
          0.95,
          0.95,
          0.947,
          0.947,
          0.947,
          0.95,
          0.947,
          0.946,
          0.949,
          0.947,
          0.947,
          0.948,
          0.948,
          0.946,
          0.945,
          0.948,
          0.948,
          0.947,
          0.946,
          0.944,
          0.948,
          0.944,
          0.948,
          0.947,
          0.947,
          0.947,
          0.945,
          0.945,
          0.945,
          0.948,
          0.948,
          0.948,
          0.947,
          0.945,
          0.945,
          0.945,
          0.949,
          0.948,
          0.947,
          0.949,
          0.944,
          0.945,
          0.952,
          0.951,
          0.952,
          0.951,
          0.95,
          0.949,
          0.95,
          0.95,
          0.95,
          0.954,
          0.953,
          0.952,
          0.952,
          0.95,
          0.95,
          0.953,
          0.952,
          0.952,
          0.952,
          0.95,
          0.952,
          0.949,
          0.949,
          0.953,
          0.951,
          0.951,
          0.951,
          0.949,
          0.948,
          0.949,
          0.949,
          0.952,
          0.954,
          0.955,
          0.953,
          0.954,
          0.95,
          0.952,
          0.955,
          0.955,
          0.954,
          0.952,
          0.957,
          0.957,
          0.953,
          0.953,
          0.956,
          0.956,
          0.956,
          0.957,
          0.957,
          0.961,
          0.955,
          0.959,
          0.959,
          0.958,
          0.959,
          0.957,
          0.958,
          0.958,
          0.958,
          0.958,
          0.958,
          0.96,
          0.961,
          0.963,
          0.962,
          0.963,
          0.968,
          0.961,
          0.962,
          0.962,
          0.964,
          0.964,
          0.962,
          0.963,
          0.962,
          0.963,
          0.963,
          0.968,
          0.968,
          0.963,
          0.964,
          0.966,
          0.962,
          0.962,
          0.968,
          0.961,
          0.959,
          0.961,
          0.961,
          0.963,
          0.962,
          0.96,
          0.961,
          0.963,
          0.96,
          0.961,
          0.963,
          0.963,
          0.962,
          0.963,
          0.962,
          0.958,
          0.957,
          0.964,
          0.956,
          0.957,
          0.959,
          0.963,
          0.961,
          0.958,
          0.958,
          0.958,
          0.956,
          0.956,
          0.956,
          0.959,
          0.957,
          0.96,
          0.959,
          0.961,
          0.961,
          0.957,
          0.963,
          0.957,
          0.957,
          0.959,
          0.96,
          0.96,
          0.96,
          0.959,
          0.956,
          0.956,
          0.957,
          0.958,
          0.959,
          0.957,
          0.959,
          0.958,
          0.957,
          0.957,
          0.96,
          0.957,
          0.959,
          0.964,
          0.964,
          0.959,
          0.958,
          0.957,
          0.956,
          0.955,
          0.957,
          0.957,
          0.956,
          0.958,
          0.954,
          0.956,
          0.954,
          0.955,
          0.955,
          0.957,
          0.956,
          0.956,
          0.956,
          0.955,
          0.954,
          0.954,
          0.955,
          0.955,
          0.956,
          0.956,
          0.956
         ]
        },
        {
         "line": {
          "color": "rgba(50, 171, 96, 1.0)",
          "dash": "solid",
          "shape": "linear",
          "width": 1.3
         },
         "mode": "lines",
         "name": "ssim_v",
         "text": "",
         "type": "scatter",
         "x": [
          1,
          2,
          3,
          4,
          5,
          6,
          7,
          8,
          9,
          10,
          11,
          12,
          13,
          14,
          15,
          16,
          17,
          18,
          19,
          20,
          21,
          22,
          23,
          24,
          25,
          26,
          27,
          28,
          29,
          30,
          31,
          32,
          33,
          34,
          35,
          36,
          37,
          38,
          39,
          40,
          41,
          42,
          43,
          44,
          45,
          46,
          47,
          48,
          49,
          50,
          51,
          52,
          53,
          54,
          55,
          56,
          57,
          58,
          59,
          60,
          61,
          62,
          63,
          64,
          65,
          66,
          67,
          68,
          69,
          70,
          71,
          72,
          73,
          74,
          75,
          76,
          77,
          78,
          79,
          80,
          81,
          82,
          83,
          84,
          85,
          86,
          87,
          88,
          89,
          90,
          91,
          92,
          93,
          94,
          95,
          96,
          97,
          98,
          99,
          100,
          101,
          102,
          103,
          104,
          105,
          106,
          107,
          108,
          109,
          110,
          111,
          112,
          113,
          114,
          115,
          116,
          117,
          118,
          119,
          120,
          121,
          122,
          123,
          124,
          125,
          126,
          127,
          128,
          129,
          130,
          131,
          132,
          133,
          134,
          135,
          136,
          137,
          138,
          139,
          140,
          141,
          142,
          143,
          144,
          145,
          146,
          147,
          148,
          149,
          150,
          151,
          152,
          153,
          154,
          155,
          156,
          157,
          158,
          159,
          160,
          161,
          162,
          163,
          164,
          165,
          166,
          167,
          168,
          169,
          170,
          171,
          172,
          173,
          174,
          175,
          176,
          177,
          178,
          179,
          180,
          181,
          182,
          183,
          184,
          185,
          186,
          187,
          188,
          189,
          190,
          191,
          192,
          193,
          194,
          195,
          196,
          197,
          198,
          199,
          200,
          201,
          202,
          203,
          204,
          205,
          206,
          207,
          208,
          209,
          210,
          211,
          212,
          213,
          214,
          215,
          216,
          217,
          218,
          219,
          220,
          221,
          222,
          223,
          224,
          225,
          226,
          227,
          228,
          229,
          230,
          231,
          232,
          233,
          234,
          235,
          236,
          237,
          238,
          239,
          240,
          241,
          242,
          243,
          244,
          245,
          246,
          247,
          248,
          249,
          250,
          251,
          252,
          253,
          254,
          255,
          256,
          257
         ],
         "y": [
          0.919,
          0.915,
          0.921,
          0.918,
          0.924,
          0.924,
          0.916,
          0.92,
          0.926,
          0.918,
          0.917,
          0.919,
          0.925,
          0.917,
          0.917,
          0.916,
          0.917,
          0.917,
          0.917,
          0.92,
          0.917,
          0.918,
          0.914,
          0.916,
          0.914,
          0.916,
          0.914,
          0.916,
          0.915,
          0.914,
          0.914,
          0.913,
          0.913,
          0.915,
          0.912,
          0.916,
          0.917,
          0.913,
          0.913,
          0.914,
          0.912,
          0.912,
          0.913,
          0.912,
          0.911,
          0.912,
          0.911,
          0.912,
          0.909,
          0.909,
          0.91,
          0.911,
          0.912,
          0.914,
          0.913,
          0.913,
          0.912,
          0.914,
          0.915,
          0.916,
          0.916,
          0.914,
          0.919,
          0.913,
          0.918,
          0.919,
          0.917,
          0.916,
          0.915,
          0.915,
          0.915,
          0.919,
          0.919,
          0.917,
          0.918,
          0.915,
          0.916,
          0.915,
          0.92,
          0.918,
          0.918,
          0.918,
          0.914,
          0.916,
          0.922,
          0.921,
          0.923,
          0.922,
          0.923,
          0.922,
          0.923,
          0.924,
          0.923,
          0.927,
          0.925,
          0.924,
          0.925,
          0.923,
          0.924,
          0.927,
          0.924,
          0.924,
          0.924,
          0.923,
          0.924,
          0.921,
          0.921,
          0.927,
          0.922,
          0.923,
          0.92,
          0.922,
          0.921,
          0.921,
          0.921,
          0.921,
          0.922,
          0.924,
          0.922,
          0.926,
          0.92,
          0.921,
          0.924,
          0.924,
          0.924,
          0.926,
          0.937,
          0.937,
          0.925,
          0.925,
          0.928,
          0.929,
          0.93,
          0.927,
          0.931,
          0.933,
          0.928,
          0.934,
          0.93,
          0.931,
          0.935,
          0.931,
          0.931,
          0.932,
          0.932,
          0.931,
          0.931,
          0.933,
          0.935,
          0.937,
          0.935,
          0.938,
          0.947,
          0.938,
          0.938,
          0.936,
          0.937,
          0.936,
          0.933,
          0.935,
          0.937,
          0.936,
          0.935,
          0.944,
          0.944,
          0.933,
          0.933,
          0.938,
          0.933,
          0.937,
          0.945,
          0.936,
          0.933,
          0.937,
          0.937,
          0.936,
          0.94,
          0.932,
          0.935,
          0.943,
          0.937,
          0.936,
          0.938,
          0.937,
          0.936,
          0.937,
          0.938,
          0.936,
          0.936,
          0.948,
          0.936,
          0.936,
          0.938,
          0.938,
          0.937,
          0.934,
          0.933,
          0.934,
          0.935,
          0.935,
          0.934,
          0.935,
          0.932,
          0.933,
          0.932,
          0.941,
          0.941,
          0.93,
          0.939,
          0.932,
          0.93,
          0.933,
          0.935,
          0.936,
          0.938,
          0.931,
          0.932,
          0.932,
          0.933,
          0.934,
          0.935,
          0.933,
          0.934,
          0.933,
          0.931,
          0.931,
          0.937,
          0.933,
          0.935,
          0.944,
          0.944,
          0.932,
          0.93,
          0.931,
          0.928,
          0.928,
          0.931,
          0.933,
          0.931,
          0.931,
          0.928,
          0.932,
          0.93,
          0.929,
          0.931,
          0.931,
          0.932,
          0.934,
          0.933,
          0.931,
          0.928,
          0.928,
          0.929,
          0.927,
          0.931,
          0.932,
          0.931
         ]
        },
        {
         "line": {
          "color": "rgba(128, 0, 128, 1.0)",
          "dash": "solid",
          "shape": "linear",
          "width": 1.3
         },
         "mode": "lines",
         "name": "ssim_avg",
         "text": "",
         "type": "scatter",
         "x": [
          1,
          2,
          3,
          4,
          5,
          6,
          7,
          8,
          9,
          10,
          11,
          12,
          13,
          14,
          15,
          16,
          17,
          18,
          19,
          20,
          21,
          22,
          23,
          24,
          25,
          26,
          27,
          28,
          29,
          30,
          31,
          32,
          33,
          34,
          35,
          36,
          37,
          38,
          39,
          40,
          41,
          42,
          43,
          44,
          45,
          46,
          47,
          48,
          49,
          50,
          51,
          52,
          53,
          54,
          55,
          56,
          57,
          58,
          59,
          60,
          61,
          62,
          63,
          64,
          65,
          66,
          67,
          68,
          69,
          70,
          71,
          72,
          73,
          74,
          75,
          76,
          77,
          78,
          79,
          80,
          81,
          82,
          83,
          84,
          85,
          86,
          87,
          88,
          89,
          90,
          91,
          92,
          93,
          94,
          95,
          96,
          97,
          98,
          99,
          100,
          101,
          102,
          103,
          104,
          105,
          106,
          107,
          108,
          109,
          110,
          111,
          112,
          113,
          114,
          115,
          116,
          117,
          118,
          119,
          120,
          121,
          122,
          123,
          124,
          125,
          126,
          127,
          128,
          129,
          130,
          131,
          132,
          133,
          134,
          135,
          136,
          137,
          138,
          139,
          140,
          141,
          142,
          143,
          144,
          145,
          146,
          147,
          148,
          149,
          150,
          151,
          152,
          153,
          154,
          155,
          156,
          157,
          158,
          159,
          160,
          161,
          162,
          163,
          164,
          165,
          166,
          167,
          168,
          169,
          170,
          171,
          172,
          173,
          174,
          175,
          176,
          177,
          178,
          179,
          180,
          181,
          182,
          183,
          184,
          185,
          186,
          187,
          188,
          189,
          190,
          191,
          192,
          193,
          194,
          195,
          196,
          197,
          198,
          199,
          200,
          201,
          202,
          203,
          204,
          205,
          206,
          207,
          208,
          209,
          210,
          211,
          212,
          213,
          214,
          215,
          216,
          217,
          218,
          219,
          220,
          221,
          222,
          223,
          224,
          225,
          226,
          227,
          228,
          229,
          230,
          231,
          232,
          233,
          234,
          235,
          236,
          237,
          238,
          239,
          240,
          241,
          242,
          243,
          244,
          245,
          246,
          247,
          248,
          249,
          250,
          251,
          252,
          253,
          254,
          255,
          256,
          257
         ],
         "y": [
          0.941,
          0.936,
          0.941,
          0.938,
          0.947,
          0.947,
          0.937,
          0.94,
          0.951,
          0.941,
          0.939,
          0.942,
          0.949,
          0.939,
          0.939,
          0.939,
          0.939,
          0.94,
          0.939,
          0.941,
          0.94,
          0.941,
          0.938,
          0.939,
          0.939,
          0.939,
          0.938,
          0.938,
          0.939,
          0.937,
          0.937,
          0.936,
          0.936,
          0.937,
          0.935,
          0.937,
          0.937,
          0.935,
          0.935,
          0.935,
          0.934,
          0.934,
          0.935,
          0.935,
          0.932,
          0.933,
          0.932,
          0.934,
          0.932,
          0.932,
          0.933,
          0.933,
          0.933,
          0.934,
          0.933,
          0.933,
          0.932,
          0.935,
          0.935,
          0.934,
          0.934,
          0.933,
          0.937,
          0.932,
          0.936,
          0.936,
          0.935,
          0.934,
          0.934,
          0.934,
          0.933,
          0.936,
          0.937,
          0.936,
          0.935,
          0.934,
          0.934,
          0.933,
          0.937,
          0.936,
          0.935,
          0.936,
          0.933,
          0.934,
          0.938,
          0.937,
          0.938,
          0.938,
          0.938,
          0.936,
          0.938,
          0.938,
          0.937,
          0.941,
          0.94,
          0.939,
          0.938,
          0.937,
          0.939,
          0.941,
          0.94,
          0.94,
          0.94,
          0.939,
          0.939,
          0.937,
          0.937,
          0.942,
          0.939,
          0.94,
          0.939,
          0.938,
          0.937,
          0.938,
          0.938,
          0.939,
          0.94,
          0.942,
          0.94,
          0.942,
          0.939,
          0.94,
          0.942,
          0.942,
          0.942,
          0.942,
          0.955,
          0.955,
          0.941,
          0.94,
          0.945,
          0.943,
          0.945,
          0.944,
          0.948,
          0.948,
          0.946,
          0.954,
          0.947,
          0.948,
          0.955,
          0.948,
          0.948,
          0.949,
          0.949,
          0.949,
          0.949,
          0.951,
          0.952,
          0.953,
          0.952,
          0.954,
          0.959,
          0.953,
          0.953,
          0.953,
          0.954,
          0.954,
          0.951,
          0.953,
          0.954,
          0.954,
          0.953,
          0.963,
          0.963,
          0.952,
          0.951,
          0.956,
          0.951,
          0.953,
          0.958,
          0.954,
          0.951,
          0.956,
          0.956,
          0.954,
          0.959,
          0.951,
          0.954,
          0.961,
          0.955,
          0.955,
          0.956,
          0.956,
          0.955,
          0.956,
          0.956,
          0.954,
          0.954,
          0.961,
          0.953,
          0.953,
          0.955,
          0.956,
          0.955,
          0.952,
          0.952,
          0.953,
          0.952,
          0.953,
          0.952,
          0.953,
          0.951,
          0.952,
          0.952,
          0.96,
          0.96,
          0.949,
          0.954,
          0.951,
          0.949,
          0.952,
          0.952,
          0.953,
          0.958,
          0.949,
          0.951,
          0.951,
          0.951,
          0.951,
          0.952,
          0.95,
          0.951,
          0.95,
          0.949,
          0.949,
          0.952,
          0.95,
          0.951,
          0.962,
          0.962,
          0.95,
          0.948,
          0.948,
          0.947,
          0.946,
          0.948,
          0.949,
          0.947,
          0.948,
          0.946,
          0.947,
          0.946,
          0.946,
          0.947,
          0.948,
          0.948,
          0.948,
          0.948,
          0.946,
          0.944,
          0.944,
          0.944,
          0.944,
          0.946,
          0.946,
          0.945
         ]
        },
        {
         "line": {
          "color": "rgba(219, 64, 82, 1.0)",
          "dash": "solid",
          "shape": "linear",
          "width": 1.3
         },
         "mode": "lines",
         "name": "ssim_y_sma50",
         "text": "",
         "type": "scatter",
         "x": [
          1,
          2,
          3,
          4,
          5,
          6,
          7,
          8,
          9,
          10,
          11,
          12,
          13,
          14,
          15,
          16,
          17,
          18,
          19,
          20,
          21,
          22,
          23,
          24,
          25,
          26,
          27,
          28,
          29,
          30,
          31,
          32,
          33,
          34,
          35,
          36,
          37,
          38,
          39,
          40,
          41,
          42,
          43,
          44,
          45,
          46,
          47,
          48,
          49,
          50,
          51,
          52,
          53,
          54,
          55,
          56,
          57,
          58,
          59,
          60,
          61,
          62,
          63,
          64,
          65,
          66,
          67,
          68,
          69,
          70,
          71,
          72,
          73,
          74,
          75,
          76,
          77,
          78,
          79,
          80,
          81,
          82,
          83,
          84,
          85,
          86,
          87,
          88,
          89,
          90,
          91,
          92,
          93,
          94,
          95,
          96,
          97,
          98,
          99,
          100,
          101,
          102,
          103,
          104,
          105,
          106,
          107,
          108,
          109,
          110,
          111,
          112,
          113,
          114,
          115,
          116,
          117,
          118,
          119,
          120,
          121,
          122,
          123,
          124,
          125,
          126,
          127,
          128,
          129,
          130,
          131,
          132,
          133,
          134,
          135,
          136,
          137,
          138,
          139,
          140,
          141,
          142,
          143,
          144,
          145,
          146,
          147,
          148,
          149,
          150,
          151,
          152,
          153,
          154,
          155,
          156,
          157,
          158,
          159,
          160,
          161,
          162,
          163,
          164,
          165,
          166,
          167,
          168,
          169,
          170,
          171,
          172,
          173,
          174,
          175,
          176,
          177,
          178,
          179,
          180,
          181,
          182,
          183,
          184,
          185,
          186,
          187,
          188,
          189,
          190,
          191,
          192,
          193,
          194,
          195,
          196,
          197,
          198,
          199,
          200,
          201,
          202,
          203,
          204,
          205,
          206,
          207,
          208,
          209,
          210,
          211,
          212,
          213,
          214,
          215,
          216,
          217,
          218,
          219,
          220,
          221,
          222,
          223,
          224,
          225,
          226,
          227,
          228,
          229,
          230,
          231,
          232,
          233,
          234,
          235,
          236,
          237,
          238,
          239,
          240,
          241,
          242,
          243,
          244,
          245,
          246,
          247,
          248,
          249,
          250,
          251,
          252,
          253,
          254,
          255,
          256,
          257
         ],
         "y": [
          "",
          "",
          "",
          "",
          "",
          "",
          "",
          "",
          "",
          "",
          "",
          "",
          "",
          "",
          "",
          "",
          "",
          "",
          "",
          "",
          "",
          "",
          "",
          "",
          "",
          "",
          "",
          "",
          "",
          "",
          "",
          "",
          "",
          "",
          "",
          "",
          "",
          "",
          "",
          "",
          "",
          "",
          "",
          "",
          "",
          "",
          "",
          "",
          "",
          0.9447999999999999,
          0.9446199999999999,
          0.9446599999999999,
          0.9445999999999999,
          0.9446199999999999,
          0.94426,
          0.9439399999999999,
          0.9439799999999999,
          0.94394,
          0.94348,
          0.9433599999999999,
          0.9432999999999998,
          0.94314,
          0.94266,
          0.9425399999999999,
          0.9424799999999999,
          0.9423600000000001,
          0.9422599999999999,
          0.9421200000000001,
          0.9419999999999998,
          0.9419,
          0.9417599999999999,
          0.9416399999999999,
          0.9415799999999999,
          0.94148,
          0.9413799999999999,
          0.9412599999999999,
          0.9411799999999999,
          0.9411,
          0.9410599999999999,
          0.941,
          0.9409399999999999,
          0.94092,
          0.9408399999999999,
          0.9408,
          0.94074,
          0.94062,
          0.94058,
          0.94058,
          0.9405599999999998,
          0.9405399999999999,
          0.9405199999999999,
          0.9404799999999999,
          0.94046,
          0.94048,
          0.9405199999999999,
          0.94052,
          0.94052,
          0.94046,
          0.9405,
          0.94054,
          0.94062,
          0.9406799999999998,
          0.9407799999999998,
          0.9408399999999999,
          0.9408999999999998,
          0.9409399999999999,
          0.9409799999999998,
          0.9410399999999999,
          0.9410799999999999,
          0.9411999999999999,
          0.94134,
          0.9413999999999999,
          0.9414199999999999,
          0.94148,
          0.94152,
          0.9416,
          0.9417,
          0.9418399999999998,
          0.9419799999999999,
          0.9420599999999999,
          0.94218,
          0.94226,
          0.9423600000000001,
          0.9424999999999999,
          0.9426399999999999,
          0.9428,
          0.9434199999999998,
          0.94404,
          0.9440999999999999,
          0.9441200000000001,
          0.9442999999999999,
          0.9443799999999999,
          0.9445600000000001,
          0.9446599999999999,
          0.9449399999999999,
          0.9451599999999999,
          0.94544,
          0.946,
          0.94628,
          0.9466,
          0.9471799999999999,
          0.9475,
          0.94782,
          0.94814,
          0.94848,
          0.9488199999999999,
          0.94916,
          0.94958,
          0.94994,
          0.9502799999999999,
          0.95062,
          0.9509799999999999,
          0.95134,
          0.9517,
          0.95206,
          0.95242,
          0.9527800000000001,
          0.9530799999999999,
          0.9533799999999999,
          0.95368,
          0.95402,
          0.9544,
          0.95478,
          0.95548,
          0.9561399999999999,
          0.9564199999999999,
          0.9566199999999999,
          0.95694,
          0.9571599999999999,
          0.95746,
          0.95778,
          0.9581599999999999,
          0.9584199999999998,
          0.9588599999999999,
          0.9593,
          0.95958,
          0.95962,
          0.9594199999999999,
          0.9598,
          0.9604799999999999,
          0.96084,
          0.96126,
          0.9616399999999998,
          0.96206,
          0.96232,
          0.96268,
          0.96294,
          0.9629000000000001,
          0.9631799999999999,
          0.96346,
          0.9634199999999999,
          0.96364,
          0.96388,
          0.9640599999999999,
          0.9642399999999999,
          0.9643999999999999,
          0.9645799999999999,
          0.9647,
          0.9648399999999999,
          0.965,
          0.96512,
          0.9652200000000001,
          0.96526,
          0.96532,
          0.9653999999999999,
          0.9657799999999999,
          0.9661599999999999,
          0.96618,
          0.96622,
          0.96632,
          0.9662599999999999,
          0.9662999999999999,
          0.9662599999999999,
          0.9659799999999998,
          0.9659399999999999,
          0.9659199999999999,
          0.96612,
          0.96616,
          0.96626,
          0.96628,
          0.96628,
          0.9662000000000001,
          0.96622,
          0.9660199999999999,
          0.9658,
          0.9657399999999998,
          0.96544,
          0.9654200000000001,
          0.9653399999999999,
          0.9653400000000001,
          0.9655199999999999,
          0.9653399999999999,
          0.9651000000000001,
          0.9648599999999999,
          0.9646399999999999,
          0.9643999999999999,
          0.9642000000000001,
          0.9640199999999999,
          0.96376,
          0.9634999999999999,
          0.96324,
          0.9629599999999999,
          0.96266,
          0.9623999999999999,
          0.9621600000000001,
          0.9619599999999999,
          0.96174,
          0.96154,
          0.9612799999999999,
          0.9609599999999999,
          0.9606399999999999,
          0.96034,
          0.96006,
          0.95978,
          0.9595199999999999,
          0.95894,
          0.9583400000000001
         ]
        },
        {
         "line": {
          "color": "rgba(0, 128, 128, 1.0)",
          "dash": "solid",
          "shape": "linear",
          "width": 1.3
         },
         "mode": "lines",
         "name": "ssim_y_ema25",
         "text": "",
         "type": "scatter",
         "x": [
          1,
          2,
          3,
          4,
          5,
          6,
          7,
          8,
          9,
          10,
          11,
          12,
          13,
          14,
          15,
          16,
          17,
          18,
          19,
          20,
          21,
          22,
          23,
          24,
          25,
          26,
          27,
          28,
          29,
          30,
          31,
          32,
          33,
          34,
          35,
          36,
          37,
          38,
          39,
          40,
          41,
          42,
          43,
          44,
          45,
          46,
          47,
          48,
          49,
          50,
          51,
          52,
          53,
          54,
          55,
          56,
          57,
          58,
          59,
          60,
          61,
          62,
          63,
          64,
          65,
          66,
          67,
          68,
          69,
          70,
          71,
          72,
          73,
          74,
          75,
          76,
          77,
          78,
          79,
          80,
          81,
          82,
          83,
          84,
          85,
          86,
          87,
          88,
          89,
          90,
          91,
          92,
          93,
          94,
          95,
          96,
          97,
          98,
          99,
          100,
          101,
          102,
          103,
          104,
          105,
          106,
          107,
          108,
          109,
          110,
          111,
          112,
          113,
          114,
          115,
          116,
          117,
          118,
          119,
          120,
          121,
          122,
          123,
          124,
          125,
          126,
          127,
          128,
          129,
          130,
          131,
          132,
          133,
          134,
          135,
          136,
          137,
          138,
          139,
          140,
          141,
          142,
          143,
          144,
          145,
          146,
          147,
          148,
          149,
          150,
          151,
          152,
          153,
          154,
          155,
          156,
          157,
          158,
          159,
          160,
          161,
          162,
          163,
          164,
          165,
          166,
          167,
          168,
          169,
          170,
          171,
          172,
          173,
          174,
          175,
          176,
          177,
          178,
          179,
          180,
          181,
          182,
          183,
          184,
          185,
          186,
          187,
          188,
          189,
          190,
          191,
          192,
          193,
          194,
          195,
          196,
          197,
          198,
          199,
          200,
          201,
          202,
          203,
          204,
          205,
          206,
          207,
          208,
          209,
          210,
          211,
          212,
          213,
          214,
          215,
          216,
          217,
          218,
          219,
          220,
          221,
          222,
          223,
          224,
          225,
          226,
          227,
          228,
          229,
          230,
          231,
          232,
          233,
          234,
          235,
          236,
          237,
          238,
          239,
          240,
          241,
          242,
          243,
          244,
          245,
          246,
          247,
          248,
          249,
          250,
          251,
          252,
          253,
          254,
          255,
          256,
          257
         ],
         "y": [
          0.948,
          0.9472307692307692,
          0.9468284023668639,
          0.9462262175694129,
          0.9470549700640736,
          0.9477430492899142,
          0.9469935839599207,
          0.9467633082706961,
          0.9481661307114119,
          0.9479225821951495,
          0.9474669989493688,
          0.9475079990301867,
          0.9489304606432493,
          0.9487050405937686,
          0.9484200374711711,
          0.9483108038195427,
          0.948133049679578,
          0.9480458920119182,
          0.9478885157033092,
          0.9478201683415163,
          0.9477570784690921,
          0.9477757647407004,
          0.9475622443760312,
          0.9474420717317212,
          0.9473311431369735,
          0.9473056705879757,
          0.9471283113119776,
          0.9468876719802871,
          0.946742466443342,
          0.9466084305630851,
          0.9464077820582325,
          0.9461456449768301,
          0.9459805953632279,
          0.9458282418737489,
          0.9456106848065375,
          0.9454867859752655,
          0.9452185716694759,
          0.9448940661564393,
          0.944594522605944,
          0.9442410977901022,
          0.9440687056524021,
          0.9439095744483712,
          0.9436857610292658,
          0.9434791640270147,
          0.9431346129480136,
          0.9428934888750895,
          0.9425939897308518,
          0.942471375136171,
          0.9422043462795424,
          0.9420347811811162,
          0.9418013364748765,
          0.9416627721306553,
          0.9414579435052203,
          0.9413457940048188,
          0.9411653483121404,
          0.9410757061342835,
          0.9409929595085694,
          0.9410704241617565,
          0.9411419299954675,
          0.9409771661496623,
          0.9408250764458421,
          0.9407616090269312,
          0.9408568698710135,
          0.9407909568040125,
          0.9408839601267808,
          0.9408928862708746,
          0.9409011257884997,
          0.9408318084201536,
          0.9407678231570649,
          0.9408626059911368,
          0.9407962516841263,
          0.9408888477084243,
          0.9409743209616225,
          0.940976296272267,
          0.9409781196359388,
          0.9409798027408667,
          0.9409813563761846,
          0.9409058674241705,
          0.9410669545453882,
          0.9411387272726661,
          0.9411280559439995,
          0.9411951285636919,
          0.9411031955972541,
          0.9411721805513115,
          0.9410820128165952,
          0.9408449349076263,
          0.9407799399147321,
          0.9407968676135989,
          0.9407355701048606,
          0.9406020647121791,
          0.9406326751189346,
          0.9405840078020935,
          0.9405390841250094,
          0.9406514622692396,
          0.9406782728639135,
          0.9406260980282278,
          0.940501013564518,
          0.9403086279057089,
          0.9403618103745006,
          0.9404878249610775,
          0.9406810691948408,
          0.9408594484875454,
          0.9411010293731189,
          0.9412471040367252,
          0.9413050191108233,
          0.9413584791792216,
          0.9414078269346661,
          0.9416841479396918,
          0.9418622904058694,
          0.9421036526823411,
          0.9424033717067765,
          0.9424492661908707,
          0.9424916303300345,
          0.9425307356892626,
          0.9426437560208578,
          0.942825005557715,
          0.9430692358994293,
          0.943371602368704,
          0.9436507098788037,
          0.9438314245035112,
          0.9439982380032412,
          0.9441522196952997,
          0.9443712797187384,
          0.9446504120480663,
          0.9449080726597536,
          0.9452228363013111,
          0.9472826181242873,
          0.9491070321147268,
          0.9488680296443633,
          0.9484166427486431,
          0.9485384394602859,
          0.9483431748864178,
          0.948393699895155,
          0.9482864922109124,
          0.9487259928100731,
          0.9487470702862213,
          0.9491511418026659,
          0.9506779770486148,
          0.9509335172756445,
          0.9512463236390565,
          0.9526889141283599,
          0.952943613041563,
          0.9531787197306737,
          0.9535495874436989,
          0.9538919268711068,
          0.9541310094194833,
          0.9542747779256769,
          0.9546382565467788,
          0.9549737752739498,
          0.9552834848682614,
          0.9556462937245491,
          0.9560581172841993,
          0.9565151851854148,
          0.956860170940383,
          0.9571016962526613,
          0.9573246426947644,
          0.9575304394105518,
          0.9577204056097403,
          0.9578188359474527,
          0.9579866177976487,
          0.958372262582445,
          0.9586513193068723,
          0.9589089101294206,
          0.9603774555040806,
          0.9616561127729975,
          0.9614517964058439,
          0.9610324274515483,
          0.9611837791860446,
          0.9609388730948105,
          0.9609435751644406,
          0.9610248386133298,
          0.9613306202584583,
          0.9612282648539616,
          0.9619030137113492,
          0.9625258588104763,
          0.9625623312096704,
          0.9634421518858496,
          0.9632542940484765,
          0.9633885791216706,
          0.9644356114969268,
          0.9647097952279325,
          0.9648859648257839,
          0.9651255059930314,
          0.9653466209166444,
          0.9654738039230564,
          0.9655912036212828,
          0.9656995725734919,
          0.9657996054524541,
          0.9659688665714962,
          0.9662020306813811,
          0.9663403360135826,
          0.9663910793971532,
          0.9665148425204492,
          0.9665521623265685,
          0.966586611378371,
          0.9664645643492655,
          0.9663519055531682,
          0.9662479128183091,
          0.9662288426015162,
          0.9662881624013996,
          0.9662659960628305,
          0.9662455348272282,
          0.9660728013789799,
          0.9659133551190584,
          0.9657661739560539,
          0.9667841605748191,
          0.9677238405306022,
          0.9672066220282483,
          0.9667291895645369,
          0.9665961749826495,
          0.9660887769070612,
          0.9659281017603641,
          0.9654720939326439,
          0.9653588559378251,
          0.9661004824041463,
          0.9654773683730582,
          0.9655175708059,
          0.9654777576669846,
          0.9652871609233704,
          0.9650343023908035,
          0.9648008945145878,
          0.9645085180134658,
          0.9642386320124301,
          0.9639125833960894,
          0.9635346923656211,
          0.9632627929528811,
          0.9629348858026595,
          0.9627091253563012,
          0.9625776541750473,
          0.9636870653923514,
          0.9647111372852475,
          0.9641948959556131,
          0.963564519343643,
          0.9629826332402859,
          0.9624455076064178,
          0.961872776252078,
          0.9614979473096106,
          0.9612288744396407,
          0.9607497302519761,
          0.9603843663864395,
          0.9599701843567134,
          0.9594340163292739,
          0.9589390919962529,
          0.9585591618426951,
          0.9582853801624878,
          0.9580326586115272,
          0.9577224541029482,
          0.9575130345565677,
          0.9571658780522163,
          0.9566915797405073,
          0.9561768428373913,
          0.9557786241575921,
          0.9553341146070081,
          0.9549237980987767,
          0.9546219674757939,
          0.9542664315161175,
          0.9538613213994931
         ]
        }
       ],
       "layout": {
        "autosize": true,
        "legend": {
         "bgcolor": "#F5F6F9",
         "font": {
          "color": "#4D5663"
         }
        },
        "paper_bgcolor": "#F5F6F9",
        "plot_bgcolor": "#F5F6F9",
        "template": {
         "data": {
          "bar": [
           {
            "error_x": {
             "color": "#2a3f5f"
            },
            "error_y": {
             "color": "#2a3f5f"
            },
            "marker": {
             "line": {
              "color": "#E5ECF6",
              "width": 0.5
             },
             "pattern": {
              "fillmode": "overlay",
              "size": 10,
              "solidity": 0.2
             }
            },
            "type": "bar"
           }
          ],
          "barpolar": [
           {
            "marker": {
             "line": {
              "color": "#E5ECF6",
              "width": 0.5
             },
             "pattern": {
              "fillmode": "overlay",
              "size": 10,
              "solidity": 0.2
             }
            },
            "type": "barpolar"
           }
          ],
          "carpet": [
           {
            "aaxis": {
             "endlinecolor": "#2a3f5f",
             "gridcolor": "white",
             "linecolor": "white",
             "minorgridcolor": "white",
             "startlinecolor": "#2a3f5f"
            },
            "baxis": {
             "endlinecolor": "#2a3f5f",
             "gridcolor": "white",
             "linecolor": "white",
             "minorgridcolor": "white",
             "startlinecolor": "#2a3f5f"
            },
            "type": "carpet"
           }
          ],
          "choropleth": [
           {
            "colorbar": {
             "outlinewidth": 0,
             "ticks": ""
            },
            "type": "choropleth"
           }
          ],
          "contour": [
           {
            "colorbar": {
             "outlinewidth": 0,
             "ticks": ""
            },
            "colorscale": [
             [
              0,
              "#0d0887"
             ],
             [
              0.1111111111111111,
              "#46039f"
             ],
             [
              0.2222222222222222,
              "#7201a8"
             ],
             [
              0.3333333333333333,
              "#9c179e"
             ],
             [
              0.4444444444444444,
              "#bd3786"
             ],
             [
              0.5555555555555556,
              "#d8576b"
             ],
             [
              0.6666666666666666,
              "#ed7953"
             ],
             [
              0.7777777777777778,
              "#fb9f3a"
             ],
             [
              0.8888888888888888,
              "#fdca26"
             ],
             [
              1,
              "#f0f921"
             ]
            ],
            "type": "contour"
           }
          ],
          "contourcarpet": [
           {
            "colorbar": {
             "outlinewidth": 0,
             "ticks": ""
            },
            "type": "contourcarpet"
           }
          ],
          "heatmap": [
           {
            "colorbar": {
             "outlinewidth": 0,
             "ticks": ""
            },
            "colorscale": [
             [
              0,
              "#0d0887"
             ],
             [
              0.1111111111111111,
              "#46039f"
             ],
             [
              0.2222222222222222,
              "#7201a8"
             ],
             [
              0.3333333333333333,
              "#9c179e"
             ],
             [
              0.4444444444444444,
              "#bd3786"
             ],
             [
              0.5555555555555556,
              "#d8576b"
             ],
             [
              0.6666666666666666,
              "#ed7953"
             ],
             [
              0.7777777777777778,
              "#fb9f3a"
             ],
             [
              0.8888888888888888,
              "#fdca26"
             ],
             [
              1,
              "#f0f921"
             ]
            ],
            "type": "heatmap"
           }
          ],
          "heatmapgl": [
           {
            "colorbar": {
             "outlinewidth": 0,
             "ticks": ""
            },
            "colorscale": [
             [
              0,
              "#0d0887"
             ],
             [
              0.1111111111111111,
              "#46039f"
             ],
             [
              0.2222222222222222,
              "#7201a8"
             ],
             [
              0.3333333333333333,
              "#9c179e"
             ],
             [
              0.4444444444444444,
              "#bd3786"
             ],
             [
              0.5555555555555556,
              "#d8576b"
             ],
             [
              0.6666666666666666,
              "#ed7953"
             ],
             [
              0.7777777777777778,
              "#fb9f3a"
             ],
             [
              0.8888888888888888,
              "#fdca26"
             ],
             [
              1,
              "#f0f921"
             ]
            ],
            "type": "heatmapgl"
           }
          ],
          "histogram": [
           {
            "marker": {
             "pattern": {
              "fillmode": "overlay",
              "size": 10,
              "solidity": 0.2
             }
            },
            "type": "histogram"
           }
          ],
          "histogram2d": [
           {
            "colorbar": {
             "outlinewidth": 0,
             "ticks": ""
            },
            "colorscale": [
             [
              0,
              "#0d0887"
             ],
             [
              0.1111111111111111,
              "#46039f"
             ],
             [
              0.2222222222222222,
              "#7201a8"
             ],
             [
              0.3333333333333333,
              "#9c179e"
             ],
             [
              0.4444444444444444,
              "#bd3786"
             ],
             [
              0.5555555555555556,
              "#d8576b"
             ],
             [
              0.6666666666666666,
              "#ed7953"
             ],
             [
              0.7777777777777778,
              "#fb9f3a"
             ],
             [
              0.8888888888888888,
              "#fdca26"
             ],
             [
              1,
              "#f0f921"
             ]
            ],
            "type": "histogram2d"
           }
          ],
          "histogram2dcontour": [
           {
            "colorbar": {
             "outlinewidth": 0,
             "ticks": ""
            },
            "colorscale": [
             [
              0,
              "#0d0887"
             ],
             [
              0.1111111111111111,
              "#46039f"
             ],
             [
              0.2222222222222222,
              "#7201a8"
             ],
             [
              0.3333333333333333,
              "#9c179e"
             ],
             [
              0.4444444444444444,
              "#bd3786"
             ],
             [
              0.5555555555555556,
              "#d8576b"
             ],
             [
              0.6666666666666666,
              "#ed7953"
             ],
             [
              0.7777777777777778,
              "#fb9f3a"
             ],
             [
              0.8888888888888888,
              "#fdca26"
             ],
             [
              1,
              "#f0f921"
             ]
            ],
            "type": "histogram2dcontour"
           }
          ],
          "mesh3d": [
           {
            "colorbar": {
             "outlinewidth": 0,
             "ticks": ""
            },
            "type": "mesh3d"
           }
          ],
          "parcoords": [
           {
            "line": {
             "colorbar": {
              "outlinewidth": 0,
              "ticks": ""
             }
            },
            "type": "parcoords"
           }
          ],
          "pie": [
           {
            "automargin": true,
            "type": "pie"
           }
          ],
          "scatter": [
           {
            "marker": {
             "colorbar": {
              "outlinewidth": 0,
              "ticks": ""
             }
            },
            "type": "scatter"
           }
          ],
          "scatter3d": [
           {
            "line": {
             "colorbar": {
              "outlinewidth": 0,
              "ticks": ""
             }
            },
            "marker": {
             "colorbar": {
              "outlinewidth": 0,
              "ticks": ""
             }
            },
            "type": "scatter3d"
           }
          ],
          "scattercarpet": [
           {
            "marker": {
             "colorbar": {
              "outlinewidth": 0,
              "ticks": ""
             }
            },
            "type": "scattercarpet"
           }
          ],
          "scattergeo": [
           {
            "marker": {
             "colorbar": {
              "outlinewidth": 0,
              "ticks": ""
             }
            },
            "type": "scattergeo"
           }
          ],
          "scattergl": [
           {
            "marker": {
             "colorbar": {
              "outlinewidth": 0,
              "ticks": ""
             }
            },
            "type": "scattergl"
           }
          ],
          "scattermapbox": [
           {
            "marker": {
             "colorbar": {
              "outlinewidth": 0,
              "ticks": ""
             }
            },
            "type": "scattermapbox"
           }
          ],
          "scatterpolar": [
           {
            "marker": {
             "colorbar": {
              "outlinewidth": 0,
              "ticks": ""
             }
            },
            "type": "scatterpolar"
           }
          ],
          "scatterpolargl": [
           {
            "marker": {
             "colorbar": {
              "outlinewidth": 0,
              "ticks": ""
             }
            },
            "type": "scatterpolargl"
           }
          ],
          "scatterternary": [
           {
            "marker": {
             "colorbar": {
              "outlinewidth": 0,
              "ticks": ""
             }
            },
            "type": "scatterternary"
           }
          ],
          "surface": [
           {
            "colorbar": {
             "outlinewidth": 0,
             "ticks": ""
            },
            "colorscale": [
             [
              0,
              "#0d0887"
             ],
             [
              0.1111111111111111,
              "#46039f"
             ],
             [
              0.2222222222222222,
              "#7201a8"
             ],
             [
              0.3333333333333333,
              "#9c179e"
             ],
             [
              0.4444444444444444,
              "#bd3786"
             ],
             [
              0.5555555555555556,
              "#d8576b"
             ],
             [
              0.6666666666666666,
              "#ed7953"
             ],
             [
              0.7777777777777778,
              "#fb9f3a"
             ],
             [
              0.8888888888888888,
              "#fdca26"
             ],
             [
              1,
              "#f0f921"
             ]
            ],
            "type": "surface"
           }
          ],
          "table": [
           {
            "cells": {
             "fill": {
              "color": "#EBF0F8"
             },
             "line": {
              "color": "white"
             }
            },
            "header": {
             "fill": {
              "color": "#C8D4E3"
             },
             "line": {
              "color": "white"
             }
            },
            "type": "table"
           }
          ]
         },
         "layout": {
          "annotationdefaults": {
           "arrowcolor": "#2a3f5f",
           "arrowhead": 0,
           "arrowwidth": 1
          },
          "autotypenumbers": "strict",
          "coloraxis": {
           "colorbar": {
            "outlinewidth": 0,
            "ticks": ""
           }
          },
          "colorscale": {
           "diverging": [
            [
             0,
             "#8e0152"
            ],
            [
             0.1,
             "#c51b7d"
            ],
            [
             0.2,
             "#de77ae"
            ],
            [
             0.3,
             "#f1b6da"
            ],
            [
             0.4,
             "#fde0ef"
            ],
            [
             0.5,
             "#f7f7f7"
            ],
            [
             0.6,
             "#e6f5d0"
            ],
            [
             0.7,
             "#b8e186"
            ],
            [
             0.8,
             "#7fbc41"
            ],
            [
             0.9,
             "#4d9221"
            ],
            [
             1,
             "#276419"
            ]
           ],
           "sequential": [
            [
             0,
             "#0d0887"
            ],
            [
             0.1111111111111111,
             "#46039f"
            ],
            [
             0.2222222222222222,
             "#7201a8"
            ],
            [
             0.3333333333333333,
             "#9c179e"
            ],
            [
             0.4444444444444444,
             "#bd3786"
            ],
            [
             0.5555555555555556,
             "#d8576b"
            ],
            [
             0.6666666666666666,
             "#ed7953"
            ],
            [
             0.7777777777777778,
             "#fb9f3a"
            ],
            [
             0.8888888888888888,
             "#fdca26"
            ],
            [
             1,
             "#f0f921"
            ]
           ],
           "sequentialminus": [
            [
             0,
             "#0d0887"
            ],
            [
             0.1111111111111111,
             "#46039f"
            ],
            [
             0.2222222222222222,
             "#7201a8"
            ],
            [
             0.3333333333333333,
             "#9c179e"
            ],
            [
             0.4444444444444444,
             "#bd3786"
            ],
            [
             0.5555555555555556,
             "#d8576b"
            ],
            [
             0.6666666666666666,
             "#ed7953"
            ],
            [
             0.7777777777777778,
             "#fb9f3a"
            ],
            [
             0.8888888888888888,
             "#fdca26"
            ],
            [
             1,
             "#f0f921"
            ]
           ]
          },
          "colorway": [
           "#636efa",
           "#EF553B",
           "#00cc96",
           "#ab63fa",
           "#FFA15A",
           "#19d3f3",
           "#FF6692",
           "#B6E880",
           "#FF97FF",
           "#FECB52"
          ],
          "font": {
           "color": "#2a3f5f"
          },
          "geo": {
           "bgcolor": "white",
           "lakecolor": "white",
           "landcolor": "#E5ECF6",
           "showlakes": true,
           "showland": true,
           "subunitcolor": "white"
          },
          "hoverlabel": {
           "align": "left"
          },
          "hovermode": "closest",
          "mapbox": {
           "style": "light"
          },
          "paper_bgcolor": "white",
          "plot_bgcolor": "#E5ECF6",
          "polar": {
           "angularaxis": {
            "gridcolor": "white",
            "linecolor": "white",
            "ticks": ""
           },
           "bgcolor": "#E5ECF6",
           "radialaxis": {
            "gridcolor": "white",
            "linecolor": "white",
            "ticks": ""
           }
          },
          "scene": {
           "xaxis": {
            "backgroundcolor": "#E5ECF6",
            "gridcolor": "white",
            "gridwidth": 2,
            "linecolor": "white",
            "showbackground": true,
            "ticks": "",
            "zerolinecolor": "white"
           },
           "yaxis": {
            "backgroundcolor": "#E5ECF6",
            "gridcolor": "white",
            "gridwidth": 2,
            "linecolor": "white",
            "showbackground": true,
            "ticks": "",
            "zerolinecolor": "white"
           },
           "zaxis": {
            "backgroundcolor": "#E5ECF6",
            "gridcolor": "white",
            "gridwidth": 2,
            "linecolor": "white",
            "showbackground": true,
            "ticks": "",
            "zerolinecolor": "white"
           }
          },
          "shapedefaults": {
           "line": {
            "color": "#2a3f5f"
           }
          },
          "ternary": {
           "aaxis": {
            "gridcolor": "white",
            "linecolor": "white",
            "ticks": ""
           },
           "baxis": {
            "gridcolor": "white",
            "linecolor": "white",
            "ticks": ""
           },
           "bgcolor": "#E5ECF6",
           "caxis": {
            "gridcolor": "white",
            "linecolor": "white",
            "ticks": ""
           }
          },
          "title": {
           "x": 0.05
          },
          "xaxis": {
           "automargin": true,
           "gridcolor": "white",
           "linecolor": "white",
           "ticks": "",
           "title": {
            "standoff": 15
           },
           "zerolinecolor": "white",
           "zerolinewidth": 2
          },
          "yaxis": {
           "automargin": true,
           "gridcolor": "white",
           "linecolor": "white",
           "ticks": "",
           "title": {
            "standoff": 15
           },
           "zerolinecolor": "white",
           "zerolinewidth": 2
          }
         }
        },
        "title": {
         "font": {
          "color": "#4D5663",
          "size": 14
         },
         "text": "SSIM on YUV,their averages and simple,exponential moving average"
        },
        "xaxis": {
         "autorange": true,
         "gridcolor": "#E1E5ED",
         "range": [
          1,
          257
         ],
         "showgrid": true,
         "tickfont": {
          "color": "#4D5663"
         },
         "title": {
          "font": {
           "color": "#4D5663"
          },
          "text": ""
         },
         "type": "linear",
         "zerolinecolor": "#E1E5ED"
        },
        "yaxis": {
         "autorange": true,
         "gridcolor": "#E1E5ED",
         "range": [
          0.9051111111111112,
          0.9828888888888889
         ],
         "showgrid": true,
         "tickfont": {
          "color": "#4D5663"
         },
         "title": {
          "font": {
           "color": "#4D5663"
          },
          "text": ""
         },
         "type": "linear",
         "zerolinecolor": "#E1E5ED"
        }
       }
      },
      "image/png": "[encoded data removed]",
      "text/html": [
       "<div>                            <div id=\"06505ed6-3741-4fb9-80fd-33ca937049d5\" class=\"plotly-graph-div\" style=\"height:525px; width:100%;\"></div>            <script type=\"text/javascript\">                require([\"plotly\"], function(Plotly) {                    window.PLOTLYENV=window.PLOTLYENV || {};                                    if (document.getElementById(\"06505ed6-3741-4fb9-80fd-33ca937049d5\")) {                    Plotly.newPlot(                        \"06505ed6-3741-4fb9-80fd-33ca937049d5\",                        [{\"line\":{\"color\":\"rgba(255, 153, 51, 1.0)\",\"dash\":\"solid\",\"shape\":\"linear\",\"width\":1.3},\"mode\":\"lines\",\"name\":\"ssim_y\",\"text\":\"\",\"x\":[1,2,3,4,5,6,7,8,9,10,11,12,13,14,15,16,17,18,19,20,21,22,23,24,25,26,27,28,29,30,31,32,33,34,35,36,37,38,39,40,41,42,43,44,45,46,47,48,49,50,51,52,53,54,55,56,57,58,59,60,61,62,63,64,65,66,67,68,69,70,71,72,73,74,75,76,77,78,79,80,81,82,83,84,85,86,87,88,89,90,91,92,93,94,95,96,97,98,99,100,101,102,103,104,105,106,107,108,109,110,111,112,113,114,115,116,117,118,119,120,121,122,123,124,125,126,127,128,129,130,131,132,133,134,135,136,137,138,139,140,141,142,143,144,145,146,147,148,149,150,151,152,153,154,155,156,157,158,159,160,161,162,163,164,165,166,167,168,169,170,171,172,173,174,175,176,177,178,179,180,181,182,183,184,185,186,187,188,189,190,191,192,193,194,195,196,197,198,199,200,201,202,203,204,205,206,207,208,209,210,211,212,213,214,215,216,217,218,219,220,221,222,223,224,225,226,227,228,229,230,231,232,233,234,235,236,237,238,239,240,241,242,243,244,245,246,247,248,249,250,251,252,253,254,255,256,257],\"y\":[0.948,0.938,0.942,0.939,0.957,0.956,0.938,0.944,0.965,0.945,0.942,0.948,0.966,0.946,0.945,0.947,0.946,0.947,0.946,0.947,0.947,0.948,0.945,0.946,0.946,0.947,0.945,0.944,0.945,0.945,0.944,0.943,0.944,0.944,0.943,0.944,0.942,0.941,0.941,0.94,0.942,0.942,0.941,0.941,0.939,0.94,0.939,0.941,0.939,0.94,0.939,0.94,0.939,0.94,0.939,0.94,0.94,0.942,0.942,0.939,0.939,0.94,0.942,0.94,0.942,0.941,0.941,0.94,0.94,0.942,0.94,0.942,0.942,0.941,0.941,0.941,0.941,0.94,0.943,0.942,0.941,0.942,0.94,0.942,0.94,0.938,0.94,0.941,0.94,0.939,0.941,0.94,0.94,0.942,0.941,0.94,0.939,0.938,0.941,0.942,0.943,0.943,0.944,0.943,0.942,0.942,0.942,0.945,0.944,0.945,0.946,0.943,0.943,0.943,0.944,0.945,0.946,0.947,0.947,0.946,0.946,0.946,0.947,0.948,0.948,0.949,0.972,0.971,0.946,0.943,0.95,0.946,0.949,0.947,0.954,0.949,0.954,0.969,0.954,0.955,0.97,0.956,0.956,0.958,0.958,0.957,0.956,0.959,0.959,0.959,0.96,0.961,0.962,0.961,0.96,0.96,0.96,0.96,0.959,0.96,0.963,0.962,0.962,0.978,0.977,0.959,0.956,0.963,0.958,0.961,0.962,0.965,0.96,0.97,0.97,0.963,0.974,0.961,0.965,0.977,0.968,0.967,0.968,0.968,0.967,0.967,0.967,0.967,0.968,0.969,0.968,0.967,0.968,0.967,0.967,0.965,0.965,0.965,0.966,0.967,0.966,0.966,0.964,0.964,0.964,0.979,0.979,0.961,0.961,0.965,0.96,0.964,0.96,0.964,0.975,0.958,0.966,0.965,0.963,0.962,0.962,0.961,0.961,0.96,0.959,0.96,0.959,0.96,0.961,0.977,0.977,0.958,0.956,0.956,0.956,0.955,0.957,0.958,0.955,0.956,0.955,0.953,0.953,0.954,0.955,0.955,0.954,0.955,0.953,0.951,0.95,0.951,0.95,0.95,0.951,0.95,0.949],\"type\":\"scatter\"},{\"line\":{\"color\":\"rgba(55, 128, 191, 1.0)\",\"dash\":\"solid\",\"shape\":\"linear\",\"width\":1.3},\"mode\":\"lines\",\"name\":\"ssim_u\",\"text\":\"\",\"x\":[1,2,3,4,5,6,7,8,9,10,11,12,13,14,15,16,17,18,19,20,21,22,23,24,25,26,27,28,29,30,31,32,33,34,35,36,37,38,39,40,41,42,43,44,45,46,47,48,49,50,51,52,53,54,55,56,57,58,59,60,61,62,63,64,65,66,67,68,69,70,71,72,73,74,75,76,77,78,79,80,81,82,83,84,85,86,87,88,89,90,91,92,93,94,95,96,97,98,99,100,101,102,103,104,105,106,107,108,109,110,111,112,113,114,115,116,117,118,119,120,121,122,123,124,125,126,127,128,129,130,131,132,133,134,135,136,137,138,139,140,141,142,143,144,145,146,147,148,149,150,151,152,153,154,155,156,157,158,159,160,161,162,163,164,165,166,167,168,169,170,171,172,173,174,175,176,177,178,179,180,181,182,183,184,185,186,187,188,189,190,191,192,193,194,195,196,197,198,199,200,201,202,203,204,205,206,207,208,209,210,211,212,213,214,215,216,217,218,219,220,221,222,223,224,225,226,227,228,229,230,231,232,233,234,235,236,237,238,239,240,241,242,243,244,245,246,247,248,249,250,251,252,253,254,255,256,257],\"y\":[0.957,0.957,0.96,0.958,0.96,0.96,0.958,0.957,0.961,0.959,0.958,0.958,0.957,0.954,0.956,0.954,0.955,0.956,0.953,0.956,0.955,0.957,0.955,0.956,0.956,0.954,0.953,0.953,0.957,0.952,0.952,0.953,0.951,0.953,0.95,0.951,0.952,0.951,0.951,0.952,0.948,0.947,0.95,0.95,0.947,0.947,0.947,0.95,0.947,0.946,0.949,0.947,0.947,0.948,0.948,0.946,0.945,0.948,0.948,0.947,0.946,0.944,0.948,0.944,0.948,0.947,0.947,0.947,0.945,0.945,0.945,0.948,0.948,0.948,0.947,0.945,0.945,0.945,0.949,0.948,0.947,0.949,0.944,0.945,0.952,0.951,0.952,0.951,0.95,0.949,0.95,0.95,0.95,0.954,0.953,0.952,0.952,0.95,0.95,0.953,0.952,0.952,0.952,0.95,0.952,0.949,0.949,0.953,0.951,0.951,0.951,0.949,0.948,0.949,0.949,0.952,0.954,0.955,0.953,0.954,0.95,0.952,0.955,0.955,0.954,0.952,0.957,0.957,0.953,0.953,0.956,0.956,0.956,0.957,0.957,0.961,0.955,0.959,0.959,0.958,0.959,0.957,0.958,0.958,0.958,0.958,0.958,0.96,0.961,0.963,0.962,0.963,0.968,0.961,0.962,0.962,0.964,0.964,0.962,0.963,0.962,0.963,0.963,0.968,0.968,0.963,0.964,0.966,0.962,0.962,0.968,0.961,0.959,0.961,0.961,0.963,0.962,0.96,0.961,0.963,0.96,0.961,0.963,0.963,0.962,0.963,0.962,0.958,0.957,0.964,0.956,0.957,0.959,0.963,0.961,0.958,0.958,0.958,0.956,0.956,0.956,0.959,0.957,0.96,0.959,0.961,0.961,0.957,0.963,0.957,0.957,0.959,0.96,0.96,0.96,0.959,0.956,0.956,0.957,0.958,0.959,0.957,0.959,0.958,0.957,0.957,0.96,0.957,0.959,0.964,0.964,0.959,0.958,0.957,0.956,0.955,0.957,0.957,0.956,0.958,0.954,0.956,0.954,0.955,0.955,0.957,0.956,0.956,0.956,0.955,0.954,0.954,0.955,0.955,0.956,0.956,0.956],\"type\":\"scatter\"},{\"line\":{\"color\":\"rgba(50, 171, 96, 1.0)\",\"dash\":\"solid\",\"shape\":\"linear\",\"width\":1.3},\"mode\":\"lines\",\"name\":\"ssim_v\",\"text\":\"\",\"x\":[1,2,3,4,5,6,7,8,9,10,11,12,13,14,15,16,17,18,19,20,21,22,23,24,25,26,27,28,29,30,31,32,33,34,35,36,37,38,39,40,41,42,43,44,45,46,47,48,49,50,51,52,53,54,55,56,57,58,59,60,61,62,63,64,65,66,67,68,69,70,71,72,73,74,75,76,77,78,79,80,81,82,83,84,85,86,87,88,89,90,91,92,93,94,95,96,97,98,99,100,101,102,103,104,105,106,107,108,109,110,111,112,113,114,115,116,117,118,119,120,121,122,123,124,125,126,127,128,129,130,131,132,133,134,135,136,137,138,139,140,141,142,143,144,145,146,147,148,149,150,151,152,153,154,155,156,157,158,159,160,161,162,163,164,165,166,167,168,169,170,171,172,173,174,175,176,177,178,179,180,181,182,183,184,185,186,187,188,189,190,191,192,193,194,195,196,197,198,199,200,201,202,203,204,205,206,207,208,209,210,211,212,213,214,215,216,217,218,219,220,221,222,223,224,225,226,227,228,229,230,231,232,233,234,235,236,237,238,239,240,241,242,243,244,245,246,247,248,249,250,251,252,253,254,255,256,257],\"y\":[0.919,0.915,0.921,0.918,0.924,0.924,0.916,0.92,0.926,0.918,0.917,0.919,0.925,0.917,0.917,0.916,0.917,0.917,0.917,0.92,0.917,0.918,0.914,0.916,0.914,0.916,0.914,0.916,0.915,0.914,0.914,0.913,0.913,0.915,0.912,0.916,0.917,0.913,0.913,0.914,0.912,0.912,0.913,0.912,0.911,0.912,0.911,0.912,0.909,0.909,0.91,0.911,0.912,0.914,0.913,0.913,0.912,0.914,0.915,0.916,0.916,0.914,0.919,0.913,0.918,0.919,0.917,0.916,0.915,0.915,0.915,0.919,0.919,0.917,0.918,0.915,0.916,0.915,0.92,0.918,0.918,0.918,0.914,0.916,0.922,0.921,0.923,0.922,0.923,0.922,0.923,0.924,0.923,0.927,0.925,0.924,0.925,0.923,0.924,0.927,0.924,0.924,0.924,0.923,0.924,0.921,0.921,0.927,0.922,0.923,0.92,0.922,0.921,0.921,0.921,0.921,0.922,0.924,0.922,0.926,0.92,0.921,0.924,0.924,0.924,0.926,0.937,0.937,0.925,0.925,0.928,0.929,0.93,0.927,0.931,0.933,0.928,0.934,0.93,0.931,0.935,0.931,0.931,0.932,0.932,0.931,0.931,0.933,0.935,0.937,0.935,0.938,0.947,0.938,0.938,0.936,0.937,0.936,0.933,0.935,0.937,0.936,0.935,0.944,0.944,0.933,0.933,0.938,0.933,0.937,0.945,0.936,0.933,0.937,0.937,0.936,0.94,0.932,0.935,0.943,0.937,0.936,0.938,0.937,0.936,0.937,0.938,0.936,0.936,0.948,0.936,0.936,0.938,0.938,0.937,0.934,0.933,0.934,0.935,0.935,0.934,0.935,0.932,0.933,0.932,0.941,0.941,0.93,0.939,0.932,0.93,0.933,0.935,0.936,0.938,0.931,0.932,0.932,0.933,0.934,0.935,0.933,0.934,0.933,0.931,0.931,0.937,0.933,0.935,0.944,0.944,0.932,0.93,0.931,0.928,0.928,0.931,0.933,0.931,0.931,0.928,0.932,0.93,0.929,0.931,0.931,0.932,0.934,0.933,0.931,0.928,0.928,0.929,0.927,0.931,0.932,0.931],\"type\":\"scatter\"},{\"line\":{\"color\":\"rgba(128, 0, 128, 1.0)\",\"dash\":\"solid\",\"shape\":\"linear\",\"width\":1.3},\"mode\":\"lines\",\"name\":\"ssim_avg\",\"text\":\"\",\"x\":[1,2,3,4,5,6,7,8,9,10,11,12,13,14,15,16,17,18,19,20,21,22,23,24,25,26,27,28,29,30,31,32,33,34,35,36,37,38,39,40,41,42,43,44,45,46,47,48,49,50,51,52,53,54,55,56,57,58,59,60,61,62,63,64,65,66,67,68,69,70,71,72,73,74,75,76,77,78,79,80,81,82,83,84,85,86,87,88,89,90,91,92,93,94,95,96,97,98,99,100,101,102,103,104,105,106,107,108,109,110,111,112,113,114,115,116,117,118,119,120,121,122,123,124,125,126,127,128,129,130,131,132,133,134,135,136,137,138,139,140,141,142,143,144,145,146,147,148,149,150,151,152,153,154,155,156,157,158,159,160,161,162,163,164,165,166,167,168,169,170,171,172,173,174,175,176,177,178,179,180,181,182,183,184,185,186,187,188,189,190,191,192,193,194,195,196,197,198,199,200,201,202,203,204,205,206,207,208,209,210,211,212,213,214,215,216,217,218,219,220,221,222,223,224,225,226,227,228,229,230,231,232,233,234,235,236,237,238,239,240,241,242,243,244,245,246,247,248,249,250,251,252,253,254,255,256,257],\"y\":[0.941,0.936,0.941,0.938,0.947,0.947,0.937,0.94,0.951,0.941,0.939,0.942,0.949,0.939,0.939,0.939,0.939,0.94,0.939,0.941,0.94,0.941,0.938,0.939,0.939,0.939,0.938,0.938,0.939,0.937,0.937,0.936,0.936,0.937,0.935,0.937,0.937,0.935,0.935,0.935,0.934,0.934,0.935,0.935,0.932,0.933,0.932,0.934,0.932,0.932,0.933,0.933,0.933,0.934,0.933,0.933,0.932,0.935,0.935,0.934,0.934,0.933,0.937,0.932,0.936,0.936,0.935,0.934,0.934,0.934,0.933,0.936,0.937,0.936,0.935,0.934,0.934,0.933,0.937,0.936,0.935,0.936,0.933,0.934,0.938,0.937,0.938,0.938,0.938,0.936,0.938,0.938,0.937,0.941,0.94,0.939,0.938,0.937,0.939,0.941,0.94,0.94,0.94,0.939,0.939,0.937,0.937,0.942,0.939,0.94,0.939,0.938,0.937,0.938,0.938,0.939,0.94,0.942,0.94,0.942,0.939,0.94,0.942,0.942,0.942,0.942,0.955,0.955,0.941,0.94,0.945,0.943,0.945,0.944,0.948,0.948,0.946,0.954,0.947,0.948,0.955,0.948,0.948,0.949,0.949,0.949,0.949,0.951,0.952,0.953,0.952,0.954,0.959,0.953,0.953,0.953,0.954,0.954,0.951,0.953,0.954,0.954,0.953,0.963,0.963,0.952,0.951,0.956,0.951,0.953,0.958,0.954,0.951,0.956,0.956,0.954,0.959,0.951,0.954,0.961,0.955,0.955,0.956,0.956,0.955,0.956,0.956,0.954,0.954,0.961,0.953,0.953,0.955,0.956,0.955,0.952,0.952,0.953,0.952,0.953,0.952,0.953,0.951,0.952,0.952,0.96,0.96,0.949,0.954,0.951,0.949,0.952,0.952,0.953,0.958,0.949,0.951,0.951,0.951,0.951,0.952,0.95,0.951,0.95,0.949,0.949,0.952,0.95,0.951,0.962,0.962,0.95,0.948,0.948,0.947,0.946,0.948,0.949,0.947,0.948,0.946,0.947,0.946,0.946,0.947,0.948,0.948,0.948,0.948,0.946,0.944,0.944,0.944,0.944,0.946,0.946,0.945],\"type\":\"scatter\"},{\"line\":{\"color\":\"rgba(219, 64, 82, 1.0)\",\"dash\":\"solid\",\"shape\":\"linear\",\"width\":1.3},\"mode\":\"lines\",\"name\":\"ssim_y_sma50\",\"text\":\"\",\"x\":[1,2,3,4,5,6,7,8,9,10,11,12,13,14,15,16,17,18,19,20,21,22,23,24,25,26,27,28,29,30,31,32,33,34,35,36,37,38,39,40,41,42,43,44,45,46,47,48,49,50,51,52,53,54,55,56,57,58,59,60,61,62,63,64,65,66,67,68,69,70,71,72,73,74,75,76,77,78,79,80,81,82,83,84,85,86,87,88,89,90,91,92,93,94,95,96,97,98,99,100,101,102,103,104,105,106,107,108,109,110,111,112,113,114,115,116,117,118,119,120,121,122,123,124,125,126,127,128,129,130,131,132,133,134,135,136,137,138,139,140,141,142,143,144,145,146,147,148,149,150,151,152,153,154,155,156,157,158,159,160,161,162,163,164,165,166,167,168,169,170,171,172,173,174,175,176,177,178,179,180,181,182,183,184,185,186,187,188,189,190,191,192,193,194,195,196,197,198,199,200,201,202,203,204,205,206,207,208,209,210,211,212,213,214,215,216,217,218,219,220,221,222,223,224,225,226,227,228,229,230,231,232,233,234,235,236,237,238,239,240,241,242,243,244,245,246,247,248,249,250,251,252,253,254,255,256,257],\"y\":[\"\",\"\",\"\",\"\",\"\",\"\",\"\",\"\",\"\",\"\",\"\",\"\",\"\",\"\",\"\",\"\",\"\",\"\",\"\",\"\",\"\",\"\",\"\",\"\",\"\",\"\",\"\",\"\",\"\",\"\",\"\",\"\",\"\",\"\",\"\",\"\",\"\",\"\",\"\",\"\",\"\",\"\",\"\",\"\",\"\",\"\",\"\",\"\",\"\",0.9447999999999999,0.9446199999999999,0.9446599999999999,0.9445999999999999,0.9446199999999999,0.94426,0.9439399999999999,0.9439799999999999,0.94394,0.94348,0.9433599999999999,0.9432999999999998,0.94314,0.94266,0.9425399999999999,0.9424799999999999,0.9423600000000001,0.9422599999999999,0.9421200000000001,0.9419999999999998,0.9419,0.9417599999999999,0.9416399999999999,0.9415799999999999,0.94148,0.9413799999999999,0.9412599999999999,0.9411799999999999,0.9411,0.9410599999999999,0.941,0.9409399999999999,0.94092,0.9408399999999999,0.9408,0.94074,0.94062,0.94058,0.94058,0.9405599999999998,0.9405399999999999,0.9405199999999999,0.9404799999999999,0.94046,0.94048,0.9405199999999999,0.94052,0.94052,0.94046,0.9405,0.94054,0.94062,0.9406799999999998,0.9407799999999998,0.9408399999999999,0.9408999999999998,0.9409399999999999,0.9409799999999998,0.9410399999999999,0.9410799999999999,0.9411999999999999,0.94134,0.9413999999999999,0.9414199999999999,0.94148,0.94152,0.9416,0.9417,0.9418399999999998,0.9419799999999999,0.9420599999999999,0.94218,0.94226,0.9423600000000001,0.9424999999999999,0.9426399999999999,0.9428,0.9434199999999998,0.94404,0.9440999999999999,0.9441200000000001,0.9442999999999999,0.9443799999999999,0.9445600000000001,0.9446599999999999,0.9449399999999999,0.9451599999999999,0.94544,0.946,0.94628,0.9466,0.9471799999999999,0.9475,0.94782,0.94814,0.94848,0.9488199999999999,0.94916,0.94958,0.94994,0.9502799999999999,0.95062,0.9509799999999999,0.95134,0.9517,0.95206,0.95242,0.9527800000000001,0.9530799999999999,0.9533799999999999,0.95368,0.95402,0.9544,0.95478,0.95548,0.9561399999999999,0.9564199999999999,0.9566199999999999,0.95694,0.9571599999999999,0.95746,0.95778,0.9581599999999999,0.9584199999999998,0.9588599999999999,0.9593,0.95958,0.95962,0.9594199999999999,0.9598,0.9604799999999999,0.96084,0.96126,0.9616399999999998,0.96206,0.96232,0.96268,0.96294,0.9629000000000001,0.9631799999999999,0.96346,0.9634199999999999,0.96364,0.96388,0.9640599999999999,0.9642399999999999,0.9643999999999999,0.9645799999999999,0.9647,0.9648399999999999,0.965,0.96512,0.9652200000000001,0.96526,0.96532,0.9653999999999999,0.9657799999999999,0.9661599999999999,0.96618,0.96622,0.96632,0.9662599999999999,0.9662999999999999,0.9662599999999999,0.9659799999999998,0.9659399999999999,0.9659199999999999,0.96612,0.96616,0.96626,0.96628,0.96628,0.9662000000000001,0.96622,0.9660199999999999,0.9658,0.9657399999999998,0.96544,0.9654200000000001,0.9653399999999999,0.9653400000000001,0.9655199999999999,0.9653399999999999,0.9651000000000001,0.9648599999999999,0.9646399999999999,0.9643999999999999,0.9642000000000001,0.9640199999999999,0.96376,0.9634999999999999,0.96324,0.9629599999999999,0.96266,0.9623999999999999,0.9621600000000001,0.9619599999999999,0.96174,0.96154,0.9612799999999999,0.9609599999999999,0.9606399999999999,0.96034,0.96006,0.95978,0.9595199999999999,0.95894,0.9583400000000001],\"type\":\"scatter\"},{\"line\":{\"color\":\"rgba(0, 128, 128, 1.0)\",\"dash\":\"solid\",\"shape\":\"linear\",\"width\":1.3},\"mode\":\"lines\",\"name\":\"ssim_y_ema25\",\"text\":\"\",\"x\":[1,2,3,4,5,6,7,8,9,10,11,12,13,14,15,16,17,18,19,20,21,22,23,24,25,26,27,28,29,30,31,32,33,34,35,36,37,38,39,40,41,42,43,44,45,46,47,48,49,50,51,52,53,54,55,56,57,58,59,60,61,62,63,64,65,66,67,68,69,70,71,72,73,74,75,76,77,78,79,80,81,82,83,84,85,86,87,88,89,90,91,92,93,94,95,96,97,98,99,100,101,102,103,104,105,106,107,108,109,110,111,112,113,114,115,116,117,118,119,120,121,122,123,124,125,126,127,128,129,130,131,132,133,134,135,136,137,138,139,140,141,142,143,144,145,146,147,148,149,150,151,152,153,154,155,156,157,158,159,160,161,162,163,164,165,166,167,168,169,170,171,172,173,174,175,176,177,178,179,180,181,182,183,184,185,186,187,188,189,190,191,192,193,194,195,196,197,198,199,200,201,202,203,204,205,206,207,208,209,210,211,212,213,214,215,216,217,218,219,220,221,222,223,224,225,226,227,228,229,230,231,232,233,234,235,236,237,238,239,240,241,242,243,244,245,246,247,248,249,250,251,252,253,254,255,256,257],\"y\":[0.948,0.9472307692307692,0.9468284023668639,0.9462262175694129,0.9470549700640736,0.9477430492899142,0.9469935839599207,0.9467633082706961,0.9481661307114119,0.9479225821951495,0.9474669989493688,0.9475079990301867,0.9489304606432493,0.9487050405937686,0.9484200374711711,0.9483108038195427,0.948133049679578,0.9480458920119182,0.9478885157033092,0.9478201683415163,0.9477570784690921,0.9477757647407004,0.9475622443760312,0.9474420717317212,0.9473311431369735,0.9473056705879757,0.9471283113119776,0.9468876719802871,0.946742466443342,0.9466084305630851,0.9464077820582325,0.9461456449768301,0.9459805953632279,0.9458282418737489,0.9456106848065375,0.9454867859752655,0.9452185716694759,0.9448940661564393,0.944594522605944,0.9442410977901022,0.9440687056524021,0.9439095744483712,0.9436857610292658,0.9434791640270147,0.9431346129480136,0.9428934888750895,0.9425939897308518,0.942471375136171,0.9422043462795424,0.9420347811811162,0.9418013364748765,0.9416627721306553,0.9414579435052203,0.9413457940048188,0.9411653483121404,0.9410757061342835,0.9409929595085694,0.9410704241617565,0.9411419299954675,0.9409771661496623,0.9408250764458421,0.9407616090269312,0.9408568698710135,0.9407909568040125,0.9408839601267808,0.9408928862708746,0.9409011257884997,0.9408318084201536,0.9407678231570649,0.9408626059911368,0.9407962516841263,0.9408888477084243,0.9409743209616225,0.940976296272267,0.9409781196359388,0.9409798027408667,0.9409813563761846,0.9409058674241705,0.9410669545453882,0.9411387272726661,0.9411280559439995,0.9411951285636919,0.9411031955972541,0.9411721805513115,0.9410820128165952,0.9408449349076263,0.9407799399147321,0.9407968676135989,0.9407355701048606,0.9406020647121791,0.9406326751189346,0.9405840078020935,0.9405390841250094,0.9406514622692396,0.9406782728639135,0.9406260980282278,0.940501013564518,0.9403086279057089,0.9403618103745006,0.9404878249610775,0.9406810691948408,0.9408594484875454,0.9411010293731189,0.9412471040367252,0.9413050191108233,0.9413584791792216,0.9414078269346661,0.9416841479396918,0.9418622904058694,0.9421036526823411,0.9424033717067765,0.9424492661908707,0.9424916303300345,0.9425307356892626,0.9426437560208578,0.942825005557715,0.9430692358994293,0.943371602368704,0.9436507098788037,0.9438314245035112,0.9439982380032412,0.9441522196952997,0.9443712797187384,0.9446504120480663,0.9449080726597536,0.9452228363013111,0.9472826181242873,0.9491070321147268,0.9488680296443633,0.9484166427486431,0.9485384394602859,0.9483431748864178,0.948393699895155,0.9482864922109124,0.9487259928100731,0.9487470702862213,0.9491511418026659,0.9506779770486148,0.9509335172756445,0.9512463236390565,0.9526889141283599,0.952943613041563,0.9531787197306737,0.9535495874436989,0.9538919268711068,0.9541310094194833,0.9542747779256769,0.9546382565467788,0.9549737752739498,0.9552834848682614,0.9556462937245491,0.9560581172841993,0.9565151851854148,0.956860170940383,0.9571016962526613,0.9573246426947644,0.9575304394105518,0.9577204056097403,0.9578188359474527,0.9579866177976487,0.958372262582445,0.9586513193068723,0.9589089101294206,0.9603774555040806,0.9616561127729975,0.9614517964058439,0.9610324274515483,0.9611837791860446,0.9609388730948105,0.9609435751644406,0.9610248386133298,0.9613306202584583,0.9612282648539616,0.9619030137113492,0.9625258588104763,0.9625623312096704,0.9634421518858496,0.9632542940484765,0.9633885791216706,0.9644356114969268,0.9647097952279325,0.9648859648257839,0.9651255059930314,0.9653466209166444,0.9654738039230564,0.9655912036212828,0.9656995725734919,0.9657996054524541,0.9659688665714962,0.9662020306813811,0.9663403360135826,0.9663910793971532,0.9665148425204492,0.9665521623265685,0.966586611378371,0.9664645643492655,0.9663519055531682,0.9662479128183091,0.9662288426015162,0.9662881624013996,0.9662659960628305,0.9662455348272282,0.9660728013789799,0.9659133551190584,0.9657661739560539,0.9667841605748191,0.9677238405306022,0.9672066220282483,0.9667291895645369,0.9665961749826495,0.9660887769070612,0.9659281017603641,0.9654720939326439,0.9653588559378251,0.9661004824041463,0.9654773683730582,0.9655175708059,0.9654777576669846,0.9652871609233704,0.9650343023908035,0.9648008945145878,0.9645085180134658,0.9642386320124301,0.9639125833960894,0.9635346923656211,0.9632627929528811,0.9629348858026595,0.9627091253563012,0.9625776541750473,0.9636870653923514,0.9647111372852475,0.9641948959556131,0.963564519343643,0.9629826332402859,0.9624455076064178,0.961872776252078,0.9614979473096106,0.9612288744396407,0.9607497302519761,0.9603843663864395,0.9599701843567134,0.9594340163292739,0.9589390919962529,0.9585591618426951,0.9582853801624878,0.9580326586115272,0.9577224541029482,0.9575130345565677,0.9571658780522163,0.9566915797405073,0.9561768428373913,0.9557786241575921,0.9553341146070081,0.9549237980987767,0.9546219674757939,0.9542664315161175,0.9538613213994931],\"type\":\"scatter\"}],                        {\"legend\":{\"bgcolor\":\"#F5F6F9\",\"font\":{\"color\":\"#4D5663\"}},\"paper_bgcolor\":\"#F5F6F9\",\"plot_bgcolor\":\"#F5F6F9\",\"title\":{\"text\":\"SSIM on YUV,their averages and simple,exponential moving average\",\"font\":{\"color\":\"#4D5663\",\"size\":14}},\"xaxis\":{\"gridcolor\":\"#E1E5ED\",\"showgrid\":true,\"tickfont\":{\"color\":\"#4D5663\"},\"title\":{\"text\":\"\",\"font\":{\"color\":\"#4D5663\"}},\"zerolinecolor\":\"#E1E5ED\"},\"yaxis\":{\"gridcolor\":\"#E1E5ED\",\"showgrid\":true,\"tickfont\":{\"color\":\"#4D5663\"},\"title\":{\"text\":\"\",\"font\":{\"color\":\"#4D5663\"}},\"zerolinecolor\":\"#E1E5ED\"},\"template\":{\"data\":{\"bar\":[{\"error_x\":{\"color\":\"#2a3f5f\"},\"error_y\":{\"color\":\"#2a3f5f\"},\"marker\":{\"line\":{\"color\":\"#E5ECF6\",\"width\":0.5},\"pattern\":{\"fillmode\":\"overlay\",\"size\":10,\"solidity\":0.2}},\"type\":\"bar\"}],\"barpolar\":[{\"marker\":{\"line\":{\"color\":\"#E5ECF6\",\"width\":0.5},\"pattern\":{\"fillmode\":\"overlay\",\"size\":10,\"solidity\":0.2}},\"type\":\"barpolar\"}],\"carpet\":[{\"aaxis\":{\"endlinecolor\":\"#2a3f5f\",\"gridcolor\":\"white\",\"linecolor\":\"white\",\"minorgridcolor\":\"white\",\"startlinecolor\":\"#2a3f5f\"},\"baxis\":{\"endlinecolor\":\"#2a3f5f\",\"gridcolor\":\"white\",\"linecolor\":\"white\",\"minorgridcolor\":\"white\",\"startlinecolor\":\"#2a3f5f\"},\"type\":\"carpet\"}],\"choropleth\":[{\"colorbar\":{\"outlinewidth\":0,\"ticks\":\"\"},\"type\":\"choropleth\"}],\"contour\":[{\"colorbar\":{\"outlinewidth\":0,\"ticks\":\"\"},\"colorscale\":[[0.0,\"#0d0887\"],[0.1111111111111111,\"#46039f\"],[0.2222222222222222,\"#7201a8\"],[0.3333333333333333,\"#9c179e\"],[0.4444444444444444,\"#bd3786\"],[0.5555555555555556,\"#d8576b\"],[0.6666666666666666,\"#ed7953\"],[0.7777777777777778,\"#fb9f3a\"],[0.8888888888888888,\"#fdca26\"],[1.0,\"#f0f921\"]],\"type\":\"contour\"}],\"contourcarpet\":[{\"colorbar\":{\"outlinewidth\":0,\"ticks\":\"\"},\"type\":\"contourcarpet\"}],\"heatmap\":[{\"colorbar\":{\"outlinewidth\":0,\"ticks\":\"\"},\"colorscale\":[[0.0,\"#0d0887\"],[0.1111111111111111,\"#46039f\"],[0.2222222222222222,\"#7201a8\"],[0.3333333333333333,\"#9c179e\"],[0.4444444444444444,\"#bd3786\"],[0.5555555555555556,\"#d8576b\"],[0.6666666666666666,\"#ed7953\"],[0.7777777777777778,\"#fb9f3a\"],[0.8888888888888888,\"#fdca26\"],[1.0,\"#f0f921\"]],\"type\":\"heatmap\"}],\"heatmapgl\":[{\"colorbar\":{\"outlinewidth\":0,\"ticks\":\"\"},\"colorscale\":[[0.0,\"#0d0887\"],[0.1111111111111111,\"#46039f\"],[0.2222222222222222,\"#7201a8\"],[0.3333333333333333,\"#9c179e\"],[0.4444444444444444,\"#bd3786\"],[0.5555555555555556,\"#d8576b\"],[0.6666666666666666,\"#ed7953\"],[0.7777777777777778,\"#fb9f3a\"],[0.8888888888888888,\"#fdca26\"],[1.0,\"#f0f921\"]],\"type\":\"heatmapgl\"}],\"histogram\":[{\"marker\":{\"pattern\":{\"fillmode\":\"overlay\",\"size\":10,\"solidity\":0.2}},\"type\":\"histogram\"}],\"histogram2d\":[{\"colorbar\":{\"outlinewidth\":0,\"ticks\":\"\"},\"colorscale\":[[0.0,\"#0d0887\"],[0.1111111111111111,\"#46039f\"],[0.2222222222222222,\"#7201a8\"],[0.3333333333333333,\"#9c179e\"],[0.4444444444444444,\"#bd3786\"],[0.5555555555555556,\"#d8576b\"],[0.6666666666666666,\"#ed7953\"],[0.7777777777777778,\"#fb9f3a\"],[0.8888888888888888,\"#fdca26\"],[1.0,\"#f0f921\"]],\"type\":\"histogram2d\"}],\"histogram2dcontour\":[{\"colorbar\":{\"outlinewidth\":0,\"ticks\":\"\"},\"colorscale\":[[0.0,\"#0d0887\"],[0.1111111111111111,\"#46039f\"],[0.2222222222222222,\"#7201a8\"],[0.3333333333333333,\"#9c179e\"],[0.4444444444444444,\"#bd3786\"],[0.5555555555555556,\"#d8576b\"],[0.6666666666666666,\"#ed7953\"],[0.7777777777777778,\"#fb9f3a\"],[0.8888888888888888,\"#fdca26\"],[1.0,\"#f0f921\"]],\"type\":\"histogram2dcontour\"}],\"mesh3d\":[{\"colorbar\":{\"outlinewidth\":0,\"ticks\":\"\"},\"type\":\"mesh3d\"}],\"parcoords\":[{\"line\":{\"colorbar\":{\"outlinewidth\":0,\"ticks\":\"\"}},\"type\":\"parcoords\"}],\"pie\":[{\"automargin\":true,\"type\":\"pie\"}],\"scatter\":[{\"marker\":{\"colorbar\":{\"outlinewidth\":0,\"ticks\":\"\"}},\"type\":\"scatter\"}],\"scatter3d\":[{\"line\":{\"colorbar\":{\"outlinewidth\":0,\"ticks\":\"\"}},\"marker\":{\"colorbar\":{\"outlinewidth\":0,\"ticks\":\"\"}},\"type\":\"scatter3d\"}],\"scattercarpet\":[{\"marker\":{\"colorbar\":{\"outlinewidth\":0,\"ticks\":\"\"}},\"type\":\"scattercarpet\"}],\"scattergeo\":[{\"marker\":{\"colorbar\":{\"outlinewidth\":0,\"ticks\":\"\"}},\"type\":\"scattergeo\"}],\"scattergl\":[{\"marker\":{\"colorbar\":{\"outlinewidth\":0,\"ticks\":\"\"}},\"type\":\"scattergl\"}],\"scattermapbox\":[{\"marker\":{\"colorbar\":{\"outlinewidth\":0,\"ticks\":\"\"}},\"type\":\"scattermapbox\"}],\"scatterpolar\":[{\"marker\":{\"colorbar\":{\"outlinewidth\":0,\"ticks\":\"\"}},\"type\":\"scatterpolar\"}],\"scatterpolargl\":[{\"marker\":{\"colorbar\":{\"outlinewidth\":0,\"ticks\":\"\"}},\"type\":\"scatterpolargl\"}],\"scatterternary\":[{\"marker\":{\"colorbar\":{\"outlinewidth\":0,\"ticks\":\"\"}},\"type\":\"scatterternary\"}],\"surface\":[{\"colorbar\":{\"outlinewidth\":0,\"ticks\":\"\"},\"colorscale\":[[0.0,\"#0d0887\"],[0.1111111111111111,\"#46039f\"],[0.2222222222222222,\"#7201a8\"],[0.3333333333333333,\"#9c179e\"],[0.4444444444444444,\"#bd3786\"],[0.5555555555555556,\"#d8576b\"],[0.6666666666666666,\"#ed7953\"],[0.7777777777777778,\"#fb9f3a\"],[0.8888888888888888,\"#fdca26\"],[1.0,\"#f0f921\"]],\"type\":\"surface\"}],\"table\":[{\"cells\":{\"fill\":{\"color\":\"#EBF0F8\"},\"line\":{\"color\":\"white\"}},\"header\":{\"fill\":{\"color\":\"#C8D4E3\"},\"line\":{\"color\":\"white\"}},\"type\":\"table\"}]},\"layout\":{\"annotationdefaults\":{\"arrowcolor\":\"#2a3f5f\",\"arrowhead\":0,\"arrowwidth\":1},\"autotypenumbers\":\"strict\",\"coloraxis\":{\"colorbar\":{\"outlinewidth\":0,\"ticks\":\"\"}},\"colorscale\":{\"diverging\":[[0,\"#8e0152\"],[0.1,\"#c51b7d\"],[0.2,\"#de77ae\"],[0.3,\"#f1b6da\"],[0.4,\"#fde0ef\"],[0.5,\"#f7f7f7\"],[0.6,\"#e6f5d0\"],[0.7,\"#b8e186\"],[0.8,\"#7fbc41\"],[0.9,\"#4d9221\"],[1,\"#276419\"]],\"sequential\":[[0.0,\"#0d0887\"],[0.1111111111111111,\"#46039f\"],[0.2222222222222222,\"#7201a8\"],[0.3333333333333333,\"#9c179e\"],[0.4444444444444444,\"#bd3786\"],[0.5555555555555556,\"#d8576b\"],[0.6666666666666666,\"#ed7953\"],[0.7777777777777778,\"#fb9f3a\"],[0.8888888888888888,\"#fdca26\"],[1.0,\"#f0f921\"]],\"sequentialminus\":[[0.0,\"#0d0887\"],[0.1111111111111111,\"#46039f\"],[0.2222222222222222,\"#7201a8\"],[0.3333333333333333,\"#9c179e\"],[0.4444444444444444,\"#bd3786\"],[0.5555555555555556,\"#d8576b\"],[0.6666666666666666,\"#ed7953\"],[0.7777777777777778,\"#fb9f3a\"],[0.8888888888888888,\"#fdca26\"],[1.0,\"#f0f921\"]]},\"colorway\":[\"#636efa\",\"#EF553B\",\"#00cc96\",\"#ab63fa\",\"#FFA15A\",\"#19d3f3\",\"#FF6692\",\"#B6E880\",\"#FF97FF\",\"#FECB52\"],\"font\":{\"color\":\"#2a3f5f\"},\"geo\":{\"bgcolor\":\"white\",\"lakecolor\":\"white\",\"landcolor\":\"#E5ECF6\",\"showlakes\":true,\"showland\":true,\"subunitcolor\":\"white\"},\"hoverlabel\":{\"align\":\"left\"},\"hovermode\":\"closest\",\"mapbox\":{\"style\":\"light\"},\"paper_bgcolor\":\"white\",\"plot_bgcolor\":\"#E5ECF6\",\"polar\":{\"angularaxis\":{\"gridcolor\":\"white\",\"linecolor\":\"white\",\"ticks\":\"\"},\"bgcolor\":\"#E5ECF6\",\"radialaxis\":{\"gridcolor\":\"white\",\"linecolor\":\"white\",\"ticks\":\"\"}},\"scene\":{\"xaxis\":{\"backgroundcolor\":\"#E5ECF6\",\"gridcolor\":\"white\",\"gridwidth\":2,\"linecolor\":\"white\",\"showbackground\":true,\"ticks\":\"\",\"zerolinecolor\":\"white\"},\"yaxis\":{\"backgroundcolor\":\"#E5ECF6\",\"gridcolor\":\"white\",\"gridwidth\":2,\"linecolor\":\"white\",\"showbackground\":true,\"ticks\":\"\",\"zerolinecolor\":\"white\"},\"zaxis\":{\"backgroundcolor\":\"#E5ECF6\",\"gridcolor\":\"white\",\"gridwidth\":2,\"linecolor\":\"white\",\"showbackground\":true,\"ticks\":\"\",\"zerolinecolor\":\"white\"}},\"shapedefaults\":{\"line\":{\"color\":\"#2a3f5f\"}},\"ternary\":{\"aaxis\":{\"gridcolor\":\"white\",\"linecolor\":\"white\",\"ticks\":\"\"},\"baxis\":{\"gridcolor\":\"white\",\"linecolor\":\"white\",\"ticks\":\"\"},\"bgcolor\":\"#E5ECF6\",\"caxis\":{\"gridcolor\":\"white\",\"linecolor\":\"white\",\"ticks\":\"\"}},\"title\":{\"x\":0.05},\"xaxis\":{\"automargin\":true,\"gridcolor\":\"white\",\"linecolor\":\"white\",\"ticks\":\"\",\"title\":{\"standoff\":15},\"zerolinecolor\":\"white\",\"zerolinewidth\":2},\"yaxis\":{\"automargin\":true,\"gridcolor\":\"white\",\"linecolor\":\"white\",\"ticks\":\"\",\"title\":{\"standoff\":15},\"zerolinecolor\":\"white\",\"zerolinewidth\":2}}}},                        {\"responsive\": true}                    ).then(function(){\n",
       "                            \n",
       "var gd = document.getElementById('06505ed6-3741-4fb9-80fd-33ca937049d5');\n",
       "var x = new MutationObserver(function (mutations, observer) {{\n",
       "        var display = window.getComputedStyle(gd).display;\n",
       "        if (!display || display === 'none') {{\n",
       "            console.log([gd, 'removed!']);\n",
       "            Plotly.purge(gd);\n",
       "            observer.disconnect();\n",
       "        }}\n",
       "}});\n",
       "\n",
       "// Listen for the removal of the full notebook cells\n",
       "var notebookContainer = gd.closest('#notebook-container');\n",
       "if (notebookContainer) {{\n",
       "    x.observe(notebookContainer, {childList: true});\n",
       "}}\n",
       "\n",
       "// Listen for the clearing of the current output cell\n",
       "var outputEl = gd.closest('.output');\n",
       "if (outputEl) {{\n",
       "    x.observe(outputEl, {childList: true});\n",
       "}}\n",
       "\n",
       "                        })                };                });            </script>        </div>"
      ]
     },
     "metadata": {},
     "output_type": "display_data"
    }
   ],
   "source": [
    "fig = df.iplot(title=\"SSIM on YUV,their averages and simple,exponential moving average\", asFigure=True)\n",
    "fig.update_layout(title_font=dict(size=14))"
   ]
  },
  {
   "cell_type": "code",
   "execution_count": 170,
   "id": "94805885-2775-4d43-a408-856133b21fc7",
   "metadata": {},
   "outputs": [
    {
     "data": {
      "application/vnd.plotly.v1+json": {
       "config": {
        "linkText": "Export to plot.ly",
        "plotlyServerURL": "https://plot.ly",
        "showLink": true
       },
       "data": [
        {
         "line": {
          "color": "rgba(255, 153, 51, 1.0)",
          "dash": "solid",
          "shape": "linear",
          "width": 2
         },
         "mode": "lines",
         "name": "ssim_y",
         "text": "",
         "type": "scatter",
         "x": [
          1,
          2,
          3,
          4,
          5,
          6,
          7,
          8,
          9,
          10,
          11,
          12,
          13,
          14,
          15,
          16,
          17,
          18,
          19,
          20,
          21,
          22,
          23,
          24,
          25,
          26,
          27,
          28,
          29,
          30,
          31,
          32,
          33,
          34,
          35,
          36,
          37,
          38,
          39,
          40,
          41,
          42,
          43,
          44,
          45,
          46,
          47,
          48,
          49,
          50,
          51,
          52,
          53,
          54,
          55,
          56,
          57,
          58,
          59,
          60,
          61,
          62,
          63,
          64,
          65,
          66,
          67,
          68,
          69,
          70,
          71,
          72,
          73,
          74,
          75,
          76,
          77,
          78,
          79,
          80,
          81,
          82,
          83,
          84,
          85,
          86,
          87,
          88,
          89,
          90,
          91,
          92,
          93,
          94,
          95,
          96,
          97,
          98,
          99,
          100,
          101,
          102,
          103,
          104,
          105,
          106,
          107,
          108,
          109,
          110,
          111,
          112,
          113,
          114,
          115,
          116,
          117,
          118,
          119,
          120,
          121,
          122,
          123,
          124,
          125,
          126,
          127,
          128,
          129,
          130,
          131,
          132,
          133,
          134,
          135,
          136,
          137,
          138,
          139,
          140,
          141,
          142,
          143,
          144,
          145,
          146,
          147,
          148,
          149,
          150,
          151,
          152,
          153,
          154,
          155,
          156,
          157,
          158,
          159,
          160,
          161,
          162,
          163,
          164,
          165,
          166,
          167,
          168,
          169,
          170,
          171,
          172,
          173,
          174,
          175,
          176,
          177,
          178,
          179,
          180,
          181,
          182,
          183,
          184,
          185,
          186,
          187,
          188,
          189,
          190,
          191,
          192,
          193,
          194,
          195,
          196,
          197,
          198,
          199,
          200,
          201,
          202,
          203,
          204,
          205,
          206,
          207,
          208,
          209,
          210,
          211,
          212,
          213,
          214,
          215,
          216,
          217,
          218,
          219,
          220,
          221,
          222,
          223,
          224,
          225,
          226,
          227,
          228,
          229,
          230,
          231,
          232,
          233,
          234,
          235,
          236,
          237,
          238,
          239,
          240,
          241,
          242,
          243,
          244,
          245,
          246,
          247,
          248,
          249,
          250,
          251,
          252,
          253,
          254,
          255,
          256,
          257
         ],
         "xaxis": "x",
         "y": [
          0.948,
          0.938,
          0.942,
          0.939,
          0.957,
          0.956,
          0.938,
          0.944,
          0.965,
          0.945,
          0.942,
          0.948,
          0.966,
          0.946,
          0.945,
          0.947,
          0.946,
          0.947,
          0.946,
          0.947,
          0.947,
          0.948,
          0.945,
          0.946,
          0.946,
          0.947,
          0.945,
          0.944,
          0.945,
          0.945,
          0.944,
          0.943,
          0.944,
          0.944,
          0.943,
          0.944,
          0.942,
          0.941,
          0.941,
          0.94,
          0.942,
          0.942,
          0.941,
          0.941,
          0.939,
          0.94,
          0.939,
          0.941,
          0.939,
          0.94,
          0.939,
          0.94,
          0.939,
          0.94,
          0.939,
          0.94,
          0.94,
          0.942,
          0.942,
          0.939,
          0.939,
          0.94,
          0.942,
          0.94,
          0.942,
          0.941,
          0.941,
          0.94,
          0.94,
          0.942,
          0.94,
          0.942,
          0.942,
          0.941,
          0.941,
          0.941,
          0.941,
          0.94,
          0.943,
          0.942,
          0.941,
          0.942,
          0.94,
          0.942,
          0.94,
          0.938,
          0.94,
          0.941,
          0.94,
          0.939,
          0.941,
          0.94,
          0.94,
          0.942,
          0.941,
          0.94,
          0.939,
          0.938,
          0.941,
          0.942,
          0.943,
          0.943,
          0.944,
          0.943,
          0.942,
          0.942,
          0.942,
          0.945,
          0.944,
          0.945,
          0.946,
          0.943,
          0.943,
          0.943,
          0.944,
          0.945,
          0.946,
          0.947,
          0.947,
          0.946,
          0.946,
          0.946,
          0.947,
          0.948,
          0.948,
          0.949,
          0.972,
          0.971,
          0.946,
          0.943,
          0.95,
          0.946,
          0.949,
          0.947,
          0.954,
          0.949,
          0.954,
          0.969,
          0.954,
          0.955,
          0.97,
          0.956,
          0.956,
          0.958,
          0.958,
          0.957,
          0.956,
          0.959,
          0.959,
          0.959,
          0.96,
          0.961,
          0.962,
          0.961,
          0.96,
          0.96,
          0.96,
          0.96,
          0.959,
          0.96,
          0.963,
          0.962,
          0.962,
          0.978,
          0.977,
          0.959,
          0.956,
          0.963,
          0.958,
          0.961,
          0.962,
          0.965,
          0.96,
          0.97,
          0.97,
          0.963,
          0.974,
          0.961,
          0.965,
          0.977,
          0.968,
          0.967,
          0.968,
          0.968,
          0.967,
          0.967,
          0.967,
          0.967,
          0.968,
          0.969,
          0.968,
          0.967,
          0.968,
          0.967,
          0.967,
          0.965,
          0.965,
          0.965,
          0.966,
          0.967,
          0.966,
          0.966,
          0.964,
          0.964,
          0.964,
          0.979,
          0.979,
          0.961,
          0.961,
          0.965,
          0.96,
          0.964,
          0.96,
          0.964,
          0.975,
          0.958,
          0.966,
          0.965,
          0.963,
          0.962,
          0.962,
          0.961,
          0.961,
          0.96,
          0.959,
          0.96,
          0.959,
          0.96,
          0.961,
          0.977,
          0.977,
          0.958,
          0.956,
          0.956,
          0.956,
          0.955,
          0.957,
          0.958,
          0.955,
          0.956,
          0.955,
          0.953,
          0.953,
          0.954,
          0.955,
          0.955,
          0.954,
          0.955,
          0.953,
          0.951,
          0.95,
          0.951,
          0.95,
          0.95,
          0.951,
          0.95,
          0.949
         ],
         "yaxis": "y"
        },
        {
         "line": {
          "color": "rgba(55, 128, 191, 1.0)",
          "dash": "solid",
          "shape": "linear",
          "width": 2
         },
         "mode": "lines",
         "name": "ssim_u",
         "text": "",
         "type": "scatter",
         "x": [
          1,
          2,
          3,
          4,
          5,
          6,
          7,
          8,
          9,
          10,
          11,
          12,
          13,
          14,
          15,
          16,
          17,
          18,
          19,
          20,
          21,
          22,
          23,
          24,
          25,
          26,
          27,
          28,
          29,
          30,
          31,
          32,
          33,
          34,
          35,
          36,
          37,
          38,
          39,
          40,
          41,
          42,
          43,
          44,
          45,
          46,
          47,
          48,
          49,
          50,
          51,
          52,
          53,
          54,
          55,
          56,
          57,
          58,
          59,
          60,
          61,
          62,
          63,
          64,
          65,
          66,
          67,
          68,
          69,
          70,
          71,
          72,
          73,
          74,
          75,
          76,
          77,
          78,
          79,
          80,
          81,
          82,
          83,
          84,
          85,
          86,
          87,
          88,
          89,
          90,
          91,
          92,
          93,
          94,
          95,
          96,
          97,
          98,
          99,
          100,
          101,
          102,
          103,
          104,
          105,
          106,
          107,
          108,
          109,
          110,
          111,
          112,
          113,
          114,
          115,
          116,
          117,
          118,
          119,
          120,
          121,
          122,
          123,
          124,
          125,
          126,
          127,
          128,
          129,
          130,
          131,
          132,
          133,
          134,
          135,
          136,
          137,
          138,
          139,
          140,
          141,
          142,
          143,
          144,
          145,
          146,
          147,
          148,
          149,
          150,
          151,
          152,
          153,
          154,
          155,
          156,
          157,
          158,
          159,
          160,
          161,
          162,
          163,
          164,
          165,
          166,
          167,
          168,
          169,
          170,
          171,
          172,
          173,
          174,
          175,
          176,
          177,
          178,
          179,
          180,
          181,
          182,
          183,
          184,
          185,
          186,
          187,
          188,
          189,
          190,
          191,
          192,
          193,
          194,
          195,
          196,
          197,
          198,
          199,
          200,
          201,
          202,
          203,
          204,
          205,
          206,
          207,
          208,
          209,
          210,
          211,
          212,
          213,
          214,
          215,
          216,
          217,
          218,
          219,
          220,
          221,
          222,
          223,
          224,
          225,
          226,
          227,
          228,
          229,
          230,
          231,
          232,
          233,
          234,
          235,
          236,
          237,
          238,
          239,
          240,
          241,
          242,
          243,
          244,
          245,
          246,
          247,
          248,
          249,
          250,
          251,
          252,
          253,
          254,
          255,
          256,
          257
         ],
         "xaxis": "x2",
         "y": [
          0.957,
          0.957,
          0.96,
          0.958,
          0.96,
          0.96,
          0.958,
          0.957,
          0.961,
          0.959,
          0.958,
          0.958,
          0.957,
          0.954,
          0.956,
          0.954,
          0.955,
          0.956,
          0.953,
          0.956,
          0.955,
          0.957,
          0.955,
          0.956,
          0.956,
          0.954,
          0.953,
          0.953,
          0.957,
          0.952,
          0.952,
          0.953,
          0.951,
          0.953,
          0.95,
          0.951,
          0.952,
          0.951,
          0.951,
          0.952,
          0.948,
          0.947,
          0.95,
          0.95,
          0.947,
          0.947,
          0.947,
          0.95,
          0.947,
          0.946,
          0.949,
          0.947,
          0.947,
          0.948,
          0.948,
          0.946,
          0.945,
          0.948,
          0.948,
          0.947,
          0.946,
          0.944,
          0.948,
          0.944,
          0.948,
          0.947,
          0.947,
          0.947,
          0.945,
          0.945,
          0.945,
          0.948,
          0.948,
          0.948,
          0.947,
          0.945,
          0.945,
          0.945,
          0.949,
          0.948,
          0.947,
          0.949,
          0.944,
          0.945,
          0.952,
          0.951,
          0.952,
          0.951,
          0.95,
          0.949,
          0.95,
          0.95,
          0.95,
          0.954,
          0.953,
          0.952,
          0.952,
          0.95,
          0.95,
          0.953,
          0.952,
          0.952,
          0.952,
          0.95,
          0.952,
          0.949,
          0.949,
          0.953,
          0.951,
          0.951,
          0.951,
          0.949,
          0.948,
          0.949,
          0.949,
          0.952,
          0.954,
          0.955,
          0.953,
          0.954,
          0.95,
          0.952,
          0.955,
          0.955,
          0.954,
          0.952,
          0.957,
          0.957,
          0.953,
          0.953,
          0.956,
          0.956,
          0.956,
          0.957,
          0.957,
          0.961,
          0.955,
          0.959,
          0.959,
          0.958,
          0.959,
          0.957,
          0.958,
          0.958,
          0.958,
          0.958,
          0.958,
          0.96,
          0.961,
          0.963,
          0.962,
          0.963,
          0.968,
          0.961,
          0.962,
          0.962,
          0.964,
          0.964,
          0.962,
          0.963,
          0.962,
          0.963,
          0.963,
          0.968,
          0.968,
          0.963,
          0.964,
          0.966,
          0.962,
          0.962,
          0.968,
          0.961,
          0.959,
          0.961,
          0.961,
          0.963,
          0.962,
          0.96,
          0.961,
          0.963,
          0.96,
          0.961,
          0.963,
          0.963,
          0.962,
          0.963,
          0.962,
          0.958,
          0.957,
          0.964,
          0.956,
          0.957,
          0.959,
          0.963,
          0.961,
          0.958,
          0.958,
          0.958,
          0.956,
          0.956,
          0.956,
          0.959,
          0.957,
          0.96,
          0.959,
          0.961,
          0.961,
          0.957,
          0.963,
          0.957,
          0.957,
          0.959,
          0.96,
          0.96,
          0.96,
          0.959,
          0.956,
          0.956,
          0.957,
          0.958,
          0.959,
          0.957,
          0.959,
          0.958,
          0.957,
          0.957,
          0.96,
          0.957,
          0.959,
          0.964,
          0.964,
          0.959,
          0.958,
          0.957,
          0.956,
          0.955,
          0.957,
          0.957,
          0.956,
          0.958,
          0.954,
          0.956,
          0.954,
          0.955,
          0.955,
          0.957,
          0.956,
          0.956,
          0.956,
          0.955,
          0.954,
          0.954,
          0.955,
          0.955,
          0.956,
          0.956,
          0.956
         ],
         "yaxis": "y2"
        },
        {
         "line": {
          "color": "rgba(50, 171, 96, 1.0)",
          "dash": "solid",
          "shape": "linear",
          "width": 2
         },
         "mode": "lines",
         "name": "ssim_v",
         "text": "",
         "type": "scatter",
         "x": [
          1,
          2,
          3,
          4,
          5,
          6,
          7,
          8,
          9,
          10,
          11,
          12,
          13,
          14,
          15,
          16,
          17,
          18,
          19,
          20,
          21,
          22,
          23,
          24,
          25,
          26,
          27,
          28,
          29,
          30,
          31,
          32,
          33,
          34,
          35,
          36,
          37,
          38,
          39,
          40,
          41,
          42,
          43,
          44,
          45,
          46,
          47,
          48,
          49,
          50,
          51,
          52,
          53,
          54,
          55,
          56,
          57,
          58,
          59,
          60,
          61,
          62,
          63,
          64,
          65,
          66,
          67,
          68,
          69,
          70,
          71,
          72,
          73,
          74,
          75,
          76,
          77,
          78,
          79,
          80,
          81,
          82,
          83,
          84,
          85,
          86,
          87,
          88,
          89,
          90,
          91,
          92,
          93,
          94,
          95,
          96,
          97,
          98,
          99,
          100,
          101,
          102,
          103,
          104,
          105,
          106,
          107,
          108,
          109,
          110,
          111,
          112,
          113,
          114,
          115,
          116,
          117,
          118,
          119,
          120,
          121,
          122,
          123,
          124,
          125,
          126,
          127,
          128,
          129,
          130,
          131,
          132,
          133,
          134,
          135,
          136,
          137,
          138,
          139,
          140,
          141,
          142,
          143,
          144,
          145,
          146,
          147,
          148,
          149,
          150,
          151,
          152,
          153,
          154,
          155,
          156,
          157,
          158,
          159,
          160,
          161,
          162,
          163,
          164,
          165,
          166,
          167,
          168,
          169,
          170,
          171,
          172,
          173,
          174,
          175,
          176,
          177,
          178,
          179,
          180,
          181,
          182,
          183,
          184,
          185,
          186,
          187,
          188,
          189,
          190,
          191,
          192,
          193,
          194,
          195,
          196,
          197,
          198,
          199,
          200,
          201,
          202,
          203,
          204,
          205,
          206,
          207,
          208,
          209,
          210,
          211,
          212,
          213,
          214,
          215,
          216,
          217,
          218,
          219,
          220,
          221,
          222,
          223,
          224,
          225,
          226,
          227,
          228,
          229,
          230,
          231,
          232,
          233,
          234,
          235,
          236,
          237,
          238,
          239,
          240,
          241,
          242,
          243,
          244,
          245,
          246,
          247,
          248,
          249,
          250,
          251,
          252,
          253,
          254,
          255,
          256,
          257
         ],
         "xaxis": "x3",
         "y": [
          0.919,
          0.915,
          0.921,
          0.918,
          0.924,
          0.924,
          0.916,
          0.92,
          0.926,
          0.918,
          0.917,
          0.919,
          0.925,
          0.917,
          0.917,
          0.916,
          0.917,
          0.917,
          0.917,
          0.92,
          0.917,
          0.918,
          0.914,
          0.916,
          0.914,
          0.916,
          0.914,
          0.916,
          0.915,
          0.914,
          0.914,
          0.913,
          0.913,
          0.915,
          0.912,
          0.916,
          0.917,
          0.913,
          0.913,
          0.914,
          0.912,
          0.912,
          0.913,
          0.912,
          0.911,
          0.912,
          0.911,
          0.912,
          0.909,
          0.909,
          0.91,
          0.911,
          0.912,
          0.914,
          0.913,
          0.913,
          0.912,
          0.914,
          0.915,
          0.916,
          0.916,
          0.914,
          0.919,
          0.913,
          0.918,
          0.919,
          0.917,
          0.916,
          0.915,
          0.915,
          0.915,
          0.919,
          0.919,
          0.917,
          0.918,
          0.915,
          0.916,
          0.915,
          0.92,
          0.918,
          0.918,
          0.918,
          0.914,
          0.916,
          0.922,
          0.921,
          0.923,
          0.922,
          0.923,
          0.922,
          0.923,
          0.924,
          0.923,
          0.927,
          0.925,
          0.924,
          0.925,
          0.923,
          0.924,
          0.927,
          0.924,
          0.924,
          0.924,
          0.923,
          0.924,
          0.921,
          0.921,
          0.927,
          0.922,
          0.923,
          0.92,
          0.922,
          0.921,
          0.921,
          0.921,
          0.921,
          0.922,
          0.924,
          0.922,
          0.926,
          0.92,
          0.921,
          0.924,
          0.924,
          0.924,
          0.926,
          0.937,
          0.937,
          0.925,
          0.925,
          0.928,
          0.929,
          0.93,
          0.927,
          0.931,
          0.933,
          0.928,
          0.934,
          0.93,
          0.931,
          0.935,
          0.931,
          0.931,
          0.932,
          0.932,
          0.931,
          0.931,
          0.933,
          0.935,
          0.937,
          0.935,
          0.938,
          0.947,
          0.938,
          0.938,
          0.936,
          0.937,
          0.936,
          0.933,
          0.935,
          0.937,
          0.936,
          0.935,
          0.944,
          0.944,
          0.933,
          0.933,
          0.938,
          0.933,
          0.937,
          0.945,
          0.936,
          0.933,
          0.937,
          0.937,
          0.936,
          0.94,
          0.932,
          0.935,
          0.943,
          0.937,
          0.936,
          0.938,
          0.937,
          0.936,
          0.937,
          0.938,
          0.936,
          0.936,
          0.948,
          0.936,
          0.936,
          0.938,
          0.938,
          0.937,
          0.934,
          0.933,
          0.934,
          0.935,
          0.935,
          0.934,
          0.935,
          0.932,
          0.933,
          0.932,
          0.941,
          0.941,
          0.93,
          0.939,
          0.932,
          0.93,
          0.933,
          0.935,
          0.936,
          0.938,
          0.931,
          0.932,
          0.932,
          0.933,
          0.934,
          0.935,
          0.933,
          0.934,
          0.933,
          0.931,
          0.931,
          0.937,
          0.933,
          0.935,
          0.944,
          0.944,
          0.932,
          0.93,
          0.931,
          0.928,
          0.928,
          0.931,
          0.933,
          0.931,
          0.931,
          0.928,
          0.932,
          0.93,
          0.929,
          0.931,
          0.931,
          0.932,
          0.934,
          0.933,
          0.931,
          0.928,
          0.928,
          0.929,
          0.927,
          0.931,
          0.932,
          0.931
         ],
         "yaxis": "y3"
        },
        {
         "line": {
          "color": "rgba(128, 0, 128, 1.0)",
          "dash": "solid",
          "shape": "linear",
          "width": 2
         },
         "mode": "lines",
         "name": "ssim_y_ema25",
         "text": "",
         "type": "scatter",
         "x": [
          1,
          2,
          3,
          4,
          5,
          6,
          7,
          8,
          9,
          10,
          11,
          12,
          13,
          14,
          15,
          16,
          17,
          18,
          19,
          20,
          21,
          22,
          23,
          24,
          25,
          26,
          27,
          28,
          29,
          30,
          31,
          32,
          33,
          34,
          35,
          36,
          37,
          38,
          39,
          40,
          41,
          42,
          43,
          44,
          45,
          46,
          47,
          48,
          49,
          50,
          51,
          52,
          53,
          54,
          55,
          56,
          57,
          58,
          59,
          60,
          61,
          62,
          63,
          64,
          65,
          66,
          67,
          68,
          69,
          70,
          71,
          72,
          73,
          74,
          75,
          76,
          77,
          78,
          79,
          80,
          81,
          82,
          83,
          84,
          85,
          86,
          87,
          88,
          89,
          90,
          91,
          92,
          93,
          94,
          95,
          96,
          97,
          98,
          99,
          100,
          101,
          102,
          103,
          104,
          105,
          106,
          107,
          108,
          109,
          110,
          111,
          112,
          113,
          114,
          115,
          116,
          117,
          118,
          119,
          120,
          121,
          122,
          123,
          124,
          125,
          126,
          127,
          128,
          129,
          130,
          131,
          132,
          133,
          134,
          135,
          136,
          137,
          138,
          139,
          140,
          141,
          142,
          143,
          144,
          145,
          146,
          147,
          148,
          149,
          150,
          151,
          152,
          153,
          154,
          155,
          156,
          157,
          158,
          159,
          160,
          161,
          162,
          163,
          164,
          165,
          166,
          167,
          168,
          169,
          170,
          171,
          172,
          173,
          174,
          175,
          176,
          177,
          178,
          179,
          180,
          181,
          182,
          183,
          184,
          185,
          186,
          187,
          188,
          189,
          190,
          191,
          192,
          193,
          194,
          195,
          196,
          197,
          198,
          199,
          200,
          201,
          202,
          203,
          204,
          205,
          206,
          207,
          208,
          209,
          210,
          211,
          212,
          213,
          214,
          215,
          216,
          217,
          218,
          219,
          220,
          221,
          222,
          223,
          224,
          225,
          226,
          227,
          228,
          229,
          230,
          231,
          232,
          233,
          234,
          235,
          236,
          237,
          238,
          239,
          240,
          241,
          242,
          243,
          244,
          245,
          246,
          247,
          248,
          249,
          250,
          251,
          252,
          253,
          254,
          255,
          256,
          257
         ],
         "xaxis": "x4",
         "y": [
          0.948,
          0.9472307692307692,
          0.9468284023668639,
          0.9462262175694129,
          0.9470549700640736,
          0.9477430492899142,
          0.9469935839599207,
          0.9467633082706961,
          0.9481661307114119,
          0.9479225821951495,
          0.9474669989493688,
          0.9475079990301867,
          0.9489304606432493,
          0.9487050405937686,
          0.9484200374711711,
          0.9483108038195427,
          0.948133049679578,
          0.9480458920119182,
          0.9478885157033092,
          0.9478201683415163,
          0.9477570784690921,
          0.9477757647407004,
          0.9475622443760312,
          0.9474420717317212,
          0.9473311431369735,
          0.9473056705879757,
          0.9471283113119776,
          0.9468876719802871,
          0.946742466443342,
          0.9466084305630851,
          0.9464077820582325,
          0.9461456449768301,
          0.9459805953632279,
          0.9458282418737489,
          0.9456106848065375,
          0.9454867859752655,
          0.9452185716694759,
          0.9448940661564393,
          0.944594522605944,
          0.9442410977901022,
          0.9440687056524021,
          0.9439095744483712,
          0.9436857610292658,
          0.9434791640270147,
          0.9431346129480136,
          0.9428934888750895,
          0.9425939897308518,
          0.942471375136171,
          0.9422043462795424,
          0.9420347811811162,
          0.9418013364748765,
          0.9416627721306553,
          0.9414579435052203,
          0.9413457940048188,
          0.9411653483121404,
          0.9410757061342835,
          0.9409929595085694,
          0.9410704241617565,
          0.9411419299954675,
          0.9409771661496623,
          0.9408250764458421,
          0.9407616090269312,
          0.9408568698710135,
          0.9407909568040125,
          0.9408839601267808,
          0.9408928862708746,
          0.9409011257884997,
          0.9408318084201536,
          0.9407678231570649,
          0.9408626059911368,
          0.9407962516841263,
          0.9408888477084243,
          0.9409743209616225,
          0.940976296272267,
          0.9409781196359388,
          0.9409798027408667,
          0.9409813563761846,
          0.9409058674241705,
          0.9410669545453882,
          0.9411387272726661,
          0.9411280559439995,
          0.9411951285636919,
          0.9411031955972541,
          0.9411721805513115,
          0.9410820128165952,
          0.9408449349076263,
          0.9407799399147321,
          0.9407968676135989,
          0.9407355701048606,
          0.9406020647121791,
          0.9406326751189346,
          0.9405840078020935,
          0.9405390841250094,
          0.9406514622692396,
          0.9406782728639135,
          0.9406260980282278,
          0.940501013564518,
          0.9403086279057089,
          0.9403618103745006,
          0.9404878249610775,
          0.9406810691948408,
          0.9408594484875454,
          0.9411010293731189,
          0.9412471040367252,
          0.9413050191108233,
          0.9413584791792216,
          0.9414078269346661,
          0.9416841479396918,
          0.9418622904058694,
          0.9421036526823411,
          0.9424033717067765,
          0.9424492661908707,
          0.9424916303300345,
          0.9425307356892626,
          0.9426437560208578,
          0.942825005557715,
          0.9430692358994293,
          0.943371602368704,
          0.9436507098788037,
          0.9438314245035112,
          0.9439982380032412,
          0.9441522196952997,
          0.9443712797187384,
          0.9446504120480663,
          0.9449080726597536,
          0.9452228363013111,
          0.9472826181242873,
          0.9491070321147268,
          0.9488680296443633,
          0.9484166427486431,
          0.9485384394602859,
          0.9483431748864178,
          0.948393699895155,
          0.9482864922109124,
          0.9487259928100731,
          0.9487470702862213,
          0.9491511418026659,
          0.9506779770486148,
          0.9509335172756445,
          0.9512463236390565,
          0.9526889141283599,
          0.952943613041563,
          0.9531787197306737,
          0.9535495874436989,
          0.9538919268711068,
          0.9541310094194833,
          0.9542747779256769,
          0.9546382565467788,
          0.9549737752739498,
          0.9552834848682614,
          0.9556462937245491,
          0.9560581172841993,
          0.9565151851854148,
          0.956860170940383,
          0.9571016962526613,
          0.9573246426947644,
          0.9575304394105518,
          0.9577204056097403,
          0.9578188359474527,
          0.9579866177976487,
          0.958372262582445,
          0.9586513193068723,
          0.9589089101294206,
          0.9603774555040806,
          0.9616561127729975,
          0.9614517964058439,
          0.9610324274515483,
          0.9611837791860446,
          0.9609388730948105,
          0.9609435751644406,
          0.9610248386133298,
          0.9613306202584583,
          0.9612282648539616,
          0.9619030137113492,
          0.9625258588104763,
          0.9625623312096704,
          0.9634421518858496,
          0.9632542940484765,
          0.9633885791216706,
          0.9644356114969268,
          0.9647097952279325,
          0.9648859648257839,
          0.9651255059930314,
          0.9653466209166444,
          0.9654738039230564,
          0.9655912036212828,
          0.9656995725734919,
          0.9657996054524541,
          0.9659688665714962,
          0.9662020306813811,
          0.9663403360135826,
          0.9663910793971532,
          0.9665148425204492,
          0.9665521623265685,
          0.966586611378371,
          0.9664645643492655,
          0.9663519055531682,
          0.9662479128183091,
          0.9662288426015162,
          0.9662881624013996,
          0.9662659960628305,
          0.9662455348272282,
          0.9660728013789799,
          0.9659133551190584,
          0.9657661739560539,
          0.9667841605748191,
          0.9677238405306022,
          0.9672066220282483,
          0.9667291895645369,
          0.9665961749826495,
          0.9660887769070612,
          0.9659281017603641,
          0.9654720939326439,
          0.9653588559378251,
          0.9661004824041463,
          0.9654773683730582,
          0.9655175708059,
          0.9654777576669846,
          0.9652871609233704,
          0.9650343023908035,
          0.9648008945145878,
          0.9645085180134658,
          0.9642386320124301,
          0.9639125833960894,
          0.9635346923656211,
          0.9632627929528811,
          0.9629348858026595,
          0.9627091253563012,
          0.9625776541750473,
          0.9636870653923514,
          0.9647111372852475,
          0.9641948959556131,
          0.963564519343643,
          0.9629826332402859,
          0.9624455076064178,
          0.961872776252078,
          0.9614979473096106,
          0.9612288744396407,
          0.9607497302519761,
          0.9603843663864395,
          0.9599701843567134,
          0.9594340163292739,
          0.9589390919962529,
          0.9585591618426951,
          0.9582853801624878,
          0.9580326586115272,
          0.9577224541029482,
          0.9575130345565677,
          0.9571658780522163,
          0.9566915797405073,
          0.9561768428373913,
          0.9557786241575921,
          0.9553341146070081,
          0.9549237980987767,
          0.9546219674757939,
          0.9542664315161175,
          0.9538613213994931
         ],
         "yaxis": "y4"
        }
       ],
       "layout": {
        "autosize": true,
        "legend": {
         "bgcolor": "#F5F6F9",
         "font": {
          "color": "#4D5663"
         }
        },
        "paper_bgcolor": "#F5F6F9",
        "plot_bgcolor": "#F5F6F9",
        "template": {
         "data": {
          "bar": [
           {
            "error_x": {
             "color": "#2a3f5f"
            },
            "error_y": {
             "color": "#2a3f5f"
            },
            "marker": {
             "line": {
              "color": "#E5ECF6",
              "width": 0.5
             },
             "pattern": {
              "fillmode": "overlay",
              "size": 10,
              "solidity": 0.2
             }
            },
            "type": "bar"
           }
          ],
          "barpolar": [
           {
            "marker": {
             "line": {
              "color": "#E5ECF6",
              "width": 0.5
             },
             "pattern": {
              "fillmode": "overlay",
              "size": 10,
              "solidity": 0.2
             }
            },
            "type": "barpolar"
           }
          ],
          "carpet": [
           {
            "aaxis": {
             "endlinecolor": "#2a3f5f",
             "gridcolor": "white",
             "linecolor": "white",
             "minorgridcolor": "white",
             "startlinecolor": "#2a3f5f"
            },
            "baxis": {
             "endlinecolor": "#2a3f5f",
             "gridcolor": "white",
             "linecolor": "white",
             "minorgridcolor": "white",
             "startlinecolor": "#2a3f5f"
            },
            "type": "carpet"
           }
          ],
          "choropleth": [
           {
            "colorbar": {
             "outlinewidth": 0,
             "ticks": ""
            },
            "type": "choropleth"
           }
          ],
          "contour": [
           {
            "colorbar": {
             "outlinewidth": 0,
             "ticks": ""
            },
            "colorscale": [
             [
              0,
              "#0d0887"
             ],
             [
              0.1111111111111111,
              "#46039f"
             ],
             [
              0.2222222222222222,
              "#7201a8"
             ],
             [
              0.3333333333333333,
              "#9c179e"
             ],
             [
              0.4444444444444444,
              "#bd3786"
             ],
             [
              0.5555555555555556,
              "#d8576b"
             ],
             [
              0.6666666666666666,
              "#ed7953"
             ],
             [
              0.7777777777777778,
              "#fb9f3a"
             ],
             [
              0.8888888888888888,
              "#fdca26"
             ],
             [
              1,
              "#f0f921"
             ]
            ],
            "type": "contour"
           }
          ],
          "contourcarpet": [
           {
            "colorbar": {
             "outlinewidth": 0,
             "ticks": ""
            },
            "type": "contourcarpet"
           }
          ],
          "heatmap": [
           {
            "colorbar": {
             "outlinewidth": 0,
             "ticks": ""
            },
            "colorscale": [
             [
              0,
              "#0d0887"
             ],
             [
              0.1111111111111111,
              "#46039f"
             ],
             [
              0.2222222222222222,
              "#7201a8"
             ],
             [
              0.3333333333333333,
              "#9c179e"
             ],
             [
              0.4444444444444444,
              "#bd3786"
             ],
             [
              0.5555555555555556,
              "#d8576b"
             ],
             [
              0.6666666666666666,
              "#ed7953"
             ],
             [
              0.7777777777777778,
              "#fb9f3a"
             ],
             [
              0.8888888888888888,
              "#fdca26"
             ],
             [
              1,
              "#f0f921"
             ]
            ],
            "type": "heatmap"
           }
          ],
          "heatmapgl": [
           {
            "colorbar": {
             "outlinewidth": 0,
             "ticks": ""
            },
            "colorscale": [
             [
              0,
              "#0d0887"
             ],
             [
              0.1111111111111111,
              "#46039f"
             ],
             [
              0.2222222222222222,
              "#7201a8"
             ],
             [
              0.3333333333333333,
              "#9c179e"
             ],
             [
              0.4444444444444444,
              "#bd3786"
             ],
             [
              0.5555555555555556,
              "#d8576b"
             ],
             [
              0.6666666666666666,
              "#ed7953"
             ],
             [
              0.7777777777777778,
              "#fb9f3a"
             ],
             [
              0.8888888888888888,
              "#fdca26"
             ],
             [
              1,
              "#f0f921"
             ]
            ],
            "type": "heatmapgl"
           }
          ],
          "histogram": [
           {
            "marker": {
             "pattern": {
              "fillmode": "overlay",
              "size": 10,
              "solidity": 0.2
             }
            },
            "type": "histogram"
           }
          ],
          "histogram2d": [
           {
            "colorbar": {
             "outlinewidth": 0,
             "ticks": ""
            },
            "colorscale": [
             [
              0,
              "#0d0887"
             ],
             [
              0.1111111111111111,
              "#46039f"
             ],
             [
              0.2222222222222222,
              "#7201a8"
             ],
             [
              0.3333333333333333,
              "#9c179e"
             ],
             [
              0.4444444444444444,
              "#bd3786"
             ],
             [
              0.5555555555555556,
              "#d8576b"
             ],
             [
              0.6666666666666666,
              "#ed7953"
             ],
             [
              0.7777777777777778,
              "#fb9f3a"
             ],
             [
              0.8888888888888888,
              "#fdca26"
             ],
             [
              1,
              "#f0f921"
             ]
            ],
            "type": "histogram2d"
           }
          ],
          "histogram2dcontour": [
           {
            "colorbar": {
             "outlinewidth": 0,
             "ticks": ""
            },
            "colorscale": [
             [
              0,
              "#0d0887"
             ],
             [
              0.1111111111111111,
              "#46039f"
             ],
             [
              0.2222222222222222,
              "#7201a8"
             ],
             [
              0.3333333333333333,
              "#9c179e"
             ],
             [
              0.4444444444444444,
              "#bd3786"
             ],
             [
              0.5555555555555556,
              "#d8576b"
             ],
             [
              0.6666666666666666,
              "#ed7953"
             ],
             [
              0.7777777777777778,
              "#fb9f3a"
             ],
             [
              0.8888888888888888,
              "#fdca26"
             ],
             [
              1,
              "#f0f921"
             ]
            ],
            "type": "histogram2dcontour"
           }
          ],
          "mesh3d": [
           {
            "colorbar": {
             "outlinewidth": 0,
             "ticks": ""
            },
            "type": "mesh3d"
           }
          ],
          "parcoords": [
           {
            "line": {
             "colorbar": {
              "outlinewidth": 0,
              "ticks": ""
             }
            },
            "type": "parcoords"
           }
          ],
          "pie": [
           {
            "automargin": true,
            "type": "pie"
           }
          ],
          "scatter": [
           {
            "marker": {
             "colorbar": {
              "outlinewidth": 0,
              "ticks": ""
             }
            },
            "type": "scatter"
           }
          ],
          "scatter3d": [
           {
            "line": {
             "colorbar": {
              "outlinewidth": 0,
              "ticks": ""
             }
            },
            "marker": {
             "colorbar": {
              "outlinewidth": 0,
              "ticks": ""
             }
            },
            "type": "scatter3d"
           }
          ],
          "scattercarpet": [
           {
            "marker": {
             "colorbar": {
              "outlinewidth": 0,
              "ticks": ""
             }
            },
            "type": "scattercarpet"
           }
          ],
          "scattergeo": [
           {
            "marker": {
             "colorbar": {
              "outlinewidth": 0,
              "ticks": ""
             }
            },
            "type": "scattergeo"
           }
          ],
          "scattergl": [
           {
            "marker": {
             "colorbar": {
              "outlinewidth": 0,
              "ticks": ""
             }
            },
            "type": "scattergl"
           }
          ],
          "scattermapbox": [
           {
            "marker": {
             "colorbar": {
              "outlinewidth": 0,
              "ticks": ""
             }
            },
            "type": "scattermapbox"
           }
          ],
          "scatterpolar": [
           {
            "marker": {
             "colorbar": {
              "outlinewidth": 0,
              "ticks": ""
             }
            },
            "type": "scatterpolar"
           }
          ],
          "scatterpolargl": [
           {
            "marker": {
             "colorbar": {
              "outlinewidth": 0,
              "ticks": ""
             }
            },
            "type": "scatterpolargl"
           }
          ],
          "scatterternary": [
           {
            "marker": {
             "colorbar": {
              "outlinewidth": 0,
              "ticks": ""
             }
            },
            "type": "scatterternary"
           }
          ],
          "surface": [
           {
            "colorbar": {
             "outlinewidth": 0,
             "ticks": ""
            },
            "colorscale": [
             [
              0,
              "#0d0887"
             ],
             [
              0.1111111111111111,
              "#46039f"
             ],
             [
              0.2222222222222222,
              "#7201a8"
             ],
             [
              0.3333333333333333,
              "#9c179e"
             ],
             [
              0.4444444444444444,
              "#bd3786"
             ],
             [
              0.5555555555555556,
              "#d8576b"
             ],
             [
              0.6666666666666666,
              "#ed7953"
             ],
             [
              0.7777777777777778,
              "#fb9f3a"
             ],
             [
              0.8888888888888888,
              "#fdca26"
             ],
             [
              1,
              "#f0f921"
             ]
            ],
            "type": "surface"
           }
          ],
          "table": [
           {
            "cells": {
             "fill": {
              "color": "#EBF0F8"
             },
             "line": {
              "color": "white"
             }
            },
            "header": {
             "fill": {
              "color": "#C8D4E3"
             },
             "line": {
              "color": "white"
             }
            },
            "type": "table"
           }
          ]
         },
         "layout": {
          "annotationdefaults": {
           "arrowcolor": "#2a3f5f",
           "arrowhead": 0,
           "arrowwidth": 1
          },
          "autotypenumbers": "strict",
          "coloraxis": {
           "colorbar": {
            "outlinewidth": 0,
            "ticks": ""
           }
          },
          "colorscale": {
           "diverging": [
            [
             0,
             "#8e0152"
            ],
            [
             0.1,
             "#c51b7d"
            ],
            [
             0.2,
             "#de77ae"
            ],
            [
             0.3,
             "#f1b6da"
            ],
            [
             0.4,
             "#fde0ef"
            ],
            [
             0.5,
             "#f7f7f7"
            ],
            [
             0.6,
             "#e6f5d0"
            ],
            [
             0.7,
             "#b8e186"
            ],
            [
             0.8,
             "#7fbc41"
            ],
            [
             0.9,
             "#4d9221"
            ],
            [
             1,
             "#276419"
            ]
           ],
           "sequential": [
            [
             0,
             "#0d0887"
            ],
            [
             0.1111111111111111,
             "#46039f"
            ],
            [
             0.2222222222222222,
             "#7201a8"
            ],
            [
             0.3333333333333333,
             "#9c179e"
            ],
            [
             0.4444444444444444,
             "#bd3786"
            ],
            [
             0.5555555555555556,
             "#d8576b"
            ],
            [
             0.6666666666666666,
             "#ed7953"
            ],
            [
             0.7777777777777778,
             "#fb9f3a"
            ],
            [
             0.8888888888888888,
             "#fdca26"
            ],
            [
             1,
             "#f0f921"
            ]
           ],
           "sequentialminus": [
            [
             0,
             "#0d0887"
            ],
            [
             0.1111111111111111,
             "#46039f"
            ],
            [
             0.2222222222222222,
             "#7201a8"
            ],
            [
             0.3333333333333333,
             "#9c179e"
            ],
            [
             0.4444444444444444,
             "#bd3786"
            ],
            [
             0.5555555555555556,
             "#d8576b"
            ],
            [
             0.6666666666666666,
             "#ed7953"
            ],
            [
             0.7777777777777778,
             "#fb9f3a"
            ],
            [
             0.8888888888888888,
             "#fdca26"
            ],
            [
             1,
             "#f0f921"
            ]
           ]
          },
          "colorway": [
           "#636efa",
           "#EF553B",
           "#00cc96",
           "#ab63fa",
           "#FFA15A",
           "#19d3f3",
           "#FF6692",
           "#B6E880",
           "#FF97FF",
           "#FECB52"
          ],
          "font": {
           "color": "#2a3f5f"
          },
          "geo": {
           "bgcolor": "white",
           "lakecolor": "white",
           "landcolor": "#E5ECF6",
           "showlakes": true,
           "showland": true,
           "subunitcolor": "white"
          },
          "hoverlabel": {
           "align": "left"
          },
          "hovermode": "closest",
          "mapbox": {
           "style": "light"
          },
          "paper_bgcolor": "white",
          "plot_bgcolor": "#E5ECF6",
          "polar": {
           "angularaxis": {
            "gridcolor": "white",
            "linecolor": "white",
            "ticks": ""
           },
           "bgcolor": "#E5ECF6",
           "radialaxis": {
            "gridcolor": "white",
            "linecolor": "white",
            "ticks": ""
           }
          },
          "scene": {
           "xaxis": {
            "backgroundcolor": "#E5ECF6",
            "gridcolor": "white",
            "gridwidth": 2,
            "linecolor": "white",
            "showbackground": true,
            "ticks": "",
            "zerolinecolor": "white"
           },
           "yaxis": {
            "backgroundcolor": "#E5ECF6",
            "gridcolor": "white",
            "gridwidth": 2,
            "linecolor": "white",
            "showbackground": true,
            "ticks": "",
            "zerolinecolor": "white"
           },
           "zaxis": {
            "backgroundcolor": "#E5ECF6",
            "gridcolor": "white",
            "gridwidth": 2,
            "linecolor": "white",
            "showbackground": true,
            "ticks": "",
            "zerolinecolor": "white"
           }
          },
          "shapedefaults": {
           "line": {
            "color": "#2a3f5f"
           }
          },
          "ternary": {
           "aaxis": {
            "gridcolor": "white",
            "linecolor": "white",
            "ticks": ""
           },
           "baxis": {
            "gridcolor": "white",
            "linecolor": "white",
            "ticks": ""
           },
           "bgcolor": "#E5ECF6",
           "caxis": {
            "gridcolor": "white",
            "linecolor": "white",
            "ticks": ""
           }
          },
          "title": {
           "x": 0.05
          },
          "xaxis": {
           "automargin": true,
           "gridcolor": "white",
           "linecolor": "white",
           "ticks": "",
           "title": {
            "standoff": 15
           },
           "zerolinecolor": "white",
           "zerolinewidth": 2
          },
          "yaxis": {
           "automargin": true,
           "gridcolor": "white",
           "linecolor": "white",
           "ticks": "",
           "title": {
            "standoff": 15
           },
           "zerolinecolor": "white",
           "zerolinewidth": 2
          }
         }
        },
        "title": {
         "font": {
          "color": "#4D5663"
         }
        },
        "xaxis": {
         "anchor": "y",
         "autorange": true,
         "domain": [
          0,
          0.45
         ],
         "gridcolor": "#E1E5ED",
         "range": [
          1,
          257
         ],
         "showgrid": true,
         "tickfont": {
          "color": "#4D5663"
         },
         "title": {
          "font": {
           "color": "#4D5663"
          },
          "text": ""
         },
         "type": "linear",
         "zerolinecolor": "#E1E5ED"
        },
        "xaxis2": {
         "anchor": "y2",
         "autorange": true,
         "domain": [
          0.55,
          1
         ],
         "gridcolor": "#E1E5ED",
         "range": [
          1,
          257
         ],
         "showgrid": true,
         "tickfont": {
          "color": "#4D5663"
         },
         "title": {
          "font": {
           "color": "#4D5663"
          },
          "text": ""
         },
         "type": "linear",
         "zerolinecolor": "#E1E5ED"
        },
        "xaxis3": {
         "anchor": "y3",
         "autorange": true,
         "domain": [
          0,
          0.45
         ],
         "gridcolor": "#E1E5ED",
         "range": [
          1,
          257
         ],
         "showgrid": true,
         "tickfont": {
          "color": "#4D5663"
         },
         "title": {
          "font": {
           "color": "#4D5663"
          },
          "text": ""
         },
         "type": "linear",
         "zerolinecolor": "#E1E5ED"
        },
        "xaxis4": {
         "anchor": "y4",
         "autorange": true,
         "domain": [
          0.55,
          1
         ],
         "gridcolor": "#E1E5ED",
         "range": [
          1,
          257
         ],
         "showgrid": true,
         "tickfont": {
          "color": "#4D5663"
         },
         "title": {
          "font": {
           "color": "#4D5663"
          },
          "text": ""
         },
         "type": "linear",
         "zerolinecolor": "#E1E5ED"
        },
        "yaxis": {
         "anchor": "x",
         "autorange": true,
         "domain": [
          0.575,
          1
         ],
         "gridcolor": "#E1E5ED",
         "range": [
          0.9357222222222221,
          0.9812777777777778
         ],
         "showgrid": true,
         "tickfont": {
          "color": "#4D5663"
         },
         "title": {
          "font": {
           "color": "#4D5663"
          },
          "text": ""
         },
         "type": "linear",
         "zerolinecolor": "#E1E5ED"
        },
        "yaxis2": {
         "anchor": "x2",
         "autorange": true,
         "domain": [
          0.575,
          1
         ],
         "gridcolor": "#E1E5ED",
         "range": [
          0.9426666666666667,
          0.9693333333333333
         ],
         "showgrid": true,
         "tickfont": {
          "color": "#4D5663"
         },
         "title": {
          "font": {
           "color": "#4D5663"
          },
          "text": ""
         },
         "type": "linear",
         "zerolinecolor": "#E1E5ED"
        },
        "yaxis3": {
         "anchor": "x3",
         "autorange": true,
         "domain": [
          0,
          0.425
         ],
         "gridcolor": "#E1E5ED",
         "range": [
          0.9068333333333334,
          0.9501666666666666
         ],
         "showgrid": true,
         "tickfont": {
          "color": "#4D5663"
         },
         "title": {
          "font": {
           "color": "#4D5663"
          },
          "text": ""
         },
         "type": "linear",
         "zerolinecolor": "#E1E5ED"
        },
        "yaxis4": {
         "anchor": "x4",
         "autorange": true,
         "domain": [
          0,
          0.425
         ],
         "gridcolor": "#E1E5ED",
         "range": [
          0.9387855605376593,
          0.9692469078986519
         ],
         "showgrid": true,
         "tickfont": {
          "color": "#4D5663"
         },
         "title": {
          "font": {
           "color": "#4D5663"
          },
          "text": ""
         },
         "type": "linear",
         "zerolinecolor": "#E1E5ED"
        }
       }
      },
      "image/png": "[encoded data removed]",
      "text/html": [
       "<div>                            <div id=\"9cec8c70-73ce-44d7-b528-dcfb7a674dc5\" class=\"plotly-graph-div\" style=\"height:525px; width:100%;\"></div>            <script type=\"text/javascript\">                require([\"plotly\"], function(Plotly) {                    window.PLOTLYENV=window.PLOTLYENV || {};\n",
       "                    window.PLOTLYENV.BASE_URL='https://plot.ly';                                    if (document.getElementById(\"9cec8c70-73ce-44d7-b528-dcfb7a674dc5\")) {                    Plotly.newPlot(                        \"9cec8c70-73ce-44d7-b528-dcfb7a674dc5\",                        [{\"line\":{\"color\":\"rgba(255, 153, 51, 1.0)\",\"dash\":\"solid\",\"shape\":\"linear\",\"width\":2.0},\"mode\":\"lines\",\"name\":\"ssim_y\",\"text\":\"\",\"x\":[1,2,3,4,5,6,7,8,9,10,11,12,13,14,15,16,17,18,19,20,21,22,23,24,25,26,27,28,29,30,31,32,33,34,35,36,37,38,39,40,41,42,43,44,45,46,47,48,49,50,51,52,53,54,55,56,57,58,59,60,61,62,63,64,65,66,67,68,69,70,71,72,73,74,75,76,77,78,79,80,81,82,83,84,85,86,87,88,89,90,91,92,93,94,95,96,97,98,99,100,101,102,103,104,105,106,107,108,109,110,111,112,113,114,115,116,117,118,119,120,121,122,123,124,125,126,127,128,129,130,131,132,133,134,135,136,137,138,139,140,141,142,143,144,145,146,147,148,149,150,151,152,153,154,155,156,157,158,159,160,161,162,163,164,165,166,167,168,169,170,171,172,173,174,175,176,177,178,179,180,181,182,183,184,185,186,187,188,189,190,191,192,193,194,195,196,197,198,199,200,201,202,203,204,205,206,207,208,209,210,211,212,213,214,215,216,217,218,219,220,221,222,223,224,225,226,227,228,229,230,231,232,233,234,235,236,237,238,239,240,241,242,243,244,245,246,247,248,249,250,251,252,253,254,255,256,257],\"xaxis\":\"x\",\"y\":[0.948,0.938,0.942,0.939,0.957,0.956,0.938,0.944,0.965,0.945,0.942,0.948,0.966,0.946,0.945,0.947,0.946,0.947,0.946,0.947,0.947,0.948,0.945,0.946,0.946,0.947,0.945,0.944,0.945,0.945,0.944,0.943,0.944,0.944,0.943,0.944,0.942,0.941,0.941,0.94,0.942,0.942,0.941,0.941,0.939,0.94,0.939,0.941,0.939,0.94,0.939,0.94,0.939,0.94,0.939,0.94,0.94,0.942,0.942,0.939,0.939,0.94,0.942,0.94,0.942,0.941,0.941,0.94,0.94,0.942,0.94,0.942,0.942,0.941,0.941,0.941,0.941,0.94,0.943,0.942,0.941,0.942,0.94,0.942,0.94,0.938,0.94,0.941,0.94,0.939,0.941,0.94,0.94,0.942,0.941,0.94,0.939,0.938,0.941,0.942,0.943,0.943,0.944,0.943,0.942,0.942,0.942,0.945,0.944,0.945,0.946,0.943,0.943,0.943,0.944,0.945,0.946,0.947,0.947,0.946,0.946,0.946,0.947,0.948,0.948,0.949,0.972,0.971,0.946,0.943,0.95,0.946,0.949,0.947,0.954,0.949,0.954,0.969,0.954,0.955,0.97,0.956,0.956,0.958,0.958,0.957,0.956,0.959,0.959,0.959,0.96,0.961,0.962,0.961,0.96,0.96,0.96,0.96,0.959,0.96,0.963,0.962,0.962,0.978,0.977,0.959,0.956,0.963,0.958,0.961,0.962,0.965,0.96,0.97,0.97,0.963,0.974,0.961,0.965,0.977,0.968,0.967,0.968,0.968,0.967,0.967,0.967,0.967,0.968,0.969,0.968,0.967,0.968,0.967,0.967,0.965,0.965,0.965,0.966,0.967,0.966,0.966,0.964,0.964,0.964,0.979,0.979,0.961,0.961,0.965,0.96,0.964,0.96,0.964,0.975,0.958,0.966,0.965,0.963,0.962,0.962,0.961,0.961,0.96,0.959,0.96,0.959,0.96,0.961,0.977,0.977,0.958,0.956,0.956,0.956,0.955,0.957,0.958,0.955,0.956,0.955,0.953,0.953,0.954,0.955,0.955,0.954,0.955,0.953,0.951,0.95,0.951,0.95,0.95,0.951,0.95,0.949],\"yaxis\":\"y\",\"type\":\"scatter\"},{\"line\":{\"color\":\"rgba(55, 128, 191, 1.0)\",\"dash\":\"solid\",\"shape\":\"linear\",\"width\":2.0},\"mode\":\"lines\",\"name\":\"ssim_u\",\"text\":\"\",\"x\":[1,2,3,4,5,6,7,8,9,10,11,12,13,14,15,16,17,18,19,20,21,22,23,24,25,26,27,28,29,30,31,32,33,34,35,36,37,38,39,40,41,42,43,44,45,46,47,48,49,50,51,52,53,54,55,56,57,58,59,60,61,62,63,64,65,66,67,68,69,70,71,72,73,74,75,76,77,78,79,80,81,82,83,84,85,86,87,88,89,90,91,92,93,94,95,96,97,98,99,100,101,102,103,104,105,106,107,108,109,110,111,112,113,114,115,116,117,118,119,120,121,122,123,124,125,126,127,128,129,130,131,132,133,134,135,136,137,138,139,140,141,142,143,144,145,146,147,148,149,150,151,152,153,154,155,156,157,158,159,160,161,162,163,164,165,166,167,168,169,170,171,172,173,174,175,176,177,178,179,180,181,182,183,184,185,186,187,188,189,190,191,192,193,194,195,196,197,198,199,200,201,202,203,204,205,206,207,208,209,210,211,212,213,214,215,216,217,218,219,220,221,222,223,224,225,226,227,228,229,230,231,232,233,234,235,236,237,238,239,240,241,242,243,244,245,246,247,248,249,250,251,252,253,254,255,256,257],\"xaxis\":\"x2\",\"y\":[0.957,0.957,0.96,0.958,0.96,0.96,0.958,0.957,0.961,0.959,0.958,0.958,0.957,0.954,0.956,0.954,0.955,0.956,0.953,0.956,0.955,0.957,0.955,0.956,0.956,0.954,0.953,0.953,0.957,0.952,0.952,0.953,0.951,0.953,0.95,0.951,0.952,0.951,0.951,0.952,0.948,0.947,0.95,0.95,0.947,0.947,0.947,0.95,0.947,0.946,0.949,0.947,0.947,0.948,0.948,0.946,0.945,0.948,0.948,0.947,0.946,0.944,0.948,0.944,0.948,0.947,0.947,0.947,0.945,0.945,0.945,0.948,0.948,0.948,0.947,0.945,0.945,0.945,0.949,0.948,0.947,0.949,0.944,0.945,0.952,0.951,0.952,0.951,0.95,0.949,0.95,0.95,0.95,0.954,0.953,0.952,0.952,0.95,0.95,0.953,0.952,0.952,0.952,0.95,0.952,0.949,0.949,0.953,0.951,0.951,0.951,0.949,0.948,0.949,0.949,0.952,0.954,0.955,0.953,0.954,0.95,0.952,0.955,0.955,0.954,0.952,0.957,0.957,0.953,0.953,0.956,0.956,0.956,0.957,0.957,0.961,0.955,0.959,0.959,0.958,0.959,0.957,0.958,0.958,0.958,0.958,0.958,0.96,0.961,0.963,0.962,0.963,0.968,0.961,0.962,0.962,0.964,0.964,0.962,0.963,0.962,0.963,0.963,0.968,0.968,0.963,0.964,0.966,0.962,0.962,0.968,0.961,0.959,0.961,0.961,0.963,0.962,0.96,0.961,0.963,0.96,0.961,0.963,0.963,0.962,0.963,0.962,0.958,0.957,0.964,0.956,0.957,0.959,0.963,0.961,0.958,0.958,0.958,0.956,0.956,0.956,0.959,0.957,0.96,0.959,0.961,0.961,0.957,0.963,0.957,0.957,0.959,0.96,0.96,0.96,0.959,0.956,0.956,0.957,0.958,0.959,0.957,0.959,0.958,0.957,0.957,0.96,0.957,0.959,0.964,0.964,0.959,0.958,0.957,0.956,0.955,0.957,0.957,0.956,0.958,0.954,0.956,0.954,0.955,0.955,0.957,0.956,0.956,0.956,0.955,0.954,0.954,0.955,0.955,0.956,0.956,0.956],\"yaxis\":\"y2\",\"type\":\"scatter\"},{\"line\":{\"color\":\"rgba(50, 171, 96, 1.0)\",\"dash\":\"solid\",\"shape\":\"linear\",\"width\":2.0},\"mode\":\"lines\",\"name\":\"ssim_v\",\"text\":\"\",\"x\":[1,2,3,4,5,6,7,8,9,10,11,12,13,14,15,16,17,18,19,20,21,22,23,24,25,26,27,28,29,30,31,32,33,34,35,36,37,38,39,40,41,42,43,44,45,46,47,48,49,50,51,52,53,54,55,56,57,58,59,60,61,62,63,64,65,66,67,68,69,70,71,72,73,74,75,76,77,78,79,80,81,82,83,84,85,86,87,88,89,90,91,92,93,94,95,96,97,98,99,100,101,102,103,104,105,106,107,108,109,110,111,112,113,114,115,116,117,118,119,120,121,122,123,124,125,126,127,128,129,130,131,132,133,134,135,136,137,138,139,140,141,142,143,144,145,146,147,148,149,150,151,152,153,154,155,156,157,158,159,160,161,162,163,164,165,166,167,168,169,170,171,172,173,174,175,176,177,178,179,180,181,182,183,184,185,186,187,188,189,190,191,192,193,194,195,196,197,198,199,200,201,202,203,204,205,206,207,208,209,210,211,212,213,214,215,216,217,218,219,220,221,222,223,224,225,226,227,228,229,230,231,232,233,234,235,236,237,238,239,240,241,242,243,244,245,246,247,248,249,250,251,252,253,254,255,256,257],\"xaxis\":\"x3\",\"y\":[0.919,0.915,0.921,0.918,0.924,0.924,0.916,0.92,0.926,0.918,0.917,0.919,0.925,0.917,0.917,0.916,0.917,0.917,0.917,0.92,0.917,0.918,0.914,0.916,0.914,0.916,0.914,0.916,0.915,0.914,0.914,0.913,0.913,0.915,0.912,0.916,0.917,0.913,0.913,0.914,0.912,0.912,0.913,0.912,0.911,0.912,0.911,0.912,0.909,0.909,0.91,0.911,0.912,0.914,0.913,0.913,0.912,0.914,0.915,0.916,0.916,0.914,0.919,0.913,0.918,0.919,0.917,0.916,0.915,0.915,0.915,0.919,0.919,0.917,0.918,0.915,0.916,0.915,0.92,0.918,0.918,0.918,0.914,0.916,0.922,0.921,0.923,0.922,0.923,0.922,0.923,0.924,0.923,0.927,0.925,0.924,0.925,0.923,0.924,0.927,0.924,0.924,0.924,0.923,0.924,0.921,0.921,0.927,0.922,0.923,0.92,0.922,0.921,0.921,0.921,0.921,0.922,0.924,0.922,0.926,0.92,0.921,0.924,0.924,0.924,0.926,0.937,0.937,0.925,0.925,0.928,0.929,0.93,0.927,0.931,0.933,0.928,0.934,0.93,0.931,0.935,0.931,0.931,0.932,0.932,0.931,0.931,0.933,0.935,0.937,0.935,0.938,0.947,0.938,0.938,0.936,0.937,0.936,0.933,0.935,0.937,0.936,0.935,0.944,0.944,0.933,0.933,0.938,0.933,0.937,0.945,0.936,0.933,0.937,0.937,0.936,0.94,0.932,0.935,0.943,0.937,0.936,0.938,0.937,0.936,0.937,0.938,0.936,0.936,0.948,0.936,0.936,0.938,0.938,0.937,0.934,0.933,0.934,0.935,0.935,0.934,0.935,0.932,0.933,0.932,0.941,0.941,0.93,0.939,0.932,0.93,0.933,0.935,0.936,0.938,0.931,0.932,0.932,0.933,0.934,0.935,0.933,0.934,0.933,0.931,0.931,0.937,0.933,0.935,0.944,0.944,0.932,0.93,0.931,0.928,0.928,0.931,0.933,0.931,0.931,0.928,0.932,0.93,0.929,0.931,0.931,0.932,0.934,0.933,0.931,0.928,0.928,0.929,0.927,0.931,0.932,0.931],\"yaxis\":\"y3\",\"type\":\"scatter\"},{\"line\":{\"color\":\"rgba(128, 0, 128, 1.0)\",\"dash\":\"solid\",\"shape\":\"linear\",\"width\":2.0},\"mode\":\"lines\",\"name\":\"ssim_y_ema25\",\"text\":\"\",\"x\":[1,2,3,4,5,6,7,8,9,10,11,12,13,14,15,16,17,18,19,20,21,22,23,24,25,26,27,28,29,30,31,32,33,34,35,36,37,38,39,40,41,42,43,44,45,46,47,48,49,50,51,52,53,54,55,56,57,58,59,60,61,62,63,64,65,66,67,68,69,70,71,72,73,74,75,76,77,78,79,80,81,82,83,84,85,86,87,88,89,90,91,92,93,94,95,96,97,98,99,100,101,102,103,104,105,106,107,108,109,110,111,112,113,114,115,116,117,118,119,120,121,122,123,124,125,126,127,128,129,130,131,132,133,134,135,136,137,138,139,140,141,142,143,144,145,146,147,148,149,150,151,152,153,154,155,156,157,158,159,160,161,162,163,164,165,166,167,168,169,170,171,172,173,174,175,176,177,178,179,180,181,182,183,184,185,186,187,188,189,190,191,192,193,194,195,196,197,198,199,200,201,202,203,204,205,206,207,208,209,210,211,212,213,214,215,216,217,218,219,220,221,222,223,224,225,226,227,228,229,230,231,232,233,234,235,236,237,238,239,240,241,242,243,244,245,246,247,248,249,250,251,252,253,254,255,256,257],\"xaxis\":\"x4\",\"y\":[0.948,0.9472307692307692,0.9468284023668639,0.9462262175694129,0.9470549700640736,0.9477430492899142,0.9469935839599207,0.9467633082706961,0.9481661307114119,0.9479225821951495,0.9474669989493688,0.9475079990301867,0.9489304606432493,0.9487050405937686,0.9484200374711711,0.9483108038195427,0.948133049679578,0.9480458920119182,0.9478885157033092,0.9478201683415163,0.9477570784690921,0.9477757647407004,0.9475622443760312,0.9474420717317212,0.9473311431369735,0.9473056705879757,0.9471283113119776,0.9468876719802871,0.946742466443342,0.9466084305630851,0.9464077820582325,0.9461456449768301,0.9459805953632279,0.9458282418737489,0.9456106848065375,0.9454867859752655,0.9452185716694759,0.9448940661564393,0.944594522605944,0.9442410977901022,0.9440687056524021,0.9439095744483712,0.9436857610292658,0.9434791640270147,0.9431346129480136,0.9428934888750895,0.9425939897308518,0.942471375136171,0.9422043462795424,0.9420347811811162,0.9418013364748765,0.9416627721306553,0.9414579435052203,0.9413457940048188,0.9411653483121404,0.9410757061342835,0.9409929595085694,0.9410704241617565,0.9411419299954675,0.9409771661496623,0.9408250764458421,0.9407616090269312,0.9408568698710135,0.9407909568040125,0.9408839601267808,0.9408928862708746,0.9409011257884997,0.9408318084201536,0.9407678231570649,0.9408626059911368,0.9407962516841263,0.9408888477084243,0.9409743209616225,0.940976296272267,0.9409781196359388,0.9409798027408667,0.9409813563761846,0.9409058674241705,0.9410669545453882,0.9411387272726661,0.9411280559439995,0.9411951285636919,0.9411031955972541,0.9411721805513115,0.9410820128165952,0.9408449349076263,0.9407799399147321,0.9407968676135989,0.9407355701048606,0.9406020647121791,0.9406326751189346,0.9405840078020935,0.9405390841250094,0.9406514622692396,0.9406782728639135,0.9406260980282278,0.940501013564518,0.9403086279057089,0.9403618103745006,0.9404878249610775,0.9406810691948408,0.9408594484875454,0.9411010293731189,0.9412471040367252,0.9413050191108233,0.9413584791792216,0.9414078269346661,0.9416841479396918,0.9418622904058694,0.9421036526823411,0.9424033717067765,0.9424492661908707,0.9424916303300345,0.9425307356892626,0.9426437560208578,0.942825005557715,0.9430692358994293,0.943371602368704,0.9436507098788037,0.9438314245035112,0.9439982380032412,0.9441522196952997,0.9443712797187384,0.9446504120480663,0.9449080726597536,0.9452228363013111,0.9472826181242873,0.9491070321147268,0.9488680296443633,0.9484166427486431,0.9485384394602859,0.9483431748864178,0.948393699895155,0.9482864922109124,0.9487259928100731,0.9487470702862213,0.9491511418026659,0.9506779770486148,0.9509335172756445,0.9512463236390565,0.9526889141283599,0.952943613041563,0.9531787197306737,0.9535495874436989,0.9538919268711068,0.9541310094194833,0.9542747779256769,0.9546382565467788,0.9549737752739498,0.9552834848682614,0.9556462937245491,0.9560581172841993,0.9565151851854148,0.956860170940383,0.9571016962526613,0.9573246426947644,0.9575304394105518,0.9577204056097403,0.9578188359474527,0.9579866177976487,0.958372262582445,0.9586513193068723,0.9589089101294206,0.9603774555040806,0.9616561127729975,0.9614517964058439,0.9610324274515483,0.9611837791860446,0.9609388730948105,0.9609435751644406,0.9610248386133298,0.9613306202584583,0.9612282648539616,0.9619030137113492,0.9625258588104763,0.9625623312096704,0.9634421518858496,0.9632542940484765,0.9633885791216706,0.9644356114969268,0.9647097952279325,0.9648859648257839,0.9651255059930314,0.9653466209166444,0.9654738039230564,0.9655912036212828,0.9656995725734919,0.9657996054524541,0.9659688665714962,0.9662020306813811,0.9663403360135826,0.9663910793971532,0.9665148425204492,0.9665521623265685,0.966586611378371,0.9664645643492655,0.9663519055531682,0.9662479128183091,0.9662288426015162,0.9662881624013996,0.9662659960628305,0.9662455348272282,0.9660728013789799,0.9659133551190584,0.9657661739560539,0.9667841605748191,0.9677238405306022,0.9672066220282483,0.9667291895645369,0.9665961749826495,0.9660887769070612,0.9659281017603641,0.9654720939326439,0.9653588559378251,0.9661004824041463,0.9654773683730582,0.9655175708059,0.9654777576669846,0.9652871609233704,0.9650343023908035,0.9648008945145878,0.9645085180134658,0.9642386320124301,0.9639125833960894,0.9635346923656211,0.9632627929528811,0.9629348858026595,0.9627091253563012,0.9625776541750473,0.9636870653923514,0.9647111372852475,0.9641948959556131,0.963564519343643,0.9629826332402859,0.9624455076064178,0.961872776252078,0.9614979473096106,0.9612288744396407,0.9607497302519761,0.9603843663864395,0.9599701843567134,0.9594340163292739,0.9589390919962529,0.9585591618426951,0.9582853801624878,0.9580326586115272,0.9577224541029482,0.9575130345565677,0.9571658780522163,0.9566915797405073,0.9561768428373913,0.9557786241575921,0.9553341146070081,0.9549237980987767,0.9546219674757939,0.9542664315161175,0.9538613213994931],\"yaxis\":\"y4\",\"type\":\"scatter\"}],                        {\"legend\":{\"bgcolor\":\"#F5F6F9\",\"font\":{\"color\":\"#4D5663\"}},\"paper_bgcolor\":\"#F5F6F9\",\"plot_bgcolor\":\"#F5F6F9\",\"template\":{\"data\":{\"barpolar\":[{\"marker\":{\"line\":{\"color\":\"#E5ECF6\",\"width\":0.5},\"pattern\":{\"fillmode\":\"overlay\",\"size\":10,\"solidity\":0.2}},\"type\":\"barpolar\"}],\"bar\":[{\"error_x\":{\"color\":\"#2a3f5f\"},\"error_y\":{\"color\":\"#2a3f5f\"},\"marker\":{\"line\":{\"color\":\"#E5ECF6\",\"width\":0.5},\"pattern\":{\"fillmode\":\"overlay\",\"size\":10,\"solidity\":0.2}},\"type\":\"bar\"}],\"carpet\":[{\"aaxis\":{\"endlinecolor\":\"#2a3f5f\",\"gridcolor\":\"white\",\"linecolor\":\"white\",\"minorgridcolor\":\"white\",\"startlinecolor\":\"#2a3f5f\"},\"baxis\":{\"endlinecolor\":\"#2a3f5f\",\"gridcolor\":\"white\",\"linecolor\":\"white\",\"minorgridcolor\":\"white\",\"startlinecolor\":\"#2a3f5f\"},\"type\":\"carpet\"}],\"choropleth\":[{\"colorbar\":{\"outlinewidth\":0,\"ticks\":\"\"},\"type\":\"choropleth\"}],\"contourcarpet\":[{\"colorbar\":{\"outlinewidth\":0,\"ticks\":\"\"},\"type\":\"contourcarpet\"}],\"contour\":[{\"colorbar\":{\"outlinewidth\":0,\"ticks\":\"\"},\"colorscale\":[[0.0,\"#0d0887\"],[0.1111111111111111,\"#46039f\"],[0.2222222222222222,\"#7201a8\"],[0.3333333333333333,\"#9c179e\"],[0.4444444444444444,\"#bd3786\"],[0.5555555555555556,\"#d8576b\"],[0.6666666666666666,\"#ed7953\"],[0.7777777777777778,\"#fb9f3a\"],[0.8888888888888888,\"#fdca26\"],[1.0,\"#f0f921\"]],\"type\":\"contour\"}],\"heatmapgl\":[{\"colorbar\":{\"outlinewidth\":0,\"ticks\":\"\"},\"colorscale\":[[0.0,\"#0d0887\"],[0.1111111111111111,\"#46039f\"],[0.2222222222222222,\"#7201a8\"],[0.3333333333333333,\"#9c179e\"],[0.4444444444444444,\"#bd3786\"],[0.5555555555555556,\"#d8576b\"],[0.6666666666666666,\"#ed7953\"],[0.7777777777777778,\"#fb9f3a\"],[0.8888888888888888,\"#fdca26\"],[1.0,\"#f0f921\"]],\"type\":\"heatmapgl\"}],\"heatmap\":[{\"colorbar\":{\"outlinewidth\":0,\"ticks\":\"\"},\"colorscale\":[[0.0,\"#0d0887\"],[0.1111111111111111,\"#46039f\"],[0.2222222222222222,\"#7201a8\"],[0.3333333333333333,\"#9c179e\"],[0.4444444444444444,\"#bd3786\"],[0.5555555555555556,\"#d8576b\"],[0.6666666666666666,\"#ed7953\"],[0.7777777777777778,\"#fb9f3a\"],[0.8888888888888888,\"#fdca26\"],[1.0,\"#f0f921\"]],\"type\":\"heatmap\"}],\"histogram2dcontour\":[{\"colorbar\":{\"outlinewidth\":0,\"ticks\":\"\"},\"colorscale\":[[0.0,\"#0d0887\"],[0.1111111111111111,\"#46039f\"],[0.2222222222222222,\"#7201a8\"],[0.3333333333333333,\"#9c179e\"],[0.4444444444444444,\"#bd3786\"],[0.5555555555555556,\"#d8576b\"],[0.6666666666666666,\"#ed7953\"],[0.7777777777777778,\"#fb9f3a\"],[0.8888888888888888,\"#fdca26\"],[1.0,\"#f0f921\"]],\"type\":\"histogram2dcontour\"}],\"histogram2d\":[{\"colorbar\":{\"outlinewidth\":0,\"ticks\":\"\"},\"colorscale\":[[0.0,\"#0d0887\"],[0.1111111111111111,\"#46039f\"],[0.2222222222222222,\"#7201a8\"],[0.3333333333333333,\"#9c179e\"],[0.4444444444444444,\"#bd3786\"],[0.5555555555555556,\"#d8576b\"],[0.6666666666666666,\"#ed7953\"],[0.7777777777777778,\"#fb9f3a\"],[0.8888888888888888,\"#fdca26\"],[1.0,\"#f0f921\"]],\"type\":\"histogram2d\"}],\"histogram\":[{\"marker\":{\"pattern\":{\"fillmode\":\"overlay\",\"size\":10,\"solidity\":0.2}},\"type\":\"histogram\"}],\"mesh3d\":[{\"colorbar\":{\"outlinewidth\":0,\"ticks\":\"\"},\"type\":\"mesh3d\"}],\"parcoords\":[{\"line\":{\"colorbar\":{\"outlinewidth\":0,\"ticks\":\"\"}},\"type\":\"parcoords\"}],\"pie\":[{\"automargin\":true,\"type\":\"pie\"}],\"scatter3d\":[{\"line\":{\"colorbar\":{\"outlinewidth\":0,\"ticks\":\"\"}},\"marker\":{\"colorbar\":{\"outlinewidth\":0,\"ticks\":\"\"}},\"type\":\"scatter3d\"}],\"scattercarpet\":[{\"marker\":{\"colorbar\":{\"outlinewidth\":0,\"ticks\":\"\"}},\"type\":\"scattercarpet\"}],\"scattergeo\":[{\"marker\":{\"colorbar\":{\"outlinewidth\":0,\"ticks\":\"\"}},\"type\":\"scattergeo\"}],\"scattergl\":[{\"marker\":{\"colorbar\":{\"outlinewidth\":0,\"ticks\":\"\"}},\"type\":\"scattergl\"}],\"scattermapbox\":[{\"marker\":{\"colorbar\":{\"outlinewidth\":0,\"ticks\":\"\"}},\"type\":\"scattermapbox\"}],\"scatterpolargl\":[{\"marker\":{\"colorbar\":{\"outlinewidth\":0,\"ticks\":\"\"}},\"type\":\"scatterpolargl\"}],\"scatterpolar\":[{\"marker\":{\"colorbar\":{\"outlinewidth\":0,\"ticks\":\"\"}},\"type\":\"scatterpolar\"}],\"scatter\":[{\"marker\":{\"colorbar\":{\"outlinewidth\":0,\"ticks\":\"\"}},\"type\":\"scatter\"}],\"scatterternary\":[{\"marker\":{\"colorbar\":{\"outlinewidth\":0,\"ticks\":\"\"}},\"type\":\"scatterternary\"}],\"surface\":[{\"colorbar\":{\"outlinewidth\":0,\"ticks\":\"\"},\"colorscale\":[[0.0,\"#0d0887\"],[0.1111111111111111,\"#46039f\"],[0.2222222222222222,\"#7201a8\"],[0.3333333333333333,\"#9c179e\"],[0.4444444444444444,\"#bd3786\"],[0.5555555555555556,\"#d8576b\"],[0.6666666666666666,\"#ed7953\"],[0.7777777777777778,\"#fb9f3a\"],[0.8888888888888888,\"#fdca26\"],[1.0,\"#f0f921\"]],\"type\":\"surface\"}],\"table\":[{\"cells\":{\"fill\":{\"color\":\"#EBF0F8\"},\"line\":{\"color\":\"white\"}},\"header\":{\"fill\":{\"color\":\"#C8D4E3\"},\"line\":{\"color\":\"white\"}},\"type\":\"table\"}]},\"layout\":{\"annotationdefaults\":{\"arrowcolor\":\"#2a3f5f\",\"arrowhead\":0,\"arrowwidth\":1},\"autotypenumbers\":\"strict\",\"coloraxis\":{\"colorbar\":{\"outlinewidth\":0,\"ticks\":\"\"}},\"colorscale\":{\"diverging\":[[0,\"#8e0152\"],[0.1,\"#c51b7d\"],[0.2,\"#de77ae\"],[0.3,\"#f1b6da\"],[0.4,\"#fde0ef\"],[0.5,\"#f7f7f7\"],[0.6,\"#e6f5d0\"],[0.7,\"#b8e186\"],[0.8,\"#7fbc41\"],[0.9,\"#4d9221\"],[1,\"#276419\"]],\"sequential\":[[0.0,\"#0d0887\"],[0.1111111111111111,\"#46039f\"],[0.2222222222222222,\"#7201a8\"],[0.3333333333333333,\"#9c179e\"],[0.4444444444444444,\"#bd3786\"],[0.5555555555555556,\"#d8576b\"],[0.6666666666666666,\"#ed7953\"],[0.7777777777777778,\"#fb9f3a\"],[0.8888888888888888,\"#fdca26\"],[1.0,\"#f0f921\"]],\"sequentialminus\":[[0.0,\"#0d0887\"],[0.1111111111111111,\"#46039f\"],[0.2222222222222222,\"#7201a8\"],[0.3333333333333333,\"#9c179e\"],[0.4444444444444444,\"#bd3786\"],[0.5555555555555556,\"#d8576b\"],[0.6666666666666666,\"#ed7953\"],[0.7777777777777778,\"#fb9f3a\"],[0.8888888888888888,\"#fdca26\"],[1.0,\"#f0f921\"]]},\"colorway\":[\"#636efa\",\"#EF553B\",\"#00cc96\",\"#ab63fa\",\"#FFA15A\",\"#19d3f3\",\"#FF6692\",\"#B6E880\",\"#FF97FF\",\"#FECB52\"],\"font\":{\"color\":\"#2a3f5f\"},\"geo\":{\"bgcolor\":\"white\",\"lakecolor\":\"white\",\"landcolor\":\"#E5ECF6\",\"showlakes\":true,\"showland\":true,\"subunitcolor\":\"white\"},\"hoverlabel\":{\"align\":\"left\"},\"hovermode\":\"closest\",\"mapbox\":{\"style\":\"light\"},\"paper_bgcolor\":\"white\",\"plot_bgcolor\":\"#E5ECF6\",\"polar\":{\"angularaxis\":{\"gridcolor\":\"white\",\"linecolor\":\"white\",\"ticks\":\"\"},\"bgcolor\":\"#E5ECF6\",\"radialaxis\":{\"gridcolor\":\"white\",\"linecolor\":\"white\",\"ticks\":\"\"}},\"scene\":{\"xaxis\":{\"backgroundcolor\":\"#E5ECF6\",\"gridcolor\":\"white\",\"gridwidth\":2,\"linecolor\":\"white\",\"showbackground\":true,\"ticks\":\"\",\"zerolinecolor\":\"white\"},\"yaxis\":{\"backgroundcolor\":\"#E5ECF6\",\"gridcolor\":\"white\",\"gridwidth\":2,\"linecolor\":\"white\",\"showbackground\":true,\"ticks\":\"\",\"zerolinecolor\":\"white\"},\"zaxis\":{\"backgroundcolor\":\"#E5ECF6\",\"gridcolor\":\"white\",\"gridwidth\":2,\"linecolor\":\"white\",\"showbackground\":true,\"ticks\":\"\",\"zerolinecolor\":\"white\"}},\"shapedefaults\":{\"line\":{\"color\":\"#2a3f5f\"}},\"ternary\":{\"aaxis\":{\"gridcolor\":\"white\",\"linecolor\":\"white\",\"ticks\":\"\"},\"baxis\":{\"gridcolor\":\"white\",\"linecolor\":\"white\",\"ticks\":\"\"},\"bgcolor\":\"#E5ECF6\",\"caxis\":{\"gridcolor\":\"white\",\"linecolor\":\"white\",\"ticks\":\"\"}},\"title\":{\"x\":0.05},\"xaxis\":{\"automargin\":true,\"gridcolor\":\"white\",\"linecolor\":\"white\",\"ticks\":\"\",\"title\":{\"standoff\":15},\"zerolinecolor\":\"white\",\"zerolinewidth\":2},\"yaxis\":{\"automargin\":true,\"gridcolor\":\"white\",\"linecolor\":\"white\",\"ticks\":\"\",\"title\":{\"standoff\":15},\"zerolinecolor\":\"white\",\"zerolinewidth\":2}}},\"title\":{\"font\":{\"color\":\"#4D5663\"}},\"xaxis\":{\"anchor\":\"y\",\"domain\":[0.0,0.45],\"gridcolor\":\"#E1E5ED\",\"showgrid\":true,\"tickfont\":{\"color\":\"#4D5663\"},\"title\":{\"font\":{\"color\":\"#4D5663\"},\"text\":\"\"},\"zerolinecolor\":\"#E1E5ED\"},\"yaxis\":{\"anchor\":\"x\",\"domain\":[0.575,1.0],\"gridcolor\":\"#E1E5ED\",\"showgrid\":true,\"tickfont\":{\"color\":\"#4D5663\"},\"title\":{\"font\":{\"color\":\"#4D5663\"},\"text\":\"\"},\"zerolinecolor\":\"#E1E5ED\"},\"xaxis2\":{\"anchor\":\"y2\",\"domain\":[0.55,1.0],\"gridcolor\":\"#E1E5ED\",\"showgrid\":true,\"tickfont\":{\"color\":\"#4D5663\"},\"title\":{\"font\":{\"color\":\"#4D5663\"},\"text\":\"\"},\"zerolinecolor\":\"#E1E5ED\"},\"yaxis2\":{\"anchor\":\"x2\",\"domain\":[0.575,1.0],\"gridcolor\":\"#E1E5ED\",\"showgrid\":true,\"tickfont\":{\"color\":\"#4D5663\"},\"title\":{\"font\":{\"color\":\"#4D5663\"},\"text\":\"\"},\"zerolinecolor\":\"#E1E5ED\"},\"xaxis3\":{\"anchor\":\"y3\",\"domain\":[0.0,0.45],\"gridcolor\":\"#E1E5ED\",\"showgrid\":true,\"tickfont\":{\"color\":\"#4D5663\"},\"title\":{\"font\":{\"color\":\"#4D5663\"},\"text\":\"\"},\"zerolinecolor\":\"#E1E5ED\"},\"yaxis3\":{\"anchor\":\"x3\",\"domain\":[0.0,0.425],\"gridcolor\":\"#E1E5ED\",\"showgrid\":true,\"tickfont\":{\"color\":\"#4D5663\"},\"title\":{\"font\":{\"color\":\"#4D5663\"},\"text\":\"\"},\"zerolinecolor\":\"#E1E5ED\"},\"xaxis4\":{\"anchor\":\"y4\",\"domain\":[0.55,1.0],\"gridcolor\":\"#E1E5ED\",\"showgrid\":true,\"tickfont\":{\"color\":\"#4D5663\"},\"title\":{\"font\":{\"color\":\"#4D5663\"},\"text\":\"\"},\"zerolinecolor\":\"#E1E5ED\"},\"yaxis4\":{\"anchor\":\"x4\",\"domain\":[0.0,0.425],\"gridcolor\":\"#E1E5ED\",\"showgrid\":true,\"tickfont\":{\"color\":\"#4D5663\"},\"title\":{\"font\":{\"color\":\"#4D5663\"},\"text\":\"\"},\"zerolinecolor\":\"#E1E5ED\"}},                        {\"showLink\": true, \"linkText\": \"Export to plot.ly\", \"plotlyServerURL\": \"https://plot.ly\", \"responsive\": true}                    ).then(function(){\n",
       "                            \n",
       "var gd = document.getElementById('9cec8c70-73ce-44d7-b528-dcfb7a674dc5');\n",
       "var x = new MutationObserver(function (mutations, observer) {{\n",
       "        var display = window.getComputedStyle(gd).display;\n",
       "        if (!display || display === 'none') {{\n",
       "            console.log([gd, 'removed!']);\n",
       "            Plotly.purge(gd);\n",
       "            observer.disconnect();\n",
       "        }}\n",
       "}});\n",
       "\n",
       "// Listen for the removal of the full notebook cells\n",
       "var notebookContainer = gd.closest('#notebook-container');\n",
       "if (notebookContainer) {{\n",
       "    x.observe(notebookContainer, {childList: true});\n",
       "}}\n",
       "\n",
       "// Listen for the clearing of the current output cell\n",
       "var outputEl = gd.closest('.output');\n",
       "if (outputEl) {{\n",
       "    x.observe(outputEl, {childList: true});\n",
       "}}\n",
       "\n",
       "                        })                };                });            </script>        </div>"
      ]
     },
     "metadata": {},
     "output_type": "display_data"
    }
   ],
   "source": [
    "df.iplot(y=[\"ssim_y\", \"ssim_u\", \"ssim_v\", \"ssim_y_ema25\"],subplots=True, width=2.0)"
   ]
  },
  {
   "cell_type": "markdown",
   "id": "c6815477-a074-4b71-ba95-45c35aa87957",
   "metadata": {},
   "source": [
    "#### Initial Observations\n",
    "\n",
    "For the given clip in this notebook which you can view [here](#Viewing-the-Test-Clip(s)) we can see is that in general the SSIM values over the luma Y\\' channel are above 0.94 for the entire length of the clip and spike to near 0.98 around the second half of the clip, as the moving averages also show, falling again.\n",
    "\n",
    "Since we had a constant quality rate factor for this test, so instead of using a fixed value quantization matrix we allow it to vary as long as it is bounded by the crf value, for the given CRF value, compression was more efficient and retained more details compared with the original on the second half of the clip.\n",
    "\n",
    "Another observation is that the the V channel had the same fluctuations but in general had much lower SSIM values than the U channel which was consistently above the V channel SSIM value. Noteworthy is also the more subdued impact of the adaptive quantization of the CRF mode on the U channel, since its variation is much less than the Y and V channel - around 0.005 standard deviations from the mean, compared with the V channel approx. 0.009."
   ]
  },
  {
   "cell_type": "code",
   "execution_count": 171,
   "id": "5ba31fbe-3179-4027-b234-58f03b5a1d0c",
   "metadata": {},
   "outputs": [
    {
     "data": {
      "text/html": [
       "<div>\n",
       "<style scoped>\n",
       "    .dataframe tbody tr th:only-of-type {\n",
       "        vertical-align: middle;\n",
       "    }\n",
       "\n",
       "    .dataframe tbody tr th {\n",
       "        vertical-align: top;\n",
       "    }\n",
       "\n",
       "    .dataframe thead th {\n",
       "        text-align: right;\n",
       "    }\n",
       "</style>\n",
       "<table border=\"1\" class=\"dataframe\">\n",
       "  <thead>\n",
       "    <tr style=\"text-align: right;\">\n",
       "      <th></th>\n",
       "      <th>index</th>\n",
       "      <th>count</th>\n",
       "      <th>mean</th>\n",
       "      <th>std</th>\n",
       "      <th>min</th>\n",
       "      <th>25%</th>\n",
       "      <th>50%</th>\n",
       "      <th>75%</th>\n",
       "      <th>max</th>\n",
       "    </tr>\n",
       "  </thead>\n",
       "  <tbody>\n",
       "    <tr>\n",
       "      <th>0</th>\n",
       "      <td>ssim_y</td>\n",
       "      <td>257.0</td>\n",
       "      <td>0.952257</td>\n",
       "      <td>0.010840</td>\n",
       "      <td>0.938</td>\n",
       "      <td>0.942</td>\n",
       "      <td>0.949</td>\n",
       "      <td>0.961</td>\n",
       "      <td>0.979</td>\n",
       "    </tr>\n",
       "    <tr>\n",
       "      <th>1</th>\n",
       "      <td>ssim_u</td>\n",
       "      <td>257.0</td>\n",
       "      <td>0.955183</td>\n",
       "      <td>0.005449</td>\n",
       "      <td>0.944</td>\n",
       "      <td>0.951</td>\n",
       "      <td>0.956</td>\n",
       "      <td>0.959</td>\n",
       "      <td>0.968</td>\n",
       "    </tr>\n",
       "    <tr>\n",
       "      <th>2</th>\n",
       "      <td>ssim_v</td>\n",
       "      <td>257.0</td>\n",
       "      <td>0.926304</td>\n",
       "      <td>0.009118</td>\n",
       "      <td>0.909</td>\n",
       "      <td>0.918</td>\n",
       "      <td>0.927</td>\n",
       "      <td>0.934</td>\n",
       "      <td>0.948</td>\n",
       "    </tr>\n",
       "  </tbody>\n",
       "</table>\n",
       "</div>"
      ],
      "text/plain": [
       "    index  count      mean       std    min    25%    50%    75%    max\n",
       "0  ssim_y  257.0  0.952257  0.010840  0.938  0.942  0.949  0.961  0.979\n",
       "1  ssim_u  257.0  0.955183  0.005449  0.944  0.951  0.956  0.959  0.968\n",
       "2  ssim_v  257.0  0.926304  0.009118  0.909  0.918  0.927  0.934  0.948"
      ]
     },
     "execution_count": 171,
     "metadata": {},
     "output_type": "execute_result"
    }
   ],
   "source": [
    "# make a copy of the dataframe, transpose, prepare for a pie chart to compare the\n",
    "# standard deviation to the mean of the SSIM for the Y, U, V channels.\n",
    "\n",
    "df2 = (df.describe()).copy(deep=True)\n",
    "df2.drop(columns=[\"ssim_y_ema25\", \"ssim_y_sma50\", \"ssim_avg\"], inplace=True)\n",
    "df2 = df2.transpose()\n",
    "\n",
    "df2.reset_index(inplace = True)\n",
    "df2.head()"
   ]
  },
  {
   "cell_type": "code",
   "execution_count": 172,
   "id": "6bb9f8ef-0b72-4cc8-ba66-d024bfb3fed5",
   "metadata": {},
   "outputs": [],
   "source": [
    "df2.rename(columns={\"index\" : \"ssim\"}, inplace=True)"
   ]
  },
  {
   "cell_type": "code",
   "execution_count": 173,
   "id": "bb71593e-6b66-4b0d-848f-718a84b5ad7e",
   "metadata": {},
   "outputs": [
    {
     "data": {
      "application/vnd.plotly.v1+json": {
       "config": {
        "linkText": "Export to plot.ly",
        "plotlyServerURL": "https://plot.ly",
        "showLink": true
       },
       "data": [
        {
         "hole": 0.4,
         "labels": [
          "ssim_y",
          "ssim_u",
          "ssim_v"
         ],
         "marker": {
          "colors": [
           "rgba(255, 153, 51, 1.0)",
           "rgba(55, 128, 191, 1.0)",
           "rgba(50, 171, 96, 1.0)"
          ]
         },
         "name": "",
         "pull": [
          0.1,
          0,
          0
         ],
         "type": "pie",
         "values": [
          0.0108399309888215,
          0.0054487687360815435,
          0.009118218123678147
         ]
        }
       ],
       "layout": {
        "autosize": true,
        "legend": {
         "bgcolor": "#F5F6F9",
         "font": {
          "color": "#4D5663"
         }
        },
        "paper_bgcolor": "#F5F6F9",
        "plot_bgcolor": "#F5F6F9",
        "title": {
         "font": {
          "color": "#4D5663"
         },
         "text": "SSIM standard deviation on Y, U, V channels"
        }
       }
      },
      "image/png": "[encoded data removed]",
      "text/html": [
       "<div>                            <div id=\"a891246f-3805-4dd2-b293-42880dc8890b\" class=\"plotly-graph-div\" style=\"height:525px; width:100%;\"></div>            <script type=\"text/javascript\">                require([\"plotly\"], function(Plotly) {                    window.PLOTLYENV=window.PLOTLYENV || {};\n",
       "                    window.PLOTLYENV.BASE_URL='https://plot.ly';                                    if (document.getElementById(\"a891246f-3805-4dd2-b293-42880dc8890b\")) {                    Plotly.newPlot(                        \"a891246f-3805-4dd2-b293-42880dc8890b\",                        [{\"hole\":0.4,\"labels\":[\"ssim_y\",\"ssim_u\",\"ssim_v\"],\"marker\":{\"colors\":[\"rgba(255, 153, 51, 1.0)\",\"rgba(55, 128, 191, 1.0)\",\"rgba(50, 171, 96, 1.0)\"]},\"name\":\"\",\"pull\":[0.1,0,0],\"values\":[0.0108399309888215,0.0054487687360815435,0.009118218123678147],\"type\":\"pie\"}],                        {\"legend\":{\"bgcolor\":\"#F5F6F9\",\"font\":{\"color\":\"#4D5663\"}},\"paper_bgcolor\":\"#F5F6F9\",\"plot_bgcolor\":\"#F5F6F9\",\"titlefont\":{\"color\":\"#4D5663\"},\"title\":\"SSIM standard deviation on Y, U, V channels\"},                        {\"showLink\": true, \"linkText\": \"Export to plot.ly\", \"plotlyServerURL\": \"https://plot.ly\", \"responsive\": true}                    ).then(function(){\n",
       "                            \n",
       "var gd = document.getElementById('a891246f-3805-4dd2-b293-42880dc8890b');\n",
       "var x = new MutationObserver(function (mutations, observer) {{\n",
       "        var display = window.getComputedStyle(gd).display;\n",
       "        if (!display || display === 'none') {{\n",
       "            console.log([gd, 'removed!']);\n",
       "            Plotly.purge(gd);\n",
       "            observer.disconnect();\n",
       "        }}\n",
       "}});\n",
       "\n",
       "// Listen for the removal of the full notebook cells\n",
       "var notebookContainer = gd.closest('#notebook-container');\n",
       "if (notebookContainer) {{\n",
       "    x.observe(notebookContainer, {childList: true});\n",
       "}}\n",
       "\n",
       "// Listen for the clearing of the current output cell\n",
       "var outputEl = gd.closest('.output');\n",
       "if (outputEl) {{\n",
       "    x.observe(outputEl, {childList: true});\n",
       "}}\n",
       "\n",
       "                        })                };                });            </script>        </div>"
      ]
     },
     "metadata": {},
     "output_type": "display_data"
    }
   ],
   "source": [
    "df2.iplot(kind=\"pie\", labels=\"ssim\", values=\"std\", hole=0.4,\n",
    "          pull=[0.1, 0, 0], title=\"SSIM standard deviation on Y, U, V channels\")"
   ]
  },
  {
   "cell_type": "markdown",
   "id": "3fe5c041-22ae-42d7-bbe4-3931786cc5cb",
   "metadata": {},
   "source": [
    "It seems very clear that compression fluctuations are predominent, as expected, on the luma Y\\' channel. The U and V channels fluctuate a lot less but this is expected to vary according to the scene content, albeit in a more or less decorrelated way in regard to the relative luminance Y channel."
   ]
  },
  {
   "cell_type": "markdown",
   "id": "7c7de7cd-ba04-4d6c-b68f-a5a06f3b912b",
   "metadata": {},
   "source": [
    "#### Test and Export to JSON\n",
    "\n",
    "Before proceeding with the full compression suite and analysis we'll be running the PSNR, SSIM, VMAF and VIF metrics on a reference video, export the data to a file as a JSON file, then load it and convert it to a Pandas DataFrame to avoid having to recompute everything for each compressed video.\n",
    "\n",
    "The next step will compute the metrics for a reference video."
   ]
  },
  {
   "cell_type": "code",
   "execution_count": 174,
   "id": "a3e6bdcb-c32a-4146-9bc8-00b964bf4f76",
   "metadata": {},
   "outputs": [
    {
     "name": "stderr",
     "output_type": "stream",
     "text": [
      "\n",
      "psnr, ssim, vmaf, vif:   0%|                            | 0/100 [00:00<?, ?it/s]\u001b[A\n",
      "psnr, ssim, vmaf, vif:   0%|                            | 0/100 [00:00<?, ?it/s]\u001b[A\n",
      "psnr, ssim, vmaf, vif:   0%|                            | 0/100 [00:00<?, ?it/s]\u001b[A\n",
      "psnr, ssim, vmaf, vif:   0%|                            | 0/100 [00:01<?, ?it/s]\u001b[A\n",
      "psnr, ssim, vmaf, vif:   0%|                            | 0/100 [00:01<?, ?it/s]\u001b[A\n",
      "psnr, ssim, vmaf, vif:  10%|█▉                 | 10/100 [00:02<00:04, 19.82it/s]\u001b[A\n",
      "psnr, ssim, vmaf, vif:  20%|███▊               | 20/100 [00:03<00:09,  8.61it/s]\u001b[A\n",
      "psnr, ssim, vmaf, vif:  30%|█████▋             | 30/100 [00:05<00:09,  7.42it/s]\u001b[A\n",
      "psnr, ssim, vmaf, vif:  40%|███████▌           | 40/100 [00:06<00:08,  7.01it/s]\u001b[A\n",
      "psnr, ssim, vmaf, vif:  50%|█████████▌         | 50/100 [00:08<00:07,  6.70it/s]\u001b[A\n",
      "psnr, ssim, vmaf, vif:  60%|███████████▍       | 60/100 [00:10<00:06,  6.62it/s]\u001b[A\n",
      "psnr, ssim, vmaf, vif:  70%|█████████████▎     | 70/100 [00:11<00:04,  6.48it/s]\u001b[A\n",
      "psnr, ssim, vmaf, vif:  80%|███████████████▏   | 80/100 [00:13<00:03,  6.49it/s]\u001b[A\n",
      "psnr, ssim, vmaf, vif:  89%|████████████████▉  | 89/100 [00:14<00:01,  6.31it/s]\u001b[A\n",
      "psnr, ssim, vmaf, vif:  90%|█████████████████  | 90/100 [00:15<00:01,  5.76it/s]\u001b[A\n",
      "psnr, ssim, vmaf, vif:  99%|██████████████████▊| 99/100 [00:16<00:00,  6.52it/s]\u001b[A\n",
      "psnr, ssim, vmaf, vif: 100%|██████████████████| 100/100 [00:16<00:00,  6.04it/s]\u001b[A\n"
     ]
    }
   ],
   "source": [
    "metrics_data = metrics.calc([\"psnr\", \"ssim\", \"vmaf\", \"vif\"])"
   ]
  },
  {
   "cell_type": "code",
   "execution_count": 175,
   "id": "0d94a137-04f7-450d-b3f9-ec3eb95e411f",
   "metadata": {},
   "outputs": [
    {
     "data": {
      "text/html": [
       "        <script type=\"text/javascript\">\n",
       "        window.PlotlyConfig = {MathJaxConfig: 'local'};\n",
       "        if (window.MathJax) {MathJax.Hub.Config({SVG: {font: \"STIX-Web\"}});}\n",
       "        if (typeof require !== 'undefined') {\n",
       "        require.undef(\"plotly\");\n",
       "        requirejs.config({\n",
       "            paths: {\n",
       "                'plotly': ['https://cdn.plot.ly/plotly-2.6.3.min']\n",
       "            }\n",
       "        });\n",
       "        require(['plotly'], function(Plotly) {\n",
       "            window._Plotly = Plotly;\n",
       "        });\n",
       "        }\n",
       "        </script>\n",
       "        "
      ]
     },
     "metadata": {},
     "output_type": "display_data"
    }
   ],
   "source": [
    "import ffmpeg, json, os\n",
    "\n",
    "import encoder as enc\n",
    "import media as md\n",
    "import options as op\n",
    "\n",
    "from ipywidgets import interact\n",
    "from matplotlib import pyplot as plt\n",
    "import ipywidgets as widgets\n",
    "import numpy as np\n",
    "\n",
    "# FFQM metrics\n",
    "from ffmpeg_quality_metrics import FfmpegQualityMetrics as ffqm\n",
    "# Pandas\n",
    "import pandas as pd\n",
    "\n",
    "# plotly cufflinks and configuration\n",
    "import cufflinks as cf\n",
    "#  ['ggplot', 'pearl', 'solar', 'space', 'white', 'polar', 'henanigans']\n",
    "cf.set_config_file(theme=\"pearl\",sharing=\"private\",offline=True)"
   ]
  },
  {
   "cell_type": "markdown",
   "id": "9cd0bb20-28d2-4d2b-b39b-70083a2afa5f",
   "metadata": {},
   "source": [
    "##### Saving a DataFrame as JSON\n",
    "\n",
    "Export the metrics data into a JSON file named *testfile.json*"
   ]
  },
  {
   "cell_type": "code",
   "execution_count": 182,
   "id": "4fa246a3-fc45-47e6-8b31-433e288f7caf",
   "metadata": {},
   "outputs": [],
   "source": [
    "metrics_json = json.dumps(metrics_data, indent = 4) \n",
    "#print(metrics_json)\n",
    "media.output_dir\n",
    "#\n",
    "fname = \"testfile.json\"\n",
    "with open(fname, \"w+\") as f:\n",
    "    f.write(metrics_json)"
   ]
  },
  {
   "cell_type": "markdown",
   "id": "c15a92a0-858c-47bd-b83b-3073705fb11a",
   "metadata": {},
   "source": [
    "##### Load the JSON file\n",
    "\n",
    "Now we can load the JSON file again, and create an array of Pandas DataFrames, each one for each metric, as well as computing a simple moving average with a window of 25 frames in order to smooth the data and have a better overview of the general tendency of the results."
   ]
  },
  {
   "cell_type": "code",
   "execution_count": 183,
   "id": "928f780c-3353-45d3-839a-4af99c930a4c",
   "metadata": {},
   "outputs": [],
   "source": [
    "metrics_dict = {}\n",
    "fname = media.output_files()[0].split(\".\")[0] + \".json\"\n",
    "\n",
    "with open(fname, \"r\") as f:\n",
    "    metrics_dict = json.load(f)"
   ]
  },
  {
   "cell_type": "code",
   "execution_count": 184,
   "id": "2a672821-6fe4-4f28-8c2b-a8bacc71e0ce",
   "metadata": {},
   "outputs": [],
   "source": [
    "vmetrics = [\"psnr\", \"ssim\", \"vmaf\", \"vif\"]\n",
    "framerate = 25\n",
    "\n",
    "dfs = {}\n",
    "\n",
    "for metric in vmetrics:\n",
    "    df = pd.DataFrame.from_dict(metrics_dict[metric])\n",
    "    \n",
    "    if \"n\" in df.columns:\n",
    "        df.rename(columns={\"n\" : \"frame\"}, inplace = True)\n",
    "        df.set_index(\"frame\", inplace = True)\n",
    "    \n",
    "    if metric == \"psnr\":\n",
    "        df[\"psnr_y_sma25\"] = df[\"psnr_y\"].rolling(window=framerate, min_periods=framerate).mean()\n",
    "        df[\"mse_y_sma25\"] = df[\"mse_y\"].rolling(window=framerate, min_periods=framerate).mean()\n",
    "        \n",
    "    elif metric == \"ssim\":\n",
    "        df[\"psnr_y_sma25\"] = df[\"ssim_y\"].rolling(window=framerate, min_periods=framerate).mean()\n",
    "        \n",
    "    elif metric == \"vmaf\":\n",
    "        df[\"vmaf_sma25\"] = df[\"vmaf\"].rolling(window=framerate, min_periods=framerate).mean()\n",
    "        df[\"ms_ssim_sma25\"] = df[\"ms_ssim\"].rolling(window=framerate, min_periods=framerate).mean()\n",
    "        df[\"ssim_sma25\"] = df[\"ssim\"].rolling(window=framerate, min_periods=framerate).mean()\n",
    "        df[\"psnr_sma25\"] = df[\"psnr\"].rolling(window=framerate, min_periods=framerate).mean()\n",
    "    \n",
    "    else:\n",
    "        pass\n",
    "    \n",
    "    dfs[metric] = df.copy(deep = True)  # must be deep copy"
   ]
  },
  {
   "cell_type": "markdown",
   "id": "8010f2ce-486d-4e3d-a4c4-59ed9ae08de6",
   "metadata": {},
   "source": [
    "Starting by the VMAF metric and its 25 frames (1s) simple moving average."
   ]
  },
  {
   "cell_type": "code",
   "execution_count": 185,
   "id": "5aa5ac2d-4e00-4790-8019-19c89fc2f0ba",
   "metadata": {},
   "outputs": [
    {
     "data": {
      "application/vnd.plotly.v1+json": {
       "config": {
        "linkText": "Export to plot.ly",
        "plotlyServerURL": "https://plot.ly",
        "showLink": true
       },
       "data": [
        {
         "line": {
          "color": "rgba(255, 153, 51, 1.0)",
          "dash": "solid",
          "shape": "linear",
          "width": 1.3
         },
         "mode": "lines",
         "name": "vmaf",
         "text": "",
         "type": "scatter",
         "x": [
          1,
          2,
          3,
          4,
          5,
          6,
          7,
          8,
          9,
          10,
          11,
          12,
          13,
          14,
          15,
          16,
          17,
          18,
          19,
          20,
          21,
          22,
          23,
          24,
          25,
          26,
          27,
          28,
          29,
          30,
          31,
          32,
          33,
          34,
          35,
          36,
          37,
          38,
          39,
          40,
          41,
          42,
          43,
          44,
          45,
          46,
          47,
          48,
          49,
          50,
          51,
          52,
          53,
          54,
          55,
          56,
          57,
          58,
          59,
          60,
          61,
          62,
          63,
          64,
          65,
          66,
          67,
          68,
          69,
          70,
          71,
          72,
          73,
          74,
          75,
          76,
          77,
          78,
          79,
          80,
          81,
          82,
          83,
          84,
          85,
          86,
          87,
          88,
          89,
          90,
          91,
          92,
          93,
          94,
          95,
          96,
          97,
          98,
          99,
          100,
          101,
          102,
          103,
          104,
          105,
          106,
          107,
          108,
          109,
          110,
          111,
          112,
          113,
          114,
          115,
          116,
          117,
          118,
          119,
          120,
          121,
          122,
          123,
          124,
          125,
          126,
          127,
          128,
          129,
          130,
          131,
          132,
          133,
          134,
          135,
          136,
          137,
          138,
          139,
          140,
          141,
          142,
          143,
          144,
          145,
          146,
          147,
          148,
          149,
          150,
          151,
          152,
          153,
          154,
          155,
          156,
          157,
          158,
          159,
          160,
          161,
          162,
          163,
          164,
          165,
          166,
          167,
          168,
          169,
          170,
          171,
          172,
          173,
          174,
          175,
          176,
          177,
          178,
          179,
          180,
          181,
          182,
          183,
          184,
          185,
          186,
          187,
          188,
          189,
          190,
          191,
          192,
          193,
          194,
          195,
          196,
          197,
          198,
          199,
          200,
          201,
          202,
          203,
          204,
          205,
          206,
          207,
          208,
          209,
          210,
          211,
          212,
          213,
          214,
          215,
          216,
          217,
          218,
          219,
          220,
          221,
          222,
          223,
          224,
          225,
          226,
          227,
          228,
          229,
          230,
          231,
          232,
          233,
          234,
          235,
          236,
          237,
          238,
          239,
          240,
          241,
          242,
          243,
          244,
          245,
          246,
          247,
          248,
          249,
          250,
          251,
          252,
          253,
          254,
          255,
          256,
          257
         ],
         "y": [
          38.099077,
          35.235127,
          36.90668,
          35.378054,
          38.307466,
          38.116152,
          35.528177,
          37.797065,
          45.414373,
          37.088336,
          36.536676,
          39.381993,
          45.154906,
          38.844923,
          37.896915,
          39.258671,
          38.774004,
          38.29475,
          38.162936,
          38.388523,
          39.028381,
          38.971274,
          38.423876,
          39.128659,
          38.295805,
          38.556967,
          37.46721,
          37.342656,
          39.22172,
          38.101849,
          37.318802,
          37.283594,
          37.276624,
          37.330039,
          36.579262,
          37.853714,
          37.449867,
          37.707965,
          37.366977,
          37.835202,
          37.542808,
          37.345713,
          37.922323,
          36.713931,
          37.181306,
          37.71633,
          37.577443,
          37.729193,
          37.138377,
          37.124527,
          38.156876,
          37.896591,
          37.724306,
          38.071405,
          38.259096,
          38.25034,
          37.696682,
          39.152589,
          38.76989,
          37.377779,
          37.494054,
          38.057958,
          39.154929,
          37.470993,
          38.890446,
          38.288149,
          38.455318,
          37.504631,
          37.45391,
          37.232399,
          37.285219,
          38.369875,
          37.159174,
          36.89981,
          37.526899,
          37.076146,
          37.200297,
          37.226175,
          38.545097,
          37.928706,
          38.498,
          38.765323,
          38.179467,
          37.991605,
          37.58916,
          36.890306,
          38.275188,
          38.696394,
          38.816658,
          38.300815,
          39.451592,
          38.223856,
          38.445872,
          39.615907,
          38.511745,
          38.449561,
          38.567066,
          37.93133,
          38.590394,
          38.875599,
          39.22288,
          39.271708,
          39.296636,
          38.794135,
          38.86447,
          38.453454,
          38.217118,
          39.395422,
          38.981199,
          39.101797,
          38.901269,
          37.908421,
          37.562568,
          37.192193,
          37.596621,
          37.865542,
          38.5413,
          38.844351,
          38.443602,
          38.808776,
          38.576444,
          38.677131,
          38.912308,
          39.019406,
          38.89285,
          39.141171,
          44.297868,
          44.197743,
          37.210221,
          36.008546,
          39.817869,
          37.841826,
          39.199849,
          36.784277,
          41.206985,
          38.572995,
          41.156073,
          45.457596,
          41.001105,
          40.949262,
          46.295013,
          40.396452,
          40.065619,
          40.672016,
          41.295636,
          40.613399,
          40.570351,
          41.778264,
          42.688062,
          41.968046,
          41.231336,
          41.622716,
          43.809971,
          42.022986,
          41.653919,
          41.389445,
          42.379403,
          41.714983,
          41.455158,
          42.273647,
          43.401488,
          42.733533,
          42.032278,
          47.338332,
          47.329955,
          40.826722,
          39.326286,
          42.736516,
          38.646178,
          40.864292,
          41.522597,
          43.208604,
          40.012869,
          42.087735,
          42.059977,
          41.752432,
          47.324038,
          39.478116,
          42.345407,
          47.705426,
          42.669699,
          42.278604,
          43.309749,
          43.296557,
          42.623392,
          43.081892,
          43.099466,
          42.57179,
          42.365475,
          44.285988,
          41.674451,
          42.171305,
          42.578128,
          43.992932,
          43.007203,
          42.534176,
          42.12932,
          42.483854,
          42.646733,
          42.302611,
          42.239099,
          42.31436,
          41.748823,
          42.255012,
          41.329384,
          45.756646,
          45.718255,
          38.640763,
          39.339199,
          42.465587,
          38.296446,
          40.960343,
          40.01003,
          43.469433,
          47.327754,
          38.690816,
          38.312464,
          38.306829,
          40.779839,
          39.704524,
          41.462499,
          40.845438,
          41.612327,
          40.985377,
          40.061033,
          40.349402,
          40.145307,
          39.847418,
          40.933133,
          45.624978,
          45.624461,
          40.267853,
          39.788973,
          39.326591,
          39.381872,
          38.803031,
          39.24073,
          39.921069,
          39.233672,
          40.078216,
          39.986048,
          38.6553,
          38.733886,
          38.934756,
          39.853773,
          40.184037,
          39.864044,
          39.610311,
          40.156128,
          39.34642,
          40.120069,
          39.939038,
          40.257059,
          40.038775,
          40.128426,
          40.424644,
          39.640067
         ]
        },
        {
         "line": {
          "color": "rgba(55, 128, 191, 1.0)",
          "dash": "solid",
          "shape": "linear",
          "width": 1.3
         },
         "mode": "lines",
         "name": "vmaf_sma25",
         "text": "",
         "type": "scatter",
         "x": [
          1,
          2,
          3,
          4,
          5,
          6,
          7,
          8,
          9,
          10,
          11,
          12,
          13,
          14,
          15,
          16,
          17,
          18,
          19,
          20,
          21,
          22,
          23,
          24,
          25,
          26,
          27,
          28,
          29,
          30,
          31,
          32,
          33,
          34,
          35,
          36,
          37,
          38,
          39,
          40,
          41,
          42,
          43,
          44,
          45,
          46,
          47,
          48,
          49,
          50,
          51,
          52,
          53,
          54,
          55,
          56,
          57,
          58,
          59,
          60,
          61,
          62,
          63,
          64,
          65,
          66,
          67,
          68,
          69,
          70,
          71,
          72,
          73,
          74,
          75,
          76,
          77,
          78,
          79,
          80,
          81,
          82,
          83,
          84,
          85,
          86,
          87,
          88,
          89,
          90,
          91,
          92,
          93,
          94,
          95,
          96,
          97,
          98,
          99,
          100,
          101,
          102,
          103,
          104,
          105,
          106,
          107,
          108,
          109,
          110,
          111,
          112,
          113,
          114,
          115,
          116,
          117,
          118,
          119,
          120,
          121,
          122,
          123,
          124,
          125,
          126,
          127,
          128,
          129,
          130,
          131,
          132,
          133,
          134,
          135,
          136,
          137,
          138,
          139,
          140,
          141,
          142,
          143,
          144,
          145,
          146,
          147,
          148,
          149,
          150,
          151,
          152,
          153,
          154,
          155,
          156,
          157,
          158,
          159,
          160,
          161,
          162,
          163,
          164,
          165,
          166,
          167,
          168,
          169,
          170,
          171,
          172,
          173,
          174,
          175,
          176,
          177,
          178,
          179,
          180,
          181,
          182,
          183,
          184,
          185,
          186,
          187,
          188,
          189,
          190,
          191,
          192,
          193,
          194,
          195,
          196,
          197,
          198,
          199,
          200,
          201,
          202,
          203,
          204,
          205,
          206,
          207,
          208,
          209,
          210,
          211,
          212,
          213,
          214,
          215,
          216,
          217,
          218,
          219,
          220,
          221,
          222,
          223,
          224,
          225,
          226,
          227,
          228,
          229,
          230,
          231,
          232,
          233,
          234,
          235,
          236,
          237,
          238,
          239,
          240,
          241,
          242,
          243,
          244,
          245,
          246,
          247,
          248,
          249,
          250,
          251,
          252,
          253,
          254,
          255,
          256,
          257
         ],
         "y": [
          "",
          "",
          "",
          "",
          "",
          "",
          "",
          "",
          "",
          "",
          "",
          "",
          "",
          "",
          "",
          "",
          "",
          "",
          "",
          "",
          "",
          "",
          "",
          "",
          38.49651196,
          38.51482756,
          38.60411088,
          38.62154992,
          38.77529656,
          38.767071879999996,
          38.73517788,
          38.805394559999996,
          38.78457692,
          38.46120356,
          38.4408406,
          38.493522119999994,
          38.41623708,
          38.11835944,
          38.0592416,
          38.05677308,
          37.98813856,
          37.93100692,
          37.91610984,
          37.85814964,
          37.80986096,
          37.75737892,
          37.70162568,
          37.67383836,
          37.59422708,
          37.547375960000004,
          37.531372319999996,
          37.54854756,
          37.56381356,
          37.51780096,
          37.52409084,
          37.56135236,
          37.57787588,
          37.65291448,
          37.71050852,
          37.7424492,
          37.728062800000004,
          37.75238644,
          37.810265,
          37.814425639999996,
          37.8566354,
          37.886449039999995,
          37.93083324,
          37.91412556,
          37.94372472,
          37.94576844,
          37.928524,
          37.96022128,
          37.93742052,
          37.92787784,
          37.94397272,
          37.90074352,
          37.872891759999995,
          37.85296652,
          37.8719142,
          37.8586986,
          37.868604999999995,
          37.911350639999995,
          37.87242576,
          37.84129436,
          37.8497496,
          37.825599679999996,
          37.83428888,
          37.81594748,
          37.86977408,
          37.846188839999996,
          37.89272656,
          37.88346808,
          37.92111772,
          38.0075976,
          38.05877144,
          38.105345119999996,
          38.11323276,
          38.144119,
          38.211742359999995,
          38.26569036,
          38.35155972,
          38.43441616,
          38.5172346,
          38.52719612,
          38.56462668,
          38.56284484,
          38.54091664,
          38.58955484,
          38.629138600000005,
          38.68964408,
          38.770082599999995,
          38.75541192,
          38.71005888,
          38.645080279999995,
          38.61691252,
          38.55347052,
          38.56616828,
          38.58210744,
          38.53521524,
          38.54709648,
          38.5521718,
          38.5565744,
          38.59581352,
          38.612974,
          38.61366404,
          38.61039568,
          38.81144208,
          39.00748636,
          38.9441298,
          38.82989284,
          38.884469440000004,
          38.86945776,
          38.861634839999994,
          38.773757960000005,
          38.85796548,
          38.844834520000006,
          38.974740600000004,
          39.29054172,
          39.4428982,
          39.57700384,
          39.914182679999996,
          39.98838876,
          40.037239480000004,
          40.12637604,
          40.22585044,
          40.30732864,
          40.383057439999995,
          40.49769568,
          40.64444192,
          40.76744976,
          40.85105636,
          40.74405028,
          40.7285394,
          40.92105,
          41.14686492,
          41.20972796,
          41.39123104,
          41.491836400000004,
          41.678671640000005,
          41.72133812,
          41.914477839999996,
          41.97757624,
          41.840563519999996,
          42.094052600000005,
          42.34928032,
          42.130548680000004,
          42.087742039999995,
          42.19457792,
          42.1135444,
          42.09629064,
          42.13265856,
          42.23818868,
          42.167572879999994,
          42.143559800000006,
          42.14723704,
          42.16808088,
          42.396133760000005,
          42.22285956,
          42.2357564,
          42.47781668,
          42.52902684,
          42.524994879999994,
          42.58878552,
          42.66244148,
          42.67643128,
          42.66364744,
          42.67828476,
          42.69986524,
          42.50095096,
          42.37919228,
          42.41310144,
          42.5269022,
          42.52056668,
          42.73443684,
          42.82015328000001,
          42.86061644,
          42.81744508,
          42.91628448,
          42.9386444,
          42.94834976,
          42.96781644000001,
          42.76742931999999,
          42.858257599999995,
          42.85464180000001,
          42.599600120000005,
          42.723077999999994,
          42.86066404,
          42.67390460000001,
          42.515610280000004,
          42.50929808,
          42.317880239999994,
          42.23231532,
          42.12984492,
          42.174003240000005,
          42.295673879999995,
          42.17632848,
          42.021974840000006,
          41.851122880000005,
          41.72259916,
          41.590492000000005,
          41.54762492,
          41.49626964,
          41.46140856,
          41.394954320000004,
          41.3052912,
          41.22970332,
          41.1429412,
          41.066885,
          41.01400984,
          41.185833599999995,
          41.1805462,
          40.962530120000004,
          41.00845852,
          41.00795419999999,
          40.88460560000001,
          40.904869,
          40.83608448,
          40.83252604,
          40.6630956,
          40.37311408,
          40.42492336,
          40.4386368,
          40.45571908,
          40.38191576,
          40.38788572,
          40.33674724,
          40.29749148,
          40.21741084,
          40.18424088,
          40.15565636,
          40.14648304,
          40.13823228,
          40.15461792,
          40.1188436,
          39.89898152,
          39.69098884,
          39.6658774
         ]
        }
       ],
       "layout": {
        "autosize": true,
        "legend": {
         "bgcolor": "#F5F6F9",
         "font": {
          "color": "#4D5663"
         }
        },
        "paper_bgcolor": "#F5F6F9",
        "plot_bgcolor": "#F5F6F9",
        "template": {
         "data": {
          "bar": [
           {
            "error_x": {
             "color": "#2a3f5f"
            },
            "error_y": {
             "color": "#2a3f5f"
            },
            "marker": {
             "line": {
              "color": "#E5ECF6",
              "width": 0.5
             },
             "pattern": {
              "fillmode": "overlay",
              "size": 10,
              "solidity": 0.2
             }
            },
            "type": "bar"
           }
          ],
          "barpolar": [
           {
            "marker": {
             "line": {
              "color": "#E5ECF6",
              "width": 0.5
             },
             "pattern": {
              "fillmode": "overlay",
              "size": 10,
              "solidity": 0.2
             }
            },
            "type": "barpolar"
           }
          ],
          "carpet": [
           {
            "aaxis": {
             "endlinecolor": "#2a3f5f",
             "gridcolor": "white",
             "linecolor": "white",
             "minorgridcolor": "white",
             "startlinecolor": "#2a3f5f"
            },
            "baxis": {
             "endlinecolor": "#2a3f5f",
             "gridcolor": "white",
             "linecolor": "white",
             "minorgridcolor": "white",
             "startlinecolor": "#2a3f5f"
            },
            "type": "carpet"
           }
          ],
          "choropleth": [
           {
            "colorbar": {
             "outlinewidth": 0,
             "ticks": ""
            },
            "type": "choropleth"
           }
          ],
          "contour": [
           {
            "colorbar": {
             "outlinewidth": 0,
             "ticks": ""
            },
            "colorscale": [
             [
              0,
              "#0d0887"
             ],
             [
              0.1111111111111111,
              "#46039f"
             ],
             [
              0.2222222222222222,
              "#7201a8"
             ],
             [
              0.3333333333333333,
              "#9c179e"
             ],
             [
              0.4444444444444444,
              "#bd3786"
             ],
             [
              0.5555555555555556,
              "#d8576b"
             ],
             [
              0.6666666666666666,
              "#ed7953"
             ],
             [
              0.7777777777777778,
              "#fb9f3a"
             ],
             [
              0.8888888888888888,
              "#fdca26"
             ],
             [
              1,
              "#f0f921"
             ]
            ],
            "type": "contour"
           }
          ],
          "contourcarpet": [
           {
            "colorbar": {
             "outlinewidth": 0,
             "ticks": ""
            },
            "type": "contourcarpet"
           }
          ],
          "heatmap": [
           {
            "colorbar": {
             "outlinewidth": 0,
             "ticks": ""
            },
            "colorscale": [
             [
              0,
              "#0d0887"
             ],
             [
              0.1111111111111111,
              "#46039f"
             ],
             [
              0.2222222222222222,
              "#7201a8"
             ],
             [
              0.3333333333333333,
              "#9c179e"
             ],
             [
              0.4444444444444444,
              "#bd3786"
             ],
             [
              0.5555555555555556,
              "#d8576b"
             ],
             [
              0.6666666666666666,
              "#ed7953"
             ],
             [
              0.7777777777777778,
              "#fb9f3a"
             ],
             [
              0.8888888888888888,
              "#fdca26"
             ],
             [
              1,
              "#f0f921"
             ]
            ],
            "type": "heatmap"
           }
          ],
          "heatmapgl": [
           {
            "colorbar": {
             "outlinewidth": 0,
             "ticks": ""
            },
            "colorscale": [
             [
              0,
              "#0d0887"
             ],
             [
              0.1111111111111111,
              "#46039f"
             ],
             [
              0.2222222222222222,
              "#7201a8"
             ],
             [
              0.3333333333333333,
              "#9c179e"
             ],
             [
              0.4444444444444444,
              "#bd3786"
             ],
             [
              0.5555555555555556,
              "#d8576b"
             ],
             [
              0.6666666666666666,
              "#ed7953"
             ],
             [
              0.7777777777777778,
              "#fb9f3a"
             ],
             [
              0.8888888888888888,
              "#fdca26"
             ],
             [
              1,
              "#f0f921"
             ]
            ],
            "type": "heatmapgl"
           }
          ],
          "histogram": [
           {
            "marker": {
             "pattern": {
              "fillmode": "overlay",
              "size": 10,
              "solidity": 0.2
             }
            },
            "type": "histogram"
           }
          ],
          "histogram2d": [
           {
            "colorbar": {
             "outlinewidth": 0,
             "ticks": ""
            },
            "colorscale": [
             [
              0,
              "#0d0887"
             ],
             [
              0.1111111111111111,
              "#46039f"
             ],
             [
              0.2222222222222222,
              "#7201a8"
             ],
             [
              0.3333333333333333,
              "#9c179e"
             ],
             [
              0.4444444444444444,
              "#bd3786"
             ],
             [
              0.5555555555555556,
              "#d8576b"
             ],
             [
              0.6666666666666666,
              "#ed7953"
             ],
             [
              0.7777777777777778,
              "#fb9f3a"
             ],
             [
              0.8888888888888888,
              "#fdca26"
             ],
             [
              1,
              "#f0f921"
             ]
            ],
            "type": "histogram2d"
           }
          ],
          "histogram2dcontour": [
           {
            "colorbar": {
             "outlinewidth": 0,
             "ticks": ""
            },
            "colorscale": [
             [
              0,
              "#0d0887"
             ],
             [
              0.1111111111111111,
              "#46039f"
             ],
             [
              0.2222222222222222,
              "#7201a8"
             ],
             [
              0.3333333333333333,
              "#9c179e"
             ],
             [
              0.4444444444444444,
              "#bd3786"
             ],
             [
              0.5555555555555556,
              "#d8576b"
             ],
             [
              0.6666666666666666,
              "#ed7953"
             ],
             [
              0.7777777777777778,
              "#fb9f3a"
             ],
             [
              0.8888888888888888,
              "#fdca26"
             ],
             [
              1,
              "#f0f921"
             ]
            ],
            "type": "histogram2dcontour"
           }
          ],
          "mesh3d": [
           {
            "colorbar": {
             "outlinewidth": 0,
             "ticks": ""
            },
            "type": "mesh3d"
           }
          ],
          "parcoords": [
           {
            "line": {
             "colorbar": {
              "outlinewidth": 0,
              "ticks": ""
             }
            },
            "type": "parcoords"
           }
          ],
          "pie": [
           {
            "automargin": true,
            "type": "pie"
           }
          ],
          "scatter": [
           {
            "marker": {
             "colorbar": {
              "outlinewidth": 0,
              "ticks": ""
             }
            },
            "type": "scatter"
           }
          ],
          "scatter3d": [
           {
            "line": {
             "colorbar": {
              "outlinewidth": 0,
              "ticks": ""
             }
            },
            "marker": {
             "colorbar": {
              "outlinewidth": 0,
              "ticks": ""
             }
            },
            "type": "scatter3d"
           }
          ],
          "scattercarpet": [
           {
            "marker": {
             "colorbar": {
              "outlinewidth": 0,
              "ticks": ""
             }
            },
            "type": "scattercarpet"
           }
          ],
          "scattergeo": [
           {
            "marker": {
             "colorbar": {
              "outlinewidth": 0,
              "ticks": ""
             }
            },
            "type": "scattergeo"
           }
          ],
          "scattergl": [
           {
            "marker": {
             "colorbar": {
              "outlinewidth": 0,
              "ticks": ""
             }
            },
            "type": "scattergl"
           }
          ],
          "scattermapbox": [
           {
            "marker": {
             "colorbar": {
              "outlinewidth": 0,
              "ticks": ""
             }
            },
            "type": "scattermapbox"
           }
          ],
          "scatterpolar": [
           {
            "marker": {
             "colorbar": {
              "outlinewidth": 0,
              "ticks": ""
             }
            },
            "type": "scatterpolar"
           }
          ],
          "scatterpolargl": [
           {
            "marker": {
             "colorbar": {
              "outlinewidth": 0,
              "ticks": ""
             }
            },
            "type": "scatterpolargl"
           }
          ],
          "scatterternary": [
           {
            "marker": {
             "colorbar": {
              "outlinewidth": 0,
              "ticks": ""
             }
            },
            "type": "scatterternary"
           }
          ],
          "surface": [
           {
            "colorbar": {
             "outlinewidth": 0,
             "ticks": ""
            },
            "colorscale": [
             [
              0,
              "#0d0887"
             ],
             [
              0.1111111111111111,
              "#46039f"
             ],
             [
              0.2222222222222222,
              "#7201a8"
             ],
             [
              0.3333333333333333,
              "#9c179e"
             ],
             [
              0.4444444444444444,
              "#bd3786"
             ],
             [
              0.5555555555555556,
              "#d8576b"
             ],
             [
              0.6666666666666666,
              "#ed7953"
             ],
             [
              0.7777777777777778,
              "#fb9f3a"
             ],
             [
              0.8888888888888888,
              "#fdca26"
             ],
             [
              1,
              "#f0f921"
             ]
            ],
            "type": "surface"
           }
          ],
          "table": [
           {
            "cells": {
             "fill": {
              "color": "#EBF0F8"
             },
             "line": {
              "color": "white"
             }
            },
            "header": {
             "fill": {
              "color": "#C8D4E3"
             },
             "line": {
              "color": "white"
             }
            },
            "type": "table"
           }
          ]
         },
         "layout": {
          "annotationdefaults": {
           "arrowcolor": "#2a3f5f",
           "arrowhead": 0,
           "arrowwidth": 1
          },
          "autotypenumbers": "strict",
          "coloraxis": {
           "colorbar": {
            "outlinewidth": 0,
            "ticks": ""
           }
          },
          "colorscale": {
           "diverging": [
            [
             0,
             "#8e0152"
            ],
            [
             0.1,
             "#c51b7d"
            ],
            [
             0.2,
             "#de77ae"
            ],
            [
             0.3,
             "#f1b6da"
            ],
            [
             0.4,
             "#fde0ef"
            ],
            [
             0.5,
             "#f7f7f7"
            ],
            [
             0.6,
             "#e6f5d0"
            ],
            [
             0.7,
             "#b8e186"
            ],
            [
             0.8,
             "#7fbc41"
            ],
            [
             0.9,
             "#4d9221"
            ],
            [
             1,
             "#276419"
            ]
           ],
           "sequential": [
            [
             0,
             "#0d0887"
            ],
            [
             0.1111111111111111,
             "#46039f"
            ],
            [
             0.2222222222222222,
             "#7201a8"
            ],
            [
             0.3333333333333333,
             "#9c179e"
            ],
            [
             0.4444444444444444,
             "#bd3786"
            ],
            [
             0.5555555555555556,
             "#d8576b"
            ],
            [
             0.6666666666666666,
             "#ed7953"
            ],
            [
             0.7777777777777778,
             "#fb9f3a"
            ],
            [
             0.8888888888888888,
             "#fdca26"
            ],
            [
             1,
             "#f0f921"
            ]
           ],
           "sequentialminus": [
            [
             0,
             "#0d0887"
            ],
            [
             0.1111111111111111,
             "#46039f"
            ],
            [
             0.2222222222222222,
             "#7201a8"
            ],
            [
             0.3333333333333333,
             "#9c179e"
            ],
            [
             0.4444444444444444,
             "#bd3786"
            ],
            [
             0.5555555555555556,
             "#d8576b"
            ],
            [
             0.6666666666666666,
             "#ed7953"
            ],
            [
             0.7777777777777778,
             "#fb9f3a"
            ],
            [
             0.8888888888888888,
             "#fdca26"
            ],
            [
             1,
             "#f0f921"
            ]
           ]
          },
          "colorway": [
           "#636efa",
           "#EF553B",
           "#00cc96",
           "#ab63fa",
           "#FFA15A",
           "#19d3f3",
           "#FF6692",
           "#B6E880",
           "#FF97FF",
           "#FECB52"
          ],
          "font": {
           "color": "#2a3f5f"
          },
          "geo": {
           "bgcolor": "white",
           "lakecolor": "white",
           "landcolor": "#E5ECF6",
           "showlakes": true,
           "showland": true,
           "subunitcolor": "white"
          },
          "hoverlabel": {
           "align": "left"
          },
          "hovermode": "closest",
          "mapbox": {
           "style": "light"
          },
          "paper_bgcolor": "white",
          "plot_bgcolor": "#E5ECF6",
          "polar": {
           "angularaxis": {
            "gridcolor": "white",
            "linecolor": "white",
            "ticks": ""
           },
           "bgcolor": "#E5ECF6",
           "radialaxis": {
            "gridcolor": "white",
            "linecolor": "white",
            "ticks": ""
           }
          },
          "scene": {
           "xaxis": {
            "backgroundcolor": "#E5ECF6",
            "gridcolor": "white",
            "gridwidth": 2,
            "linecolor": "white",
            "showbackground": true,
            "ticks": "",
            "zerolinecolor": "white"
           },
           "yaxis": {
            "backgroundcolor": "#E5ECF6",
            "gridcolor": "white",
            "gridwidth": 2,
            "linecolor": "white",
            "showbackground": true,
            "ticks": "",
            "zerolinecolor": "white"
           },
           "zaxis": {
            "backgroundcolor": "#E5ECF6",
            "gridcolor": "white",
            "gridwidth": 2,
            "linecolor": "white",
            "showbackground": true,
            "ticks": "",
            "zerolinecolor": "white"
           }
          },
          "shapedefaults": {
           "line": {
            "color": "#2a3f5f"
           }
          },
          "ternary": {
           "aaxis": {
            "gridcolor": "white",
            "linecolor": "white",
            "ticks": ""
           },
           "baxis": {
            "gridcolor": "white",
            "linecolor": "white",
            "ticks": ""
           },
           "bgcolor": "#E5ECF6",
           "caxis": {
            "gridcolor": "white",
            "linecolor": "white",
            "ticks": ""
           }
          },
          "title": {
           "x": 0.05
          },
          "xaxis": {
           "automargin": true,
           "gridcolor": "white",
           "linecolor": "white",
           "ticks": "",
           "title": {
            "standoff": 15
           },
           "zerolinecolor": "white",
           "zerolinewidth": 2
          },
          "yaxis": {
           "automargin": true,
           "gridcolor": "white",
           "linecolor": "white",
           "ticks": "",
           "title": {
            "standoff": 15
           },
           "zerolinecolor": "white",
           "zerolinewidth": 2
          }
         }
        },
        "title": {
         "font": {
          "color": "#4D5663"
         },
         "text": "VMAF Score and its SMA25"
        },
        "xaxis": {
         "autorange": true,
         "gridcolor": "#E1E5ED",
         "range": [
          1,
          257
         ],
         "showgrid": true,
         "tickfont": {
          "color": "#4D5663"
         },
         "title": {
          "font": {
           "color": "#4D5663"
          },
          "text": ""
         },
         "type": "linear",
         "zerolinecolor": "#E1E5ED"
        },
        "yaxis": {
         "autorange": true,
         "gridcolor": "#E1E5ED",
         "range": [
          34.54233261111111,
          48.398220388888895
         ],
         "showgrid": true,
         "tickfont": {
          "color": "#4D5663"
         },
         "title": {
          "font": {
           "color": "#4D5663"
          },
          "text": ""
         },
         "type": "linear",
         "zerolinecolor": "#E1E5ED"
        }
       }
      },
      "image/png": "[encoded data removed]",
      "text/html": [
       "<div>                            <div id=\"b19143f8-6819-4ed6-829d-bfe27387d033\" class=\"plotly-graph-div\" style=\"height:525px; width:100%;\"></div>            <script type=\"text/javascript\">                require([\"plotly\"], function(Plotly) {                    window.PLOTLYENV=window.PLOTLYENV || {};\n",
       "                    window.PLOTLYENV.BASE_URL='https://plot.ly';                                    if (document.getElementById(\"b19143f8-6819-4ed6-829d-bfe27387d033\")) {                    Plotly.newPlot(                        \"b19143f8-6819-4ed6-829d-bfe27387d033\",                        [{\"line\":{\"color\":\"rgba(255, 153, 51, 1.0)\",\"dash\":\"solid\",\"shape\":\"linear\",\"width\":1.3},\"mode\":\"lines\",\"name\":\"vmaf\",\"text\":\"\",\"x\":[1,2,3,4,5,6,7,8,9,10,11,12,13,14,15,16,17,18,19,20,21,22,23,24,25,26,27,28,29,30,31,32,33,34,35,36,37,38,39,40,41,42,43,44,45,46,47,48,49,50,51,52,53,54,55,56,57,58,59,60,61,62,63,64,65,66,67,68,69,70,71,72,73,74,75,76,77,78,79,80,81,82,83,84,85,86,87,88,89,90,91,92,93,94,95,96,97,98,99,100,101,102,103,104,105,106,107,108,109,110,111,112,113,114,115,116,117,118,119,120,121,122,123,124,125,126,127,128,129,130,131,132,133,134,135,136,137,138,139,140,141,142,143,144,145,146,147,148,149,150,151,152,153,154,155,156,157,158,159,160,161,162,163,164,165,166,167,168,169,170,171,172,173,174,175,176,177,178,179,180,181,182,183,184,185,186,187,188,189,190,191,192,193,194,195,196,197,198,199,200,201,202,203,204,205,206,207,208,209,210,211,212,213,214,215,216,217,218,219,220,221,222,223,224,225,226,227,228,229,230,231,232,233,234,235,236,237,238,239,240,241,242,243,244,245,246,247,248,249,250,251,252,253,254,255,256,257],\"y\":[38.099077,35.235127,36.90668,35.378054,38.307466,38.116152,35.528177,37.797065,45.414373,37.088336,36.536676,39.381993,45.154906,38.844923,37.896915,39.258671,38.774004,38.29475,38.162936,38.388523,39.028381,38.971274,38.423876,39.128659,38.295805,38.556967,37.46721,37.342656,39.22172,38.101849,37.318802,37.283594,37.276624,37.330039,36.579262,37.853714,37.449867,37.707965,37.366977,37.835202,37.542808,37.345713,37.922323,36.713931,37.181306,37.71633,37.577443,37.729193,37.138377,37.124527,38.156876,37.896591,37.724306,38.071405,38.259096,38.25034,37.696682,39.152589,38.76989,37.377779,37.494054,38.057958,39.154929,37.470993,38.890446,38.288149,38.455318,37.504631,37.45391,37.232399,37.285219,38.369875,37.159174,36.89981,37.526899,37.076146,37.200297,37.226175,38.545097,37.928706,38.498,38.765323,38.179467,37.991605,37.58916,36.890306,38.275188,38.696394,38.816658,38.300815,39.451592,38.223856,38.445872,39.615907,38.511745,38.449561,38.567066,37.93133,38.590394,38.875599,39.22288,39.271708,39.296636,38.794135,38.86447,38.453454,38.217118,39.395422,38.981199,39.101797,38.901269,37.908421,37.562568,37.192193,37.596621,37.865542,38.5413,38.844351,38.443602,38.808776,38.576444,38.677131,38.912308,39.019406,38.89285,39.141171,44.297868,44.197743,37.210221,36.008546,39.817869,37.841826,39.199849,36.784277,41.206985,38.572995,41.156073,45.457596,41.001105,40.949262,46.295013,40.396452,40.065619,40.672016,41.295636,40.613399,40.570351,41.778264,42.688062,41.968046,41.231336,41.622716,43.809971,42.022986,41.653919,41.389445,42.379403,41.714983,41.455158,42.273647,43.401488,42.733533,42.032278,47.338332,47.329955,40.826722,39.326286,42.736516,38.646178,40.864292,41.522597,43.208604,40.012869,42.087735,42.059977,41.752432,47.324038,39.478116,42.345407,47.705426,42.669699,42.278604,43.309749,43.296557,42.623392,43.081892,43.099466,42.57179,42.365475,44.285988,41.674451,42.171305,42.578128,43.992932,43.007203,42.534176,42.12932,42.483854,42.646733,42.302611,42.239099,42.31436,41.748823,42.255012,41.329384,45.756646,45.718255,38.640763,39.339199,42.465587,38.296446,40.960343,40.01003,43.469433,47.327754,38.690816,38.312464,38.306829,40.779839,39.704524,41.462499,40.845438,41.612327,40.985377,40.061033,40.349402,40.145307,39.847418,40.933133,45.624978,45.624461,40.267853,39.788973,39.326591,39.381872,38.803031,39.24073,39.921069,39.233672,40.078216,39.986048,38.6553,38.733886,38.934756,39.853773,40.184037,39.864044,39.610311,40.156128,39.34642,40.120069,39.939038,40.257059,40.038775,40.128426,40.424644,39.640067],\"type\":\"scatter\"},{\"line\":{\"color\":\"rgba(55, 128, 191, 1.0)\",\"dash\":\"solid\",\"shape\":\"linear\",\"width\":1.3},\"mode\":\"lines\",\"name\":\"vmaf_sma25\",\"text\":\"\",\"x\":[1,2,3,4,5,6,7,8,9,10,11,12,13,14,15,16,17,18,19,20,21,22,23,24,25,26,27,28,29,30,31,32,33,34,35,36,37,38,39,40,41,42,43,44,45,46,47,48,49,50,51,52,53,54,55,56,57,58,59,60,61,62,63,64,65,66,67,68,69,70,71,72,73,74,75,76,77,78,79,80,81,82,83,84,85,86,87,88,89,90,91,92,93,94,95,96,97,98,99,100,101,102,103,104,105,106,107,108,109,110,111,112,113,114,115,116,117,118,119,120,121,122,123,124,125,126,127,128,129,130,131,132,133,134,135,136,137,138,139,140,141,142,143,144,145,146,147,148,149,150,151,152,153,154,155,156,157,158,159,160,161,162,163,164,165,166,167,168,169,170,171,172,173,174,175,176,177,178,179,180,181,182,183,184,185,186,187,188,189,190,191,192,193,194,195,196,197,198,199,200,201,202,203,204,205,206,207,208,209,210,211,212,213,214,215,216,217,218,219,220,221,222,223,224,225,226,227,228,229,230,231,232,233,234,235,236,237,238,239,240,241,242,243,244,245,246,247,248,249,250,251,252,253,254,255,256,257],\"y\":[\"\",\"\",\"\",\"\",\"\",\"\",\"\",\"\",\"\",\"\",\"\",\"\",\"\",\"\",\"\",\"\",\"\",\"\",\"\",\"\",\"\",\"\",\"\",\"\",38.49651196,38.51482756,38.60411088,38.62154992,38.77529656,38.767071879999996,38.73517788,38.805394559999996,38.78457692,38.46120356,38.4408406,38.493522119999994,38.41623708,38.11835944,38.0592416,38.05677308,37.98813856,37.93100692,37.91610984,37.85814964,37.80986096,37.75737892,37.70162568,37.67383836,37.59422708,37.547375960000004,37.531372319999996,37.54854756,37.56381356,37.51780096,37.52409084,37.56135236,37.57787588,37.65291448,37.71050852,37.7424492,37.728062800000004,37.75238644,37.810265,37.814425639999996,37.8566354,37.886449039999995,37.93083324,37.91412556,37.94372472,37.94576844,37.928524,37.96022128,37.93742052,37.92787784,37.94397272,37.90074352,37.872891759999995,37.85296652,37.8719142,37.8586986,37.868604999999995,37.911350639999995,37.87242576,37.84129436,37.8497496,37.825599679999996,37.83428888,37.81594748,37.86977408,37.846188839999996,37.89272656,37.88346808,37.92111772,38.0075976,38.05877144,38.105345119999996,38.11323276,38.144119,38.211742359999995,38.26569036,38.35155972,38.43441616,38.5172346,38.52719612,38.56462668,38.56284484,38.54091664,38.58955484,38.629138600000005,38.68964408,38.770082599999995,38.75541192,38.71005888,38.645080279999995,38.61691252,38.55347052,38.56616828,38.58210744,38.53521524,38.54709648,38.5521718,38.5565744,38.59581352,38.612974,38.61366404,38.61039568,38.81144208,39.00748636,38.9441298,38.82989284,38.884469440000004,38.86945776,38.861634839999994,38.773757960000005,38.85796548,38.844834520000006,38.974740600000004,39.29054172,39.4428982,39.57700384,39.914182679999996,39.98838876,40.037239480000004,40.12637604,40.22585044,40.30732864,40.383057439999995,40.49769568,40.64444192,40.76744976,40.85105636,40.74405028,40.7285394,40.92105,41.14686492,41.20972796,41.39123104,41.491836400000004,41.678671640000005,41.72133812,41.914477839999996,41.97757624,41.840563519999996,42.094052600000005,42.34928032,42.130548680000004,42.087742039999995,42.19457792,42.1135444,42.09629064,42.13265856,42.23818868,42.167572879999994,42.143559800000006,42.14723704,42.16808088,42.396133760000005,42.22285956,42.2357564,42.47781668,42.52902684,42.524994879999994,42.58878552,42.66244148,42.67643128,42.66364744,42.67828476,42.69986524,42.50095096,42.37919228,42.41310144,42.5269022,42.52056668,42.73443684,42.82015328000001,42.86061644,42.81744508,42.91628448,42.9386444,42.94834976,42.96781644000001,42.76742931999999,42.858257599999995,42.85464180000001,42.599600120000005,42.723077999999994,42.86066404,42.67390460000001,42.515610280000004,42.50929808,42.317880239999994,42.23231532,42.12984492,42.174003240000005,42.295673879999995,42.17632848,42.021974840000006,41.851122880000005,41.72259916,41.590492000000005,41.54762492,41.49626964,41.46140856,41.394954320000004,41.3052912,41.22970332,41.1429412,41.066885,41.01400984,41.185833599999995,41.1805462,40.962530120000004,41.00845852,41.00795419999999,40.88460560000001,40.904869,40.83608448,40.83252604,40.6630956,40.37311408,40.42492336,40.4386368,40.45571908,40.38191576,40.38788572,40.33674724,40.29749148,40.21741084,40.18424088,40.15565636,40.14648304,40.13823228,40.15461792,40.1188436,39.89898152,39.69098884,39.6658774],\"type\":\"scatter\"}],                        {\"legend\":{\"bgcolor\":\"#F5F6F9\",\"font\":{\"color\":\"#4D5663\"}},\"paper_bgcolor\":\"#F5F6F9\",\"plot_bgcolor\":\"#F5F6F9\",\"template\":{\"data\":{\"barpolar\":[{\"marker\":{\"line\":{\"color\":\"#E5ECF6\",\"width\":0.5},\"pattern\":{\"fillmode\":\"overlay\",\"size\":10,\"solidity\":0.2}},\"type\":\"barpolar\"}],\"bar\":[{\"error_x\":{\"color\":\"#2a3f5f\"},\"error_y\":{\"color\":\"#2a3f5f\"},\"marker\":{\"line\":{\"color\":\"#E5ECF6\",\"width\":0.5},\"pattern\":{\"fillmode\":\"overlay\",\"size\":10,\"solidity\":0.2}},\"type\":\"bar\"}],\"carpet\":[{\"aaxis\":{\"endlinecolor\":\"#2a3f5f\",\"gridcolor\":\"white\",\"linecolor\":\"white\",\"minorgridcolor\":\"white\",\"startlinecolor\":\"#2a3f5f\"},\"baxis\":{\"endlinecolor\":\"#2a3f5f\",\"gridcolor\":\"white\",\"linecolor\":\"white\",\"minorgridcolor\":\"white\",\"startlinecolor\":\"#2a3f5f\"},\"type\":\"carpet\"}],\"choropleth\":[{\"colorbar\":{\"outlinewidth\":0,\"ticks\":\"\"},\"type\":\"choropleth\"}],\"contourcarpet\":[{\"colorbar\":{\"outlinewidth\":0,\"ticks\":\"\"},\"type\":\"contourcarpet\"}],\"contour\":[{\"colorbar\":{\"outlinewidth\":0,\"ticks\":\"\"},\"colorscale\":[[0.0,\"#0d0887\"],[0.1111111111111111,\"#46039f\"],[0.2222222222222222,\"#7201a8\"],[0.3333333333333333,\"#9c179e\"],[0.4444444444444444,\"#bd3786\"],[0.5555555555555556,\"#d8576b\"],[0.6666666666666666,\"#ed7953\"],[0.7777777777777778,\"#fb9f3a\"],[0.8888888888888888,\"#fdca26\"],[1.0,\"#f0f921\"]],\"type\":\"contour\"}],\"heatmapgl\":[{\"colorbar\":{\"outlinewidth\":0,\"ticks\":\"\"},\"colorscale\":[[0.0,\"#0d0887\"],[0.1111111111111111,\"#46039f\"],[0.2222222222222222,\"#7201a8\"],[0.3333333333333333,\"#9c179e\"],[0.4444444444444444,\"#bd3786\"],[0.5555555555555556,\"#d8576b\"],[0.6666666666666666,\"#ed7953\"],[0.7777777777777778,\"#fb9f3a\"],[0.8888888888888888,\"#fdca26\"],[1.0,\"#f0f921\"]],\"type\":\"heatmapgl\"}],\"heatmap\":[{\"colorbar\":{\"outlinewidth\":0,\"ticks\":\"\"},\"colorscale\":[[0.0,\"#0d0887\"],[0.1111111111111111,\"#46039f\"],[0.2222222222222222,\"#7201a8\"],[0.3333333333333333,\"#9c179e\"],[0.4444444444444444,\"#bd3786\"],[0.5555555555555556,\"#d8576b\"],[0.6666666666666666,\"#ed7953\"],[0.7777777777777778,\"#fb9f3a\"],[0.8888888888888888,\"#fdca26\"],[1.0,\"#f0f921\"]],\"type\":\"heatmap\"}],\"histogram2dcontour\":[{\"colorbar\":{\"outlinewidth\":0,\"ticks\":\"\"},\"colorscale\":[[0.0,\"#0d0887\"],[0.1111111111111111,\"#46039f\"],[0.2222222222222222,\"#7201a8\"],[0.3333333333333333,\"#9c179e\"],[0.4444444444444444,\"#bd3786\"],[0.5555555555555556,\"#d8576b\"],[0.6666666666666666,\"#ed7953\"],[0.7777777777777778,\"#fb9f3a\"],[0.8888888888888888,\"#fdca26\"],[1.0,\"#f0f921\"]],\"type\":\"histogram2dcontour\"}],\"histogram2d\":[{\"colorbar\":{\"outlinewidth\":0,\"ticks\":\"\"},\"colorscale\":[[0.0,\"#0d0887\"],[0.1111111111111111,\"#46039f\"],[0.2222222222222222,\"#7201a8\"],[0.3333333333333333,\"#9c179e\"],[0.4444444444444444,\"#bd3786\"],[0.5555555555555556,\"#d8576b\"],[0.6666666666666666,\"#ed7953\"],[0.7777777777777778,\"#fb9f3a\"],[0.8888888888888888,\"#fdca26\"],[1.0,\"#f0f921\"]],\"type\":\"histogram2d\"}],\"histogram\":[{\"marker\":{\"pattern\":{\"fillmode\":\"overlay\",\"size\":10,\"solidity\":0.2}},\"type\":\"histogram\"}],\"mesh3d\":[{\"colorbar\":{\"outlinewidth\":0,\"ticks\":\"\"},\"type\":\"mesh3d\"}],\"parcoords\":[{\"line\":{\"colorbar\":{\"outlinewidth\":0,\"ticks\":\"\"}},\"type\":\"parcoords\"}],\"pie\":[{\"automargin\":true,\"type\":\"pie\"}],\"scatter3d\":[{\"line\":{\"colorbar\":{\"outlinewidth\":0,\"ticks\":\"\"}},\"marker\":{\"colorbar\":{\"outlinewidth\":0,\"ticks\":\"\"}},\"type\":\"scatter3d\"}],\"scattercarpet\":[{\"marker\":{\"colorbar\":{\"outlinewidth\":0,\"ticks\":\"\"}},\"type\":\"scattercarpet\"}],\"scattergeo\":[{\"marker\":{\"colorbar\":{\"outlinewidth\":0,\"ticks\":\"\"}},\"type\":\"scattergeo\"}],\"scattergl\":[{\"marker\":{\"colorbar\":{\"outlinewidth\":0,\"ticks\":\"\"}},\"type\":\"scattergl\"}],\"scattermapbox\":[{\"marker\":{\"colorbar\":{\"outlinewidth\":0,\"ticks\":\"\"}},\"type\":\"scattermapbox\"}],\"scatterpolargl\":[{\"marker\":{\"colorbar\":{\"outlinewidth\":0,\"ticks\":\"\"}},\"type\":\"scatterpolargl\"}],\"scatterpolar\":[{\"marker\":{\"colorbar\":{\"outlinewidth\":0,\"ticks\":\"\"}},\"type\":\"scatterpolar\"}],\"scatter\":[{\"marker\":{\"colorbar\":{\"outlinewidth\":0,\"ticks\":\"\"}},\"type\":\"scatter\"}],\"scatterternary\":[{\"marker\":{\"colorbar\":{\"outlinewidth\":0,\"ticks\":\"\"}},\"type\":\"scatterternary\"}],\"surface\":[{\"colorbar\":{\"outlinewidth\":0,\"ticks\":\"\"},\"colorscale\":[[0.0,\"#0d0887\"],[0.1111111111111111,\"#46039f\"],[0.2222222222222222,\"#7201a8\"],[0.3333333333333333,\"#9c179e\"],[0.4444444444444444,\"#bd3786\"],[0.5555555555555556,\"#d8576b\"],[0.6666666666666666,\"#ed7953\"],[0.7777777777777778,\"#fb9f3a\"],[0.8888888888888888,\"#fdca26\"],[1.0,\"#f0f921\"]],\"type\":\"surface\"}],\"table\":[{\"cells\":{\"fill\":{\"color\":\"#EBF0F8\"},\"line\":{\"color\":\"white\"}},\"header\":{\"fill\":{\"color\":\"#C8D4E3\"},\"line\":{\"color\":\"white\"}},\"type\":\"table\"}]},\"layout\":{\"annotationdefaults\":{\"arrowcolor\":\"#2a3f5f\",\"arrowhead\":0,\"arrowwidth\":1},\"autotypenumbers\":\"strict\",\"coloraxis\":{\"colorbar\":{\"outlinewidth\":0,\"ticks\":\"\"}},\"colorscale\":{\"diverging\":[[0,\"#8e0152\"],[0.1,\"#c51b7d\"],[0.2,\"#de77ae\"],[0.3,\"#f1b6da\"],[0.4,\"#fde0ef\"],[0.5,\"#f7f7f7\"],[0.6,\"#e6f5d0\"],[0.7,\"#b8e186\"],[0.8,\"#7fbc41\"],[0.9,\"#4d9221\"],[1,\"#276419\"]],\"sequential\":[[0.0,\"#0d0887\"],[0.1111111111111111,\"#46039f\"],[0.2222222222222222,\"#7201a8\"],[0.3333333333333333,\"#9c179e\"],[0.4444444444444444,\"#bd3786\"],[0.5555555555555556,\"#d8576b\"],[0.6666666666666666,\"#ed7953\"],[0.7777777777777778,\"#fb9f3a\"],[0.8888888888888888,\"#fdca26\"],[1.0,\"#f0f921\"]],\"sequentialminus\":[[0.0,\"#0d0887\"],[0.1111111111111111,\"#46039f\"],[0.2222222222222222,\"#7201a8\"],[0.3333333333333333,\"#9c179e\"],[0.4444444444444444,\"#bd3786\"],[0.5555555555555556,\"#d8576b\"],[0.6666666666666666,\"#ed7953\"],[0.7777777777777778,\"#fb9f3a\"],[0.8888888888888888,\"#fdca26\"],[1.0,\"#f0f921\"]]},\"colorway\":[\"#636efa\",\"#EF553B\",\"#00cc96\",\"#ab63fa\",\"#FFA15A\",\"#19d3f3\",\"#FF6692\",\"#B6E880\",\"#FF97FF\",\"#FECB52\"],\"font\":{\"color\":\"#2a3f5f\"},\"geo\":{\"bgcolor\":\"white\",\"lakecolor\":\"white\",\"landcolor\":\"#E5ECF6\",\"showlakes\":true,\"showland\":true,\"subunitcolor\":\"white\"},\"hoverlabel\":{\"align\":\"left\"},\"hovermode\":\"closest\",\"mapbox\":{\"style\":\"light\"},\"paper_bgcolor\":\"white\",\"plot_bgcolor\":\"#E5ECF6\",\"polar\":{\"angularaxis\":{\"gridcolor\":\"white\",\"linecolor\":\"white\",\"ticks\":\"\"},\"bgcolor\":\"#E5ECF6\",\"radialaxis\":{\"gridcolor\":\"white\",\"linecolor\":\"white\",\"ticks\":\"\"}},\"scene\":{\"xaxis\":{\"backgroundcolor\":\"#E5ECF6\",\"gridcolor\":\"white\",\"gridwidth\":2,\"linecolor\":\"white\",\"showbackground\":true,\"ticks\":\"\",\"zerolinecolor\":\"white\"},\"yaxis\":{\"backgroundcolor\":\"#E5ECF6\",\"gridcolor\":\"white\",\"gridwidth\":2,\"linecolor\":\"white\",\"showbackground\":true,\"ticks\":\"\",\"zerolinecolor\":\"white\"},\"zaxis\":{\"backgroundcolor\":\"#E5ECF6\",\"gridcolor\":\"white\",\"gridwidth\":2,\"linecolor\":\"white\",\"showbackground\":true,\"ticks\":\"\",\"zerolinecolor\":\"white\"}},\"shapedefaults\":{\"line\":{\"color\":\"#2a3f5f\"}},\"ternary\":{\"aaxis\":{\"gridcolor\":\"white\",\"linecolor\":\"white\",\"ticks\":\"\"},\"baxis\":{\"gridcolor\":\"white\",\"linecolor\":\"white\",\"ticks\":\"\"},\"bgcolor\":\"#E5ECF6\",\"caxis\":{\"gridcolor\":\"white\",\"linecolor\":\"white\",\"ticks\":\"\"}},\"title\":{\"x\":0.05},\"xaxis\":{\"automargin\":true,\"gridcolor\":\"white\",\"linecolor\":\"white\",\"ticks\":\"\",\"title\":{\"standoff\":15},\"zerolinecolor\":\"white\",\"zerolinewidth\":2},\"yaxis\":{\"automargin\":true,\"gridcolor\":\"white\",\"linecolor\":\"white\",\"ticks\":\"\",\"title\":{\"standoff\":15},\"zerolinecolor\":\"white\",\"zerolinewidth\":2}}},\"title\":{\"font\":{\"color\":\"#4D5663\"},\"text\":\"VMAF Score and its SMA25\"},\"xaxis\":{\"gridcolor\":\"#E1E5ED\",\"showgrid\":true,\"tickfont\":{\"color\":\"#4D5663\"},\"title\":{\"font\":{\"color\":\"#4D5663\"},\"text\":\"\"},\"zerolinecolor\":\"#E1E5ED\"},\"yaxis\":{\"gridcolor\":\"#E1E5ED\",\"showgrid\":true,\"tickfont\":{\"color\":\"#4D5663\"},\"title\":{\"font\":{\"color\":\"#4D5663\"},\"text\":\"\"},\"zerolinecolor\":\"#E1E5ED\"}},                        {\"showLink\": true, \"linkText\": \"Export to plot.ly\", \"plotlyServerURL\": \"https://plot.ly\", \"responsive\": true}                    ).then(function(){\n",
       "                            \n",
       "var gd = document.getElementById('b19143f8-6819-4ed6-829d-bfe27387d033');\n",
       "var x = new MutationObserver(function (mutations, observer) {{\n",
       "        var display = window.getComputedStyle(gd).display;\n",
       "        if (!display || display === 'none') {{\n",
       "            console.log([gd, 'removed!']);\n",
       "            Plotly.purge(gd);\n",
       "            observer.disconnect();\n",
       "        }}\n",
       "}});\n",
       "\n",
       "// Listen for the removal of the full notebook cells\n",
       "var notebookContainer = gd.closest('#notebook-container');\n",
       "if (notebookContainer) {{\n",
       "    x.observe(notebookContainer, {childList: true});\n",
       "}}\n",
       "\n",
       "// Listen for the clearing of the current output cell\n",
       "var outputEl = gd.closest('.output');\n",
       "if (outputEl) {{\n",
       "    x.observe(outputEl, {childList: true});\n",
       "}}\n",
       "\n",
       "                        })                };                });            </script>        </div>"
      ]
     },
     "metadata": {},
     "output_type": "display_data"
    }
   ],
   "source": [
    "dfs[\"vmaf\"].iplot(y=[\"vmaf\", \"vmaf_sma25\"], title=\"VMAF Score and its SMA25\")"
   ]
  },
  {
   "cell_type": "markdown",
   "id": "e2c6c416-df7f-4354-943c-a10807885a55",
   "metadata": {
    "tags": []
   },
   "source": [
    "##### Initial Analysis\n",
    "\n",
    "For this test video, the VMAF score seems consistent with the earlier SSIM plots.\n",
    "The video stars with relatively low quality, has a peak in perceptual quality, showing a increase in effiency of the compression, then decreases and is centered around a score of 37 roughly until halfway, and then starts increasing in quality roughly halfway with irregular fluctuations, but an overall increasing tendency, which means that less bits were needed to have a result perceptually closer to the original source material, than in the first half, where the characteristics of the scene are showing a lower SSIM and VMAF. Multi-scale SSIM might also sched some light, as well as the other objective non-perceptual metrics."
   ]
  },
  {
   "cell_type": "code",
   "execution_count": 186,
   "id": "28e7d80a-7019-4fe5-86e1-61e083fe74b9",
   "metadata": {},
   "outputs": [
    {
     "data": {
      "application/vnd.plotly.v1+json": {
       "config": {
        "linkText": "Export to plot.ly",
        "plotlyServerURL": "https://plot.ly",
        "showLink": true
       },
       "data": [
        {
         "line": {
          "color": "rgba(255, 153, 51, 1.0)",
          "dash": "solid",
          "shape": "linear",
          "width": 2
         },
         "mode": "lines",
         "name": "vmaf",
         "text": "",
         "type": "scatter",
         "x": [
          1,
          2,
          3,
          4,
          5,
          6,
          7,
          8,
          9,
          10,
          11,
          12,
          13,
          14,
          15,
          16,
          17,
          18,
          19,
          20,
          21,
          22,
          23,
          24,
          25,
          26,
          27,
          28,
          29,
          30,
          31,
          32,
          33,
          34,
          35,
          36,
          37,
          38,
          39,
          40,
          41,
          42,
          43,
          44,
          45,
          46,
          47,
          48,
          49,
          50,
          51,
          52,
          53,
          54,
          55,
          56,
          57,
          58,
          59,
          60,
          61,
          62,
          63,
          64,
          65,
          66,
          67,
          68,
          69,
          70,
          71,
          72,
          73,
          74,
          75,
          76,
          77,
          78,
          79,
          80,
          81,
          82,
          83,
          84,
          85,
          86,
          87,
          88,
          89,
          90,
          91,
          92,
          93,
          94,
          95,
          96,
          97,
          98,
          99,
          100,
          101,
          102,
          103,
          104,
          105,
          106,
          107,
          108,
          109,
          110,
          111,
          112,
          113,
          114,
          115,
          116,
          117,
          118,
          119,
          120,
          121,
          122,
          123,
          124,
          125,
          126,
          127,
          128,
          129,
          130,
          131,
          132,
          133,
          134,
          135,
          136,
          137,
          138,
          139,
          140,
          141,
          142,
          143,
          144,
          145,
          146,
          147,
          148,
          149,
          150,
          151,
          152,
          153,
          154,
          155,
          156,
          157,
          158,
          159,
          160,
          161,
          162,
          163,
          164,
          165,
          166,
          167,
          168,
          169,
          170,
          171,
          172,
          173,
          174,
          175,
          176,
          177,
          178,
          179,
          180,
          181,
          182,
          183,
          184,
          185,
          186,
          187,
          188,
          189,
          190,
          191,
          192,
          193,
          194,
          195,
          196,
          197,
          198,
          199,
          200,
          201,
          202,
          203,
          204,
          205,
          206,
          207,
          208,
          209,
          210,
          211,
          212,
          213,
          214,
          215,
          216,
          217,
          218,
          219,
          220,
          221,
          222,
          223,
          224,
          225,
          226,
          227,
          228,
          229,
          230,
          231,
          232,
          233,
          234,
          235,
          236,
          237,
          238,
          239,
          240,
          241,
          242,
          243,
          244,
          245,
          246,
          247,
          248,
          249,
          250,
          251,
          252,
          253,
          254,
          255,
          256,
          257
         ],
         "xaxis": "x",
         "y": [
          38.099077,
          35.235127,
          36.90668,
          35.378054,
          38.307466,
          38.116152,
          35.528177,
          37.797065,
          45.414373,
          37.088336,
          36.536676,
          39.381993,
          45.154906,
          38.844923,
          37.896915,
          39.258671,
          38.774004,
          38.29475,
          38.162936,
          38.388523,
          39.028381,
          38.971274,
          38.423876,
          39.128659,
          38.295805,
          38.556967,
          37.46721,
          37.342656,
          39.22172,
          38.101849,
          37.318802,
          37.283594,
          37.276624,
          37.330039,
          36.579262,
          37.853714,
          37.449867,
          37.707965,
          37.366977,
          37.835202,
          37.542808,
          37.345713,
          37.922323,
          36.713931,
          37.181306,
          37.71633,
          37.577443,
          37.729193,
          37.138377,
          37.124527,
          38.156876,
          37.896591,
          37.724306,
          38.071405,
          38.259096,
          38.25034,
          37.696682,
          39.152589,
          38.76989,
          37.377779,
          37.494054,
          38.057958,
          39.154929,
          37.470993,
          38.890446,
          38.288149,
          38.455318,
          37.504631,
          37.45391,
          37.232399,
          37.285219,
          38.369875,
          37.159174,
          36.89981,
          37.526899,
          37.076146,
          37.200297,
          37.226175,
          38.545097,
          37.928706,
          38.498,
          38.765323,
          38.179467,
          37.991605,
          37.58916,
          36.890306,
          38.275188,
          38.696394,
          38.816658,
          38.300815,
          39.451592,
          38.223856,
          38.445872,
          39.615907,
          38.511745,
          38.449561,
          38.567066,
          37.93133,
          38.590394,
          38.875599,
          39.22288,
          39.271708,
          39.296636,
          38.794135,
          38.86447,
          38.453454,
          38.217118,
          39.395422,
          38.981199,
          39.101797,
          38.901269,
          37.908421,
          37.562568,
          37.192193,
          37.596621,
          37.865542,
          38.5413,
          38.844351,
          38.443602,
          38.808776,
          38.576444,
          38.677131,
          38.912308,
          39.019406,
          38.89285,
          39.141171,
          44.297868,
          44.197743,
          37.210221,
          36.008546,
          39.817869,
          37.841826,
          39.199849,
          36.784277,
          41.206985,
          38.572995,
          41.156073,
          45.457596,
          41.001105,
          40.949262,
          46.295013,
          40.396452,
          40.065619,
          40.672016,
          41.295636,
          40.613399,
          40.570351,
          41.778264,
          42.688062,
          41.968046,
          41.231336,
          41.622716,
          43.809971,
          42.022986,
          41.653919,
          41.389445,
          42.379403,
          41.714983,
          41.455158,
          42.273647,
          43.401488,
          42.733533,
          42.032278,
          47.338332,
          47.329955,
          40.826722,
          39.326286,
          42.736516,
          38.646178,
          40.864292,
          41.522597,
          43.208604,
          40.012869,
          42.087735,
          42.059977,
          41.752432,
          47.324038,
          39.478116,
          42.345407,
          47.705426,
          42.669699,
          42.278604,
          43.309749,
          43.296557,
          42.623392,
          43.081892,
          43.099466,
          42.57179,
          42.365475,
          44.285988,
          41.674451,
          42.171305,
          42.578128,
          43.992932,
          43.007203,
          42.534176,
          42.12932,
          42.483854,
          42.646733,
          42.302611,
          42.239099,
          42.31436,
          41.748823,
          42.255012,
          41.329384,
          45.756646,
          45.718255,
          38.640763,
          39.339199,
          42.465587,
          38.296446,
          40.960343,
          40.01003,
          43.469433,
          47.327754,
          38.690816,
          38.312464,
          38.306829,
          40.779839,
          39.704524,
          41.462499,
          40.845438,
          41.612327,
          40.985377,
          40.061033,
          40.349402,
          40.145307,
          39.847418,
          40.933133,
          45.624978,
          45.624461,
          40.267853,
          39.788973,
          39.326591,
          39.381872,
          38.803031,
          39.24073,
          39.921069,
          39.233672,
          40.078216,
          39.986048,
          38.6553,
          38.733886,
          38.934756,
          39.853773,
          40.184037,
          39.864044,
          39.610311,
          40.156128,
          39.34642,
          40.120069,
          39.939038,
          40.257059,
          40.038775,
          40.128426,
          40.424644,
          39.640067
         ],
         "yaxis": "y"
        },
        {
         "line": {
          "color": "rgba(55, 128, 191, 1.0)",
          "dash": "solid",
          "shape": "linear",
          "width": 2
         },
         "mode": "lines",
         "name": "ssim",
         "text": "",
         "type": "scatter",
         "x": [
          1,
          2,
          3,
          4,
          5,
          6,
          7,
          8,
          9,
          10,
          11,
          12,
          13,
          14,
          15,
          16,
          17,
          18,
          19,
          20,
          21,
          22,
          23,
          24,
          25,
          26,
          27,
          28,
          29,
          30,
          31,
          32,
          33,
          34,
          35,
          36,
          37,
          38,
          39,
          40,
          41,
          42,
          43,
          44,
          45,
          46,
          47,
          48,
          49,
          50,
          51,
          52,
          53,
          54,
          55,
          56,
          57,
          58,
          59,
          60,
          61,
          62,
          63,
          64,
          65,
          66,
          67,
          68,
          69,
          70,
          71,
          72,
          73,
          74,
          75,
          76,
          77,
          78,
          79,
          80,
          81,
          82,
          83,
          84,
          85,
          86,
          87,
          88,
          89,
          90,
          91,
          92,
          93,
          94,
          95,
          96,
          97,
          98,
          99,
          100,
          101,
          102,
          103,
          104,
          105,
          106,
          107,
          108,
          109,
          110,
          111,
          112,
          113,
          114,
          115,
          116,
          117,
          118,
          119,
          120,
          121,
          122,
          123,
          124,
          125,
          126,
          127,
          128,
          129,
          130,
          131,
          132,
          133,
          134,
          135,
          136,
          137,
          138,
          139,
          140,
          141,
          142,
          143,
          144,
          145,
          146,
          147,
          148,
          149,
          150,
          151,
          152,
          153,
          154,
          155,
          156,
          157,
          158,
          159,
          160,
          161,
          162,
          163,
          164,
          165,
          166,
          167,
          168,
          169,
          170,
          171,
          172,
          173,
          174,
          175,
          176,
          177,
          178,
          179,
          180,
          181,
          182,
          183,
          184,
          185,
          186,
          187,
          188,
          189,
          190,
          191,
          192,
          193,
          194,
          195,
          196,
          197,
          198,
          199,
          200,
          201,
          202,
          203,
          204,
          205,
          206,
          207,
          208,
          209,
          210,
          211,
          212,
          213,
          214,
          215,
          216,
          217,
          218,
          219,
          220,
          221,
          222,
          223,
          224,
          225,
          226,
          227,
          228,
          229,
          230,
          231,
          232,
          233,
          234,
          235,
          236,
          237,
          238,
          239,
          240,
          241,
          242,
          243,
          244,
          245,
          246,
          247,
          248,
          249,
          250,
          251,
          252,
          253,
          254,
          255,
          256,
          257
         ],
         "xaxis": "x2",
         "y": [
          0.974754,
          0.970519,
          0.972109,
          0.9706,
          0.97737,
          0.976993,
          0.970641,
          0.972701,
          0.981083,
          0.973769,
          0.972875,
          0.974993,
          0.981219,
          0.973957,
          0.973827,
          0.974311,
          0.974114,
          0.974208,
          0.973924,
          0.974511,
          0.97427,
          0.974622,
          0.973564,
          0.974112,
          0.973608,
          0.974027,
          0.973676,
          0.973173,
          0.973637,
          0.973139,
          0.972928,
          0.972765,
          0.972506,
          0.972514,
          0.971949,
          0.97308,
          0.972534,
          0.972285,
          0.971937,
          0.971969,
          0.972079,
          0.97239,
          0.972315,
          0.971782,
          0.971153,
          0.971766,
          0.971723,
          0.97205,
          0.971446,
          0.971643,
          0.971939,
          0.971604,
          0.971583,
          0.972085,
          0.971686,
          0.972359,
          0.971934,
          0.972845,
          0.972381,
          0.971152,
          0.971119,
          0.972014,
          0.973109,
          0.971813,
          0.972622,
          0.972302,
          0.972223,
          0.971417,
          0.972004,
          0.972073,
          0.971404,
          0.972546,
          0.97236,
          0.971944,
          0.972394,
          0.971547,
          0.971555,
          0.971537,
          0.972795,
          0.97247,
          0.972185,
          0.973154,
          0.971789,
          0.972113,
          0.971559,
          0.970695,
          0.97185,
          0.971957,
          0.972044,
          0.971332,
          0.972714,
          0.971978,
          0.971824,
          0.973268,
          0.972765,
          0.972717,
          0.972177,
          0.971938,
          0.972806,
          0.973018,
          0.973385,
          0.973907,
          0.973751,
          0.973383,
          0.972906,
          0.9728,
          0.972945,
          0.974325,
          0.973751,
          0.973869,
          0.973665,
          0.972764,
          0.972371,
          0.972577,
          0.972854,
          0.973063,
          0.973444,
          0.974086,
          0.97347,
          0.973706,
          0.973657,
          0.973475,
          0.973931,
          0.974132,
          0.974527,
          0.97473,
          0.982855,
          0.982614,
          0.973567,
          0.9726,
          0.975416,
          0.974108,
          0.975399,
          0.973965,
          0.97726,
          0.975506,
          0.977101,
          0.982124,
          0.97727,
          0.977559,
          0.982789,
          0.977911,
          0.977851,
          0.978343,
          0.978707,
          0.978124,
          0.977942,
          0.978983,
          0.979153,
          0.979236,
          0.979399,
          0.979544,
          0.980602,
          0.979572,
          0.979473,
          0.979017,
          0.979348,
          0.979187,
          0.979032,
          0.97953,
          0.980467,
          0.980256,
          0.979868,
          0.985322,
          0.985237,
          0.97893,
          0.977561,
          0.980256,
          0.977878,
          0.97944,
          0.979648,
          0.980698,
          0.979093,
          0.982457,
          0.982386,
          0.980238,
          0.984026,
          0.979753,
          0.981407,
          0.985699,
          0.982045,
          0.981835,
          0.982353,
          0.98242,
          0.981691,
          0.982051,
          0.982064,
          0.982199,
          0.982245,
          0.983092,
          0.981923,
          0.981976,
          0.982377,
          0.982524,
          0.981987,
          0.981302,
          0.980926,
          0.981288,
          0.981729,
          0.981612,
          0.981401,
          0.981345,
          0.980594,
          0.980961,
          0.980615,
          0.985708,
          0.985618,
          0.979149,
          0.97938,
          0.981064,
          0.9787,
          0.980688,
          0.979408,
          0.981172,
          0.98463,
          0.978419,
          0.980735,
          0.980648,
          0.979894,
          0.979397,
          0.979934,
          0.979261,
          0.979674,
          0.978997,
          0.978914,
          0.978812,
          0.978622,
          0.97889,
          0.979443,
          0.985133,
          0.985133,
          0.978392,
          0.977484,
          0.97733,
          0.977146,
          0.976739,
          0.97771,
          0.97782,
          0.976793,
          0.977081,
          0.976871,
          0.976244,
          0.976045,
          0.97638,
          0.977038,
          0.977089,
          0.977026,
          0.976907,
          0.976459,
          0.975507,
          0.975652,
          0.975808,
          0.975688,
          0.97567,
          0.976169,
          0.975984,
          0.975545
         ],
         "yaxis": "y2"
        },
        {
         "line": {
          "color": "rgba(50, 171, 96, 1.0)",
          "dash": "solid",
          "shape": "linear",
          "width": 2
         },
         "mode": "lines",
         "name": "ms_ssim",
         "text": "",
         "type": "scatter",
         "x": [
          1,
          2,
          3,
          4,
          5,
          6,
          7,
          8,
          9,
          10,
          11,
          12,
          13,
          14,
          15,
          16,
          17,
          18,
          19,
          20,
          21,
          22,
          23,
          24,
          25,
          26,
          27,
          28,
          29,
          30,
          31,
          32,
          33,
          34,
          35,
          36,
          37,
          38,
          39,
          40,
          41,
          42,
          43,
          44,
          45,
          46,
          47,
          48,
          49,
          50,
          51,
          52,
          53,
          54,
          55,
          56,
          57,
          58,
          59,
          60,
          61,
          62,
          63,
          64,
          65,
          66,
          67,
          68,
          69,
          70,
          71,
          72,
          73,
          74,
          75,
          76,
          77,
          78,
          79,
          80,
          81,
          82,
          83,
          84,
          85,
          86,
          87,
          88,
          89,
          90,
          91,
          92,
          93,
          94,
          95,
          96,
          97,
          98,
          99,
          100,
          101,
          102,
          103,
          104,
          105,
          106,
          107,
          108,
          109,
          110,
          111,
          112,
          113,
          114,
          115,
          116,
          117,
          118,
          119,
          120,
          121,
          122,
          123,
          124,
          125,
          126,
          127,
          128,
          129,
          130,
          131,
          132,
          133,
          134,
          135,
          136,
          137,
          138,
          139,
          140,
          141,
          142,
          143,
          144,
          145,
          146,
          147,
          148,
          149,
          150,
          151,
          152,
          153,
          154,
          155,
          156,
          157,
          158,
          159,
          160,
          161,
          162,
          163,
          164,
          165,
          166,
          167,
          168,
          169,
          170,
          171,
          172,
          173,
          174,
          175,
          176,
          177,
          178,
          179,
          180,
          181,
          182,
          183,
          184,
          185,
          186,
          187,
          188,
          189,
          190,
          191,
          192,
          193,
          194,
          195,
          196,
          197,
          198,
          199,
          200,
          201,
          202,
          203,
          204,
          205,
          206,
          207,
          208,
          209,
          210,
          211,
          212,
          213,
          214,
          215,
          216,
          217,
          218,
          219,
          220,
          221,
          222,
          223,
          224,
          225,
          226,
          227,
          228,
          229,
          230,
          231,
          232,
          233,
          234,
          235,
          236,
          237,
          238,
          239,
          240,
          241,
          242,
          243,
          244,
          245,
          246,
          247,
          248,
          249,
          250,
          251,
          252,
          253,
          254,
          255,
          256,
          257
         ],
         "xaxis": "x3",
         "y": [
          0.98084,
          0.976411,
          0.978141,
          0.976739,
          0.983189,
          0.982825,
          0.976516,
          0.978675,
          0.986463,
          0.979117,
          0.978271,
          0.980512,
          0.986491,
          0.979598,
          0.979383,
          0.979856,
          0.979754,
          0.979503,
          0.979432,
          0.980039,
          0.979954,
          0.979974,
          0.979021,
          0.979655,
          0.979199,
          0.97953,
          0.979079,
          0.978685,
          0.979208,
          0.978519,
          0.978264,
          0.977947,
          0.977975,
          0.978134,
          0.977533,
          0.978389,
          0.977782,
          0.977537,
          0.977343,
          0.977566,
          0.977652,
          0.977748,
          0.977838,
          0.977297,
          0.976995,
          0.977341,
          0.97713,
          0.977651,
          0.977,
          0.977189,
          0.977407,
          0.977285,
          0.977091,
          0.97759,
          0.977392,
          0.977562,
          0.977403,
          0.978211,
          0.977951,
          0.976662,
          0.976657,
          0.977239,
          0.978394,
          0.977184,
          0.978096,
          0.977574,
          0.977556,
          0.97687,
          0.977242,
          0.977469,
          0.976867,
          0.978098,
          0.977795,
          0.977407,
          0.977397,
          0.977096,
          0.977174,
          0.977092,
          0.978271,
          0.977818,
          0.977765,
          0.978422,
          0.977527,
          0.977865,
          0.977246,
          0.976612,
          0.977657,
          0.977791,
          0.978097,
          0.977576,
          0.978474,
          0.977866,
          0.977884,
          0.979154,
          0.978809,
          0.978406,
          0.978382,
          0.97779,
          0.978618,
          0.978936,
          0.979447,
          0.979488,
          0.979525,
          0.979107,
          0.978923,
          0.978809,
          0.978807,
          0.980012,
          0.979528,
          0.979975,
          0.979779,
          0.9786,
          0.978292,
          0.978362,
          0.978575,
          0.978607,
          0.979273,
          0.979816,
          0.979429,
          0.97942,
          0.97947,
          0.979329,
          0.979779,
          0.980017,
          0.980257,
          0.980502,
          0.988454,
          0.988213,
          0.979273,
          0.978294,
          0.981354,
          0.979684,
          0.980993,
          0.979813,
          0.982968,
          0.981032,
          0.983041,
          0.987697,
          0.982805,
          0.983321,
          0.988337,
          0.983448,
          0.983504,
          0.984073,
          0.984281,
          0.983784,
          0.983638,
          0.984721,
          0.9847,
          0.984765,
          0.984928,
          0.985242,
          0.986174,
          0.985126,
          0.985036,
          0.984838,
          0.985085,
          0.984799,
          0.984638,
          0.98508,
          0.986188,
          0.985884,
          0.985499,
          0.990897,
          0.990821,
          0.984435,
          0.983077,
          0.985838,
          0.98359,
          0.984906,
          0.985448,
          0.986502,
          0.98461,
          0.987937,
          0.987861,
          0.985715,
          0.989681,
          0.984867,
          0.98666,
          0.990767,
          0.987403,
          0.987259,
          0.98772,
          0.98753,
          0.98709,
          0.987275,
          0.98718,
          0.987266,
          0.987441,
          0.988391,
          0.987297,
          0.98715,
          0.987518,
          0.987692,
          0.987231,
          0.986548,
          0.986335,
          0.98655,
          0.986696,
          0.98696,
          0.986799,
          0.986613,
          0.985928,
          0.986102,
          0.985784,
          0.990878,
          0.9908,
          0.984303,
          0.984643,
          0.986401,
          0.983939,
          0.985907,
          0.984749,
          0.986548,
          0.989754,
          0.983771,
          0.985848,
          0.985759,
          0.985132,
          0.984666,
          0.985175,
          0.98468,
          0.984917,
          0.984267,
          0.98405,
          0.984107,
          0.983877,
          0.983976,
          0.984463,
          0.990101,
          0.990101,
          0.98341,
          0.982639,
          0.982488,
          0.982261,
          0.982068,
          0.982768,
          0.983101,
          0.982021,
          0.982389,
          0.982272,
          0.981652,
          0.981418,
          0.981811,
          0.982403,
          0.982438,
          0.982326,
          0.982235,
          0.981851,
          0.980964,
          0.981051,
          0.981404,
          0.981201,
          0.981218,
          0.981516,
          0.98146,
          0.980864
         ],
         "yaxis": "y3"
        },
        {
         "line": {
          "color": "rgba(128, 0, 128, 1.0)",
          "dash": "solid",
          "shape": "linear",
          "width": 2
         },
         "mode": "lines",
         "name": "psnr",
         "text": "",
         "type": "scatter",
         "x": [
          1,
          2,
          3,
          4,
          5,
          6,
          7,
          8,
          9,
          10,
          11,
          12,
          13,
          14,
          15,
          16,
          17,
          18,
          19,
          20,
          21,
          22,
          23,
          24,
          25,
          26,
          27,
          28,
          29,
          30,
          31,
          32,
          33,
          34,
          35,
          36,
          37,
          38,
          39,
          40,
          41,
          42,
          43,
          44,
          45,
          46,
          47,
          48,
          49,
          50,
          51,
          52,
          53,
          54,
          55,
          56,
          57,
          58,
          59,
          60,
          61,
          62,
          63,
          64,
          65,
          66,
          67,
          68,
          69,
          70,
          71,
          72,
          73,
          74,
          75,
          76,
          77,
          78,
          79,
          80,
          81,
          82,
          83,
          84,
          85,
          86,
          87,
          88,
          89,
          90,
          91,
          92,
          93,
          94,
          95,
          96,
          97,
          98,
          99,
          100,
          101,
          102,
          103,
          104,
          105,
          106,
          107,
          108,
          109,
          110,
          111,
          112,
          113,
          114,
          115,
          116,
          117,
          118,
          119,
          120,
          121,
          122,
          123,
          124,
          125,
          126,
          127,
          128,
          129,
          130,
          131,
          132,
          133,
          134,
          135,
          136,
          137,
          138,
          139,
          140,
          141,
          142,
          143,
          144,
          145,
          146,
          147,
          148,
          149,
          150,
          151,
          152,
          153,
          154,
          155,
          156,
          157,
          158,
          159,
          160,
          161,
          162,
          163,
          164,
          165,
          166,
          167,
          168,
          169,
          170,
          171,
          172,
          173,
          174,
          175,
          176,
          177,
          178,
          179,
          180,
          181,
          182,
          183,
          184,
          185,
          186,
          187,
          188,
          189,
          190,
          191,
          192,
          193,
          194,
          195,
          196,
          197,
          198,
          199,
          200,
          201,
          202,
          203,
          204,
          205,
          206,
          207,
          208,
          209,
          210,
          211,
          212,
          213,
          214,
          215,
          216,
          217,
          218,
          219,
          220,
          221,
          222,
          223,
          224,
          225,
          226,
          227,
          228,
          229,
          230,
          231,
          232,
          233,
          234,
          235,
          236,
          237,
          238,
          239,
          240,
          241,
          242,
          243,
          244,
          245,
          246,
          247,
          248,
          249,
          250,
          251,
          252,
          253,
          254,
          255,
          256,
          257
         ],
         "xaxis": "x4",
         "y": [
          22.119989,
          22.123029,
          22.139515,
          22.119587,
          22.139973,
          22.140119,
          22.129545,
          22.128061,
          22.598236,
          22.565894,
          22.557921,
          22.553493,
          22.578125,
          22.542312,
          22.552633,
          22.553446,
          22.553368,
          22.566398,
          22.546272,
          22.546687,
          22.549929,
          22.565218,
          22.559661,
          22.570184,
          22.56378,
          22.56544,
          22.562229,
          22.560941,
          22.562654,
          22.57605,
          22.573733,
          22.577272,
          22.555095,
          22.550585,
          22.55101,
          22.571199,
          22.57304,
          22.579508,
          22.579432,
          22.57538,
          22.556552,
          22.555196,
          22.578529,
          22.569698,
          22.556267,
          22.560517,
          22.563882,
          22.532099,
          22.542545,
          22.544435,
          22.563945,
          22.567578,
          22.567128,
          22.56834,
          22.562938,
          22.536843,
          22.528469,
          22.570914,
          22.568864,
          22.582036,
          22.582534,
          22.547097,
          22.539278,
          22.544277,
          22.573278,
          22.579095,
          22.584731,
          22.583184,
          22.563875,
          22.551043,
          22.562109,
          22.579032,
          22.580732,
          22.580505,
          22.579464,
          22.558254,
          22.560692,
          22.558802,
          22.587517,
          22.57966,
          22.581772,
          22.573959,
          22.541324,
          22.544575,
          22.154976,
          22.152412,
          22.151589,
          22.152012,
          22.136909,
          22.115619,
          22.115858,
          22.121047,
          22.115895,
          22.135347,
          22.128321,
          22.128555,
          22.12573,
          22.115595,
          22.118303,
          22.126704,
          22.124361,
          22.127578,
          22.123627,
          22.116149,
          22.095019,
          22.09938,
          22.105688,
          22.120833,
          22.120237,
          22.109114,
          22.108867,
          22.121619,
          22.117308,
          22.118961,
          22.120704,
          22.127634,
          22.129731,
          22.127087,
          22.106376,
          22.093239,
          22.095292,
          22.103671,
          22.12328,
          22.121707,
          22.104763,
          22.102006,
          22.154826,
          22.155317,
          22.103186,
          22.106986,
          22.10948,
          22.105866,
          22.124822,
          22.071739,
          22.082346,
          22.060826,
          22.07936,
          22.115981,
          22.104116,
          22.098719,
          22.115353,
          22.083904,
          22.083386,
          22.071767,
          22.070059,
          22.072365,
          22.08114,
          22.07953,
          22.099493,
          22.100248,
          22.075975,
          22.067643,
          22.049668,
          22.063812,
          22.060278,
          22.068542,
          22.090462,
          22.096307,
          22.085429,
          22.082547,
          22.073746,
          22.068198,
          22.067487,
          22.121667,
          22.121673,
          22.083916,
          22.106766,
          22.108706,
          22.066935,
          22.065855,
          22.041923,
          22.063078,
          22.057363,
          22.085249,
          22.08534,
          22.099946,
          22.114272,
          22.483618,
          22.48875,
          22.500941,
          22.468953,
          22.469517,
          22.483316,
          22.482062,
          22.482315,
          22.502118,
          22.500082,
          22.457666,
          22.44162,
          22.419349,
          22.431573,
          22.43376,
          22.450015,
          22.501155,
          22.502712,
          22.486434,
          22.490921,
          22.492102,
          22.479065,
          22.468789,
          22.46965,
          22.487082,
          22.488655,
          22.514192,
          22.514569,
          22.534678,
          22.534793,
          22.460738,
          22.440874,
          22.477097,
          22.467628,
          22.481124,
          22.516907,
          22.528207,
          22.545678,
          22.503208,
          22.517231,
          22.51726,
          22.495427,
          22.495971,
          22.511307,
          22.508491,
          22.524758,
          22.524333,
          22.502737,
          22.505543,
          22.48613,
          22.504487,
          22.513633,
          22.596156,
          22.596,
          22.535155,
          22.53664,
          22.537415,
          22.53246,
          22.529429,
          22.53873,
          22.538316,
          22.536782,
          22.553997,
          22.528469,
          22.520985,
          22.532232,
          22.539515,
          22.540686,
          22.560102,
          22.561252,
          22.548034,
          22.54922,
          22.548399,
          22.540871,
          22.539541,
          22.545245,
          22.5448,
          22.549985,
          22.552344,
          22.533225
         ],
         "yaxis": "y4"
        }
       ],
       "layout": {
        "autosize": true,
        "legend": {
         "bgcolor": "#F5F6F9",
         "font": {
          "color": "#4D5663"
         }
        },
        "paper_bgcolor": "#F5F6F9",
        "plot_bgcolor": "#F5F6F9",
        "template": {
         "data": {
          "bar": [
           {
            "error_x": {
             "color": "#2a3f5f"
            },
            "error_y": {
             "color": "#2a3f5f"
            },
            "marker": {
             "line": {
              "color": "#E5ECF6",
              "width": 0.5
             },
             "pattern": {
              "fillmode": "overlay",
              "size": 10,
              "solidity": 0.2
             }
            },
            "type": "bar"
           }
          ],
          "barpolar": [
           {
            "marker": {
             "line": {
              "color": "#E5ECF6",
              "width": 0.5
             },
             "pattern": {
              "fillmode": "overlay",
              "size": 10,
              "solidity": 0.2
             }
            },
            "type": "barpolar"
           }
          ],
          "carpet": [
           {
            "aaxis": {
             "endlinecolor": "#2a3f5f",
             "gridcolor": "white",
             "linecolor": "white",
             "minorgridcolor": "white",
             "startlinecolor": "#2a3f5f"
            },
            "baxis": {
             "endlinecolor": "#2a3f5f",
             "gridcolor": "white",
             "linecolor": "white",
             "minorgridcolor": "white",
             "startlinecolor": "#2a3f5f"
            },
            "type": "carpet"
           }
          ],
          "choropleth": [
           {
            "colorbar": {
             "outlinewidth": 0,
             "ticks": ""
            },
            "type": "choropleth"
           }
          ],
          "contour": [
           {
            "colorbar": {
             "outlinewidth": 0,
             "ticks": ""
            },
            "colorscale": [
             [
              0,
              "#0d0887"
             ],
             [
              0.1111111111111111,
              "#46039f"
             ],
             [
              0.2222222222222222,
              "#7201a8"
             ],
             [
              0.3333333333333333,
              "#9c179e"
             ],
             [
              0.4444444444444444,
              "#bd3786"
             ],
             [
              0.5555555555555556,
              "#d8576b"
             ],
             [
              0.6666666666666666,
              "#ed7953"
             ],
             [
              0.7777777777777778,
              "#fb9f3a"
             ],
             [
              0.8888888888888888,
              "#fdca26"
             ],
             [
              1,
              "#f0f921"
             ]
            ],
            "type": "contour"
           }
          ],
          "contourcarpet": [
           {
            "colorbar": {
             "outlinewidth": 0,
             "ticks": ""
            },
            "type": "contourcarpet"
           }
          ],
          "heatmap": [
           {
            "colorbar": {
             "outlinewidth": 0,
             "ticks": ""
            },
            "colorscale": [
             [
              0,
              "#0d0887"
             ],
             [
              0.1111111111111111,
              "#46039f"
             ],
             [
              0.2222222222222222,
              "#7201a8"
             ],
             [
              0.3333333333333333,
              "#9c179e"
             ],
             [
              0.4444444444444444,
              "#bd3786"
             ],
             [
              0.5555555555555556,
              "#d8576b"
             ],
             [
              0.6666666666666666,
              "#ed7953"
             ],
             [
              0.7777777777777778,
              "#fb9f3a"
             ],
             [
              0.8888888888888888,
              "#fdca26"
             ],
             [
              1,
              "#f0f921"
             ]
            ],
            "type": "heatmap"
           }
          ],
          "heatmapgl": [
           {
            "colorbar": {
             "outlinewidth": 0,
             "ticks": ""
            },
            "colorscale": [
             [
              0,
              "#0d0887"
             ],
             [
              0.1111111111111111,
              "#46039f"
             ],
             [
              0.2222222222222222,
              "#7201a8"
             ],
             [
              0.3333333333333333,
              "#9c179e"
             ],
             [
              0.4444444444444444,
              "#bd3786"
             ],
             [
              0.5555555555555556,
              "#d8576b"
             ],
             [
              0.6666666666666666,
              "#ed7953"
             ],
             [
              0.7777777777777778,
              "#fb9f3a"
             ],
             [
              0.8888888888888888,
              "#fdca26"
             ],
             [
              1,
              "#f0f921"
             ]
            ],
            "type": "heatmapgl"
           }
          ],
          "histogram": [
           {
            "marker": {
             "pattern": {
              "fillmode": "overlay",
              "size": 10,
              "solidity": 0.2
             }
            },
            "type": "histogram"
           }
          ],
          "histogram2d": [
           {
            "colorbar": {
             "outlinewidth": 0,
             "ticks": ""
            },
            "colorscale": [
             [
              0,
              "#0d0887"
             ],
             [
              0.1111111111111111,
              "#46039f"
             ],
             [
              0.2222222222222222,
              "#7201a8"
             ],
             [
              0.3333333333333333,
              "#9c179e"
             ],
             [
              0.4444444444444444,
              "#bd3786"
             ],
             [
              0.5555555555555556,
              "#d8576b"
             ],
             [
              0.6666666666666666,
              "#ed7953"
             ],
             [
              0.7777777777777778,
              "#fb9f3a"
             ],
             [
              0.8888888888888888,
              "#fdca26"
             ],
             [
              1,
              "#f0f921"
             ]
            ],
            "type": "histogram2d"
           }
          ],
          "histogram2dcontour": [
           {
            "colorbar": {
             "outlinewidth": 0,
             "ticks": ""
            },
            "colorscale": [
             [
              0,
              "#0d0887"
             ],
             [
              0.1111111111111111,
              "#46039f"
             ],
             [
              0.2222222222222222,
              "#7201a8"
             ],
             [
              0.3333333333333333,
              "#9c179e"
             ],
             [
              0.4444444444444444,
              "#bd3786"
             ],
             [
              0.5555555555555556,
              "#d8576b"
             ],
             [
              0.6666666666666666,
              "#ed7953"
             ],
             [
              0.7777777777777778,
              "#fb9f3a"
             ],
             [
              0.8888888888888888,
              "#fdca26"
             ],
             [
              1,
              "#f0f921"
             ]
            ],
            "type": "histogram2dcontour"
           }
          ],
          "mesh3d": [
           {
            "colorbar": {
             "outlinewidth": 0,
             "ticks": ""
            },
            "type": "mesh3d"
           }
          ],
          "parcoords": [
           {
            "line": {
             "colorbar": {
              "outlinewidth": 0,
              "ticks": ""
             }
            },
            "type": "parcoords"
           }
          ],
          "pie": [
           {
            "automargin": true,
            "type": "pie"
           }
          ],
          "scatter": [
           {
            "marker": {
             "colorbar": {
              "outlinewidth": 0,
              "ticks": ""
             }
            },
            "type": "scatter"
           }
          ],
          "scatter3d": [
           {
            "line": {
             "colorbar": {
              "outlinewidth": 0,
              "ticks": ""
             }
            },
            "marker": {
             "colorbar": {
              "outlinewidth": 0,
              "ticks": ""
             }
            },
            "type": "scatter3d"
           }
          ],
          "scattercarpet": [
           {
            "marker": {
             "colorbar": {
              "outlinewidth": 0,
              "ticks": ""
             }
            },
            "type": "scattercarpet"
           }
          ],
          "scattergeo": [
           {
            "marker": {
             "colorbar": {
              "outlinewidth": 0,
              "ticks": ""
             }
            },
            "type": "scattergeo"
           }
          ],
          "scattergl": [
           {
            "marker": {
             "colorbar": {
              "outlinewidth": 0,
              "ticks": ""
             }
            },
            "type": "scattergl"
           }
          ],
          "scattermapbox": [
           {
            "marker": {
             "colorbar": {
              "outlinewidth": 0,
              "ticks": ""
             }
            },
            "type": "scattermapbox"
           }
          ],
          "scatterpolar": [
           {
            "marker": {
             "colorbar": {
              "outlinewidth": 0,
              "ticks": ""
             }
            },
            "type": "scatterpolar"
           }
          ],
          "scatterpolargl": [
           {
            "marker": {
             "colorbar": {
              "outlinewidth": 0,
              "ticks": ""
             }
            },
            "type": "scatterpolargl"
           }
          ],
          "scatterternary": [
           {
            "marker": {
             "colorbar": {
              "outlinewidth": 0,
              "ticks": ""
             }
            },
            "type": "scatterternary"
           }
          ],
          "surface": [
           {
            "colorbar": {
             "outlinewidth": 0,
             "ticks": ""
            },
            "colorscale": [
             [
              0,
              "#0d0887"
             ],
             [
              0.1111111111111111,
              "#46039f"
             ],
             [
              0.2222222222222222,
              "#7201a8"
             ],
             [
              0.3333333333333333,
              "#9c179e"
             ],
             [
              0.4444444444444444,
              "#bd3786"
             ],
             [
              0.5555555555555556,
              "#d8576b"
             ],
             [
              0.6666666666666666,
              "#ed7953"
             ],
             [
              0.7777777777777778,
              "#fb9f3a"
             ],
             [
              0.8888888888888888,
              "#fdca26"
             ],
             [
              1,
              "#f0f921"
             ]
            ],
            "type": "surface"
           }
          ],
          "table": [
           {
            "cells": {
             "fill": {
              "color": "#EBF0F8"
             },
             "line": {
              "color": "white"
             }
            },
            "header": {
             "fill": {
              "color": "#C8D4E3"
             },
             "line": {
              "color": "white"
             }
            },
            "type": "table"
           }
          ]
         },
         "layout": {
          "annotationdefaults": {
           "arrowcolor": "#2a3f5f",
           "arrowhead": 0,
           "arrowwidth": 1
          },
          "autotypenumbers": "strict",
          "coloraxis": {
           "colorbar": {
            "outlinewidth": 0,
            "ticks": ""
           }
          },
          "colorscale": {
           "diverging": [
            [
             0,
             "#8e0152"
            ],
            [
             0.1,
             "#c51b7d"
            ],
            [
             0.2,
             "#de77ae"
            ],
            [
             0.3,
             "#f1b6da"
            ],
            [
             0.4,
             "#fde0ef"
            ],
            [
             0.5,
             "#f7f7f7"
            ],
            [
             0.6,
             "#e6f5d0"
            ],
            [
             0.7,
             "#b8e186"
            ],
            [
             0.8,
             "#7fbc41"
            ],
            [
             0.9,
             "#4d9221"
            ],
            [
             1,
             "#276419"
            ]
           ],
           "sequential": [
            [
             0,
             "#0d0887"
            ],
            [
             0.1111111111111111,
             "#46039f"
            ],
            [
             0.2222222222222222,
             "#7201a8"
            ],
            [
             0.3333333333333333,
             "#9c179e"
            ],
            [
             0.4444444444444444,
             "#bd3786"
            ],
            [
             0.5555555555555556,
             "#d8576b"
            ],
            [
             0.6666666666666666,
             "#ed7953"
            ],
            [
             0.7777777777777778,
             "#fb9f3a"
            ],
            [
             0.8888888888888888,
             "#fdca26"
            ],
            [
             1,
             "#f0f921"
            ]
           ],
           "sequentialminus": [
            [
             0,
             "#0d0887"
            ],
            [
             0.1111111111111111,
             "#46039f"
            ],
            [
             0.2222222222222222,
             "#7201a8"
            ],
            [
             0.3333333333333333,
             "#9c179e"
            ],
            [
             0.4444444444444444,
             "#bd3786"
            ],
            [
             0.5555555555555556,
             "#d8576b"
            ],
            [
             0.6666666666666666,
             "#ed7953"
            ],
            [
             0.7777777777777778,
             "#fb9f3a"
            ],
            [
             0.8888888888888888,
             "#fdca26"
            ],
            [
             1,
             "#f0f921"
            ]
           ]
          },
          "colorway": [
           "#636efa",
           "#EF553B",
           "#00cc96",
           "#ab63fa",
           "#FFA15A",
           "#19d3f3",
           "#FF6692",
           "#B6E880",
           "#FF97FF",
           "#FECB52"
          ],
          "font": {
           "color": "#2a3f5f"
          },
          "geo": {
           "bgcolor": "white",
           "lakecolor": "white",
           "landcolor": "#E5ECF6",
           "showlakes": true,
           "showland": true,
           "subunitcolor": "white"
          },
          "hoverlabel": {
           "align": "left"
          },
          "hovermode": "closest",
          "mapbox": {
           "style": "light"
          },
          "paper_bgcolor": "white",
          "plot_bgcolor": "#E5ECF6",
          "polar": {
           "angularaxis": {
            "gridcolor": "white",
            "linecolor": "white",
            "ticks": ""
           },
           "bgcolor": "#E5ECF6",
           "radialaxis": {
            "gridcolor": "white",
            "linecolor": "white",
            "ticks": ""
           }
          },
          "scene": {
           "xaxis": {
            "backgroundcolor": "#E5ECF6",
            "gridcolor": "white",
            "gridwidth": 2,
            "linecolor": "white",
            "showbackground": true,
            "ticks": "",
            "zerolinecolor": "white"
           },
           "yaxis": {
            "backgroundcolor": "#E5ECF6",
            "gridcolor": "white",
            "gridwidth": 2,
            "linecolor": "white",
            "showbackground": true,
            "ticks": "",
            "zerolinecolor": "white"
           },
           "zaxis": {
            "backgroundcolor": "#E5ECF6",
            "gridcolor": "white",
            "gridwidth": 2,
            "linecolor": "white",
            "showbackground": true,
            "ticks": "",
            "zerolinecolor": "white"
           }
          },
          "shapedefaults": {
           "line": {
            "color": "#2a3f5f"
           }
          },
          "ternary": {
           "aaxis": {
            "gridcolor": "white",
            "linecolor": "white",
            "ticks": ""
           },
           "baxis": {
            "gridcolor": "white",
            "linecolor": "white",
            "ticks": ""
           },
           "bgcolor": "#E5ECF6",
           "caxis": {
            "gridcolor": "white",
            "linecolor": "white",
            "ticks": ""
           }
          },
          "title": {
           "x": 0.05
          },
          "xaxis": {
           "automargin": true,
           "gridcolor": "white",
           "linecolor": "white",
           "ticks": "",
           "title": {
            "standoff": 15
           },
           "zerolinecolor": "white",
           "zerolinewidth": 2
          },
          "yaxis": {
           "automargin": true,
           "gridcolor": "white",
           "linecolor": "white",
           "ticks": "",
           "title": {
            "standoff": 15
           },
           "zerolinecolor": "white",
           "zerolinewidth": 2
          }
         }
        },
        "title": {
         "font": {
          "color": "#4D5663"
         }
        },
        "xaxis": {
         "anchor": "y",
         "autorange": true,
         "domain": [
          0,
          0.45
         ],
         "gridcolor": "#E1E5ED",
         "range": [
          1,
          257
         ],
         "showgrid": true,
         "tickfont": {
          "color": "#4D5663"
         },
         "title": {
          "font": {
           "color": "#4D5663"
          },
          "text": ""
         },
         "type": "linear",
         "zerolinecolor": "#E1E5ED"
        },
        "xaxis2": {
         "anchor": "y2",
         "autorange": true,
         "domain": [
          0.55,
          1
         ],
         "gridcolor": "#E1E5ED",
         "range": [
          1,
          257
         ],
         "showgrid": true,
         "tickfont": {
          "color": "#4D5663"
         },
         "title": {
          "font": {
           "color": "#4D5663"
          },
          "text": ""
         },
         "type": "linear",
         "zerolinecolor": "#E1E5ED"
        },
        "xaxis3": {
         "anchor": "y3",
         "autorange": true,
         "domain": [
          0,
          0.45
         ],
         "gridcolor": "#E1E5ED",
         "range": [
          1,
          257
         ],
         "showgrid": true,
         "tickfont": {
          "color": "#4D5663"
         },
         "title": {
          "font": {
           "color": "#4D5663"
          },
          "text": ""
         },
         "type": "linear",
         "zerolinecolor": "#E1E5ED"
        },
        "xaxis4": {
         "anchor": "y4",
         "autorange": true,
         "domain": [
          0.55,
          1
         ],
         "gridcolor": "#E1E5ED",
         "range": [
          1,
          257
         ],
         "showgrid": true,
         "tickfont": {
          "color": "#4D5663"
         },
         "title": {
          "font": {
           "color": "#4D5663"
          },
          "text": ""
         },
         "type": "linear",
         "zerolinecolor": "#E1E5ED"
        },
        "yaxis": {
         "anchor": "x",
         "autorange": true,
         "domain": [
          0.575,
          1
         ],
         "gridcolor": "#E1E5ED",
         "range": [
          34.54233261111111,
          48.398220388888895
         ],
         "showgrid": true,
         "tickfont": {
          "color": "#4D5663"
         },
         "title": {
          "font": {
           "color": "#4D5663"
          },
          "text": ""
         },
         "type": "linear",
         "zerolinecolor": "#E1E5ED"
        },
        "yaxis2": {
         "anchor": "x2",
         "autorange": true,
         "domain": [
          0.575,
          1
         ],
         "gridcolor": "#E1E5ED",
         "range": [
          0.9696751666666666,
          0.9865518333333334
         ],
         "showgrid": true,
         "tickfont": {
          "color": "#4D5663"
         },
         "title": {
          "font": {
           "color": "#4D5663"
          },
          "text": ""
         },
         "type": "linear",
         "zerolinecolor": "#E1E5ED"
        },
        "yaxis3": {
         "anchor": "x3",
         "autorange": true,
         "domain": [
          0,
          0.425
         ],
         "gridcolor": "#E1E5ED",
         "range": [
          0.9756062222222223,
          0.9917017777777778
         ],
         "showgrid": true,
         "tickfont": {
          "color": "#4D5663"
         },
         "title": {
          "font": {
           "color": "#4D5663"
          },
          "text": ""
         },
         "type": "linear",
         "zerolinecolor": "#E1E5ED"
        },
        "yaxis4": {
         "anchor": "x4",
         "autorange": true,
         "domain": [
          0,
          0.425
         ],
         "gridcolor": "#E1E5ED",
         "range": [
          22.011016722222223,
          22.629142277777778
         ],
         "showgrid": true,
         "tickfont": {
          "color": "#4D5663"
         },
         "title": {
          "font": {
           "color": "#4D5663"
          },
          "text": ""
         },
         "type": "linear",
         "zerolinecolor": "#E1E5ED"
        }
       }
      },
      "image/png": "[encoded data removed]",
      "text/html": [
       "<div>                            <div id=\"b22f9251-d579-449b-a807-b7c81932772a\" class=\"plotly-graph-div\" style=\"height:525px; width:100%;\"></div>            <script type=\"text/javascript\">                require([\"plotly\"], function(Plotly) {                    window.PLOTLYENV=window.PLOTLYENV || {};\n",
       "                    window.PLOTLYENV.BASE_URL='https://plot.ly';                                    if (document.getElementById(\"b22f9251-d579-449b-a807-b7c81932772a\")) {                    Plotly.newPlot(                        \"b22f9251-d579-449b-a807-b7c81932772a\",                        [{\"line\":{\"color\":\"rgba(255, 153, 51, 1.0)\",\"dash\":\"solid\",\"shape\":\"linear\",\"width\":2.0},\"mode\":\"lines\",\"name\":\"vmaf\",\"text\":\"\",\"x\":[1,2,3,4,5,6,7,8,9,10,11,12,13,14,15,16,17,18,19,20,21,22,23,24,25,26,27,28,29,30,31,32,33,34,35,36,37,38,39,40,41,42,43,44,45,46,47,48,49,50,51,52,53,54,55,56,57,58,59,60,61,62,63,64,65,66,67,68,69,70,71,72,73,74,75,76,77,78,79,80,81,82,83,84,85,86,87,88,89,90,91,92,93,94,95,96,97,98,99,100,101,102,103,104,105,106,107,108,109,110,111,112,113,114,115,116,117,118,119,120,121,122,123,124,125,126,127,128,129,130,131,132,133,134,135,136,137,138,139,140,141,142,143,144,145,146,147,148,149,150,151,152,153,154,155,156,157,158,159,160,161,162,163,164,165,166,167,168,169,170,171,172,173,174,175,176,177,178,179,180,181,182,183,184,185,186,187,188,189,190,191,192,193,194,195,196,197,198,199,200,201,202,203,204,205,206,207,208,209,210,211,212,213,214,215,216,217,218,219,220,221,222,223,224,225,226,227,228,229,230,231,232,233,234,235,236,237,238,239,240,241,242,243,244,245,246,247,248,249,250,251,252,253,254,255,256,257],\"xaxis\":\"x\",\"y\":[38.099077,35.235127,36.90668,35.378054,38.307466,38.116152,35.528177,37.797065,45.414373,37.088336,36.536676,39.381993,45.154906,38.844923,37.896915,39.258671,38.774004,38.29475,38.162936,38.388523,39.028381,38.971274,38.423876,39.128659,38.295805,38.556967,37.46721,37.342656,39.22172,38.101849,37.318802,37.283594,37.276624,37.330039,36.579262,37.853714,37.449867,37.707965,37.366977,37.835202,37.542808,37.345713,37.922323,36.713931,37.181306,37.71633,37.577443,37.729193,37.138377,37.124527,38.156876,37.896591,37.724306,38.071405,38.259096,38.25034,37.696682,39.152589,38.76989,37.377779,37.494054,38.057958,39.154929,37.470993,38.890446,38.288149,38.455318,37.504631,37.45391,37.232399,37.285219,38.369875,37.159174,36.89981,37.526899,37.076146,37.200297,37.226175,38.545097,37.928706,38.498,38.765323,38.179467,37.991605,37.58916,36.890306,38.275188,38.696394,38.816658,38.300815,39.451592,38.223856,38.445872,39.615907,38.511745,38.449561,38.567066,37.93133,38.590394,38.875599,39.22288,39.271708,39.296636,38.794135,38.86447,38.453454,38.217118,39.395422,38.981199,39.101797,38.901269,37.908421,37.562568,37.192193,37.596621,37.865542,38.5413,38.844351,38.443602,38.808776,38.576444,38.677131,38.912308,39.019406,38.89285,39.141171,44.297868,44.197743,37.210221,36.008546,39.817869,37.841826,39.199849,36.784277,41.206985,38.572995,41.156073,45.457596,41.001105,40.949262,46.295013,40.396452,40.065619,40.672016,41.295636,40.613399,40.570351,41.778264,42.688062,41.968046,41.231336,41.622716,43.809971,42.022986,41.653919,41.389445,42.379403,41.714983,41.455158,42.273647,43.401488,42.733533,42.032278,47.338332,47.329955,40.826722,39.326286,42.736516,38.646178,40.864292,41.522597,43.208604,40.012869,42.087735,42.059977,41.752432,47.324038,39.478116,42.345407,47.705426,42.669699,42.278604,43.309749,43.296557,42.623392,43.081892,43.099466,42.57179,42.365475,44.285988,41.674451,42.171305,42.578128,43.992932,43.007203,42.534176,42.12932,42.483854,42.646733,42.302611,42.239099,42.31436,41.748823,42.255012,41.329384,45.756646,45.718255,38.640763,39.339199,42.465587,38.296446,40.960343,40.01003,43.469433,47.327754,38.690816,38.312464,38.306829,40.779839,39.704524,41.462499,40.845438,41.612327,40.985377,40.061033,40.349402,40.145307,39.847418,40.933133,45.624978,45.624461,40.267853,39.788973,39.326591,39.381872,38.803031,39.24073,39.921069,39.233672,40.078216,39.986048,38.6553,38.733886,38.934756,39.853773,40.184037,39.864044,39.610311,40.156128,39.34642,40.120069,39.939038,40.257059,40.038775,40.128426,40.424644,39.640067],\"yaxis\":\"y\",\"type\":\"scatter\"},{\"line\":{\"color\":\"rgba(55, 128, 191, 1.0)\",\"dash\":\"solid\",\"shape\":\"linear\",\"width\":2.0},\"mode\":\"lines\",\"name\":\"ssim\",\"text\":\"\",\"x\":[1,2,3,4,5,6,7,8,9,10,11,12,13,14,15,16,17,18,19,20,21,22,23,24,25,26,27,28,29,30,31,32,33,34,35,36,37,38,39,40,41,42,43,44,45,46,47,48,49,50,51,52,53,54,55,56,57,58,59,60,61,62,63,64,65,66,67,68,69,70,71,72,73,74,75,76,77,78,79,80,81,82,83,84,85,86,87,88,89,90,91,92,93,94,95,96,97,98,99,100,101,102,103,104,105,106,107,108,109,110,111,112,113,114,115,116,117,118,119,120,121,122,123,124,125,126,127,128,129,130,131,132,133,134,135,136,137,138,139,140,141,142,143,144,145,146,147,148,149,150,151,152,153,154,155,156,157,158,159,160,161,162,163,164,165,166,167,168,169,170,171,172,173,174,175,176,177,178,179,180,181,182,183,184,185,186,187,188,189,190,191,192,193,194,195,196,197,198,199,200,201,202,203,204,205,206,207,208,209,210,211,212,213,214,215,216,217,218,219,220,221,222,223,224,225,226,227,228,229,230,231,232,233,234,235,236,237,238,239,240,241,242,243,244,245,246,247,248,249,250,251,252,253,254,255,256,257],\"xaxis\":\"x2\",\"y\":[0.974754,0.970519,0.972109,0.9706,0.97737,0.976993,0.970641,0.972701,0.981083,0.973769,0.972875,0.974993,0.981219,0.973957,0.973827,0.974311,0.974114,0.974208,0.973924,0.974511,0.97427,0.974622,0.973564,0.974112,0.973608,0.974027,0.973676,0.973173,0.973637,0.973139,0.972928,0.972765,0.972506,0.972514,0.971949,0.97308,0.972534,0.972285,0.971937,0.971969,0.972079,0.97239,0.972315,0.971782,0.971153,0.971766,0.971723,0.97205,0.971446,0.971643,0.971939,0.971604,0.971583,0.972085,0.971686,0.972359,0.971934,0.972845,0.972381,0.971152,0.971119,0.972014,0.973109,0.971813,0.972622,0.972302,0.972223,0.971417,0.972004,0.972073,0.971404,0.972546,0.97236,0.971944,0.972394,0.971547,0.971555,0.971537,0.972795,0.97247,0.972185,0.973154,0.971789,0.972113,0.971559,0.970695,0.97185,0.971957,0.972044,0.971332,0.972714,0.971978,0.971824,0.973268,0.972765,0.972717,0.972177,0.971938,0.972806,0.973018,0.973385,0.973907,0.973751,0.973383,0.972906,0.9728,0.972945,0.974325,0.973751,0.973869,0.973665,0.972764,0.972371,0.972577,0.972854,0.973063,0.973444,0.974086,0.97347,0.973706,0.973657,0.973475,0.973931,0.974132,0.974527,0.97473,0.982855,0.982614,0.973567,0.9726,0.975416,0.974108,0.975399,0.973965,0.97726,0.975506,0.977101,0.982124,0.97727,0.977559,0.982789,0.977911,0.977851,0.978343,0.978707,0.978124,0.977942,0.978983,0.979153,0.979236,0.979399,0.979544,0.980602,0.979572,0.979473,0.979017,0.979348,0.979187,0.979032,0.97953,0.980467,0.980256,0.979868,0.985322,0.985237,0.97893,0.977561,0.980256,0.977878,0.97944,0.979648,0.980698,0.979093,0.982457,0.982386,0.980238,0.984026,0.979753,0.981407,0.985699,0.982045,0.981835,0.982353,0.98242,0.981691,0.982051,0.982064,0.982199,0.982245,0.983092,0.981923,0.981976,0.982377,0.982524,0.981987,0.981302,0.980926,0.981288,0.981729,0.981612,0.981401,0.981345,0.980594,0.980961,0.980615,0.985708,0.985618,0.979149,0.97938,0.981064,0.9787,0.980688,0.979408,0.981172,0.98463,0.978419,0.980735,0.980648,0.979894,0.979397,0.979934,0.979261,0.979674,0.978997,0.978914,0.978812,0.978622,0.97889,0.979443,0.985133,0.985133,0.978392,0.977484,0.97733,0.977146,0.976739,0.97771,0.97782,0.976793,0.977081,0.976871,0.976244,0.976045,0.97638,0.977038,0.977089,0.977026,0.976907,0.976459,0.975507,0.975652,0.975808,0.975688,0.97567,0.976169,0.975984,0.975545],\"yaxis\":\"y2\",\"type\":\"scatter\"},{\"line\":{\"color\":\"rgba(50, 171, 96, 1.0)\",\"dash\":\"solid\",\"shape\":\"linear\",\"width\":2.0},\"mode\":\"lines\",\"name\":\"ms_ssim\",\"text\":\"\",\"x\":[1,2,3,4,5,6,7,8,9,10,11,12,13,14,15,16,17,18,19,20,21,22,23,24,25,26,27,28,29,30,31,32,33,34,35,36,37,38,39,40,41,42,43,44,45,46,47,48,49,50,51,52,53,54,55,56,57,58,59,60,61,62,63,64,65,66,67,68,69,70,71,72,73,74,75,76,77,78,79,80,81,82,83,84,85,86,87,88,89,90,91,92,93,94,95,96,97,98,99,100,101,102,103,104,105,106,107,108,109,110,111,112,113,114,115,116,117,118,119,120,121,122,123,124,125,126,127,128,129,130,131,132,133,134,135,136,137,138,139,140,141,142,143,144,145,146,147,148,149,150,151,152,153,154,155,156,157,158,159,160,161,162,163,164,165,166,167,168,169,170,171,172,173,174,175,176,177,178,179,180,181,182,183,184,185,186,187,188,189,190,191,192,193,194,195,196,197,198,199,200,201,202,203,204,205,206,207,208,209,210,211,212,213,214,215,216,217,218,219,220,221,222,223,224,225,226,227,228,229,230,231,232,233,234,235,236,237,238,239,240,241,242,243,244,245,246,247,248,249,250,251,252,253,254,255,256,257],\"xaxis\":\"x3\",\"y\":[0.98084,0.976411,0.978141,0.976739,0.983189,0.982825,0.976516,0.978675,0.986463,0.979117,0.978271,0.980512,0.986491,0.979598,0.979383,0.979856,0.979754,0.979503,0.979432,0.980039,0.979954,0.979974,0.979021,0.979655,0.979199,0.97953,0.979079,0.978685,0.979208,0.978519,0.978264,0.977947,0.977975,0.978134,0.977533,0.978389,0.977782,0.977537,0.977343,0.977566,0.977652,0.977748,0.977838,0.977297,0.976995,0.977341,0.97713,0.977651,0.977,0.977189,0.977407,0.977285,0.977091,0.97759,0.977392,0.977562,0.977403,0.978211,0.977951,0.976662,0.976657,0.977239,0.978394,0.977184,0.978096,0.977574,0.977556,0.97687,0.977242,0.977469,0.976867,0.978098,0.977795,0.977407,0.977397,0.977096,0.977174,0.977092,0.978271,0.977818,0.977765,0.978422,0.977527,0.977865,0.977246,0.976612,0.977657,0.977791,0.978097,0.977576,0.978474,0.977866,0.977884,0.979154,0.978809,0.978406,0.978382,0.97779,0.978618,0.978936,0.979447,0.979488,0.979525,0.979107,0.978923,0.978809,0.978807,0.980012,0.979528,0.979975,0.979779,0.9786,0.978292,0.978362,0.978575,0.978607,0.979273,0.979816,0.979429,0.97942,0.97947,0.979329,0.979779,0.980017,0.980257,0.980502,0.988454,0.988213,0.979273,0.978294,0.981354,0.979684,0.980993,0.979813,0.982968,0.981032,0.983041,0.987697,0.982805,0.983321,0.988337,0.983448,0.983504,0.984073,0.984281,0.983784,0.983638,0.984721,0.9847,0.984765,0.984928,0.985242,0.986174,0.985126,0.985036,0.984838,0.985085,0.984799,0.984638,0.98508,0.986188,0.985884,0.985499,0.990897,0.990821,0.984435,0.983077,0.985838,0.98359,0.984906,0.985448,0.986502,0.98461,0.987937,0.987861,0.985715,0.989681,0.984867,0.98666,0.990767,0.987403,0.987259,0.98772,0.98753,0.98709,0.987275,0.98718,0.987266,0.987441,0.988391,0.987297,0.98715,0.987518,0.987692,0.987231,0.986548,0.986335,0.98655,0.986696,0.98696,0.986799,0.986613,0.985928,0.986102,0.985784,0.990878,0.9908,0.984303,0.984643,0.986401,0.983939,0.985907,0.984749,0.986548,0.989754,0.983771,0.985848,0.985759,0.985132,0.984666,0.985175,0.98468,0.984917,0.984267,0.98405,0.984107,0.983877,0.983976,0.984463,0.990101,0.990101,0.98341,0.982639,0.982488,0.982261,0.982068,0.982768,0.983101,0.982021,0.982389,0.982272,0.981652,0.981418,0.981811,0.982403,0.982438,0.982326,0.982235,0.981851,0.980964,0.981051,0.981404,0.981201,0.981218,0.981516,0.98146,0.980864],\"yaxis\":\"y3\",\"type\":\"scatter\"},{\"line\":{\"color\":\"rgba(128, 0, 128, 1.0)\",\"dash\":\"solid\",\"shape\":\"linear\",\"width\":2.0},\"mode\":\"lines\",\"name\":\"psnr\",\"text\":\"\",\"x\":[1,2,3,4,5,6,7,8,9,10,11,12,13,14,15,16,17,18,19,20,21,22,23,24,25,26,27,28,29,30,31,32,33,34,35,36,37,38,39,40,41,42,43,44,45,46,47,48,49,50,51,52,53,54,55,56,57,58,59,60,61,62,63,64,65,66,67,68,69,70,71,72,73,74,75,76,77,78,79,80,81,82,83,84,85,86,87,88,89,90,91,92,93,94,95,96,97,98,99,100,101,102,103,104,105,106,107,108,109,110,111,112,113,114,115,116,117,118,119,120,121,122,123,124,125,126,127,128,129,130,131,132,133,134,135,136,137,138,139,140,141,142,143,144,145,146,147,148,149,150,151,152,153,154,155,156,157,158,159,160,161,162,163,164,165,166,167,168,169,170,171,172,173,174,175,176,177,178,179,180,181,182,183,184,185,186,187,188,189,190,191,192,193,194,195,196,197,198,199,200,201,202,203,204,205,206,207,208,209,210,211,212,213,214,215,216,217,218,219,220,221,222,223,224,225,226,227,228,229,230,231,232,233,234,235,236,237,238,239,240,241,242,243,244,245,246,247,248,249,250,251,252,253,254,255,256,257],\"xaxis\":\"x4\",\"y\":[22.119989,22.123029,22.139515,22.119587,22.139973,22.140119,22.129545,22.128061,22.598236,22.565894,22.557921,22.553493,22.578125,22.542312,22.552633,22.553446,22.553368,22.566398,22.546272,22.546687,22.549929,22.565218,22.559661,22.570184,22.56378,22.56544,22.562229,22.560941,22.562654,22.57605,22.573733,22.577272,22.555095,22.550585,22.55101,22.571199,22.57304,22.579508,22.579432,22.57538,22.556552,22.555196,22.578529,22.569698,22.556267,22.560517,22.563882,22.532099,22.542545,22.544435,22.563945,22.567578,22.567128,22.56834,22.562938,22.536843,22.528469,22.570914,22.568864,22.582036,22.582534,22.547097,22.539278,22.544277,22.573278,22.579095,22.584731,22.583184,22.563875,22.551043,22.562109,22.579032,22.580732,22.580505,22.579464,22.558254,22.560692,22.558802,22.587517,22.57966,22.581772,22.573959,22.541324,22.544575,22.154976,22.152412,22.151589,22.152012,22.136909,22.115619,22.115858,22.121047,22.115895,22.135347,22.128321,22.128555,22.12573,22.115595,22.118303,22.126704,22.124361,22.127578,22.123627,22.116149,22.095019,22.09938,22.105688,22.120833,22.120237,22.109114,22.108867,22.121619,22.117308,22.118961,22.120704,22.127634,22.129731,22.127087,22.106376,22.093239,22.095292,22.103671,22.12328,22.121707,22.104763,22.102006,22.154826,22.155317,22.103186,22.106986,22.10948,22.105866,22.124822,22.071739,22.082346,22.060826,22.07936,22.115981,22.104116,22.098719,22.115353,22.083904,22.083386,22.071767,22.070059,22.072365,22.08114,22.07953,22.099493,22.100248,22.075975,22.067643,22.049668,22.063812,22.060278,22.068542,22.090462,22.096307,22.085429,22.082547,22.073746,22.068198,22.067487,22.121667,22.121673,22.083916,22.106766,22.108706,22.066935,22.065855,22.041923,22.063078,22.057363,22.085249,22.08534,22.099946,22.114272,22.483618,22.48875,22.500941,22.468953,22.469517,22.483316,22.482062,22.482315,22.502118,22.500082,22.457666,22.44162,22.419349,22.431573,22.43376,22.450015,22.501155,22.502712,22.486434,22.490921,22.492102,22.479065,22.468789,22.46965,22.487082,22.488655,22.514192,22.514569,22.534678,22.534793,22.460738,22.440874,22.477097,22.467628,22.481124,22.516907,22.528207,22.545678,22.503208,22.517231,22.51726,22.495427,22.495971,22.511307,22.508491,22.524758,22.524333,22.502737,22.505543,22.48613,22.504487,22.513633,22.596156,22.596,22.535155,22.53664,22.537415,22.53246,22.529429,22.53873,22.538316,22.536782,22.553997,22.528469,22.520985,22.532232,22.539515,22.540686,22.560102,22.561252,22.548034,22.54922,22.548399,22.540871,22.539541,22.545245,22.5448,22.549985,22.552344,22.533225],\"yaxis\":\"y4\",\"type\":\"scatter\"}],                        {\"legend\":{\"bgcolor\":\"#F5F6F9\",\"font\":{\"color\":\"#4D5663\"}},\"paper_bgcolor\":\"#F5F6F9\",\"plot_bgcolor\":\"#F5F6F9\",\"template\":{\"data\":{\"barpolar\":[{\"marker\":{\"line\":{\"color\":\"#E5ECF6\",\"width\":0.5},\"pattern\":{\"fillmode\":\"overlay\",\"size\":10,\"solidity\":0.2}},\"type\":\"barpolar\"}],\"bar\":[{\"error_x\":{\"color\":\"#2a3f5f\"},\"error_y\":{\"color\":\"#2a3f5f\"},\"marker\":{\"line\":{\"color\":\"#E5ECF6\",\"width\":0.5},\"pattern\":{\"fillmode\":\"overlay\",\"size\":10,\"solidity\":0.2}},\"type\":\"bar\"}],\"carpet\":[{\"aaxis\":{\"endlinecolor\":\"#2a3f5f\",\"gridcolor\":\"white\",\"linecolor\":\"white\",\"minorgridcolor\":\"white\",\"startlinecolor\":\"#2a3f5f\"},\"baxis\":{\"endlinecolor\":\"#2a3f5f\",\"gridcolor\":\"white\",\"linecolor\":\"white\",\"minorgridcolor\":\"white\",\"startlinecolor\":\"#2a3f5f\"},\"type\":\"carpet\"}],\"choropleth\":[{\"colorbar\":{\"outlinewidth\":0,\"ticks\":\"\"},\"type\":\"choropleth\"}],\"contourcarpet\":[{\"colorbar\":{\"outlinewidth\":0,\"ticks\":\"\"},\"type\":\"contourcarpet\"}],\"contour\":[{\"colorbar\":{\"outlinewidth\":0,\"ticks\":\"\"},\"colorscale\":[[0.0,\"#0d0887\"],[0.1111111111111111,\"#46039f\"],[0.2222222222222222,\"#7201a8\"],[0.3333333333333333,\"#9c179e\"],[0.4444444444444444,\"#bd3786\"],[0.5555555555555556,\"#d8576b\"],[0.6666666666666666,\"#ed7953\"],[0.7777777777777778,\"#fb9f3a\"],[0.8888888888888888,\"#fdca26\"],[1.0,\"#f0f921\"]],\"type\":\"contour\"}],\"heatmapgl\":[{\"colorbar\":{\"outlinewidth\":0,\"ticks\":\"\"},\"colorscale\":[[0.0,\"#0d0887\"],[0.1111111111111111,\"#46039f\"],[0.2222222222222222,\"#7201a8\"],[0.3333333333333333,\"#9c179e\"],[0.4444444444444444,\"#bd3786\"],[0.5555555555555556,\"#d8576b\"],[0.6666666666666666,\"#ed7953\"],[0.7777777777777778,\"#fb9f3a\"],[0.8888888888888888,\"#fdca26\"],[1.0,\"#f0f921\"]],\"type\":\"heatmapgl\"}],\"heatmap\":[{\"colorbar\":{\"outlinewidth\":0,\"ticks\":\"\"},\"colorscale\":[[0.0,\"#0d0887\"],[0.1111111111111111,\"#46039f\"],[0.2222222222222222,\"#7201a8\"],[0.3333333333333333,\"#9c179e\"],[0.4444444444444444,\"#bd3786\"],[0.5555555555555556,\"#d8576b\"],[0.6666666666666666,\"#ed7953\"],[0.7777777777777778,\"#fb9f3a\"],[0.8888888888888888,\"#fdca26\"],[1.0,\"#f0f921\"]],\"type\":\"heatmap\"}],\"histogram2dcontour\":[{\"colorbar\":{\"outlinewidth\":0,\"ticks\":\"\"},\"colorscale\":[[0.0,\"#0d0887\"],[0.1111111111111111,\"#46039f\"],[0.2222222222222222,\"#7201a8\"],[0.3333333333333333,\"#9c179e\"],[0.4444444444444444,\"#bd3786\"],[0.5555555555555556,\"#d8576b\"],[0.6666666666666666,\"#ed7953\"],[0.7777777777777778,\"#fb9f3a\"],[0.8888888888888888,\"#fdca26\"],[1.0,\"#f0f921\"]],\"type\":\"histogram2dcontour\"}],\"histogram2d\":[{\"colorbar\":{\"outlinewidth\":0,\"ticks\":\"\"},\"colorscale\":[[0.0,\"#0d0887\"],[0.1111111111111111,\"#46039f\"],[0.2222222222222222,\"#7201a8\"],[0.3333333333333333,\"#9c179e\"],[0.4444444444444444,\"#bd3786\"],[0.5555555555555556,\"#d8576b\"],[0.6666666666666666,\"#ed7953\"],[0.7777777777777778,\"#fb9f3a\"],[0.8888888888888888,\"#fdca26\"],[1.0,\"#f0f921\"]],\"type\":\"histogram2d\"}],\"histogram\":[{\"marker\":{\"pattern\":{\"fillmode\":\"overlay\",\"size\":10,\"solidity\":0.2}},\"type\":\"histogram\"}],\"mesh3d\":[{\"colorbar\":{\"outlinewidth\":0,\"ticks\":\"\"},\"type\":\"mesh3d\"}],\"parcoords\":[{\"line\":{\"colorbar\":{\"outlinewidth\":0,\"ticks\":\"\"}},\"type\":\"parcoords\"}],\"pie\":[{\"automargin\":true,\"type\":\"pie\"}],\"scatter3d\":[{\"line\":{\"colorbar\":{\"outlinewidth\":0,\"ticks\":\"\"}},\"marker\":{\"colorbar\":{\"outlinewidth\":0,\"ticks\":\"\"}},\"type\":\"scatter3d\"}],\"scattercarpet\":[{\"marker\":{\"colorbar\":{\"outlinewidth\":0,\"ticks\":\"\"}},\"type\":\"scattercarpet\"}],\"scattergeo\":[{\"marker\":{\"colorbar\":{\"outlinewidth\":0,\"ticks\":\"\"}},\"type\":\"scattergeo\"}],\"scattergl\":[{\"marker\":{\"colorbar\":{\"outlinewidth\":0,\"ticks\":\"\"}},\"type\":\"scattergl\"}],\"scattermapbox\":[{\"marker\":{\"colorbar\":{\"outlinewidth\":0,\"ticks\":\"\"}},\"type\":\"scattermapbox\"}],\"scatterpolargl\":[{\"marker\":{\"colorbar\":{\"outlinewidth\":0,\"ticks\":\"\"}},\"type\":\"scatterpolargl\"}],\"scatterpolar\":[{\"marker\":{\"colorbar\":{\"outlinewidth\":0,\"ticks\":\"\"}},\"type\":\"scatterpolar\"}],\"scatter\":[{\"marker\":{\"colorbar\":{\"outlinewidth\":0,\"ticks\":\"\"}},\"type\":\"scatter\"}],\"scatterternary\":[{\"marker\":{\"colorbar\":{\"outlinewidth\":0,\"ticks\":\"\"}},\"type\":\"scatterternary\"}],\"surface\":[{\"colorbar\":{\"outlinewidth\":0,\"ticks\":\"\"},\"colorscale\":[[0.0,\"#0d0887\"],[0.1111111111111111,\"#46039f\"],[0.2222222222222222,\"#7201a8\"],[0.3333333333333333,\"#9c179e\"],[0.4444444444444444,\"#bd3786\"],[0.5555555555555556,\"#d8576b\"],[0.6666666666666666,\"#ed7953\"],[0.7777777777777778,\"#fb9f3a\"],[0.8888888888888888,\"#fdca26\"],[1.0,\"#f0f921\"]],\"type\":\"surface\"}],\"table\":[{\"cells\":{\"fill\":{\"color\":\"#EBF0F8\"},\"line\":{\"color\":\"white\"}},\"header\":{\"fill\":{\"color\":\"#C8D4E3\"},\"line\":{\"color\":\"white\"}},\"type\":\"table\"}]},\"layout\":{\"annotationdefaults\":{\"arrowcolor\":\"#2a3f5f\",\"arrowhead\":0,\"arrowwidth\":1},\"autotypenumbers\":\"strict\",\"coloraxis\":{\"colorbar\":{\"outlinewidth\":0,\"ticks\":\"\"}},\"colorscale\":{\"diverging\":[[0,\"#8e0152\"],[0.1,\"#c51b7d\"],[0.2,\"#de77ae\"],[0.3,\"#f1b6da\"],[0.4,\"#fde0ef\"],[0.5,\"#f7f7f7\"],[0.6,\"#e6f5d0\"],[0.7,\"#b8e186\"],[0.8,\"#7fbc41\"],[0.9,\"#4d9221\"],[1,\"#276419\"]],\"sequential\":[[0.0,\"#0d0887\"],[0.1111111111111111,\"#46039f\"],[0.2222222222222222,\"#7201a8\"],[0.3333333333333333,\"#9c179e\"],[0.4444444444444444,\"#bd3786\"],[0.5555555555555556,\"#d8576b\"],[0.6666666666666666,\"#ed7953\"],[0.7777777777777778,\"#fb9f3a\"],[0.8888888888888888,\"#fdca26\"],[1.0,\"#f0f921\"]],\"sequentialminus\":[[0.0,\"#0d0887\"],[0.1111111111111111,\"#46039f\"],[0.2222222222222222,\"#7201a8\"],[0.3333333333333333,\"#9c179e\"],[0.4444444444444444,\"#bd3786\"],[0.5555555555555556,\"#d8576b\"],[0.6666666666666666,\"#ed7953\"],[0.7777777777777778,\"#fb9f3a\"],[0.8888888888888888,\"#fdca26\"],[1.0,\"#f0f921\"]]},\"colorway\":[\"#636efa\",\"#EF553B\",\"#00cc96\",\"#ab63fa\",\"#FFA15A\",\"#19d3f3\",\"#FF6692\",\"#B6E880\",\"#FF97FF\",\"#FECB52\"],\"font\":{\"color\":\"#2a3f5f\"},\"geo\":{\"bgcolor\":\"white\",\"lakecolor\":\"white\",\"landcolor\":\"#E5ECF6\",\"showlakes\":true,\"showland\":true,\"subunitcolor\":\"white\"},\"hoverlabel\":{\"align\":\"left\"},\"hovermode\":\"closest\",\"mapbox\":{\"style\":\"light\"},\"paper_bgcolor\":\"white\",\"plot_bgcolor\":\"#E5ECF6\",\"polar\":{\"angularaxis\":{\"gridcolor\":\"white\",\"linecolor\":\"white\",\"ticks\":\"\"},\"bgcolor\":\"#E5ECF6\",\"radialaxis\":{\"gridcolor\":\"white\",\"linecolor\":\"white\",\"ticks\":\"\"}},\"scene\":{\"xaxis\":{\"backgroundcolor\":\"#E5ECF6\",\"gridcolor\":\"white\",\"gridwidth\":2,\"linecolor\":\"white\",\"showbackground\":true,\"ticks\":\"\",\"zerolinecolor\":\"white\"},\"yaxis\":{\"backgroundcolor\":\"#E5ECF6\",\"gridcolor\":\"white\",\"gridwidth\":2,\"linecolor\":\"white\",\"showbackground\":true,\"ticks\":\"\",\"zerolinecolor\":\"white\"},\"zaxis\":{\"backgroundcolor\":\"#E5ECF6\",\"gridcolor\":\"white\",\"gridwidth\":2,\"linecolor\":\"white\",\"showbackground\":true,\"ticks\":\"\",\"zerolinecolor\":\"white\"}},\"shapedefaults\":{\"line\":{\"color\":\"#2a3f5f\"}},\"ternary\":{\"aaxis\":{\"gridcolor\":\"white\",\"linecolor\":\"white\",\"ticks\":\"\"},\"baxis\":{\"gridcolor\":\"white\",\"linecolor\":\"white\",\"ticks\":\"\"},\"bgcolor\":\"#E5ECF6\",\"caxis\":{\"gridcolor\":\"white\",\"linecolor\":\"white\",\"ticks\":\"\"}},\"title\":{\"x\":0.05},\"xaxis\":{\"automargin\":true,\"gridcolor\":\"white\",\"linecolor\":\"white\",\"ticks\":\"\",\"title\":{\"standoff\":15},\"zerolinecolor\":\"white\",\"zerolinewidth\":2},\"yaxis\":{\"automargin\":true,\"gridcolor\":\"white\",\"linecolor\":\"white\",\"ticks\":\"\",\"title\":{\"standoff\":15},\"zerolinecolor\":\"white\",\"zerolinewidth\":2}}},\"title\":{\"font\":{\"color\":\"#4D5663\"}},\"xaxis\":{\"anchor\":\"y\",\"domain\":[0.0,0.45],\"gridcolor\":\"#E1E5ED\",\"showgrid\":true,\"tickfont\":{\"color\":\"#4D5663\"},\"title\":{\"font\":{\"color\":\"#4D5663\"},\"text\":\"\"},\"zerolinecolor\":\"#E1E5ED\"},\"yaxis\":{\"anchor\":\"x\",\"domain\":[0.575,1.0],\"gridcolor\":\"#E1E5ED\",\"showgrid\":true,\"tickfont\":{\"color\":\"#4D5663\"},\"title\":{\"font\":{\"color\":\"#4D5663\"},\"text\":\"\"},\"zerolinecolor\":\"#E1E5ED\"},\"xaxis2\":{\"anchor\":\"y2\",\"domain\":[0.55,1.0],\"gridcolor\":\"#E1E5ED\",\"showgrid\":true,\"tickfont\":{\"color\":\"#4D5663\"},\"title\":{\"font\":{\"color\":\"#4D5663\"},\"text\":\"\"},\"zerolinecolor\":\"#E1E5ED\"},\"yaxis2\":{\"anchor\":\"x2\",\"domain\":[0.575,1.0],\"gridcolor\":\"#E1E5ED\",\"showgrid\":true,\"tickfont\":{\"color\":\"#4D5663\"},\"title\":{\"font\":{\"color\":\"#4D5663\"},\"text\":\"\"},\"zerolinecolor\":\"#E1E5ED\"},\"xaxis3\":{\"anchor\":\"y3\",\"domain\":[0.0,0.45],\"gridcolor\":\"#E1E5ED\",\"showgrid\":true,\"tickfont\":{\"color\":\"#4D5663\"},\"title\":{\"font\":{\"color\":\"#4D5663\"},\"text\":\"\"},\"zerolinecolor\":\"#E1E5ED\"},\"yaxis3\":{\"anchor\":\"x3\",\"domain\":[0.0,0.425],\"gridcolor\":\"#E1E5ED\",\"showgrid\":true,\"tickfont\":{\"color\":\"#4D5663\"},\"title\":{\"font\":{\"color\":\"#4D5663\"},\"text\":\"\"},\"zerolinecolor\":\"#E1E5ED\"},\"xaxis4\":{\"anchor\":\"y4\",\"domain\":[0.55,1.0],\"gridcolor\":\"#E1E5ED\",\"showgrid\":true,\"tickfont\":{\"color\":\"#4D5663\"},\"title\":{\"font\":{\"color\":\"#4D5663\"},\"text\":\"\"},\"zerolinecolor\":\"#E1E5ED\"},\"yaxis4\":{\"anchor\":\"x4\",\"domain\":[0.0,0.425],\"gridcolor\":\"#E1E5ED\",\"showgrid\":true,\"tickfont\":{\"color\":\"#4D5663\"},\"title\":{\"font\":{\"color\":\"#4D5663\"},\"text\":\"\"},\"zerolinecolor\":\"#E1E5ED\"}},                        {\"showLink\": true, \"linkText\": \"Export to plot.ly\", \"plotlyServerURL\": \"https://plot.ly\", \"responsive\": true}                    ).then(function(){\n",
       "                            \n",
       "var gd = document.getElementById('b22f9251-d579-449b-a807-b7c81932772a');\n",
       "var x = new MutationObserver(function (mutations, observer) {{\n",
       "        var display = window.getComputedStyle(gd).display;\n",
       "        if (!display || display === 'none') {{\n",
       "            console.log([gd, 'removed!']);\n",
       "            Plotly.purge(gd);\n",
       "            observer.disconnect();\n",
       "        }}\n",
       "}});\n",
       "\n",
       "// Listen for the removal of the full notebook cells\n",
       "var notebookContainer = gd.closest('#notebook-container');\n",
       "if (notebookContainer) {{\n",
       "    x.observe(notebookContainer, {childList: true});\n",
       "}}\n",
       "\n",
       "// Listen for the clearing of the current output cell\n",
       "var outputEl = gd.closest('.output');\n",
       "if (outputEl) {{\n",
       "    x.observe(outputEl, {childList: true});\n",
       "}}\n",
       "\n",
       "                        })                };                });            </script>        </div>"
      ]
     },
     "metadata": {},
     "output_type": "display_data"
    }
   ],
   "source": [
    "dfs[\"vmaf\"].iplot(y=[\"vmaf\", \"ssim\", \"ms_ssim\", \"psnr\"],subplots=True, width=2.0)"
   ]
  },
  {
   "cell_type": "markdown",
   "id": "6babf302-7a1f-43ed-acbd-b4154de4aa4a",
   "metadata": {},
   "source": [
    "Regarding VMAF oversall score follows the same pattern as the structured similarity and multi-scale structured similarity metrics.\n",
    "The PSNR metric however is a result which is relatively difficult to relate with the perceptual metrics, specially when it comes to moving images and the characteristics of the HVS, however in general a higher value reflects a higher quality reconstruction of the signal. Here it seems a value of 22.6dB is achieved until around frame 90, then drops to around 20dB, and peaks again to around 25dB from frame 180 onwards.\n",
    "There seems to be some detachment from the PSNR values and the perceptual video but there's some expectation for this general detachment - that is - a change in the PSNR value doesn't necessarily imply this variation will be noticeable by the HVS.\n"
   ]
  },
  {
   "cell_type": "markdown",
   "id": "f5082228-eb74-464f-9579-0c3821ddc847",
   "metadata": {},
   "source": [
    "## Video Sources\n",
    "\n",
    "Python classes were created to automate as much as possible encoding of sources with the variations presets.\n",
    "Next we'll be encoding all the input videos with the parameter sets that will be defined and commented as we go.\n",
    "Check the ```mediatests.py``` file for more information."
   ]
  },
  {
   "cell_type": "code",
   "execution_count": 1,
   "id": "65eb74a4-198a-4578-bcfd-8494510d8a6f",
   "metadata": {},
   "outputs": [],
   "source": [
    "from mediatests import MediaTests"
   ]
  },
  {
   "cell_type": "code",
   "execution_count": 2,
   "id": "a0b0f5e5-21bd-4134-a304-9bf74c5f3bc9",
   "metadata": {},
   "outputs": [],
   "source": [
    "mt = MediaTests()"
   ]
  },
  {
   "cell_type": "markdown",
   "id": "5d3d9ea2-f4a5-4d5c-beed-9db94c9150e5",
   "metadata": {},
   "source": [
    "Prepare the container with all the source material under the input directory described earlier in the media class and its methods, and assemble the fully qualified names after setting the encoding options that will be used.\n",
    "Have in mind that, a large number of files, and encoding methods will take time to process and storage will also be used."
   ]
  },
  {
   "cell_type": "code",
   "execution_count": 3,
   "id": "ca8a2f26-8d7a-4bb7-83f2-fce08e9a2c31",
   "metadata": {},
   "outputs": [
    {
     "data": {
      "text/plain": [
       "{'crf': [18, 27, 36],\n",
       " 'preset': ['veryfast', 'medium'],\n",
       " 'tune': ['film', 'grain'],\n",
       " 'motion-est': ['esa', 'umh'],\n",
       " 'aq-mode': [2, 3],\n",
       " 'weightp': [0, 1, 2],\n",
       " 'pix_fmt': ['yuv420p', 'yuv422p', 'yuv444p']}"
      ]
     },
     "execution_count": 3,
     "metadata": {},
     "output_type": "execute_result"
    }
   ],
   "source": [
    "# Shows the default encoding sets\n",
    "mt.options.encoding_sets()"
   ]
  },
  {
   "cell_type": "markdown",
   "id": "0f3f38c1-42f5-4104-a06f-f5a47005b588",
   "metadata": {},
   "source": [
    "We'll be using h264, a CRF of 18, 25, and 36, exhaustive and multi-hexagonal searchs for motion estimation since our clip has erratic movement.\n",
    "Adaptive quantization based on variance (complexity mask), automatic, and biased towards dark values is commented out to keep the number of files low. See the libx264 encoding options [here](#H.264-Compression:-x264-options:)\n",
    "We'll be using diferent chroma subsampling methods as well."
   ]
  },
  {
   "cell_type": "code",
   "execution_count": 4,
   "id": "5c80b54e-45a2-4bca-8531-4c008a5c787e",
   "metadata": {},
   "outputs": [],
   "source": [
    "h264_encode_set = {\n",
    "    \"preset\" : [\"veryfast\"],\n",
    "    \"crf\" : [18, 25, 36],\n",
    "    \"motion-est\" : [\"esa\", \"umh\"],\n",
    "#    \"aq-mode\" : [1, 2, 3],\n",
    "    \"pix_fmt\" : [\"yuv420p\", \"yuv422p\", \"yuv444p\"]}"
   ]
  },
  {
   "cell_type": "code",
   "execution_count": 5,
   "id": "0517448c-2252-436e-a2b7-db8e53204d6f",
   "metadata": {},
   "outputs": [],
   "source": [
    "mt.options.insert_encoding_sets(h264_encode_set, replace=True)"
   ]
  },
  {
   "cell_type": "code",
   "execution_count": 6,
   "id": "00661915-cffc-4725-a74b-43b9a62372d3",
   "metadata": {},
   "outputs": [
    {
     "data": {
      "text/plain": [
       "{'preset': ['veryfast'],\n",
       " 'crf': [18, 25, 36],\n",
       " 'motion-est': ['esa', 'umh'],\n",
       " 'pix_fmt': ['yuv420p', 'yuv422p', 'yuv444p']}"
      ]
     },
     "execution_count": 6,
     "metadata": {},
     "output_type": "execute_result"
    }
   ],
   "source": [
    "mt.options.encoding_sets()"
   ]
  },
  {
   "cell_type": "markdown",
   "id": "3afc0203-b449-4b68-8b86-dea26d57c532",
   "metadata": {},
   "source": [
    "Now prepare the structure, feeding in the source material, and building the fully qualified output filenames for each variation of the encoding set, to be stored in the compressed material structure. We'll be calling our ```encoder.py``` methods but via our ```mediatests.py``` container to iterate over this and process the videos. \n",
    "Once compressed we'll iterate over this to generate the video quality assessment in regard to the original file. Methods are provided to, once done, filter easily by codec family, parameter sets, filenames, and by video quality metrics, so that one can plot in regard to these group criteria."
   ]
  },
  {
   "cell_type": "code",
   "execution_count": 7,
   "id": "ea39d0c4-ca25-4930-97ce-e36638349fc8",
   "metadata": {},
   "outputs": [],
   "source": [
    "# we can also pass a ```options.py``` instance to this method, optionally.\n",
    "mt.prepare_media()"
   ]
  },
  {
   "cell_type": "code",
   "execution_count": 8,
   "id": "ca1f69b3-0ec1-4c45-93af-7f818c48da6b",
   "metadata": {},
   "outputs": [
    {
     "data": {
      "text/plain": [
       "dict_keys(['inputdir', 'inputdata', 'outputdir', 'outputdata'])"
      ]
     },
     "execution_count": 8,
     "metadata": {},
     "output_type": "execute_result"
    }
   ],
   "source": [
    "# show the main data structure (it's deeply nested)\n",
    "mt.media_container.keys()"
   ]
  },
  {
   "cell_type": "code",
   "execution_count": 9,
   "id": "ef7ed1cd-847e-41df-ba32-4ffd92bebdd3",
   "metadata": {},
   "outputs": [
    {
     "data": {
      "text/plain": [
       "{'preset': ['veryfast'],\n",
       " 'crf': [18, 25, 36],\n",
       " 'motion-est': ['esa', 'umh'],\n",
       " 'pix_fmt': ['yuv420p', 'yuv422p', 'yuv444p']}"
      ]
     },
     "execution_count": 9,
     "metadata": {},
     "output_type": "execute_result"
    }
   ],
   "source": [
    "mt.options.encoding_sets()"
   ]
  },
  {
   "cell_type": "markdown",
   "id": "432f5021-0a6c-4cd4-b155-1acfc0ef03f9",
   "metadata": {},
   "source": [
    "Accessing via ```mt.media_container[\"inputdir\"]``` will show you the directory for the ingested material, with ```[\"inputdata\"]```containing the found footage there, and the analysis of the source material - basic statistics such as frame rate, size, and so on. The keys ```[\"outputdir\"]``` point to the destination for the compressed files, and ```[\"outputdata\"]``` shows a very deeply nested structure containing the variations.\n",
    "You can query it in order to have an idea of what's going to be generated in the encoding step next. Beware of [combinatorial explosion](https://en.wikipedia.org/wiki/Combinatorial_explosion).\n",
    "\n",
    "<div class=\"alert alert-block alert-warning\">\n",
    "<b>Attention:</b> By default encoding videos is set to print the output, unless you pass the optional parameter <b>debug</b> as <b>False</b>. Have in mind that encoding the videos takes <b>some time</b>. Beware of using too many options, options sets, combinations.\n",
    "</div>"
   ]
  },
  {
   "cell_type": "code",
   "execution_count": 10,
   "id": "b393a49d-7d81-45e9-aa47-f4b73a8f5650",
   "metadata": {},
   "outputs": [
    {
     "name": "stdout",
     "output_type": "stream",
     "text": [
      "X = 90\n",
      "|████████████████████████████████████████✗︎ (!) 90/5 [1800%] in 0.0s (229722.52/s)\n"
     ]
    }
   ],
   "source": [
    "#mt.media_container[\"outputdata\"]\n",
    "# show the resulting files\n",
    "mt.encode_videos(debug=True, progress=True)"
   ]
  },
  {
   "cell_type": "code",
   "execution_count": 11,
   "id": "460348fb-4b3c-4c8f-a60b-bd960e32e8f1",
   "metadata": {},
   "outputs": [],
   "source": [
    "# the default if you call mt.encode_videos(), print the output files\n",
    "#mt.encode_videos(debug=True)\n",
    "\n",
    "# really encode now. GPU encoders do their job but it still takes time\n",
    "mt.encode_videos(debug=True)"
   ]
  },
  {
   "cell_type": "code",
   "execution_count": null,
   "id": "5b6f2bed-9414-4e3c-b024-6d74a37426f9",
   "metadata": {},
   "outputs": [],
   "source": []
  }
 ],
 "metadata": {
  "kernelspec": {
   "display_name": "Python 3 (ipykernel)",
   "language": "python",
   "name": "python3"
  },
  "language_info": {
   "codemirror_mode": {
    "name": "ipython",
    "version": 3
   },
   "file_extension": ".py",
   "mimetype": "text/x-python",
   "name": "python",
   "nbconvert_exporter": "python",
   "pygments_lexer": "ipython3",
   "version": "3.8.10"
  }
 },
 "nbformat": 4,
 "nbformat_minor": 5
}
