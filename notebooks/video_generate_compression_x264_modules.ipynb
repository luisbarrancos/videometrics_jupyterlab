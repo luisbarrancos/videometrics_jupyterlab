{
 "cells": [
  {
   "cell_type": "markdown",
   "id": "511e1c63-0422-4318-84c7-226e4676c9d9",
   "metadata": {
    "tags": []
   },
   "source": [
    "# Compression of generative art videos: h264, h265, VP8/9, AV1, and h266\n",
    "\n",
    "We'll be analyzing a practical use case, video compression of Processing or P5js sketches with FFMPEG and h264 AVC, h265 HEVC, h266 VVC, VP8 and VP9, and AV1 codecs.\n",
    "\n",
    "## Encoder choices\n",
    "\n",
    "For h264, we'll be using libx264, though we can also use NVenc and kvazaar. For h265 we'll be using libx265, but NVenc is also a possibility.\n",
    "For h266 we don't have yet FFMPEG support, but we can use the reference h266/VVC encoder and decoders.\n",
    "VP8 and VP9 are provided via libvpx and libvpx-vp9 and finally AV1 support is provided via libaom-av1."
   ]
  },
  {
   "cell_type": "markdown",
   "id": "ef5f2b31-827d-4cdf-aabd-c4b17af05679",
   "metadata": {},
   "source": [
    "## Test Content\n",
    "\n",
    "The creation of relevant good quality meaningful reference material for video compression testing is on itself a challenge due to the incredible number of options, parameters, use cases that need to be covered. What is good quality? Good quality on a 1m diagonal OLED display? Or on your mobile phone?\n",
    "Is the content being streamed? Is latency critical? Or is the content stored offline, i.e, in a disc?\n",
    "Settings that will work great with normal scenes will fail with high motion scenes.\n",
    "\n",
    "Due to the countless encoding options and the combinatorial explosion of testing them all, we'll be focusing on a narrow subset of options targetting this specific use case - generative art videos which exhibit the following characteristics\n",
    "\n",
    " * Fast erratic or unpredictable movement\n",
    " * No motion blur\n",
    " * High frequency content, in some cases, with aliasing\n",
    " * High chromatic contrast and color purity\n",
    " * Cases with overlapping alpha blended unpredictable movement\n",
    " \n",
    "Together with these test results, notebooks and source code you'll also find the source code for the P5js sketches that were used to create the reference source material.\n",
    "The sketches were recorded and encoded with NVidia's hevc_nvenc using the GPU to keep the high throughput low latency required to record the processing intensive sketches without the introduction of lag."
   ]
  },
  {
   "cell_type": "markdown",
   "id": "bf3103f0-07f0-4123-bc5a-60118a9f749d",
   "metadata": {},
   "source": [
    "## Reference Material Encoding and Characteristics\n",
    "\n",
    "The source material was encoded with h265/HEVC lossless profile, intra frames only, with YUV 4\\:4\\:4 sampling, high tier mode to have good reference material attending the characteristics outlined above.\n",
    "If needed, you can change the profile to a 10 or even 12bit profile. For these tests we remain with 8bit output.\n",
    "Colorimetry was set to Rec.709 RGB primaries, D65 whitepoint, but with the sRGB IEC-61922-6.1 CCTF."
   ]
  },
  {
   "cell_type": "markdown",
   "id": "00d992bf-a752-4b32-a2f8-5004171c9771",
   "metadata": {},
   "source": [
    "## Types of Video Quality Metrics\n",
    "\n",
    "Like with the creation of meaningful content for tests, the metrics used are and have been an area of active and ongoing research for quite some time. Both content and video quality assessment are actives areas of research under several groups, including the VQEG or Video Quality Experts Group. We cannot cover all of this in-depth but we'll provide a brief assessment of the main families of techniques and the ones we'll be using in the tests that we'll be running.\n",
    "\n",
    "Succintly, there are **objective** and **subjective** quality models. Objective models can be measured free from human interpretation, and can be divided according to what signal we have available to test.\n",
    "Subjective models requires the viewers opinion of the quality of the video being watched and a mean score given.\n",
    "\n",
    "\n",
    "### Full Reference Methods\n",
    "\n",
    "This method compares the encoded signal with a original reference signal and quantifies the difference according to specific metrics. Since they require both the original and the compressed signals, they cannot be used everywhere and since they measure pixel differences, there is heavy computational cost involved.\n",
    "\n",
    "### Reduced Reference Methods\n",
    "\n",
    "Similar to the **Full Reference Method**, except there's no access to the entire original signal, or due to constraints, it's impractical to acess it all.\n",
    "\n",
    "### No Reference Methods\n",
    "\n",
    "Are used to assign a quality indication of the compressed signal without access to the original material. They are usually lighter to compute. \n",
    "These are divided into\n",
    " * Pixel Based Methods - try to quantify the image quality or degradation due to blurring, motion blur, other artifacts\n",
    " * Parametric or Bitstream Methods - these have access to encoding data, parameters, motion vectors and other related data and try to access the signal quality according to these. They're not accurate, but provide a good fast approximated indication.\n",
    " * Hybrid Methods - combine both the pixel based methods and the parametric or bitstream methods.\n",
    " "
   ]
  },
  {
   "cell_type": "markdown",
   "id": "66415bf4-147d-4ad1-b4c1-816f8021025c",
   "metadata": {},
   "source": [
    "## Methodology\n",
    "\n",
    "### Video Quality Metrics Used\n",
    "\n",
    "Since we have access to the original source material and the compressed material we'll be generating, and performance is not critical, it makes sense to use full reference methods.\n",
    "Of these, the metrics we'll be using are:\n",
    "\n",
    " * PSNR - Peak Signal to Noise Ratio. Due to the characteristics of the HVS, PSNR is not a reliable indicator of perceived quality.\n",
    " * SSIM - Structural Similarity. SSIM measures perceived change in structural information, including luminance and contrast masking, it takes the HVS characteristics into consideration and is a more reliable indicator of perceived quality than PSNR.\n",
    " * VMAF - Video Multimethod Assessment Fusion, is a metric developed by NetFlix, composed of 4 distinct features which are fused via SVM or Suport Vector Machine, a type of supervised machine learning model used for data classification and regression analysis. These features are:\n",
    "   * VIF or Visual Information Fidelity, which considers information loss in 4 different spatial scales\n",
    "   * DLM or Detail Loss Metric, measures loss of details\n",
    "   * MCPD or Mean Co-located Pixel Difference, measures the temporal difference on the luminance component\n",
    "   * ANSNR or Anti-Noise Signal-to-Noise Ratio, abandoned in new VMAF versions.\n",
    "  \n",
    "We'll also be using AI/ML for perceptual video quality assessment methods with [LPIPS](https://richzhang.github.io/PerceptualSimilarity/) metric - Learned Perceptual Image Patch Similarity, and with the [Berkeley-Adobe Perceptual Patch Similarity (BAPPS) dataset](https://github.com/richzhang/PerceptualSimilarity#2-berkeley-adobe-perceptual-patch-similarity-bapps-dataset), as well as PSNR-HVS-M, that is, Peak Signal To Noise Ratio taking into account Contrast Sensitivity Function (CSV) and in-between coefficient contrast masking of DCT basis functions - a PSNR metric that takes into account the HVS response."
   ]
  },
  {
   "cell_type": "markdown",
   "id": "1fd49ca8-1a67-4ace-90e7-4b107798d2cd",
   "metadata": {},
   "source": [
    "### Encoding Options Used\n",
    "\n",
    "As outlined earlier, we'll be restricting the options to the choice of:\n",
    " * presets\n",
    " * tuning\n",
    " * entropy encoding algorithms\n",
    " * rate control types\n",
    " * chroma subsampling\n",
    " \n",
    "There are countless options to fine-tune the motion vector search algorithms, macroblocks sizes, and so on, but this would lead to thousands of files. It can be done, but in a automated, machine-assisted way that is outside the scope of this report.\n",
    "\n",
    "#### Encoding Entropy Algorithm *(coder)* can be one of:\n",
    "\n",
    "* [CABAC](https://en.wikipedia.org/wiki/Context-adaptive_binary_arithmetic_coding) - Context Adaptive Binary Arithmetic Coding\n",
    " * [CAVLC](https://en.wikipedia.org/wiki/Context-adaptive_variable-length_coding) - Context Adaptive Variable Length Encoding\n",
    " * [AC](https://en.wikipedia.org/wiki/Arithmetic_coding) - Arithmetic Coding\n",
    " * [VLC](https://en.wikipedia.org/wiki/Variable-length_code) - Variable Lenght Encoding\n",
    "\n",
    "See [also this](https://learn.akamai.com/en-us/webhelp/media-services-on-demand/media-services-on-demand-encoder-best-practices/GUID-F3F0BD92-69C3-4B7F-BE84-A33BA138B55A.html)\n",
    "\n",
    "#### Rate control, can be one of:\n",
    "\n",
    " * ConstQP - Constant Quantization P mode\n",
    " * [VBR](https://en.wikipedia.org/wiki/Variable_bitrate) - Variable Bit Rate\n",
    " * [CBR](https://en.wikipedia.org/wiki/Constant_bitrate) - Constant Bit Rate\n",
    " * CBR_LD_HQ - Constant Bit Rate with Low Delay, High Quality mode\n",
    " * CBR_HQ - Constant Bit Rate High Quality Mode\n",
    " * VBR_HQ - Variable Bit Rate High Quality Mode\n",
    "\n",
    "#### [Chroma subsampling](https://en.wikipedia.org/wiki/Chroma_subsampling)\n",
    "\n",
    "Can be YUV 4:2:0, 4:2:2, 4:4:4. The libx264 codec has more control over the macroblocks when compared with NVenc. Other codecs support other sampling modes, such as YUV 4:1:1, and quantization modes for 10bit, 12bit, 16bit signals, besides RGB."
   ]
  },
  {
   "cell_type": "code",
   "execution_count": 1,
   "id": "634816fc-bd02-434e-898c-12eea9cb2fee",
   "metadata": {},
   "outputs": [],
   "source": [
    "#!ffmpeg -h encoder=libx264"
   ]
  },
  {
   "cell_type": "markdown",
   "id": "d4f2e98a-d8a7-45dc-a275-f15f1f743d5b",
   "metadata": {
    "tags": []
   },
   "source": [
    "## Video resources, configuration\n",
    "\n",
    "Define a **VIDEO_RESOURCES** environment variable pointing to the location of your original videos, and **VIDEO_COMPRESSED** environment variable pointing to the location to use for storing the resulting compressed videos."
   ]
  },
  {
   "cell_type": "code",
   "execution_count": 1,
   "id": "eafb91a0-4cc7-4928-8c37-ef3264fa2d93",
   "metadata": {},
   "outputs": [],
   "source": [
    "import media as md\n",
    "import options as op\n",
    "import os"
   ]
  },
  {
   "cell_type": "code",
   "execution_count": 2,
   "id": "535ef2e4-6d44-4f6e-97f8-6f8679c12405",
   "metadata": {},
   "outputs": [],
   "source": [
    "# create a new Media object that has the configuration options, see help(md), dir(md)\n",
    "media = md.Media()"
   ]
  },
  {
   "cell_type": "code",
   "execution_count": 3,
   "id": "73cb10ab-48fd-471b-8ae3-a7b84555abab",
   "metadata": {},
   "outputs": [
    {
     "name": "stdout",
     "output_type": "stream",
     "text": [
      "source material dir:\n",
      "/home/cgwork/Downloads/Masters/Tecnologias_Comunicacao_Multimedia_TCM/Work/videos/original,\n",
      "output dir:\n",
      "/home/cgwork/Downloads/Masters/Tecnologias_Comunicacao_Multimedia_TCM/videos/compressed\n"
     ]
    }
   ],
   "source": [
    "print(f\"source material dir:\\n{media.input_dir()},\\noutput dir:\\n{media.output_dir()}\") "
   ]
  },
  {
   "cell_type": "code",
   "execution_count": 4,
   "id": "4d0f814a-d6d5-464b-94f2-f63588831ae9",
   "metadata": {},
   "outputs": [
    {
     "name": "stdout",
     "output_type": "stream",
     "text": [
      "['mp4', 'mkv', 'webm']\n"
     ]
    },
    {
     "data": {
      "text/plain": [
       "['/home/cgwork/Downloads/Masters/Tecnologias_Comunicacao_Multimedia_TCM/Work/videos/original/light_orbitals.mkv',\n",
       " '/home/cgwork/Downloads/Masters/Tecnologias_Comunicacao_Multimedia_TCM/Work/videos/original/colored_orbitals.mkv',\n",
       " '/home/cgwork/Downloads/Masters/Tecnologias_Comunicacao_Multimedia_TCM/Work/videos/original/flowlock.mkv',\n",
       " '/home/cgwork/Downloads/Masters/Tecnologias_Comunicacao_Multimedia_TCM/Work/videos/original/flowfield.mkv',\n",
       " '/home/cgwork/Downloads/Masters/Tecnologias_Comunicacao_Multimedia_TCM/Work/videos/original/noiseywaves.mkv']"
      ]
     },
     "execution_count": 4,
     "metadata": {},
     "output_type": "execute_result"
    }
   ],
   "source": [
    "# we'll glob all the files under the input dir with the following extensions\n",
    "print(media.containers())\n",
    "media.glob_media()\n",
    "media.input_files()"
   ]
  },
  {
   "cell_type": "code",
   "execution_count": 5,
   "id": "f96db21a-6ad2-4ce9-83a6-e6ad4d585cdf",
   "metadata": {},
   "outputs": [],
   "source": [
    "# same for the output files\n",
    "#media.output_files()"
   ]
  },
  {
   "cell_type": "markdown",
   "id": "6d2d5596-2960-48db-88dc-c79ef7a3ef44",
   "metadata": {},
   "source": [
    "We can view a video thumbnail, for example, the first video in the list"
   ]
  },
  {
   "cell_type": "code",
   "execution_count": 6,
   "id": "9e30461f-df74-4eed-b662-adee937a5974",
   "metadata": {},
   "outputs": [],
   "source": [
    "import ffmpeg\n",
    "\n",
    "from ipywidgets import interact\n",
    "from matplotlib import pyplot as plt\n",
    "import ipywidgets as widgets\n",
    "import numpy as np"
   ]
  },
  {
   "cell_type": "code",
   "execution_count": 7,
   "id": "4d4f1090-e5e2-407c-ab7f-759778d7dc02",
   "metadata": {},
   "outputs": [],
   "source": [
    "# get the information from the files in the object input list into a dictionary\n",
    "info = media.info()"
   ]
  },
  {
   "cell_type": "code",
   "execution_count": 8,
   "id": "f28dc8b4-5b69-439c-81ab-efca03bb8e77",
   "metadata": {},
   "outputs": [
    {
     "name": "stdout",
     "output_type": "stream",
     "text": [
      "input file /home/cgwork/Downloads/Masters/Tecnologias_Comunicacao_Multimedia_TCM/Work/videos/original/light_orbitals.mkv height is 720, width is 1280\n"
     ]
    }
   ],
   "source": [
    "# get the width and height of the first media file in the input list\n",
    "width = media.width(media.input_files()[0])\n",
    "height = media.height(media.input_files()[0])\n",
    "print(f\"input file {media.input_files()[0]} height is {height}, width is {width}\")"
   ]
  },
  {
   "cell_type": "markdown",
   "id": "d6e1d66b-e69f-4d27-9bbd-55a484d6bee1",
   "metadata": {},
   "source": [
    "Prepare the widget for the thumbnail view with the FFMPEG python bindings and NumPy"
   ]
  },
  {
   "cell_type": "code",
   "execution_count": 9,
   "id": "723e5b11-86ed-4abb-9076-af54e7a18776",
   "metadata": {},
   "outputs": [
    {
     "data": {
      "application/vnd.jupyter.widget-view+json": {
       "model_id": "ccd827d970ff47e1bf2d8f27663c32f5",
       "version_major": 2,
       "version_minor": 0
      },
      "text/plain": [
       "interactive(children=(IntSlider(value=0, description='frame', max=256), Output()), _dom_classes=('widget-inter…"
      ]
     },
     "metadata": {},
     "output_type": "display_data"
    }
   ],
   "source": [
    "out, err = (\n",
    "    ffmpeg\n",
    "    .input(media.input_files()[0])\n",
    "    .output(\"pipe:\", format=\"rawvideo\", pix_fmt=\"rgb24\", loglevel=\"error\")\n",
    "    .run(capture_stdout = True)\n",
    ")\n",
    "\n",
    "video = (\n",
    "    np\n",
    "    .frombuffer(out, np.uint8)\n",
    "    .reshape([-1, height, width, 3])\n",
    ")\n",
    "\n",
    "@interact(frame=(0, media.number_of_frames(media.input_files()[0])))\n",
    "def show_frame(frame = 0):\n",
    "    plt.imshow(video[frame,:,:,:])"
   ]
  },
  {
   "cell_type": "markdown",
   "id": "4befcf89-53c0-4aba-8f03-8d0da74b7605",
   "metadata": {},
   "source": [
    "Check codecs with ```ffmpeg -codecs``` and specific options with ```ffmpeg -h encoder=<encoder here>```, example for the h264 case, ```ffmpeg -h encoder=libx264```.\n",
    "In our case, we're interested in h264, h264/HEVC, h266/VVC, VP8, VP9, AV1."
   ]
  },
  {
   "cell_type": "code",
   "execution_count": 10,
   "id": "cd95699c-8ac9-4bc2-bac4-a3007c1a3cee",
   "metadata": {},
   "outputs": [
    {
     "name": "stdout",
     "output_type": "stream",
     "text": [
      " DEV.L. av1                  Alliance for Open Media AV1 (decoders: libdav1d libaom-av1 av1 ) (encoders: libaom-av1 libsvtav1 )\n",
      " DEV.LS h264                 H.264 / AVC / MPEG-4 AVC / MPEG-4 part 10 (decoders: h264 h264_v4l2m2m h264_cuvid ) (encoders: libx264 libx264rgb h264_nvenc h264_v4l2m2m nvenc nvenc_h264 )\n",
      " DEV.L. hevc                 H.265 / HEVC (High Efficiency Video Coding) (decoders: hevc hevc_v4l2m2m hevc_cuvid ) (encoders: libx265 nvenc_hevc hevc_nvenc hevc_v4l2m2m libkvazaar )\n",
      " DEV.L. vp8                  On2 VP8 (decoders: vp8 vp8_v4l2m2m libvpx vp8_cuvid ) (encoders: libvpx vp8_v4l2m2m )\n",
      " DEV.L. vp9                  Google VP9 (decoders: vp9 vp9_v4l2m2m libvpx-vp9 vp9_cuvid ) (encoders: libvpx-vp9 )\n",
      " ..V.L. vvc                  H.266 / VVC (Versatile Video Coding)\n"
     ]
    }
   ],
   "source": [
    "!ffmpeg -hide_banner -loglevel error -codecs|grep -wE 'av1|vp8|vp9|h264|hevc|vvc'"
   ]
  },
  {
   "cell_type": "markdown",
   "id": "ef6f7ed0-1d44-4024-bc67-d3e910f89345",
   "metadata": {},
   "source": [
    "## Codec options\n",
    "\n",
    "### H.264 | MPEG-4 AVC\n",
    "\n",
    "We need to check the options for each family of codecs, though to keep it manageable, we'll be restricted to changing the macroblock size, and the number of intraframes, as well as perhaps the pixel format for specific luma and chroma subsampling. We might change the DCT, IDCT type, from fast integer to floating point, and do some analysis first of common metrics, then of new perceptual metrics, then using deep learning and reference free image quality metrics."
   ]
  },
  {
   "cell_type": "code",
   "execution_count": 11,
   "id": "d8fea676-8d4d-499b-bfcf-57fdf05863b0",
   "metadata": {},
   "outputs": [
    {
     "name": "stdout",
     "output_type": "stream",
     "text": [
      "Encoder libx264 [libx264 H.264 / AVC / MPEG-4 AVC / MPEG-4 part 10]:\n",
      "    General capabilities: delay threads \n",
      "    Threading capabilities: other\n",
      "    Supported pixel formats: yuv420p yuvj420p yuv422p yuvj422p yuv444p yuvj444p nv12 nv16 nv21 yuv420p10le yuv422p10le yuv444p10le nv20le\n",
      "libx264 AVOptions:\n",
      "  -preset            <string>     E..V....... Set the encoding preset (cf. x264 --fullhelp) (default \"medium\")\n",
      "  -tune              <string>     E..V....... Tune the encoding params (cf. x264 --fullhelp)\n",
      "  -profile           <string>     E..V....... Set profile restrictions (cf. x264 --fullhelp) \n",
      "  -fastfirstpass     <boolean>    E..V....... Use fast settings when encoding first pass (default true)\n",
      "  -level             <string>     E..V....... Specify level (as defined by Annex A)\n",
      "  -passlogfile       <string>     E..V....... Filename for 2 pass stats\n",
      "  -wpredp            <string>     E..V....... Weighted prediction for P-frames\n",
      "  -a53cc             <boolean>    E..V....... Use A53 Closed Captions (if available) (default true)\n",
      "  -x264opts          <string>     E..V....... x264 options\n",
      "  -crf               <float>      E..V....... Select the quality for constant quality mode (from -1 to FLT_MAX) (default -1)\n",
      "  -crf_max           <float>      E..V....... In CRF mode, prevents VBV from lowering quality beyond this point. (from -1 to FLT_MAX) (default -1)\n",
      "  -qp                <int>        E..V....... Constant quantization parameter rate control method (from -1 to INT_MAX) (default -1)\n",
      "  -aq-mode           <int>        E..V....... AQ method (from -1 to INT_MAX) (default -1)\n",
      "     none            0            E..V.......\n",
      "     variance        1            E..V....... Variance AQ (complexity mask)\n",
      "     autovariance    2            E..V....... Auto-variance AQ\n",
      "     autovariance-biased 3            E..V....... Auto-variance AQ with bias to dark scenes\n",
      "  -aq-strength       <float>      E..V....... AQ strength. Reduces blocking and blurring in flat and textured areas. (from -1 to FLT_MAX) (default -1)\n",
      "  -psy               <boolean>    E..V....... Use psychovisual optimizations. (default auto)\n",
      "  -psy-rd            <string>     E..V....... Strength of psychovisual optimization, in <psy-rd>:<psy-trellis> format.\n",
      "  -rc-lookahead      <int>        E..V....... Number of frames to look ahead for frametype and ratecontrol (from -1 to INT_MAX) (default -1)\n",
      "  -weightb           <boolean>    E..V....... Weighted prediction for B-frames. (default auto)\n",
      "  -weightp           <int>        E..V....... Weighted prediction analysis method. (from -1 to INT_MAX) (default -1)\n",
      "     none            0            E..V.......\n",
      "     simple          1            E..V.......\n",
      "     smart           2            E..V.......\n",
      "  -ssim              <boolean>    E..V....... Calculate and print SSIM stats. (default auto)\n",
      "  -intra-refresh     <boolean>    E..V....... Use Periodic Intra Refresh instead of IDR frames. (default auto)\n",
      "  -bluray-compat     <boolean>    E..V....... Bluray compatibility workarounds. (default auto)\n",
      "  -b-bias            <int>        E..V....... Influences how often B-frames are used (from INT_MIN to INT_MAX) (default INT_MIN)\n",
      "  -b-pyramid         <int>        E..V....... Keep some B-frames as references. (from -1 to INT_MAX) (default -1)\n",
      "     none            0            E..V.......\n",
      "     strict          1            E..V....... Strictly hierarchical pyramid\n",
      "     normal          2            E..V....... Non-strict (not Blu-ray compatible)\n",
      "  -mixed-refs        <boolean>    E..V....... One reference per partition, as opposed to one reference per macroblock (default auto)\n",
      "  -8x8dct            <boolean>    E..V....... High profile 8x8 transform. (default auto)\n",
      "  -fast-pskip        <boolean>    E..V....... (default auto)\n",
      "  -aud               <boolean>    E..V....... Use access unit delimiters. (default auto)\n",
      "  -mbtree            <boolean>    E..V....... Use macroblock tree ratecontrol. (default auto)\n",
      "  -deblock           <string>     E..V....... Loop filter parameters, in <alpha:beta> form.\n",
      "  -cplxblur          <float>      E..V....... Reduce fluctuations in QP (before curve compression) (from -1 to FLT_MAX) (default -1)\n",
      "  -partitions        <string>     E..V....... A comma-separated list of partitions to consider. Possible values: p8x8, p4x4, b8x8, i8x8, i4x4, none, all\n",
      "  -direct-pred       <int>        E..V....... Direct MV prediction mode (from -1 to INT_MAX) (default -1)\n",
      "     none            0            E..V.......\n",
      "     spatial         1            E..V.......\n",
      "     temporal        2            E..V.......\n",
      "     auto            3            E..V.......\n",
      "  -slice-max-size    <int>        E..V....... Limit the size of each slice in bytes (from -1 to INT_MAX) (default -1)\n",
      "  -stats             <string>     E..V....... Filename for 2 pass stats\n",
      "  -nal-hrd           <int>        E..V....... Signal HRD information (requires vbv-bufsize; cbr not allowed in .mp4) (from -1 to INT_MAX) (default -1)\n",
      "     none            0            E..V.......\n",
      "     vbr             1            E..V.......\n",
      "     cbr             2            E..V.......\n",
      "  -avcintra-class    <int>        E..V....... AVC-Intra class 50/100/200 (from -1 to 200) (default -1)\n",
      "  -me_method         <int>        E..V....... Set motion estimation method (from -1 to 4) (default -1)\n",
      "     dia             0            E..V.......\n",
      "     hex             1            E..V.......\n",
      "     umh             2            E..V.......\n",
      "     esa             3            E..V.......\n",
      "     tesa            4            E..V.......\n",
      "  -motion-est        <int>        E..V....... Set motion estimation method (from -1 to 4) (default -1)\n",
      "     dia             0            E..V.......\n",
      "     hex             1            E..V.......\n",
      "     umh             2            E..V.......\n",
      "     esa             3            E..V.......\n",
      "     tesa            4            E..V.......\n",
      "  -forced-idr        <boolean>    E..V....... If forcing keyframes, force them as IDR frames. (default false)\n",
      "  -coder             <int>        E..V....... Coder type (from -1 to 1) (default default)\n",
      "     default         -1           E..V.......\n",
      "     cavlc           0            E..V.......\n",
      "     cabac           1            E..V.......\n",
      "     vlc             0            E..V.......\n",
      "     ac              1            E..V.......\n",
      "  -b_strategy        <int>        E..V....... Strategy to choose between I/P/B-frames (from -1 to 2) (default -1)\n",
      "  -chromaoffset      <int>        E..V....... QP difference between chroma and luma (from INT_MIN to INT_MAX) (default 0)\n",
      "  -sc_threshold      <int>        E..V....... Scene change threshold (from INT_MIN to INT_MAX) (default -1)\n",
      "  -noise_reduction   <int>        E..V....... Noise reduction (from INT_MIN to INT_MAX) (default -1)\n",
      "  -x264-params       <dictionary> E..V....... Override the x264 configuration using a :-separated list of key=value parameters\n",
      "\n"
     ]
    }
   ],
   "source": [
    "!ffmpeg -hide_banner -loglevel error -h encoder=libx264"
   ]
  },
  {
   "cell_type": "markdown",
   "id": "b03cb7a9-0fc3-4e9d-a3a5-b291a1d717fd",
   "metadata": {},
   "source": [
    "### h265 | HEVC options"
   ]
  },
  {
   "cell_type": "code",
   "execution_count": 12,
   "id": "8140b1e7-a6fe-4215-96d7-6dbbf090396e",
   "metadata": {},
   "outputs": [],
   "source": [
    "# hevc, libx265, kvazaar, hevc_nvenc\n",
    "#!ffmpeg -hide_banner -loglevel error  -h encoder=libx265"
   ]
  },
  {
   "cell_type": "markdown",
   "id": "28406b21-ad0b-44ab-b312-9e82cbfae4d3",
   "metadata": {},
   "source": [
    "The same criteria as with h264 apply.\n",
    "\n",
    "### H.266 | VVC\n",
    "\n",
    "It's known to FFMPEG, but without a supported encoder, yet, though patches exists in development branches.\n",
    "Test with the official Fraunhoffer provided VVenc.\n",
    "It seems to expect a YUV input video, already chroma subsampled in 4:2:0, 8, or 10bits"
   ]
  },
  {
   "cell_type": "code",
   "execution_count": 13,
   "id": "2dadbec0-ec17-4b00-be47-499379699839",
   "metadata": {},
   "outputs": [],
   "source": [
    "#!ffmpeg -hide_banner -loglevel error  -h encoder=vvc\n",
    "#!vvencapp --help"
   ]
  },
  {
   "cell_type": "markdown",
   "id": "33a15fb4-8e49-483a-b174-a61f7f110b85",
   "metadata": {},
   "source": [
    "### VP8, VP9, AV1\n",
    "\n",
    "Open Media Alliance created VP8, VP9, VP1 to counteract the H.264|MPEG-4 AVC, H.265|HEVC potential licensing woes. H.266/VVC seems to be encumbered by licensing issues as well. VP8 was deprecated, superceded by VP9, which itself was superceded by AV1.\n"
   ]
  },
  {
   "cell_type": "code",
   "execution_count": 14,
   "id": "3fb3096d-01ac-45b9-99a0-2d1c233c2da6",
   "metadata": {},
   "outputs": [],
   "source": [
    "#!ffmpeg -hide_banner -loglevel error  -h encoder=vp8"
   ]
  },
  {
   "cell_type": "markdown",
   "id": "e24a8fa2-68c7-498f-9c60-2ad8f2f72dbe",
   "metadata": {
    "tags": []
   },
   "source": [
    "### x264 options:\n",
    "\n",
    "From the list of presets, *ultra\\|super\\|veryfast, faster, fast, medium, slow, slower, veryslow, placebo*, we'll use a subset and the same for the tuning presets: film, animation, grain, stillimage, psnr, ssim, fastdecode, zerolatency.\n",
    "\n",
    "Since hardware constraints or streaming aren't considerations, the tuning will be restricted to *film, animation, grain*.\n",
    "\n",
    "Chroma subsampling will be restricted to *YUV 4:2:0, YUV 4:2:2, YUV 4:4:4* with 8bit output.\n",
    "With higher bitdepth source content we can use 10bit support,i.e, *yuv422p10le*, see ```x264 --fullhelp``` for an exhaustive list of options for the source material.\n",
    "\n",
    "Range is set to *pc*, so 8bit material is in ```[0,255]``` range, instead of ```[16,235]```\n",
    "\n",
    "Motion estimation an take the values:\n",
    "\n",
    " * *dia* - Diamond search, checks motion vectors one pixel up, left, down and right choosing the best candidate and repeated until no better motion vector is found.\n",
    " \n",
    " * *hex* - Hexagon like the Diamond search, but searches instead in a radius of two pixels for six adjacent points. It's a good default since it's more efficient than the Diamond search and is very efficient.\n",
    " \n",
    " * *umh* - Uneven Multi-Hexagonal search, has a ```--me-range``` parameter, defaulting to 16, to control the search radius, and is heavier than the regular Hexagonal search.\n",
    " \n",
    " * *esa* - Exhaustive search, an optimized search of the complete motion vector space within the ```--me-range``` parameter, which defaults to 16.\n",
    " \n",
    " * *tesa* - Transformed Exhaustive search, attempts to approximate the effect of running a Hadamard transform comparison at each motion vector.\n",
    "\n",
    "Subpixel motion estimation will be left unchanged to mode 7, that is, Rate Distortion Optimization mode decision for all frames (I, P, B), but mode 9 and 10 will be tested later, that is, RD refinement for all frames, and quarter pixel RD, which requires Trellis RD quantization mode 2 via ```---trellis```\n",
    "\n",
    "Use ```--slow-firstpass``` with multipass approaches to keep good quality analysis settings before the actual encoding takes place on the 2nd pass.\n",
    "\n",
    "Use ```--b-adapt``` with value 1=*Fast*, 2=*Optimal*, default being one, for the adaptive B-frame decision method.\n",
    "\n",
    "Use ```--keyint``` with an integer for the maximum GOP size, 250 being the default.\n",
    "\n",
    "Use ```--qp``` from 0 to 81, 0 being lossless, and ```--crf``` for quality based VBR, from -12 to 51, the default being 23.0.\n",
    "\n",
    "Adaptive quantizatio method, ```--aq-mode``` 0 = Disabled, 1 = Variance AQ (complexity mask), 2 = Auto-Variance AQ, 3 = Auto-variance AQ with bias to dark values.\n",
    "\n",
    "Quantization matrices will be left unchanged to the default H.264/AVC quantization matrices, *flat*."
   ]
  },
  {
   "cell_type": "code",
   "execution_count": 15,
   "id": "4a691699-0c1c-448e-9ccb-97f9c1035c0f",
   "metadata": {},
   "outputs": [],
   "source": [
    "options = op.Options()"
   ]
  },
  {
   "cell_type": "markdown",
   "id": "ecf6f06a-2d57-4cd9-b328-93ddcbc7525d",
   "metadata": {},
   "source": [
    "Encode options are the codec specific encoding options passed to FFMPEG.\n",
    "\n",
    "Common options are the global/general FFMPEG encoding options.\n",
    "\n",
    "Encoding sets are the sets of codec specific or global encoding options that will be iterated in order to generate compressed tests with multiple parameters.\n",
    "Example, if you want to use *Constant Rate Factor* rate control mode to encode a H.264 video with libx264, and generate 4 outputs each with different CRF quality in order to evaluate the perceptual video quality metrics on each, you would store this in a ```key:value``` pair in the encoding sets, i.e: ```{\"crf\" : [12, 28, 40],...}```"
   ]
  },
  {
   "cell_type": "code",
   "execution_count": 16,
   "id": "d034791e-3910-47df-bd79-52f6ff039bd4",
   "metadata": {},
   "outputs": [],
   "source": [
    "#print(options.encode_options())\n",
    "#print(options.common_options())\n",
    "#print(options.encoding_sets())"
   ]
  },
  {
   "cell_type": "markdown",
   "id": "eb7da597-bab1-4351-83df-67775eee2f0b",
   "metadata": {},
   "source": [
    "Create an encoder object, and this will be our interface between the videos, the compressors and their options, and FFMPEG."
   ]
  },
  {
   "cell_type": "code",
   "execution_count": 17,
   "id": "59e1e635-04c9-4c03-8078-0df387d6caac",
   "metadata": {},
   "outputs": [],
   "source": [
    "import encoder as enc"
   ]
  },
  {
   "cell_type": "code",
   "execution_count": 18,
   "id": "79a88a91-4914-4bcf-945a-e72a8d28d907",
   "metadata": {},
   "outputs": [],
   "source": [
    "encoder = enc.Encoder(media, options)"
   ]
  },
  {
   "cell_type": "code",
   "execution_count": 19,
   "id": "1a0d8697-ecfb-4972-8aa1-41ffa9077a2c",
   "metadata": {},
   "outputs": [
    {
     "name": "stdout",
     "output_type": "stream",
     "text": [
      "/home/cgwork/Downloads/Masters/Tecnologias_Comunicacao_Multimedia_TCM/Work/videos/original/light_orbitals.mkv /home/cgwork/Downloads/Masters/Tecnologias_Comunicacao_Multimedia_TCM/videos/compressed/light_orbitals.mkv <options.Options object at 0x7f0209d08d00>\n"
     ]
    }
   ],
   "source": [
    "# debug the output files\n",
    "#encoder.encoding(media.input_files()[0], media.output_files()[0])\n",
    "#encoder.encode_videos()\n",
    "encoder.encode_video(media.input_files()[0], media.output_files()[0], options)"
   ]
  },
  {
   "cell_type": "code",
   "execution_count": 39,
   "id": "9cc4a641-d68d-47f4-89ce-8e857f66eaf8",
   "metadata": {},
   "outputs": [],
   "source": []
  },
  {
   "cell_type": "code",
   "execution_count": 39,
   "id": "f0215250-b7dc-4820-bd35-58b983572234",
   "metadata": {},
   "outputs": [],
   "source": []
  },
  {
   "cell_type": "code",
   "execution_count": 39,
   "id": "2a192ddc-3e79-4854-aae9-71861ff4c707",
   "metadata": {},
   "outputs": [],
   "source": []
  },
  {
   "cell_type": "code",
   "execution_count": 39,
   "id": "4ba2b2ce-51be-46b1-981b-019254fef2f9",
   "metadata": {},
   "outputs": [],
   "source": []
  },
  {
   "cell_type": "code",
   "execution_count": null,
   "id": "642d1f9c-acac-4c3d-8be9-0632c1c58916",
   "metadata": {},
   "outputs": [],
   "source": [
    "def encode_video(input_video, output_video, encode_options, max_filesize = None, skip_audio=True):\n",
    "    \"\"\" path to input video, output video, encode options dictionary \"\"\"\n",
    "\n",
    "    video_in = ffmpeg.input(input_video)\n",
    "\n",
    "    if max_filesize is not None:\n",
    "        rates = calculate_bitrates(input_video, max_filesize)\n",
    "        video_bitrate = rates[\"total_bitrate\"] if skip_audio is True else rates[\"video_bitrate\"]\n",
    "        audio_bitrate = 0 if skip_audio is True else rates[\"audio_bitrate\"]    \n",
    "\n",
    "        if encode_options.get(\"analysis\", None) is not None:\n",
    "            encode_options[\"analysis\"][\"b:v\"] = str(video_bitrate) + \"k\"\n",
    "            encode_options[\"analysis\"][\"maxrate\"] = str(video_bitrate * 2) + \"k\"\n",
    "            encode_options[\"analysis\"][\"bufsize\"] = str(video_bitrate * 2) + \"k\"\n",
    "\n",
    "        encode_options[\"encode\"][\"b:v\"] = str(video_bitrate) + \"k\" \n",
    "        encode_options[\"encode\"][\"maxrate\"] = str(video_bitrate * 2) + \"k\"\n",
    "        encode_options[\"encode\"][\"bufsize\"] = str(video_bitrate * 2) + \"k\"\n",
    "    \n",
    "    # data structure for encode_options = dict of dicts, \"analysis\", \"encode\" = None\n",
    "    if encode_options.get(\"analysis\", None) is not None:\n",
    "        ffmpeg.output(video_in, os.devnull, **encode_options[\"analysis\"]).overwrite_output().run()\n",
    "        \n",
    "    ffmpeg.output(video_in, output_video, **encode_options[\"encode\"]).overwrite_output().run()"
   ]
  },
  {
   "cell_type": "markdown",
   "id": "2ee2404d-6c56-4ecd-aed3-ecd35be1f0c5",
   "metadata": {},
   "source": [
    "### Compressed Output\n",
    "\n",
    "A full combinatorial analysis, besides a naif brute force approach, would be a daunting task.\n",
    "Smarter approaches exist to use neural networks to identify the type of content and start exploring settings optimized for that family.\n",
    "In our case we'll do tests for individual sets of parameters, run perceptual video quality metrics on them, and the other metrics outlined earlier, compare resulting metrics versus file size, and plot them.\n",
    "\n",
    "We'll start by constant rate factor, presets, tuning presets, chroma subsampling methods, and motion estimation methods.\n",
    "\n",
    "The CRF rate control can be capped, also known as *cap-constrained CRF* and this will be calculated according to the maximum target size we'll allow. \n",
    "Example, from a 50MiB file the desired target bitrate will be calculated, with the joining maximum rate and buffer size to keep the rate control constrained within a maximum 200% maximum rate."
   ]
  },
  {
   "cell_type": "code",
   "execution_count": 32,
   "id": "5f0b3672-0094-4c0b-9d83-55bf14424763",
   "metadata": {},
   "outputs": [],
   "source": [
    "#crfs = [17, 23, 29] \n",
    "crfs = [18, 20, 23, 28, 36]\n",
    "\n",
    "# presets = [\"superfast\", \"faster\", \"medium\", \"slow\", \"slower\"]\n",
    "presets = [\"superfast\", \"medium\", \"slower\"]\n",
    "tuning = [\"film\", \"animation\", \"grain\"]\n",
    "chroma_sampling = [\"yuv420p\", \"yuv422p\", \"yuv444p\"]\n",
    "motion_estimation = [\"hex\", \"umh\"]\n",
    "\n",
    "# mode 10 requires trellis=2, aq-mode>0\n",
    "# subme | subq (x264, ffmpeg)\n",
    "# subpixel_me = {7 : \"RD mode decision for all frames\", 10 : \"QP-RD\"}\n",
    "# trd_quantization = {1 : \"Enabled only on final encode\", 2 : \"Enabled on all mode decisions\"}\n",
    "# test\n",
    "# -direct-pred=3 -mbtree=true -8x8dct=true -partitions=all -weightb=true -weightp=smart\n",
    "# -aq-mode=autovariance -coder=cabac\n",
    "# use Trellis quantization https://en.wikipedia.org/wiki/Trellis_quantization\n",
    "\n",
    "common_options = {\n",
    "    \"c:v\" : \"libx264\",\n",
    "    \"f\" : \"mp4\",\n",
    "    \"coder\" : \"cabac\", # cabac (def) | cavlc | ac\n",
    "    #\"trellis\" : 2,\n",
    "    #\"b_strategy\" : 2, # default 1=fast, 2=slower B-frame decision\n",
    "    \"color_range\" : \"pc\", # pc | tv | auto\n",
    "    \"loglevel\" : \"error\", # warning | error | panic\n",
    "    \"x264-params\" : \"dct=faan\", # :- separated\n",
    "    \"export_side_data\" : \"venc_params\",\n",
    "}\n",
    "    \n",
    "#analysis_options = {\n",
    "#    \"pass\": 1,\n",
    "#    \"preset\" : \"slower\", # on analysis pass, run the slow preset\n",
    "#    \"tune\" : \"animation\",\n",
    "#    \"fastfirstpass\", False,\n",
    "#    \"partitions\" : \"all\",\n",
    "#}\n",
    "analysis_options = None\n",
    "\n",
    "encode_options = {\n",
    "    \"preset\" : \"superfast\",\n",
    "    #\"tune\" : \"film\",\n",
    "    \"pix_fmt\" : \"yuv420p\",\n",
    "    \"c:a\": \"copy\", # audio copy\n",
    "}\n",
    "\n",
    "if analysis_options is not None:\n",
    "    encode_options[\"pass\"] = 2"
   ]
  },
  {
   "cell_type": "markdown",
   "id": "4a7d6b2d-c246-4d26-b50a-04d3bf265f62",
   "metadata": {},
   "source": [
    "#### Compressing and Calculating Metrics\n",
    "\n",
    "We'll calculate the PSNR, SSIM, VMAF per frame metrics, store them into a Pandas dataframe and compute the mean and moving averages, plotting them next.\n",
    "\n",
    "##### VMAF score\n",
    "\n",
    "VMAF score. The VMAF score will be using the model we've chosen to provides us a score, so what it's actually telling us will change a bit depending on the model. For our model, its predicting quality of the video on a 1080p display in a \"living room environment\", and presuming that the persons viewing distance is 3x the height of the screen (25cm monitor/TV height = 75cm viewing distance).\n",
    "We consider a score of 20 to be very bad, and a score of 100 to be excellent (flawless). I would consider anything above 80 to be quite good, and above 90 to very close perfect/indistinguishable from the ref."
   ]
  },
  {
   "cell_type": "code",
   "execution_count": 80,
   "id": "e9d3b5dc-10d8-4500-9b0b-7f012369bd06",
   "metadata": {},
   "outputs": [],
   "source": [
    "from ffmpeg_quality_metrics import FfmpegQualityMetrics as ffqm\n",
    "import pandas as pd"
   ]
  },
  {
   "cell_type": "code",
   "execution_count": 83,
   "id": "8bf1a75a-b6fc-4e57-a78c-ced79bb403d8",
   "metadata": {},
   "outputs": [
    {
     "name": "stdout",
     "output_type": "stream",
     "text": [
      "encoded with CRF 18\n"
     ]
    }
   ],
   "source": [
    "options = dict()\n",
    "\n",
    "# test 1, CRF\n",
    "for crf in crfs:\n",
    "    \n",
    "    video_in = config[\"VIDEO_IN\"][0]\n",
    "    fsuffix = \"crf{}\".format(crf)\n",
    "    fname, ext = config[\"VIDEO_OUT\"][0].split(\".\")\n",
    "    video_out = \"\".join([fname, \"_-_\", fsuffix, \".\", \"mp4\"])\n",
    "    \n",
    "    encode_options[\"crf\"] = crf\n",
    "    \n",
    "    options = {\n",
    "        \"encode\" : {**encode_options, **common_options}\n",
    "    }\n",
    "    #print(\"\".join([fname, \"_-_\", fsuffix, \".\", ext]))\n",
    "    print(\"encoded with CRF {}\".format(crf))\n",
    "    encode_video(video_in, video_out, options, max_filesize = None, skip_audio = True)\n",
    "    \n",
    "    # returns an dictionary with the metrics, each containing an array of dicts, each dict containing\n",
    "    # values for each frame n\n",
    "    foo = ffqm(video_in, video_out, progress = False)\n",
    "    bar = foo.calc([\"ssim\"])\n",
    "    #bla = foo.get_results_csv()\n",
    "    \n",
    "    blo = pd.DataFrame.from_dict(bar[\"ssim\"])\n",
    "    blo.tail()\n",
    "    \n",
    "    #bar = foo.get_global_stats()\n",
    "    #print(bar)\n",
    "\n",
    "    \n",
    "\n",
    "    #foo = ffqm(video_in, video_out, progress = False).calc([\"ssim\"])\n",
    "    #print(foo)\n",
    "    #foo = ffqm(video_in, video_out).get_global_stats()\n",
    "    #print(foo)    \n",
    "    \n",
    "    break # just leave after 1 for testing purposes"
   ]
  },
  {
   "cell_type": "code",
   "execution_count": 88,
   "id": "bec3a4b3-c9a2-4c72-9c0a-91f3cc503377",
   "metadata": {},
   "outputs": [],
   "source": [
    "blo.rename(columns={\"n\" : \"frame\"}, inplace = True)"
   ]
  },
  {
   "cell_type": "code",
   "execution_count": 91,
   "id": "012bf784-a356-4265-8c36-635a409c1243",
   "metadata": {},
   "outputs": [],
   "source": [
    "blo.set_index(\"frame\", inplace = True)"
   ]
  },
  {
   "cell_type": "code",
   "execution_count": 92,
   "id": "3fb412a7-8bbd-47e7-9087-a2b5f8e066bd",
   "metadata": {},
   "outputs": [],
   "source": [
    "blo.tail()"
   ]
  },
  {
   "cell_type": "code",
   "execution_count": 92,
   "id": "ecd4ac49-c6e3-486a-9c95-73bfc171a548",
   "metadata": {},
   "outputs": [
    {
     "data": {
      "text/html": [
       "<div>\n",
       "<style scoped>\n",
       "    .dataframe tbody tr th:only-of-type {\n",
       "        vertical-align: middle;\n",
       "    }\n",
       "\n",
       "    .dataframe tbody tr th {\n",
       "        vertical-align: top;\n",
       "    }\n",
       "\n",
       "    .dataframe thead th {\n",
       "        text-align: right;\n",
       "    }\n",
       "</style>\n",
       "<table border=\"1\" class=\"dataframe\">\n",
       "  <thead>\n",
       "    <tr style=\"text-align: right;\">\n",
       "      <th></th>\n",
       "      <th>ssim_y</th>\n",
       "      <th>ssim_u</th>\n",
       "      <th>ssim_v</th>\n",
       "      <th>ssim_avg</th>\n",
       "    </tr>\n",
       "    <tr>\n",
       "      <th>frame</th>\n",
       "      <th></th>\n",
       "      <th></th>\n",
       "      <th></th>\n",
       "      <th></th>\n",
       "    </tr>\n",
       "  </thead>\n",
       "  <tbody>\n",
       "    <tr>\n",
       "      <th>253</th>\n",
       "      <td>0.976</td>\n",
       "      <td>0.961</td>\n",
       "      <td>0.940</td>\n",
       "      <td>0.959</td>\n",
       "    </tr>\n",
       "    <tr>\n",
       "      <th>254</th>\n",
       "      <td>0.977</td>\n",
       "      <td>0.962</td>\n",
       "      <td>0.941</td>\n",
       "      <td>0.960</td>\n",
       "    </tr>\n",
       "    <tr>\n",
       "      <th>255</th>\n",
       "      <td>0.976</td>\n",
       "      <td>0.962</td>\n",
       "      <td>0.942</td>\n",
       "      <td>0.960</td>\n",
       "    </tr>\n",
       "    <tr>\n",
       "      <th>256</th>\n",
       "      <td>0.979</td>\n",
       "      <td>0.964</td>\n",
       "      <td>0.946</td>\n",
       "      <td>0.963</td>\n",
       "    </tr>\n",
       "    <tr>\n",
       "      <th>257</th>\n",
       "      <td>0.979</td>\n",
       "      <td>0.964</td>\n",
       "      <td>0.946</td>\n",
       "      <td>0.963</td>\n",
       "    </tr>\n",
       "  </tbody>\n",
       "</table>\n",
       "</div>"
      ],
      "text/plain": [
       "       ssim_y  ssim_u  ssim_v  ssim_avg\n",
       "frame                                  \n",
       "253     0.976   0.961   0.940     0.959\n",
       "254     0.977   0.962   0.941     0.960\n",
       "255     0.976   0.962   0.942     0.960\n",
       "256     0.979   0.964   0.946     0.963\n",
       "257     0.979   0.964   0.946     0.963"
      ]
     },
     "execution_count": 92,
     "metadata": {},
     "output_type": "execute_result"
    }
   ],
   "source": [
    "blo"
   ]
  },
  {
   "cell_type": "code",
   "execution_count": 74,
   "id": "3c6daccf-e532-473c-9c0b-7ef98c127862",
   "metadata": {},
   "outputs": [],
   "source": [
    "# there's not a lot of sense in doing a full combinatorial exploration, w\n",
    "for crf in crfs:\n",
    "    for preset, tune in [(preset, tune) for preset in presets for tune in tuning]:\n",
    "        for sampling, estimate in [(sampling, estimate) for \\\n",
    "                                 sampling in chroma_sampling for estimate in motion_estimation]:\n",
    "\n",
    "            analysis_options[\"preset\"] = preset\n",
    "            analysis_options[\"tune\"] = tune\n",
    "            analysis_options[\"pix_fmt\"] = sampling\n",
    "            analysis_options[\"me_method\"] = estimate\n",
    "            \n",
    "            encode_options[\"preset\"] = preset\n",
    "            encode_options[\"tune\"] = tune\n",
    "            encode_options[\"pix_fmt\"] = sampling\n",
    "            encode_options[\"me_method\"] = estimate\n",
    "            \n",
    "            options = {\n",
    "                \"analysis\" : {**analysis_options, **common_options},\n",
    "                \"encode\" : {**encode_options, **common_options}\n",
    "            }\n",
    "            \n",
    "            fsuffix = \"crf{}_preset_{}_tune_{}_pixfmt_{}_memethod_{}\".format(\n",
    "                crf, preset, tune, sampling, estimate)\n",
    "            \n",
    "            fname, ext = config[\"VIDEO_OUT\"][0].split(\".\")\n",
    "            video_out = \"\".join([fname, \"_-_\", fsuffix, \".\", ext])\n",
    "            \n",
    "            #print(\"\".join([fname, \"_-_\", fsuffix, \".\", ext]))\n",
    "            #encode_video(config[\"VIDEO_IN\"][0], video_out, target_size, options, skip_audio = True)\n",
    "            "
   ]
  },
  {
   "cell_type": "code",
   "execution_count": 74,
   "id": "b5ae97b9-66fa-4b22-a79c-f748e72a5518",
   "metadata": {},
   "outputs": [],
   "source": []
  },
  {
   "cell_type": "code",
   "execution_count": 74,
   "id": "1536c09d-bf47-43df-adcf-48da8d4fdfc1",
   "metadata": {},
   "outputs": [],
   "source": [
    " "
   ]
  },
  {
   "cell_type": "code",
   "execution_count": 74,
   "id": "bb71593e-6b66-4b0d-848f-718a84b5ad7e",
   "metadata": {},
   "outputs": [],
   "source": [
    "       "
   ]
  },
  {
   "cell_type": "code",
   "execution_count": 90,
   "id": "c07e10a7-1679-409c-bc71-7096803af562",
   "metadata": {},
   "outputs": [],
   "source": [
    "#crfs = [17, 23, 29] \n",
    "crfs = [18, 23, 32, 40, 50]\n",
    "\n",
    "# presets = [\"superfast\", \"faster\", \"medium\", \"slow\", \"slower\"]\n",
    "presets = [\"superfast\", \"medium\", \"slower\"]\n",
    "tuning = [\"film\", \"animation\", \"grain\"]\n",
    "chroma_sampling = [\"yuv420p\", \"yuv422p\", \"yuv444p\"]\n",
    "motion_estimation = [\"hex\", \"umh\"]\n",
    "\n",
    "# mode 10 requires trellis=2, aq-mode>0\n",
    "# subme | subq (x264, ffmpeg)\n",
    "# subpixel_me = {7 : \"RD mode decision for all frames\", 10 : \"QP-RD\"}\n",
    "# trd_quantization = {1 : \"Enabled only on final encode\", 2 : \"Enabled on all mode decisions\"}\n",
    "# test\n",
    "# -direct-pred=3 -mbtree=true -8x8dct=true -partitions=all -weightb=true -weightp=smart\n",
    "# -aq-mode=autovariance -coder=cabac\n",
    "# use Trellis quantization https://en.wikipedia.org/wiki/Trellis_quantization\n",
    "\n",
    "common_options = {\n",
    "    \"c:v\" : \"libx264\",\n",
    "    \"f\" : \"mp4\",\n",
    "    \"coder\" : \"cabac\",\n",
    "    #\"trellis\" : 2,\n",
    "    #\"b_strategy\" : 2, # default 1=fast, 2=slower B-frame decision\n",
    "    \"loglevel\" : \"error\", # warning | error | panic\n",
    "    \"x264-params\" : \"dct=faan\", # :- separated\n",
    "    \"export_side_data\" : \"venc_params\",\n",
    "}\n",
    "    \n",
    "analysis_options = {\n",
    "    \"pass\": 1,\n",
    "    \"preset\" : \"slower\", # on analysis pass, run the slow preset\n",
    "    \"tune\" : \"animation\",\n",
    "    \"partitions\" : \"all\",\n",
    "}\n",
    "\n",
    "encode_options = {\n",
    "    \"pass\": 1, # 2 for ABR\n",
    "    \"preset\" : \"medium\",\n",
    "    \"tune\" : \"animation\",\n",
    "    \"pix_fmt\" : \"yuv420p\",\n",
    "    \"c:a\": \"copy\", # audio copy\n",
    "}"
   ]
  },
  {
   "cell_type": "code",
   "execution_count": 20,
   "id": "7feafd8b-6900-4928-97d3-ed3da8eaf772",
   "metadata": {},
   "outputs": [
    {
     "name": "stdout",
     "output_type": "stream",
     "text": [
      "_/home/cgwork/Downloads/Masters/Tecnologias_Comunicacao_Multimedia_TCM/Work/videos/compressed/light_orbitalscrf17_preset_superfast_tune_film_pixfmt_yuv420p_memethod_hex/home/cgwork/Downloads/Masters/Tecnologias_Comunicacao_Multimedia_TCM/Work/videos/compressed/light_orbitalsmkv\n",
      "_/home/cgwork/Downloads/Masters/Tecnologias_Comunicacao_Multimedia_TCM/Work/videos/compressed/light_orbitalscrf17_preset_superfast_tune_film_pixfmt_yuv420p_memethod_umh/home/cgwork/Downloads/Masters/Tecnologias_Comunicacao_Multimedia_TCM/Work/videos/compressed/light_orbitalsmkv\n",
      "_/home/cgwork/Downloads/Masters/Tecnologias_Comunicacao_Multimedia_TCM/Work/videos/compressed/light_orbitalscrf17_preset_superfast_tune_film_pixfmt_yuv422p_memethod_hex/home/cgwork/Downloads/Masters/Tecnologias_Comunicacao_Multimedia_TCM/Work/videos/compressed/light_orbitalsmkv\n",
      "_/home/cgwork/Downloads/Masters/Tecnologias_Comunicacao_Multimedia_TCM/Work/videos/compressed/light_orbitalscrf17_preset_superfast_tune_film_pixfmt_yuv422p_memethod_umh/home/cgwork/Downloads/Masters/Tecnologias_Comunicacao_Multimedia_TCM/Work/videos/compressed/light_orbitalsmkv\n",
      "_/home/cgwork/Downloads/Masters/Tecnologias_Comunicacao_Multimedia_TCM/Work/videos/compressed/light_orbitalscrf17_preset_superfast_tune_film_pixfmt_yuv444p_memethod_hex/home/cgwork/Downloads/Masters/Tecnologias_Comunicacao_Multimedia_TCM/Work/videos/compressed/light_orbitalsmkv\n",
      "_/home/cgwork/Downloads/Masters/Tecnologias_Comunicacao_Multimedia_TCM/Work/videos/compressed/light_orbitalscrf17_preset_superfast_tune_film_pixfmt_yuv444p_memethod_umh/home/cgwork/Downloads/Masters/Tecnologias_Comunicacao_Multimedia_TCM/Work/videos/compressed/light_orbitalsmkv\n",
      "_/home/cgwork/Downloads/Masters/Tecnologias_Comunicacao_Multimedia_TCM/Work/videos/compressed/light_orbitalscrf17_preset_superfast_tune_animation_pixfmt_yuv420p_memethod_hex/home/cgwork/Downloads/Masters/Tecnologias_Comunicacao_Multimedia_TCM/Work/videos/compressed/light_orbitalsmkv\n",
      "_/home/cgwork/Downloads/Masters/Tecnologias_Comunicacao_Multimedia_TCM/Work/videos/compressed/light_orbitalscrf17_preset_superfast_tune_animation_pixfmt_yuv420p_memethod_umh/home/cgwork/Downloads/Masters/Tecnologias_Comunicacao_Multimedia_TCM/Work/videos/compressed/light_orbitalsmkv\n",
      "_/home/cgwork/Downloads/Masters/Tecnologias_Comunicacao_Multimedia_TCM/Work/videos/compressed/light_orbitalscrf17_preset_superfast_tune_animation_pixfmt_yuv422p_memethod_hex/home/cgwork/Downloads/Masters/Tecnologias_Comunicacao_Multimedia_TCM/Work/videos/compressed/light_orbitalsmkv\n",
      "_/home/cgwork/Downloads/Masters/Tecnologias_Comunicacao_Multimedia_TCM/Work/videos/compressed/light_orbitalscrf17_preset_superfast_tune_animation_pixfmt_yuv422p_memethod_umh/home/cgwork/Downloads/Masters/Tecnologias_Comunicacao_Multimedia_TCM/Work/videos/compressed/light_orbitalsmkv\n",
      "_/home/cgwork/Downloads/Masters/Tecnologias_Comunicacao_Multimedia_TCM/Work/videos/compressed/light_orbitalscrf17_preset_superfast_tune_animation_pixfmt_yuv444p_memethod_hex/home/cgwork/Downloads/Masters/Tecnologias_Comunicacao_Multimedia_TCM/Work/videos/compressed/light_orbitalsmkv\n",
      "_/home/cgwork/Downloads/Masters/Tecnologias_Comunicacao_Multimedia_TCM/Work/videos/compressed/light_orbitalscrf17_preset_superfast_tune_animation_pixfmt_yuv444p_memethod_umh/home/cgwork/Downloads/Masters/Tecnologias_Comunicacao_Multimedia_TCM/Work/videos/compressed/light_orbitalsmkv\n",
      "_/home/cgwork/Downloads/Masters/Tecnologias_Comunicacao_Multimedia_TCM/Work/videos/compressed/light_orbitalscrf17_preset_superfast_tune_grain_pixfmt_yuv420p_memethod_hex/home/cgwork/Downloads/Masters/Tecnologias_Comunicacao_Multimedia_TCM/Work/videos/compressed/light_orbitalsmkv\n",
      "_/home/cgwork/Downloads/Masters/Tecnologias_Comunicacao_Multimedia_TCM/Work/videos/compressed/light_orbitalscrf17_preset_superfast_tune_grain_pixfmt_yuv420p_memethod_umh/home/cgwork/Downloads/Masters/Tecnologias_Comunicacao_Multimedia_TCM/Work/videos/compressed/light_orbitalsmkv\n",
      "_/home/cgwork/Downloads/Masters/Tecnologias_Comunicacao_Multimedia_TCM/Work/videos/compressed/light_orbitalscrf17_preset_superfast_tune_grain_pixfmt_yuv422p_memethod_hex/home/cgwork/Downloads/Masters/Tecnologias_Comunicacao_Multimedia_TCM/Work/videos/compressed/light_orbitalsmkv\n",
      "_/home/cgwork/Downloads/Masters/Tecnologias_Comunicacao_Multimedia_TCM/Work/videos/compressed/light_orbitalscrf17_preset_superfast_tune_grain_pixfmt_yuv422p_memethod_umh/home/cgwork/Downloads/Masters/Tecnologias_Comunicacao_Multimedia_TCM/Work/videos/compressed/light_orbitalsmkv\n",
      "_/home/cgwork/Downloads/Masters/Tecnologias_Comunicacao_Multimedia_TCM/Work/videos/compressed/light_orbitalscrf17_preset_superfast_tune_grain_pixfmt_yuv444p_memethod_hex/home/cgwork/Downloads/Masters/Tecnologias_Comunicacao_Multimedia_TCM/Work/videos/compressed/light_orbitalsmkv\n",
      "_/home/cgwork/Downloads/Masters/Tecnologias_Comunicacao_Multimedia_TCM/Work/videos/compressed/light_orbitalscrf17_preset_superfast_tune_grain_pixfmt_yuv444p_memethod_umh/home/cgwork/Downloads/Masters/Tecnologias_Comunicacao_Multimedia_TCM/Work/videos/compressed/light_orbitalsmkv\n",
      "_/home/cgwork/Downloads/Masters/Tecnologias_Comunicacao_Multimedia_TCM/Work/videos/compressed/light_orbitalscrf17_preset_medium_tune_film_pixfmt_yuv420p_memethod_hex/home/cgwork/Downloads/Masters/Tecnologias_Comunicacao_Multimedia_TCM/Work/videos/compressed/light_orbitalsmkv\n",
      "_/home/cgwork/Downloads/Masters/Tecnologias_Comunicacao_Multimedia_TCM/Work/videos/compressed/light_orbitalscrf17_preset_medium_tune_film_pixfmt_yuv420p_memethod_umh/home/cgwork/Downloads/Masters/Tecnologias_Comunicacao_Multimedia_TCM/Work/videos/compressed/light_orbitalsmkv\n",
      "_/home/cgwork/Downloads/Masters/Tecnologias_Comunicacao_Multimedia_TCM/Work/videos/compressed/light_orbitalscrf17_preset_medium_tune_film_pixfmt_yuv422p_memethod_hex/home/cgwork/Downloads/Masters/Tecnologias_Comunicacao_Multimedia_TCM/Work/videos/compressed/light_orbitalsmkv\n",
      "_/home/cgwork/Downloads/Masters/Tecnologias_Comunicacao_Multimedia_TCM/Work/videos/compressed/light_orbitalscrf17_preset_medium_tune_film_pixfmt_yuv422p_memethod_umh/home/cgwork/Downloads/Masters/Tecnologias_Comunicacao_Multimedia_TCM/Work/videos/compressed/light_orbitalsmkv\n",
      "_/home/cgwork/Downloads/Masters/Tecnologias_Comunicacao_Multimedia_TCM/Work/videos/compressed/light_orbitalscrf17_preset_medium_tune_film_pixfmt_yuv444p_memethod_hex/home/cgwork/Downloads/Masters/Tecnologias_Comunicacao_Multimedia_TCM/Work/videos/compressed/light_orbitalsmkv\n",
      "_/home/cgwork/Downloads/Masters/Tecnologias_Comunicacao_Multimedia_TCM/Work/videos/compressed/light_orbitalscrf17_preset_medium_tune_film_pixfmt_yuv444p_memethod_umh/home/cgwork/Downloads/Masters/Tecnologias_Comunicacao_Multimedia_TCM/Work/videos/compressed/light_orbitalsmkv\n",
      "_/home/cgwork/Downloads/Masters/Tecnologias_Comunicacao_Multimedia_TCM/Work/videos/compressed/light_orbitalscrf17_preset_medium_tune_animation_pixfmt_yuv420p_memethod_hex/home/cgwork/Downloads/Masters/Tecnologias_Comunicacao_Multimedia_TCM/Work/videos/compressed/light_orbitalsmkv\n",
      "_/home/cgwork/Downloads/Masters/Tecnologias_Comunicacao_Multimedia_TCM/Work/videos/compressed/light_orbitalscrf17_preset_medium_tune_animation_pixfmt_yuv420p_memethod_umh/home/cgwork/Downloads/Masters/Tecnologias_Comunicacao_Multimedia_TCM/Work/videos/compressed/light_orbitalsmkv\n",
      "_/home/cgwork/Downloads/Masters/Tecnologias_Comunicacao_Multimedia_TCM/Work/videos/compressed/light_orbitalscrf17_preset_medium_tune_animation_pixfmt_yuv422p_memethod_hex/home/cgwork/Downloads/Masters/Tecnologias_Comunicacao_Multimedia_TCM/Work/videos/compressed/light_orbitalsmkv\n",
      "_/home/cgwork/Downloads/Masters/Tecnologias_Comunicacao_Multimedia_TCM/Work/videos/compressed/light_orbitalscrf17_preset_medium_tune_animation_pixfmt_yuv422p_memethod_umh/home/cgwork/Downloads/Masters/Tecnologias_Comunicacao_Multimedia_TCM/Work/videos/compressed/light_orbitalsmkv\n",
      "_/home/cgwork/Downloads/Masters/Tecnologias_Comunicacao_Multimedia_TCM/Work/videos/compressed/light_orbitalscrf17_preset_medium_tune_animation_pixfmt_yuv444p_memethod_hex/home/cgwork/Downloads/Masters/Tecnologias_Comunicacao_Multimedia_TCM/Work/videos/compressed/light_orbitalsmkv\n",
      "_/home/cgwork/Downloads/Masters/Tecnologias_Comunicacao_Multimedia_TCM/Work/videos/compressed/light_orbitalscrf17_preset_medium_tune_animation_pixfmt_yuv444p_memethod_umh/home/cgwork/Downloads/Masters/Tecnologias_Comunicacao_Multimedia_TCM/Work/videos/compressed/light_orbitalsmkv\n",
      "_/home/cgwork/Downloads/Masters/Tecnologias_Comunicacao_Multimedia_TCM/Work/videos/compressed/light_orbitalscrf17_preset_medium_tune_grain_pixfmt_yuv420p_memethod_hex/home/cgwork/Downloads/Masters/Tecnologias_Comunicacao_Multimedia_TCM/Work/videos/compressed/light_orbitalsmkv\n",
      "_/home/cgwork/Downloads/Masters/Tecnologias_Comunicacao_Multimedia_TCM/Work/videos/compressed/light_orbitalscrf17_preset_medium_tune_grain_pixfmt_yuv420p_memethod_umh/home/cgwork/Downloads/Masters/Tecnologias_Comunicacao_Multimedia_TCM/Work/videos/compressed/light_orbitalsmkv\n",
      "_/home/cgwork/Downloads/Masters/Tecnologias_Comunicacao_Multimedia_TCM/Work/videos/compressed/light_orbitalscrf17_preset_medium_tune_grain_pixfmt_yuv422p_memethod_hex/home/cgwork/Downloads/Masters/Tecnologias_Comunicacao_Multimedia_TCM/Work/videos/compressed/light_orbitalsmkv\n",
      "_/home/cgwork/Downloads/Masters/Tecnologias_Comunicacao_Multimedia_TCM/Work/videos/compressed/light_orbitalscrf17_preset_medium_tune_grain_pixfmt_yuv422p_memethod_umh/home/cgwork/Downloads/Masters/Tecnologias_Comunicacao_Multimedia_TCM/Work/videos/compressed/light_orbitalsmkv\n",
      "_/home/cgwork/Downloads/Masters/Tecnologias_Comunicacao_Multimedia_TCM/Work/videos/compressed/light_orbitalscrf17_preset_medium_tune_grain_pixfmt_yuv444p_memethod_hex/home/cgwork/Downloads/Masters/Tecnologias_Comunicacao_Multimedia_TCM/Work/videos/compressed/light_orbitalsmkv\n",
      "_/home/cgwork/Downloads/Masters/Tecnologias_Comunicacao_Multimedia_TCM/Work/videos/compressed/light_orbitalscrf17_preset_medium_tune_grain_pixfmt_yuv444p_memethod_umh/home/cgwork/Downloads/Masters/Tecnologias_Comunicacao_Multimedia_TCM/Work/videos/compressed/light_orbitalsmkv\n",
      "_/home/cgwork/Downloads/Masters/Tecnologias_Comunicacao_Multimedia_TCM/Work/videos/compressed/light_orbitalscrf17_preset_slower_tune_film_pixfmt_yuv420p_memethod_hex/home/cgwork/Downloads/Masters/Tecnologias_Comunicacao_Multimedia_TCM/Work/videos/compressed/light_orbitalsmkv\n",
      "_/home/cgwork/Downloads/Masters/Tecnologias_Comunicacao_Multimedia_TCM/Work/videos/compressed/light_orbitalscrf17_preset_slower_tune_film_pixfmt_yuv420p_memethod_umh/home/cgwork/Downloads/Masters/Tecnologias_Comunicacao_Multimedia_TCM/Work/videos/compressed/light_orbitalsmkv\n",
      "_/home/cgwork/Downloads/Masters/Tecnologias_Comunicacao_Multimedia_TCM/Work/videos/compressed/light_orbitalscrf17_preset_slower_tune_film_pixfmt_yuv422p_memethod_hex/home/cgwork/Downloads/Masters/Tecnologias_Comunicacao_Multimedia_TCM/Work/videos/compressed/light_orbitalsmkv\n",
      "_/home/cgwork/Downloads/Masters/Tecnologias_Comunicacao_Multimedia_TCM/Work/videos/compressed/light_orbitalscrf17_preset_slower_tune_film_pixfmt_yuv422p_memethod_umh/home/cgwork/Downloads/Masters/Tecnologias_Comunicacao_Multimedia_TCM/Work/videos/compressed/light_orbitalsmkv\n",
      "_/home/cgwork/Downloads/Masters/Tecnologias_Comunicacao_Multimedia_TCM/Work/videos/compressed/light_orbitalscrf17_preset_slower_tune_film_pixfmt_yuv444p_memethod_hex/home/cgwork/Downloads/Masters/Tecnologias_Comunicacao_Multimedia_TCM/Work/videos/compressed/light_orbitalsmkv\n",
      "_/home/cgwork/Downloads/Masters/Tecnologias_Comunicacao_Multimedia_TCM/Work/videos/compressed/light_orbitalscrf17_preset_slower_tune_film_pixfmt_yuv444p_memethod_umh/home/cgwork/Downloads/Masters/Tecnologias_Comunicacao_Multimedia_TCM/Work/videos/compressed/light_orbitalsmkv\n",
      "_/home/cgwork/Downloads/Masters/Tecnologias_Comunicacao_Multimedia_TCM/Work/videos/compressed/light_orbitalscrf17_preset_slower_tune_animation_pixfmt_yuv420p_memethod_hex/home/cgwork/Downloads/Masters/Tecnologias_Comunicacao_Multimedia_TCM/Work/videos/compressed/light_orbitalsmkv\n",
      "_/home/cgwork/Downloads/Masters/Tecnologias_Comunicacao_Multimedia_TCM/Work/videos/compressed/light_orbitalscrf17_preset_slower_tune_animation_pixfmt_yuv420p_memethod_umh/home/cgwork/Downloads/Masters/Tecnologias_Comunicacao_Multimedia_TCM/Work/videos/compressed/light_orbitalsmkv\n",
      "_/home/cgwork/Downloads/Masters/Tecnologias_Comunicacao_Multimedia_TCM/Work/videos/compressed/light_orbitalscrf17_preset_slower_tune_animation_pixfmt_yuv422p_memethod_hex/home/cgwork/Downloads/Masters/Tecnologias_Comunicacao_Multimedia_TCM/Work/videos/compressed/light_orbitalsmkv\n",
      "_/home/cgwork/Downloads/Masters/Tecnologias_Comunicacao_Multimedia_TCM/Work/videos/compressed/light_orbitalscrf17_preset_slower_tune_animation_pixfmt_yuv422p_memethod_umh/home/cgwork/Downloads/Masters/Tecnologias_Comunicacao_Multimedia_TCM/Work/videos/compressed/light_orbitalsmkv\n",
      "_/home/cgwork/Downloads/Masters/Tecnologias_Comunicacao_Multimedia_TCM/Work/videos/compressed/light_orbitalscrf17_preset_slower_tune_animation_pixfmt_yuv444p_memethod_hex/home/cgwork/Downloads/Masters/Tecnologias_Comunicacao_Multimedia_TCM/Work/videos/compressed/light_orbitalsmkv\n",
      "_/home/cgwork/Downloads/Masters/Tecnologias_Comunicacao_Multimedia_TCM/Work/videos/compressed/light_orbitalscrf17_preset_slower_tune_animation_pixfmt_yuv444p_memethod_umh/home/cgwork/Downloads/Masters/Tecnologias_Comunicacao_Multimedia_TCM/Work/videos/compressed/light_orbitalsmkv\n",
      "_/home/cgwork/Downloads/Masters/Tecnologias_Comunicacao_Multimedia_TCM/Work/videos/compressed/light_orbitalscrf17_preset_slower_tune_grain_pixfmt_yuv420p_memethod_hex/home/cgwork/Downloads/Masters/Tecnologias_Comunicacao_Multimedia_TCM/Work/videos/compressed/light_orbitalsmkv\n",
      "_/home/cgwork/Downloads/Masters/Tecnologias_Comunicacao_Multimedia_TCM/Work/videos/compressed/light_orbitalscrf17_preset_slower_tune_grain_pixfmt_yuv420p_memethod_umh/home/cgwork/Downloads/Masters/Tecnologias_Comunicacao_Multimedia_TCM/Work/videos/compressed/light_orbitalsmkv\n",
      "_/home/cgwork/Downloads/Masters/Tecnologias_Comunicacao_Multimedia_TCM/Work/videos/compressed/light_orbitalscrf17_preset_slower_tune_grain_pixfmt_yuv422p_memethod_hex/home/cgwork/Downloads/Masters/Tecnologias_Comunicacao_Multimedia_TCM/Work/videos/compressed/light_orbitalsmkv\n",
      "_/home/cgwork/Downloads/Masters/Tecnologias_Comunicacao_Multimedia_TCM/Work/videos/compressed/light_orbitalscrf17_preset_slower_tune_grain_pixfmt_yuv422p_memethod_umh/home/cgwork/Downloads/Masters/Tecnologias_Comunicacao_Multimedia_TCM/Work/videos/compressed/light_orbitalsmkv\n",
      "_/home/cgwork/Downloads/Masters/Tecnologias_Comunicacao_Multimedia_TCM/Work/videos/compressed/light_orbitalscrf17_preset_slower_tune_grain_pixfmt_yuv444p_memethod_hex/home/cgwork/Downloads/Masters/Tecnologias_Comunicacao_Multimedia_TCM/Work/videos/compressed/light_orbitalsmkv\n",
      "_/home/cgwork/Downloads/Masters/Tecnologias_Comunicacao_Multimedia_TCM/Work/videos/compressed/light_orbitalscrf17_preset_slower_tune_grain_pixfmt_yuv444p_memethod_umh/home/cgwork/Downloads/Masters/Tecnologias_Comunicacao_Multimedia_TCM/Work/videos/compressed/light_orbitalsmkv\n",
      "_/home/cgwork/Downloads/Masters/Tecnologias_Comunicacao_Multimedia_TCM/Work/videos/compressed/light_orbitalscrf23_preset_superfast_tune_film_pixfmt_yuv420p_memethod_hex/home/cgwork/Downloads/Masters/Tecnologias_Comunicacao_Multimedia_TCM/Work/videos/compressed/light_orbitalsmkv\n",
      "_/home/cgwork/Downloads/Masters/Tecnologias_Comunicacao_Multimedia_TCM/Work/videos/compressed/light_orbitalscrf23_preset_superfast_tune_film_pixfmt_yuv420p_memethod_umh/home/cgwork/Downloads/Masters/Tecnologias_Comunicacao_Multimedia_TCM/Work/videos/compressed/light_orbitalsmkv\n",
      "_/home/cgwork/Downloads/Masters/Tecnologias_Comunicacao_Multimedia_TCM/Work/videos/compressed/light_orbitalscrf23_preset_superfast_tune_film_pixfmt_yuv422p_memethod_hex/home/cgwork/Downloads/Masters/Tecnologias_Comunicacao_Multimedia_TCM/Work/videos/compressed/light_orbitalsmkv\n",
      "_/home/cgwork/Downloads/Masters/Tecnologias_Comunicacao_Multimedia_TCM/Work/videos/compressed/light_orbitalscrf23_preset_superfast_tune_film_pixfmt_yuv422p_memethod_umh/home/cgwork/Downloads/Masters/Tecnologias_Comunicacao_Multimedia_TCM/Work/videos/compressed/light_orbitalsmkv\n",
      "_/home/cgwork/Downloads/Masters/Tecnologias_Comunicacao_Multimedia_TCM/Work/videos/compressed/light_orbitalscrf23_preset_superfast_tune_film_pixfmt_yuv444p_memethod_hex/home/cgwork/Downloads/Masters/Tecnologias_Comunicacao_Multimedia_TCM/Work/videos/compressed/light_orbitalsmkv\n",
      "_/home/cgwork/Downloads/Masters/Tecnologias_Comunicacao_Multimedia_TCM/Work/videos/compressed/light_orbitalscrf23_preset_superfast_tune_film_pixfmt_yuv444p_memethod_umh/home/cgwork/Downloads/Masters/Tecnologias_Comunicacao_Multimedia_TCM/Work/videos/compressed/light_orbitalsmkv\n",
      "_/home/cgwork/Downloads/Masters/Tecnologias_Comunicacao_Multimedia_TCM/Work/videos/compressed/light_orbitalscrf23_preset_superfast_tune_animation_pixfmt_yuv420p_memethod_hex/home/cgwork/Downloads/Masters/Tecnologias_Comunicacao_Multimedia_TCM/Work/videos/compressed/light_orbitalsmkv\n",
      "_/home/cgwork/Downloads/Masters/Tecnologias_Comunicacao_Multimedia_TCM/Work/videos/compressed/light_orbitalscrf23_preset_superfast_tune_animation_pixfmt_yuv420p_memethod_umh/home/cgwork/Downloads/Masters/Tecnologias_Comunicacao_Multimedia_TCM/Work/videos/compressed/light_orbitalsmkv\n",
      "_/home/cgwork/Downloads/Masters/Tecnologias_Comunicacao_Multimedia_TCM/Work/videos/compressed/light_orbitalscrf23_preset_superfast_tune_animation_pixfmt_yuv422p_memethod_hex/home/cgwork/Downloads/Masters/Tecnologias_Comunicacao_Multimedia_TCM/Work/videos/compressed/light_orbitalsmkv\n",
      "_/home/cgwork/Downloads/Masters/Tecnologias_Comunicacao_Multimedia_TCM/Work/videos/compressed/light_orbitalscrf23_preset_superfast_tune_animation_pixfmt_yuv422p_memethod_umh/home/cgwork/Downloads/Masters/Tecnologias_Comunicacao_Multimedia_TCM/Work/videos/compressed/light_orbitalsmkv\n",
      "_/home/cgwork/Downloads/Masters/Tecnologias_Comunicacao_Multimedia_TCM/Work/videos/compressed/light_orbitalscrf23_preset_superfast_tune_animation_pixfmt_yuv444p_memethod_hex/home/cgwork/Downloads/Masters/Tecnologias_Comunicacao_Multimedia_TCM/Work/videos/compressed/light_orbitalsmkv\n",
      "_/home/cgwork/Downloads/Masters/Tecnologias_Comunicacao_Multimedia_TCM/Work/videos/compressed/light_orbitalscrf23_preset_superfast_tune_animation_pixfmt_yuv444p_memethod_umh/home/cgwork/Downloads/Masters/Tecnologias_Comunicacao_Multimedia_TCM/Work/videos/compressed/light_orbitalsmkv\n",
      "_/home/cgwork/Downloads/Masters/Tecnologias_Comunicacao_Multimedia_TCM/Work/videos/compressed/light_orbitalscrf23_preset_superfast_tune_grain_pixfmt_yuv420p_memethod_hex/home/cgwork/Downloads/Masters/Tecnologias_Comunicacao_Multimedia_TCM/Work/videos/compressed/light_orbitalsmkv\n",
      "_/home/cgwork/Downloads/Masters/Tecnologias_Comunicacao_Multimedia_TCM/Work/videos/compressed/light_orbitalscrf23_preset_superfast_tune_grain_pixfmt_yuv420p_memethod_umh/home/cgwork/Downloads/Masters/Tecnologias_Comunicacao_Multimedia_TCM/Work/videos/compressed/light_orbitalsmkv\n",
      "_/home/cgwork/Downloads/Masters/Tecnologias_Comunicacao_Multimedia_TCM/Work/videos/compressed/light_orbitalscrf23_preset_superfast_tune_grain_pixfmt_yuv422p_memethod_hex/home/cgwork/Downloads/Masters/Tecnologias_Comunicacao_Multimedia_TCM/Work/videos/compressed/light_orbitalsmkv\n",
      "_/home/cgwork/Downloads/Masters/Tecnologias_Comunicacao_Multimedia_TCM/Work/videos/compressed/light_orbitalscrf23_preset_superfast_tune_grain_pixfmt_yuv422p_memethod_umh/home/cgwork/Downloads/Masters/Tecnologias_Comunicacao_Multimedia_TCM/Work/videos/compressed/light_orbitalsmkv\n",
      "_/home/cgwork/Downloads/Masters/Tecnologias_Comunicacao_Multimedia_TCM/Work/videos/compressed/light_orbitalscrf23_preset_superfast_tune_grain_pixfmt_yuv444p_memethod_hex/home/cgwork/Downloads/Masters/Tecnologias_Comunicacao_Multimedia_TCM/Work/videos/compressed/light_orbitalsmkv\n",
      "_/home/cgwork/Downloads/Masters/Tecnologias_Comunicacao_Multimedia_TCM/Work/videos/compressed/light_orbitalscrf23_preset_superfast_tune_grain_pixfmt_yuv444p_memethod_umh/home/cgwork/Downloads/Masters/Tecnologias_Comunicacao_Multimedia_TCM/Work/videos/compressed/light_orbitalsmkv\n",
      "_/home/cgwork/Downloads/Masters/Tecnologias_Comunicacao_Multimedia_TCM/Work/videos/compressed/light_orbitalscrf23_preset_medium_tune_film_pixfmt_yuv420p_memethod_hex/home/cgwork/Downloads/Masters/Tecnologias_Comunicacao_Multimedia_TCM/Work/videos/compressed/light_orbitalsmkv\n",
      "_/home/cgwork/Downloads/Masters/Tecnologias_Comunicacao_Multimedia_TCM/Work/videos/compressed/light_orbitalscrf23_preset_medium_tune_film_pixfmt_yuv420p_memethod_umh/home/cgwork/Downloads/Masters/Tecnologias_Comunicacao_Multimedia_TCM/Work/videos/compressed/light_orbitalsmkv\n",
      "_/home/cgwork/Downloads/Masters/Tecnologias_Comunicacao_Multimedia_TCM/Work/videos/compressed/light_orbitalscrf23_preset_medium_tune_film_pixfmt_yuv422p_memethod_hex/home/cgwork/Downloads/Masters/Tecnologias_Comunicacao_Multimedia_TCM/Work/videos/compressed/light_orbitalsmkv\n",
      "_/home/cgwork/Downloads/Masters/Tecnologias_Comunicacao_Multimedia_TCM/Work/videos/compressed/light_orbitalscrf23_preset_medium_tune_film_pixfmt_yuv422p_memethod_umh/home/cgwork/Downloads/Masters/Tecnologias_Comunicacao_Multimedia_TCM/Work/videos/compressed/light_orbitalsmkv\n",
      "_/home/cgwork/Downloads/Masters/Tecnologias_Comunicacao_Multimedia_TCM/Work/videos/compressed/light_orbitalscrf23_preset_medium_tune_film_pixfmt_yuv444p_memethod_hex/home/cgwork/Downloads/Masters/Tecnologias_Comunicacao_Multimedia_TCM/Work/videos/compressed/light_orbitalsmkv\n",
      "_/home/cgwork/Downloads/Masters/Tecnologias_Comunicacao_Multimedia_TCM/Work/videos/compressed/light_orbitalscrf23_preset_medium_tune_film_pixfmt_yuv444p_memethod_umh/home/cgwork/Downloads/Masters/Tecnologias_Comunicacao_Multimedia_TCM/Work/videos/compressed/light_orbitalsmkv\n",
      "_/home/cgwork/Downloads/Masters/Tecnologias_Comunicacao_Multimedia_TCM/Work/videos/compressed/light_orbitalscrf23_preset_medium_tune_animation_pixfmt_yuv420p_memethod_hex/home/cgwork/Downloads/Masters/Tecnologias_Comunicacao_Multimedia_TCM/Work/videos/compressed/light_orbitalsmkv\n",
      "_/home/cgwork/Downloads/Masters/Tecnologias_Comunicacao_Multimedia_TCM/Work/videos/compressed/light_orbitalscrf23_preset_medium_tune_animation_pixfmt_yuv420p_memethod_umh/home/cgwork/Downloads/Masters/Tecnologias_Comunicacao_Multimedia_TCM/Work/videos/compressed/light_orbitalsmkv\n",
      "_/home/cgwork/Downloads/Masters/Tecnologias_Comunicacao_Multimedia_TCM/Work/videos/compressed/light_orbitalscrf23_preset_medium_tune_animation_pixfmt_yuv422p_memethod_hex/home/cgwork/Downloads/Masters/Tecnologias_Comunicacao_Multimedia_TCM/Work/videos/compressed/light_orbitalsmkv\n",
      "_/home/cgwork/Downloads/Masters/Tecnologias_Comunicacao_Multimedia_TCM/Work/videos/compressed/light_orbitalscrf23_preset_medium_tune_animation_pixfmt_yuv422p_memethod_umh/home/cgwork/Downloads/Masters/Tecnologias_Comunicacao_Multimedia_TCM/Work/videos/compressed/light_orbitalsmkv\n",
      "_/home/cgwork/Downloads/Masters/Tecnologias_Comunicacao_Multimedia_TCM/Work/videos/compressed/light_orbitalscrf23_preset_medium_tune_animation_pixfmt_yuv444p_memethod_hex/home/cgwork/Downloads/Masters/Tecnologias_Comunicacao_Multimedia_TCM/Work/videos/compressed/light_orbitalsmkv\n",
      "_/home/cgwork/Downloads/Masters/Tecnologias_Comunicacao_Multimedia_TCM/Work/videos/compressed/light_orbitalscrf23_preset_medium_tune_animation_pixfmt_yuv444p_memethod_umh/home/cgwork/Downloads/Masters/Tecnologias_Comunicacao_Multimedia_TCM/Work/videos/compressed/light_orbitalsmkv\n",
      "_/home/cgwork/Downloads/Masters/Tecnologias_Comunicacao_Multimedia_TCM/Work/videos/compressed/light_orbitalscrf23_preset_medium_tune_grain_pixfmt_yuv420p_memethod_hex/home/cgwork/Downloads/Masters/Tecnologias_Comunicacao_Multimedia_TCM/Work/videos/compressed/light_orbitalsmkv\n",
      "_/home/cgwork/Downloads/Masters/Tecnologias_Comunicacao_Multimedia_TCM/Work/videos/compressed/light_orbitalscrf23_preset_medium_tune_grain_pixfmt_yuv420p_memethod_umh/home/cgwork/Downloads/Masters/Tecnologias_Comunicacao_Multimedia_TCM/Work/videos/compressed/light_orbitalsmkv\n",
      "_/home/cgwork/Downloads/Masters/Tecnologias_Comunicacao_Multimedia_TCM/Work/videos/compressed/light_orbitalscrf23_preset_medium_tune_grain_pixfmt_yuv422p_memethod_hex/home/cgwork/Downloads/Masters/Tecnologias_Comunicacao_Multimedia_TCM/Work/videos/compressed/light_orbitalsmkv\n",
      "_/home/cgwork/Downloads/Masters/Tecnologias_Comunicacao_Multimedia_TCM/Work/videos/compressed/light_orbitalscrf23_preset_medium_tune_grain_pixfmt_yuv422p_memethod_umh/home/cgwork/Downloads/Masters/Tecnologias_Comunicacao_Multimedia_TCM/Work/videos/compressed/light_orbitalsmkv\n",
      "_/home/cgwork/Downloads/Masters/Tecnologias_Comunicacao_Multimedia_TCM/Work/videos/compressed/light_orbitalscrf23_preset_medium_tune_grain_pixfmt_yuv444p_memethod_hex/home/cgwork/Downloads/Masters/Tecnologias_Comunicacao_Multimedia_TCM/Work/videos/compressed/light_orbitalsmkv\n",
      "_/home/cgwork/Downloads/Masters/Tecnologias_Comunicacao_Multimedia_TCM/Work/videos/compressed/light_orbitalscrf23_preset_medium_tune_grain_pixfmt_yuv444p_memethod_umh/home/cgwork/Downloads/Masters/Tecnologias_Comunicacao_Multimedia_TCM/Work/videos/compressed/light_orbitalsmkv\n",
      "_/home/cgwork/Downloads/Masters/Tecnologias_Comunicacao_Multimedia_TCM/Work/videos/compressed/light_orbitalscrf23_preset_slower_tune_film_pixfmt_yuv420p_memethod_hex/home/cgwork/Downloads/Masters/Tecnologias_Comunicacao_Multimedia_TCM/Work/videos/compressed/light_orbitalsmkv\n",
      "_/home/cgwork/Downloads/Masters/Tecnologias_Comunicacao_Multimedia_TCM/Work/videos/compressed/light_orbitalscrf23_preset_slower_tune_film_pixfmt_yuv420p_memethod_umh/home/cgwork/Downloads/Masters/Tecnologias_Comunicacao_Multimedia_TCM/Work/videos/compressed/light_orbitalsmkv\n",
      "_/home/cgwork/Downloads/Masters/Tecnologias_Comunicacao_Multimedia_TCM/Work/videos/compressed/light_orbitalscrf23_preset_slower_tune_film_pixfmt_yuv422p_memethod_hex/home/cgwork/Downloads/Masters/Tecnologias_Comunicacao_Multimedia_TCM/Work/videos/compressed/light_orbitalsmkv\n",
      "_/home/cgwork/Downloads/Masters/Tecnologias_Comunicacao_Multimedia_TCM/Work/videos/compressed/light_orbitalscrf23_preset_slower_tune_film_pixfmt_yuv422p_memethod_umh/home/cgwork/Downloads/Masters/Tecnologias_Comunicacao_Multimedia_TCM/Work/videos/compressed/light_orbitalsmkv\n",
      "_/home/cgwork/Downloads/Masters/Tecnologias_Comunicacao_Multimedia_TCM/Work/videos/compressed/light_orbitalscrf23_preset_slower_tune_film_pixfmt_yuv444p_memethod_hex/home/cgwork/Downloads/Masters/Tecnologias_Comunicacao_Multimedia_TCM/Work/videos/compressed/light_orbitalsmkv\n",
      "_/home/cgwork/Downloads/Masters/Tecnologias_Comunicacao_Multimedia_TCM/Work/videos/compressed/light_orbitalscrf23_preset_slower_tune_film_pixfmt_yuv444p_memethod_umh/home/cgwork/Downloads/Masters/Tecnologias_Comunicacao_Multimedia_TCM/Work/videos/compressed/light_orbitalsmkv\n",
      "_/home/cgwork/Downloads/Masters/Tecnologias_Comunicacao_Multimedia_TCM/Work/videos/compressed/light_orbitalscrf23_preset_slower_tune_animation_pixfmt_yuv420p_memethod_hex/home/cgwork/Downloads/Masters/Tecnologias_Comunicacao_Multimedia_TCM/Work/videos/compressed/light_orbitalsmkv\n",
      "_/home/cgwork/Downloads/Masters/Tecnologias_Comunicacao_Multimedia_TCM/Work/videos/compressed/light_orbitalscrf23_preset_slower_tune_animation_pixfmt_yuv420p_memethod_umh/home/cgwork/Downloads/Masters/Tecnologias_Comunicacao_Multimedia_TCM/Work/videos/compressed/light_orbitalsmkv\n",
      "_/home/cgwork/Downloads/Masters/Tecnologias_Comunicacao_Multimedia_TCM/Work/videos/compressed/light_orbitalscrf23_preset_slower_tune_animation_pixfmt_yuv422p_memethod_hex/home/cgwork/Downloads/Masters/Tecnologias_Comunicacao_Multimedia_TCM/Work/videos/compressed/light_orbitalsmkv\n",
      "_/home/cgwork/Downloads/Masters/Tecnologias_Comunicacao_Multimedia_TCM/Work/videos/compressed/light_orbitalscrf23_preset_slower_tune_animation_pixfmt_yuv422p_memethod_umh/home/cgwork/Downloads/Masters/Tecnologias_Comunicacao_Multimedia_TCM/Work/videos/compressed/light_orbitalsmkv\n",
      "_/home/cgwork/Downloads/Masters/Tecnologias_Comunicacao_Multimedia_TCM/Work/videos/compressed/light_orbitalscrf23_preset_slower_tune_animation_pixfmt_yuv444p_memethod_hex/home/cgwork/Downloads/Masters/Tecnologias_Comunicacao_Multimedia_TCM/Work/videos/compressed/light_orbitalsmkv\n",
      "_/home/cgwork/Downloads/Masters/Tecnologias_Comunicacao_Multimedia_TCM/Work/videos/compressed/light_orbitalscrf23_preset_slower_tune_animation_pixfmt_yuv444p_memethod_umh/home/cgwork/Downloads/Masters/Tecnologias_Comunicacao_Multimedia_TCM/Work/videos/compressed/light_orbitalsmkv\n",
      "_/home/cgwork/Downloads/Masters/Tecnologias_Comunicacao_Multimedia_TCM/Work/videos/compressed/light_orbitalscrf23_preset_slower_tune_grain_pixfmt_yuv420p_memethod_hex/home/cgwork/Downloads/Masters/Tecnologias_Comunicacao_Multimedia_TCM/Work/videos/compressed/light_orbitalsmkv\n",
      "_/home/cgwork/Downloads/Masters/Tecnologias_Comunicacao_Multimedia_TCM/Work/videos/compressed/light_orbitalscrf23_preset_slower_tune_grain_pixfmt_yuv420p_memethod_umh/home/cgwork/Downloads/Masters/Tecnologias_Comunicacao_Multimedia_TCM/Work/videos/compressed/light_orbitalsmkv\n",
      "_/home/cgwork/Downloads/Masters/Tecnologias_Comunicacao_Multimedia_TCM/Work/videos/compressed/light_orbitalscrf23_preset_slower_tune_grain_pixfmt_yuv422p_memethod_hex/home/cgwork/Downloads/Masters/Tecnologias_Comunicacao_Multimedia_TCM/Work/videos/compressed/light_orbitalsmkv\n",
      "_/home/cgwork/Downloads/Masters/Tecnologias_Comunicacao_Multimedia_TCM/Work/videos/compressed/light_orbitalscrf23_preset_slower_tune_grain_pixfmt_yuv422p_memethod_umh/home/cgwork/Downloads/Masters/Tecnologias_Comunicacao_Multimedia_TCM/Work/videos/compressed/light_orbitalsmkv\n",
      "_/home/cgwork/Downloads/Masters/Tecnologias_Comunicacao_Multimedia_TCM/Work/videos/compressed/light_orbitalscrf23_preset_slower_tune_grain_pixfmt_yuv444p_memethod_hex/home/cgwork/Downloads/Masters/Tecnologias_Comunicacao_Multimedia_TCM/Work/videos/compressed/light_orbitalsmkv\n",
      "_/home/cgwork/Downloads/Masters/Tecnologias_Comunicacao_Multimedia_TCM/Work/videos/compressed/light_orbitalscrf23_preset_slower_tune_grain_pixfmt_yuv444p_memethod_umh/home/cgwork/Downloads/Masters/Tecnologias_Comunicacao_Multimedia_TCM/Work/videos/compressed/light_orbitalsmkv\n",
      "_/home/cgwork/Downloads/Masters/Tecnologias_Comunicacao_Multimedia_TCM/Work/videos/compressed/light_orbitalscrf29_preset_superfast_tune_film_pixfmt_yuv420p_memethod_hex/home/cgwork/Downloads/Masters/Tecnologias_Comunicacao_Multimedia_TCM/Work/videos/compressed/light_orbitalsmkv\n",
      "_/home/cgwork/Downloads/Masters/Tecnologias_Comunicacao_Multimedia_TCM/Work/videos/compressed/light_orbitalscrf29_preset_superfast_tune_film_pixfmt_yuv420p_memethod_umh/home/cgwork/Downloads/Masters/Tecnologias_Comunicacao_Multimedia_TCM/Work/videos/compressed/light_orbitalsmkv\n",
      "_/home/cgwork/Downloads/Masters/Tecnologias_Comunicacao_Multimedia_TCM/Work/videos/compressed/light_orbitalscrf29_preset_superfast_tune_film_pixfmt_yuv422p_memethod_hex/home/cgwork/Downloads/Masters/Tecnologias_Comunicacao_Multimedia_TCM/Work/videos/compressed/light_orbitalsmkv\n",
      "_/home/cgwork/Downloads/Masters/Tecnologias_Comunicacao_Multimedia_TCM/Work/videos/compressed/light_orbitalscrf29_preset_superfast_tune_film_pixfmt_yuv422p_memethod_umh/home/cgwork/Downloads/Masters/Tecnologias_Comunicacao_Multimedia_TCM/Work/videos/compressed/light_orbitalsmkv\n",
      "_/home/cgwork/Downloads/Masters/Tecnologias_Comunicacao_Multimedia_TCM/Work/videos/compressed/light_orbitalscrf29_preset_superfast_tune_film_pixfmt_yuv444p_memethod_hex/home/cgwork/Downloads/Masters/Tecnologias_Comunicacao_Multimedia_TCM/Work/videos/compressed/light_orbitalsmkv\n",
      "_/home/cgwork/Downloads/Masters/Tecnologias_Comunicacao_Multimedia_TCM/Work/videos/compressed/light_orbitalscrf29_preset_superfast_tune_film_pixfmt_yuv444p_memethod_umh/home/cgwork/Downloads/Masters/Tecnologias_Comunicacao_Multimedia_TCM/Work/videos/compressed/light_orbitalsmkv\n",
      "_/home/cgwork/Downloads/Masters/Tecnologias_Comunicacao_Multimedia_TCM/Work/videos/compressed/light_orbitalscrf29_preset_superfast_tune_animation_pixfmt_yuv420p_memethod_hex/home/cgwork/Downloads/Masters/Tecnologias_Comunicacao_Multimedia_TCM/Work/videos/compressed/light_orbitalsmkv\n",
      "_/home/cgwork/Downloads/Masters/Tecnologias_Comunicacao_Multimedia_TCM/Work/videos/compressed/light_orbitalscrf29_preset_superfast_tune_animation_pixfmt_yuv420p_memethod_umh/home/cgwork/Downloads/Masters/Tecnologias_Comunicacao_Multimedia_TCM/Work/videos/compressed/light_orbitalsmkv\n",
      "_/home/cgwork/Downloads/Masters/Tecnologias_Comunicacao_Multimedia_TCM/Work/videos/compressed/light_orbitalscrf29_preset_superfast_tune_animation_pixfmt_yuv422p_memethod_hex/home/cgwork/Downloads/Masters/Tecnologias_Comunicacao_Multimedia_TCM/Work/videos/compressed/light_orbitalsmkv\n",
      "_/home/cgwork/Downloads/Masters/Tecnologias_Comunicacao_Multimedia_TCM/Work/videos/compressed/light_orbitalscrf29_preset_superfast_tune_animation_pixfmt_yuv422p_memethod_umh/home/cgwork/Downloads/Masters/Tecnologias_Comunicacao_Multimedia_TCM/Work/videos/compressed/light_orbitalsmkv\n",
      "_/home/cgwork/Downloads/Masters/Tecnologias_Comunicacao_Multimedia_TCM/Work/videos/compressed/light_orbitalscrf29_preset_superfast_tune_animation_pixfmt_yuv444p_memethod_hex/home/cgwork/Downloads/Masters/Tecnologias_Comunicacao_Multimedia_TCM/Work/videos/compressed/light_orbitalsmkv\n",
      "_/home/cgwork/Downloads/Masters/Tecnologias_Comunicacao_Multimedia_TCM/Work/videos/compressed/light_orbitalscrf29_preset_superfast_tune_animation_pixfmt_yuv444p_memethod_umh/home/cgwork/Downloads/Masters/Tecnologias_Comunicacao_Multimedia_TCM/Work/videos/compressed/light_orbitalsmkv\n",
      "_/home/cgwork/Downloads/Masters/Tecnologias_Comunicacao_Multimedia_TCM/Work/videos/compressed/light_orbitalscrf29_preset_superfast_tune_grain_pixfmt_yuv420p_memethod_hex/home/cgwork/Downloads/Masters/Tecnologias_Comunicacao_Multimedia_TCM/Work/videos/compressed/light_orbitalsmkv\n",
      "_/home/cgwork/Downloads/Masters/Tecnologias_Comunicacao_Multimedia_TCM/Work/videos/compressed/light_orbitalscrf29_preset_superfast_tune_grain_pixfmt_yuv420p_memethod_umh/home/cgwork/Downloads/Masters/Tecnologias_Comunicacao_Multimedia_TCM/Work/videos/compressed/light_orbitalsmkv\n",
      "_/home/cgwork/Downloads/Masters/Tecnologias_Comunicacao_Multimedia_TCM/Work/videos/compressed/light_orbitalscrf29_preset_superfast_tune_grain_pixfmt_yuv422p_memethod_hex/home/cgwork/Downloads/Masters/Tecnologias_Comunicacao_Multimedia_TCM/Work/videos/compressed/light_orbitalsmkv\n",
      "_/home/cgwork/Downloads/Masters/Tecnologias_Comunicacao_Multimedia_TCM/Work/videos/compressed/light_orbitalscrf29_preset_superfast_tune_grain_pixfmt_yuv422p_memethod_umh/home/cgwork/Downloads/Masters/Tecnologias_Comunicacao_Multimedia_TCM/Work/videos/compressed/light_orbitalsmkv\n",
      "_/home/cgwork/Downloads/Masters/Tecnologias_Comunicacao_Multimedia_TCM/Work/videos/compressed/light_orbitalscrf29_preset_superfast_tune_grain_pixfmt_yuv444p_memethod_hex/home/cgwork/Downloads/Masters/Tecnologias_Comunicacao_Multimedia_TCM/Work/videos/compressed/light_orbitalsmkv\n",
      "_/home/cgwork/Downloads/Masters/Tecnologias_Comunicacao_Multimedia_TCM/Work/videos/compressed/light_orbitalscrf29_preset_superfast_tune_grain_pixfmt_yuv444p_memethod_umh/home/cgwork/Downloads/Masters/Tecnologias_Comunicacao_Multimedia_TCM/Work/videos/compressed/light_orbitalsmkv\n",
      "_/home/cgwork/Downloads/Masters/Tecnologias_Comunicacao_Multimedia_TCM/Work/videos/compressed/light_orbitalscrf29_preset_medium_tune_film_pixfmt_yuv420p_memethod_hex/home/cgwork/Downloads/Masters/Tecnologias_Comunicacao_Multimedia_TCM/Work/videos/compressed/light_orbitalsmkv\n",
      "_/home/cgwork/Downloads/Masters/Tecnologias_Comunicacao_Multimedia_TCM/Work/videos/compressed/light_orbitalscrf29_preset_medium_tune_film_pixfmt_yuv420p_memethod_umh/home/cgwork/Downloads/Masters/Tecnologias_Comunicacao_Multimedia_TCM/Work/videos/compressed/light_orbitalsmkv\n",
      "_/home/cgwork/Downloads/Masters/Tecnologias_Comunicacao_Multimedia_TCM/Work/videos/compressed/light_orbitalscrf29_preset_medium_tune_film_pixfmt_yuv422p_memethod_hex/home/cgwork/Downloads/Masters/Tecnologias_Comunicacao_Multimedia_TCM/Work/videos/compressed/light_orbitalsmkv\n",
      "_/home/cgwork/Downloads/Masters/Tecnologias_Comunicacao_Multimedia_TCM/Work/videos/compressed/light_orbitalscrf29_preset_medium_tune_film_pixfmt_yuv422p_memethod_umh/home/cgwork/Downloads/Masters/Tecnologias_Comunicacao_Multimedia_TCM/Work/videos/compressed/light_orbitalsmkv\n",
      "_/home/cgwork/Downloads/Masters/Tecnologias_Comunicacao_Multimedia_TCM/Work/videos/compressed/light_orbitalscrf29_preset_medium_tune_film_pixfmt_yuv444p_memethod_hex/home/cgwork/Downloads/Masters/Tecnologias_Comunicacao_Multimedia_TCM/Work/videos/compressed/light_orbitalsmkv\n",
      "_/home/cgwork/Downloads/Masters/Tecnologias_Comunicacao_Multimedia_TCM/Work/videos/compressed/light_orbitalscrf29_preset_medium_tune_film_pixfmt_yuv444p_memethod_umh/home/cgwork/Downloads/Masters/Tecnologias_Comunicacao_Multimedia_TCM/Work/videos/compressed/light_orbitalsmkv\n",
      "_/home/cgwork/Downloads/Masters/Tecnologias_Comunicacao_Multimedia_TCM/Work/videos/compressed/light_orbitalscrf29_preset_medium_tune_animation_pixfmt_yuv420p_memethod_hex/home/cgwork/Downloads/Masters/Tecnologias_Comunicacao_Multimedia_TCM/Work/videos/compressed/light_orbitalsmkv\n",
      "_/home/cgwork/Downloads/Masters/Tecnologias_Comunicacao_Multimedia_TCM/Work/videos/compressed/light_orbitalscrf29_preset_medium_tune_animation_pixfmt_yuv420p_memethod_umh/home/cgwork/Downloads/Masters/Tecnologias_Comunicacao_Multimedia_TCM/Work/videos/compressed/light_orbitalsmkv\n",
      "_/home/cgwork/Downloads/Masters/Tecnologias_Comunicacao_Multimedia_TCM/Work/videos/compressed/light_orbitalscrf29_preset_medium_tune_animation_pixfmt_yuv422p_memethod_hex/home/cgwork/Downloads/Masters/Tecnologias_Comunicacao_Multimedia_TCM/Work/videos/compressed/light_orbitalsmkv\n",
      "_/home/cgwork/Downloads/Masters/Tecnologias_Comunicacao_Multimedia_TCM/Work/videos/compressed/light_orbitalscrf29_preset_medium_tune_animation_pixfmt_yuv422p_memethod_umh/home/cgwork/Downloads/Masters/Tecnologias_Comunicacao_Multimedia_TCM/Work/videos/compressed/light_orbitalsmkv\n",
      "_/home/cgwork/Downloads/Masters/Tecnologias_Comunicacao_Multimedia_TCM/Work/videos/compressed/light_orbitalscrf29_preset_medium_tune_animation_pixfmt_yuv444p_memethod_hex/home/cgwork/Downloads/Masters/Tecnologias_Comunicacao_Multimedia_TCM/Work/videos/compressed/light_orbitalsmkv\n",
      "_/home/cgwork/Downloads/Masters/Tecnologias_Comunicacao_Multimedia_TCM/Work/videos/compressed/light_orbitalscrf29_preset_medium_tune_animation_pixfmt_yuv444p_memethod_umh/home/cgwork/Downloads/Masters/Tecnologias_Comunicacao_Multimedia_TCM/Work/videos/compressed/light_orbitalsmkv\n",
      "_/home/cgwork/Downloads/Masters/Tecnologias_Comunicacao_Multimedia_TCM/Work/videos/compressed/light_orbitalscrf29_preset_medium_tune_grain_pixfmt_yuv420p_memethod_hex/home/cgwork/Downloads/Masters/Tecnologias_Comunicacao_Multimedia_TCM/Work/videos/compressed/light_orbitalsmkv\n",
      "_/home/cgwork/Downloads/Masters/Tecnologias_Comunicacao_Multimedia_TCM/Work/videos/compressed/light_orbitalscrf29_preset_medium_tune_grain_pixfmt_yuv420p_memethod_umh/home/cgwork/Downloads/Masters/Tecnologias_Comunicacao_Multimedia_TCM/Work/videos/compressed/light_orbitalsmkv\n",
      "_/home/cgwork/Downloads/Masters/Tecnologias_Comunicacao_Multimedia_TCM/Work/videos/compressed/light_orbitalscrf29_preset_medium_tune_grain_pixfmt_yuv422p_memethod_hex/home/cgwork/Downloads/Masters/Tecnologias_Comunicacao_Multimedia_TCM/Work/videos/compressed/light_orbitalsmkv\n",
      "_/home/cgwork/Downloads/Masters/Tecnologias_Comunicacao_Multimedia_TCM/Work/videos/compressed/light_orbitalscrf29_preset_medium_tune_grain_pixfmt_yuv422p_memethod_umh/home/cgwork/Downloads/Masters/Tecnologias_Comunicacao_Multimedia_TCM/Work/videos/compressed/light_orbitalsmkv\n",
      "_/home/cgwork/Downloads/Masters/Tecnologias_Comunicacao_Multimedia_TCM/Work/videos/compressed/light_orbitalscrf29_preset_medium_tune_grain_pixfmt_yuv444p_memethod_hex/home/cgwork/Downloads/Masters/Tecnologias_Comunicacao_Multimedia_TCM/Work/videos/compressed/light_orbitalsmkv\n",
      "_/home/cgwork/Downloads/Masters/Tecnologias_Comunicacao_Multimedia_TCM/Work/videos/compressed/light_orbitalscrf29_preset_medium_tune_grain_pixfmt_yuv444p_memethod_umh/home/cgwork/Downloads/Masters/Tecnologias_Comunicacao_Multimedia_TCM/Work/videos/compressed/light_orbitalsmkv\n",
      "_/home/cgwork/Downloads/Masters/Tecnologias_Comunicacao_Multimedia_TCM/Work/videos/compressed/light_orbitalscrf29_preset_slower_tune_film_pixfmt_yuv420p_memethod_hex/home/cgwork/Downloads/Masters/Tecnologias_Comunicacao_Multimedia_TCM/Work/videos/compressed/light_orbitalsmkv\n",
      "_/home/cgwork/Downloads/Masters/Tecnologias_Comunicacao_Multimedia_TCM/Work/videos/compressed/light_orbitalscrf29_preset_slower_tune_film_pixfmt_yuv420p_memethod_umh/home/cgwork/Downloads/Masters/Tecnologias_Comunicacao_Multimedia_TCM/Work/videos/compressed/light_orbitalsmkv\n",
      "_/home/cgwork/Downloads/Masters/Tecnologias_Comunicacao_Multimedia_TCM/Work/videos/compressed/light_orbitalscrf29_preset_slower_tune_film_pixfmt_yuv422p_memethod_hex/home/cgwork/Downloads/Masters/Tecnologias_Comunicacao_Multimedia_TCM/Work/videos/compressed/light_orbitalsmkv\n",
      "_/home/cgwork/Downloads/Masters/Tecnologias_Comunicacao_Multimedia_TCM/Work/videos/compressed/light_orbitalscrf29_preset_slower_tune_film_pixfmt_yuv422p_memethod_umh/home/cgwork/Downloads/Masters/Tecnologias_Comunicacao_Multimedia_TCM/Work/videos/compressed/light_orbitalsmkv\n",
      "_/home/cgwork/Downloads/Masters/Tecnologias_Comunicacao_Multimedia_TCM/Work/videos/compressed/light_orbitalscrf29_preset_slower_tune_film_pixfmt_yuv444p_memethod_hex/home/cgwork/Downloads/Masters/Tecnologias_Comunicacao_Multimedia_TCM/Work/videos/compressed/light_orbitalsmkv\n",
      "_/home/cgwork/Downloads/Masters/Tecnologias_Comunicacao_Multimedia_TCM/Work/videos/compressed/light_orbitalscrf29_preset_slower_tune_film_pixfmt_yuv444p_memethod_umh/home/cgwork/Downloads/Masters/Tecnologias_Comunicacao_Multimedia_TCM/Work/videos/compressed/light_orbitalsmkv\n",
      "_/home/cgwork/Downloads/Masters/Tecnologias_Comunicacao_Multimedia_TCM/Work/videos/compressed/light_orbitalscrf29_preset_slower_tune_animation_pixfmt_yuv420p_memethod_hex/home/cgwork/Downloads/Masters/Tecnologias_Comunicacao_Multimedia_TCM/Work/videos/compressed/light_orbitalsmkv\n",
      "_/home/cgwork/Downloads/Masters/Tecnologias_Comunicacao_Multimedia_TCM/Work/videos/compressed/light_orbitalscrf29_preset_slower_tune_animation_pixfmt_yuv420p_memethod_umh/home/cgwork/Downloads/Masters/Tecnologias_Comunicacao_Multimedia_TCM/Work/videos/compressed/light_orbitalsmkv\n",
      "_/home/cgwork/Downloads/Masters/Tecnologias_Comunicacao_Multimedia_TCM/Work/videos/compressed/light_orbitalscrf29_preset_slower_tune_animation_pixfmt_yuv422p_memethod_hex/home/cgwork/Downloads/Masters/Tecnologias_Comunicacao_Multimedia_TCM/Work/videos/compressed/light_orbitalsmkv\n",
      "_/home/cgwork/Downloads/Masters/Tecnologias_Comunicacao_Multimedia_TCM/Work/videos/compressed/light_orbitalscrf29_preset_slower_tune_animation_pixfmt_yuv422p_memethod_umh/home/cgwork/Downloads/Masters/Tecnologias_Comunicacao_Multimedia_TCM/Work/videos/compressed/light_orbitalsmkv\n",
      "_/home/cgwork/Downloads/Masters/Tecnologias_Comunicacao_Multimedia_TCM/Work/videos/compressed/light_orbitalscrf29_preset_slower_tune_animation_pixfmt_yuv444p_memethod_hex/home/cgwork/Downloads/Masters/Tecnologias_Comunicacao_Multimedia_TCM/Work/videos/compressed/light_orbitalsmkv\n",
      "_/home/cgwork/Downloads/Masters/Tecnologias_Comunicacao_Multimedia_TCM/Work/videos/compressed/light_orbitalscrf29_preset_slower_tune_animation_pixfmt_yuv444p_memethod_umh/home/cgwork/Downloads/Masters/Tecnologias_Comunicacao_Multimedia_TCM/Work/videos/compressed/light_orbitalsmkv\n",
      "_/home/cgwork/Downloads/Masters/Tecnologias_Comunicacao_Multimedia_TCM/Work/videos/compressed/light_orbitalscrf29_preset_slower_tune_grain_pixfmt_yuv420p_memethod_hex/home/cgwork/Downloads/Masters/Tecnologias_Comunicacao_Multimedia_TCM/Work/videos/compressed/light_orbitalsmkv\n",
      "_/home/cgwork/Downloads/Masters/Tecnologias_Comunicacao_Multimedia_TCM/Work/videos/compressed/light_orbitalscrf29_preset_slower_tune_grain_pixfmt_yuv420p_memethod_umh/home/cgwork/Downloads/Masters/Tecnologias_Comunicacao_Multimedia_TCM/Work/videos/compressed/light_orbitalsmkv\n",
      "_/home/cgwork/Downloads/Masters/Tecnologias_Comunicacao_Multimedia_TCM/Work/videos/compressed/light_orbitalscrf29_preset_slower_tune_grain_pixfmt_yuv422p_memethod_hex/home/cgwork/Downloads/Masters/Tecnologias_Comunicacao_Multimedia_TCM/Work/videos/compressed/light_orbitalsmkv\n",
      "_/home/cgwork/Downloads/Masters/Tecnologias_Comunicacao_Multimedia_TCM/Work/videos/compressed/light_orbitalscrf29_preset_slower_tune_grain_pixfmt_yuv422p_memethod_umh/home/cgwork/Downloads/Masters/Tecnologias_Comunicacao_Multimedia_TCM/Work/videos/compressed/light_orbitalsmkv\n",
      "_/home/cgwork/Downloads/Masters/Tecnologias_Comunicacao_Multimedia_TCM/Work/videos/compressed/light_orbitalscrf29_preset_slower_tune_grain_pixfmt_yuv444p_memethod_hex/home/cgwork/Downloads/Masters/Tecnologias_Comunicacao_Multimedia_TCM/Work/videos/compressed/light_orbitalsmkv\n",
      "_/home/cgwork/Downloads/Masters/Tecnologias_Comunicacao_Multimedia_TCM/Work/videos/compressed/light_orbitalscrf29_preset_slower_tune_grain_pixfmt_yuv444p_memethod_umh/home/cgwork/Downloads/Masters/Tecnologias_Comunicacao_Multimedia_TCM/Work/videos/compressed/light_orbitalsmkv\n"
     ]
    }
   ],
   "source": [
    "options = dict()\n",
    "\n",
    "# there's not a lot of sense in doing a full combinatorial exploration, w\n",
    "for crf in crfs:\n",
    "    for preset, tune in [(preset, tune) for preset in presets for tune in tuning]:\n",
    "        for sampling, estimate in [(sampling, estimate) for \\\n",
    "                                 sampling in chroma_sampling for estimate in motion_estimation]:\n",
    "\n",
    "            analysis_options[\"preset\"] = preset\n",
    "            analysis_options[\"tune\"] = tune\n",
    "            analysis_options[\"pix_fmt\"] = sampling\n",
    "            analysis_options[\"me_method\"] = estimate\n",
    "            \n",
    "            encode_options[\"preset\"] = preset\n",
    "            encode_options[\"tune\"] = tune\n",
    "            encode_options[\"pix_fmt\"] = sampling\n",
    "            encode_options[\"me_method\"] = estimate\n",
    "            \n",
    "            options = {\n",
    "                \"analysis\" : {**analysis_options, **common_options},\n",
    "                \"encode\" : {**encode_options, **common_options}\n",
    "            }\n",
    "            \n",
    "            fsuffix = \"crf{}_preset_{}_tune_{}_pixfmt_{}_memethod_{}\".format(\n",
    "                crf, preset, tune, sampling, estimate)\n",
    "            \n",
    "            fname, ext = config[\"VIDEO_OUT\"][0].split(\".\")\n",
    "            video_out = \"\".join([fname, \"_-_\", fsuffix, \".\", ext])\n",
    "            print(\"\".join([fname, \"_-_\", fsuffix, \".\", ext]))\n",
    "            \n",
    "            #encode_video(config[\"VIDEO_IN\"][0], video_out, target_size, options, skip_audio = True)"
   ]
  },
  {
   "cell_type": "code",
   "execution_count": 21,
   "id": "628132b9-3f69-48c7-bc83-758283ff0655",
   "metadata": {},
   "outputs": [],
   "source": [
    "# compress video to MiB size\n",
    "#target_size = 50 * 1024\n",
    "\n",
    "#encode_video(config[\"VIDEO_IN\"][0], config[\"VIDEO_OUT\"][0], target_size, options, skip_audio = True)"
   ]
  },
  {
   "cell_type": "code",
   "execution_count": null,
   "id": "5e37bea7-7a47-4344-b8f5-5553d9adc388",
   "metadata": {},
   "outputs": [],
   "source": []
  },
  {
   "cell_type": "code",
   "execution_count": 95,
   "id": "e55a2ae4-d065-4c75-8d59-ce8a842be60c",
   "metadata": {},
   "outputs": [],
   "source": [
    "#crfs = [17, 23, 29] \n",
    "crfs = [18, 23, 32, 40, 50]\n",
    "\n",
    "# presets = [\"superfast\", \"faster\", \"medium\", \"slow\", \"slower\"]\n",
    "presets = [\"superfast\", \"medium\", \"slower\"]\n",
    "tuning = [\"film\", \"animation\", \"grain\"]\n",
    "chroma_sampling = [\"yuv420p\", \"yuv422p\", \"yuv444p\"]\n",
    "motion_estimation = [\"hex\", \"umh\"]\n",
    "\n",
    "# mode 10 requires trellis=2, aq-mode>0\n",
    "# subme | subq (x264, ffmpeg)\n",
    "# subpixel_me = {7 : \"RD mode decision for all frames\", 10 : \"QP-RD\"}\n",
    "# trd_quantization = {1 : \"Enabled only on final encode\", 2 : \"Enabled on all mode decisions\"}\n",
    "# test\n",
    "# -direct-pred=3 -mbtree=true -8x8dct=true -partitions=all -weightb=true -weightp=smart\n",
    "# -aq-mode=autovariance -coder=cabac\n",
    "# use Trellis quantization https://en.wikipedia.org/wiki/Trellis_quantization\n",
    "\n",
    "common_options = {\n",
    "    \"c:v\" : \"libx264\",\n",
    "    \"f\" : \"mp4\",\n",
    "    \"coder\" : \"cabac\",\n",
    "    #\"trellis\" : 2,\n",
    "    #\"b_strategy\" : 2, # default 1=fast, 2=slower B-frame decision\n",
    "    \"color_range\" : \"pc\", # pc | tv | auto\n",
    "    \"loglevel\" : \"error\", # warning | error | panic\n",
    "    \"x264-params\" : \"dct=faan\", # :- separated\n",
    "    \"export_side_data\" : \"venc_params\",\n",
    "}\n",
    "    \n",
    "analysis_options = {\n",
    "    \"pass\": 1,\n",
    "    \"preset\" : \"slower\", # on analysis pass, run the slow preset\n",
    "    \"tune\" : \"animation\",\n",
    "    \"partitions\" : \"all\",\n",
    "}\n",
    "\n",
    "encode_options = {\n",
    "    \"pass\": 2,\n",
    "    \"preset\" : \"medium\",\n",
    "    \"tune\" : \"animation\",\n",
    "    \"pix_fmt\" : \"yuv420p\",\n",
    "    \"c:a\": \"copy\", # audio copy\n",
    "}"
   ]
  },
  {
   "cell_type": "code",
   "execution_count": 96,
   "id": "8a259dba-b903-432a-b814-f4a74acda5da",
   "metadata": {},
   "outputs": [
    {
     "name": "stdout",
     "output_type": "stream",
     "text": [
      "encoded with CRF 18\n",
      "encoded with CRF 23\n",
      "encoded with CRF 32\n",
      "encoded with CRF 40\n",
      "encoded with CRF 50\n"
     ]
    }
   ],
   "source": [
    "# max allowed filesize in MiB\n",
    "max_filesize = 1\n",
    "\n",
    "options = dict()\n",
    "\n",
    "# test 1, CRF\n",
    "for crf in crfs:\n",
    "    \n",
    "    fsuffix = \"crf{}\".format(crf)\n",
    "    fname, ext = config[\"VIDEO_OUT\"][0].split(\".\")\n",
    "    video_out = \"\".join([fname, \"_-_\", fsuffix, \".\", \"mp4\"])\n",
    "    \n",
    "    # CRF rates are calculated inside encode_video(), so just pass the packed dict\n",
    "    options = {\n",
    "        \"analysis\" : {**analysis_options, **common_options},\n",
    "        \"encode\" : {**encode_options, **common_options}\n",
    "    }\n",
    "    #print(\"\".join([fname, \"_-_\", fsuffix, \".\", ext]))\n",
    "    print(\"encoded with CRF {}\".format(crf))\n",
    "    encode_video(config[\"VIDEO_IN\"][0], video_out, options, max_filesize, skip_audio = True)\n"
   ]
  }
 ],
 "metadata": {
  "kernelspec": {
   "display_name": "Python 3 (ipykernel)",
   "language": "python",
   "name": "python3"
  },
  "language_info": {
   "codemirror_mode": {
    "name": "ipython",
    "version": 3
   },
   "file_extension": ".py",
   "mimetype": "text/x-python",
   "name": "python",
   "nbconvert_exporter": "python",
   "pygments_lexer": "ipython3",
   "version": "3.8.10"
  }
 },
 "nbformat": 4,
 "nbformat_minor": 5
}
